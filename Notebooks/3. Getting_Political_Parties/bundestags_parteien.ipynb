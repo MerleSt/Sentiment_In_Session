{
 "cells": [
  {
   "cell_type": "code",
   "execution_count": 38,
   "id": "initial_id",
   "metadata": {
    "collapsed": true,
    "ExecuteTime": {
     "end_time": "2023-11-03T13:37:24.503803Z",
     "start_time": "2023-11-03T13:37:24.334189Z"
    }
   },
   "outputs": [],
   "source": [
    "import pandas as pd\n",
    "import requests\n",
    "from bs4 import BeautifulSoup\n",
    "import re"
   ]
  },
  {
   "cell_type": "markdown",
   "source": [
    "# 20. Wahlperiode"
   ],
   "metadata": {
    "collapsed": false
   },
   "id": "f39a3497c2e7c522"
  },
  {
   "cell_type": "code",
   "execution_count": 39,
   "outputs": [],
   "source": [
    "# Fetch the Wikipedia page\n",
    "path = 'https://de.wikipedia.org/wiki/Liste_der_Mitglieder_des_Deutschen_Bundestages_(20._Wahlperiode)'\n",
    "def fetch_qikipedia_page(path):\n",
    "    url = path\n",
    "    response = requests.get(url)\n",
    "    soup = BeautifulSoup(response.content, 'html.parser')\n",
    "    return soup"
   ],
   "metadata": {
    "collapsed": false,
    "ExecuteTime": {
     "end_time": "2023-11-03T13:37:24.503936Z",
     "start_time": "2023-11-03T13:37:24.341167Z"
    }
   },
   "id": "dc57d4b24bf023d0"
  },
  {
   "cell_type": "code",
   "execution_count": 40,
   "outputs": [],
   "source": [
    "soup = fetch_qikipedia_page(path)"
   ],
   "metadata": {
    "collapsed": false,
    "ExecuteTime": {
     "end_time": "2023-11-03T13:37:24.923800Z",
     "start_time": "2023-11-03T13:37:24.353520Z"
    }
   },
   "id": "c66b1ce8d3f4b8f7"
  },
  {
   "cell_type": "markdown",
   "source": [
    "# Fraktionsvorstände"
   ],
   "metadata": {
    "collapsed": false
   },
   "id": "829ee316c5bd365c"
  },
  {
   "cell_type": "code",
   "execution_count": 41,
   "outputs": [],
   "source": [
    "def find_element(id):\n",
    "    element_with_id = soup.find(id=id)\n",
    "    return element_with_id"
   ],
   "metadata": {
    "collapsed": false,
    "ExecuteTime": {
     "end_time": "2023-11-03T13:37:24.926259Z",
     "start_time": "2023-11-03T13:37:24.924301Z"
    }
   },
   "id": "4662f788352708f0"
  },
  {
   "cell_type": "code",
   "execution_count": 42,
   "outputs": [],
   "source": [
    "element_with_id = find_element('Fraktionsvorstände')"
   ],
   "metadata": {
    "collapsed": false,
    "ExecuteTime": {
     "end_time": "2023-11-03T13:37:24.931113Z",
     "start_time": "2023-11-03T13:37:24.927476Z"
    }
   },
   "id": "e844ac13b96388ad"
  },
  {
   "cell_type": "code",
   "execution_count": 43,
   "outputs": [],
   "source": [
    "def get_table(element_with_id):\n",
    "    if element_with_id:\n",
    "        table = element_with_id.find_next('table', {'class': 'wikitable'})\n",
    "        if table:\n",
    "            return table\n",
    "        else:\n",
    "            print(\"No table found after the element with the given id.\")\n",
    "    else:\n",
    "        print(\"Element with id 'Fraktionsvorstände' not found.\")"
   ],
   "metadata": {
    "collapsed": false,
    "ExecuteTime": {
     "end_time": "2023-11-03T13:37:24.931186Z",
     "start_time": "2023-11-03T13:37:24.930140Z"
    }
   },
   "id": "1fca8d9e5acf827c"
  },
  {
   "cell_type": "code",
   "execution_count": 44,
   "outputs": [],
   "source": [
    "table = get_table(element_with_id)"
   ],
   "metadata": {
    "collapsed": false,
    "ExecuteTime": {
     "end_time": "2023-11-03T13:37:24.934331Z",
     "start_time": "2023-11-03T13:37:24.932022Z"
    }
   },
   "id": "6fc0c609a1331f1c"
  },
  {
   "cell_type": "code",
   "execution_count": 45,
   "outputs": [],
   "source": [
    "# Parse the table headers\n",
    "def get_headers(table):\n",
    "    headers = [th.get_text(strip=True) for th in table.findAll('th')]\n",
    "    return headers"
   ],
   "metadata": {
    "collapsed": false,
    "ExecuteTime": {
     "end_time": "2023-11-03T13:37:24.936019Z",
     "start_time": "2023-11-03T13:37:24.933825Z"
    }
   },
   "id": "5cde552abbe73adb"
  },
  {
   "cell_type": "code",
   "execution_count": 46,
   "outputs": [],
   "source": [
    "headers = get_headers(table)"
   ],
   "metadata": {
    "collapsed": false,
    "ExecuteTime": {
     "end_time": "2023-11-03T13:37:24.937981Z",
     "start_time": "2023-11-03T13:37:24.935207Z"
    }
   },
   "id": "e960c08b99a5e800"
  },
  {
   "cell_type": "code",
   "execution_count": 47,
   "outputs": [],
   "source": [
    "# Initiate list to hold row data\n",
    "def scrape_table_1(table, headers):\n",
    "    table_rows = []\n",
    "    # Regex pattern to match dates and the word 'bis'\n",
    "    unwanted_pattern = re.compile(r'bis|\\d+\\.\\s*[A-Za-z]+\\s*\\d{4}')\n",
    "    # Iterate over the rows of the table\n",
    "    for row in table.findAll('tr')[1:]:\n",
    "        columns = row.findAll('td')\n",
    "        row_data = [re.sub(r'\\[\\d+\\]', '', td.get_text(strip=True)) for td in columns]\n",
    "        row_data = [re.sub(r'\\(\\d+\\)', '', td.get_text(strip=True)) for td in columns]\n",
    "        # Check if the data matches the unwanted pattern\n",
    "        if not any(unwanted_pattern.search(data) for data in row_data):\n",
    "            table_rows.append(row_data)\n",
    "    \n",
    "    # Create the DataFrame using the headers and the table rows\n",
    "    df = pd.DataFrame(table_rows, columns=headers)\n",
    "    \n",
    "    return df\n"
   ],
   "metadata": {
    "collapsed": false,
    "ExecuteTime": {
     "end_time": "2023-11-03T13:37:24.940025Z",
     "start_time": "2023-11-03T13:37:24.937872Z"
    }
   },
   "id": "a07d34f4a4b560d9"
  },
  {
   "cell_type": "code",
   "execution_count": 48,
   "outputs": [],
   "source": [
    "df = scrape_table_1(table, headers)"
   ],
   "metadata": {
    "collapsed": false,
    "ExecuteTime": {
     "end_time": "2023-11-03T13:37:24.942137Z",
     "start_time": "2023-11-03T13:37:24.940437Z"
    }
   },
   "id": "f76982c2b9a7f45"
  },
  {
   "cell_type": "code",
   "execution_count": 49,
   "outputs": [],
   "source": [
    "# Clean up dataframe\n",
    "# Drop () and content of it\n",
    "# Remove everything inside brackets for the specified columns\n",
    "def clean_df(df):\n",
    "\n",
    "    cols_to_modify = ['Vorsitzende' ,'Stellvertretende Vorsitzende', 'Parlamentarische Geschäftsführer']\n",
    "    \n",
    "    for col in cols_to_modify:\n",
    "        df[col] = df[col].str.replace(r'\\(.*?\\)', '', regex=True).str.strip()\n",
    "    \n",
    "    # inset comma and whitespace between names for later explosion\n",
    "    for col in cols_to_modify:\n",
    "        df[col] = df[col].apply(lambda x: re.sub(r'([a-z])([A-Z])', r'\\1, \\2', x) if x else x)\n",
    "    \n",
    "    return df"
   ],
   "metadata": {
    "collapsed": false,
    "ExecuteTime": {
     "end_time": "2023-11-03T13:37:24.947351Z",
     "start_time": "2023-11-03T13:37:24.942753Z"
    }
   },
   "id": "4dd42b27d1602d86"
  },
  {
   "cell_type": "code",
   "execution_count": 50,
   "outputs": [],
   "source": [
    "df = clean_df(df)"
   ],
   "metadata": {
    "collapsed": false,
    "ExecuteTime": {
     "end_time": "2023-11-03T13:37:24.947412Z",
     "start_time": "2023-11-03T13:37:24.945265Z"
    }
   },
   "id": "20db0f82a024a8db"
  },
  {
   "cell_type": "code",
   "execution_count": 51,
   "outputs": [],
   "source": [
    "def melt_df(df):\n",
    "    df_melted = df.melt(id_vars=['Fraktion'], value_vars=['Vorsitzende', 'Stellvertretende Vorsitzende', 'Parlamentarische Geschäftsführer'], \n",
    "                    var_name='Position', value_name='Name')\n",
    "    # Splitting the names and expanding into rows\n",
    "    df_melted = df_melted.assign(Name=df_melted['Name'].str.split(',')).explode('Name')\n",
    "    # Resetting the index\n",
    "    df_melted.reset_index(drop=True, inplace=True)\n",
    "    # Cleaning up the name column (removing excess white spaces)\n",
    "    df_melted['Name'] = df_melted['Name'].str.strip()\n",
    "    \n",
    "    return df_melted"
   ],
   "metadata": {
    "collapsed": false,
    "ExecuteTime": {
     "end_time": "2023-11-03T13:37:24.961255Z",
     "start_time": "2023-11-03T13:37:24.949675Z"
    }
   },
   "id": "8029c8fa48904ee1"
  },
  {
   "cell_type": "code",
   "execution_count": 52,
   "outputs": [],
   "source": [
    "df_melted = melt_df(df)"
   ],
   "metadata": {
    "collapsed": false,
    "ExecuteTime": {
     "end_time": "2023-11-03T13:37:24.961320Z",
     "start_time": "2023-11-03T13:37:24.951558Z"
    }
   },
   "id": "b54ad02e7a81357f"
  },
  {
   "cell_type": "code",
   "execution_count": 53,
   "outputs": [
    {
     "data": {
      "text/plain": "Empty DataFrame\nColumns: [Fraktion, Position, Name]\nIndex: []",
      "text/html": "<div>\n<style scoped>\n    .dataframe tbody tr th:only-of-type {\n        vertical-align: middle;\n    }\n\n    .dataframe tbody tr th {\n        vertical-align: top;\n    }\n\n    .dataframe thead th {\n        text-align: right;\n    }\n</style>\n<table border=\"1\" class=\"dataframe\">\n  <thead>\n    <tr style=\"text-align: right;\">\n      <th></th>\n      <th>Fraktion</th>\n      <th>Position</th>\n      <th>Name</th>\n    </tr>\n  </thead>\n  <tbody>\n  </tbody>\n</table>\n</div>"
     },
     "execution_count": 53,
     "metadata": {},
     "output_type": "execute_result"
    }
   ],
   "source": [
    "df_melted"
   ],
   "metadata": {
    "collapsed": false,
    "ExecuteTime": {
     "end_time": "2023-11-03T13:37:24.961941Z",
     "start_time": "2023-11-03T13:37:24.956074Z"
    }
   },
   "id": "b1464938257e4860"
  },
  {
   "cell_type": "markdown",
   "source": [
    "# Getting the Abgeprdneten"
   ],
   "metadata": {
    "collapsed": false
   },
   "id": "b40ecb7cfbdaae35"
  },
  {
   "cell_type": "code",
   "execution_count": 54,
   "outputs": [],
   "source": [
    "def scrape_table_2(table, headers):\n",
    "    table_rows = []\n",
    "    \n",
    "    # Iterate over the rows of the table\n",
    "    for row in table.findAll('tr')[1:]:\n",
    "        columns = row.findAll('td')\n",
    "        row_data = [re.sub(r'\\[\\d+\\]', '', td.get_text(strip=True)) for td in columns]\n",
    "        table_rows.append(row_data)\n",
    "    \n",
    "    # Create the DataFrame using the headers and the table rows\n",
    "    df = pd.DataFrame(table_rows, columns=headers)\n",
    "    \n",
    "    return df"
   ],
   "metadata": {
    "collapsed": false,
    "ExecuteTime": {
     "end_time": "2023-11-03T13:37:24.962014Z",
     "start_time": "2023-11-03T13:37:24.958424Z"
    }
   },
   "id": "3a869657944dd58e"
  },
  {
   "cell_type": "code",
   "execution_count": 55,
   "outputs": [],
   "source": [
    "def clean_table_2(df):\n",
    "    # Get columns that contain 'Name' or 'Fraktion', case insensitive\n",
    "    columns_to_keep = [col for col in df.columns if 'name' in col.lower() or 'fraktion' in col.lower()]\n",
    "\n",
    "    # Filter the dataframe to only keep those columns\n",
    "    df = df[columns_to_keep]\n",
    "\n",
    "    # If needed, rename the column with 'Fraktion' to just 'Fraktion'\n",
    "    for col in df.columns:\n",
    "        if 'fraktion' in col.lower():\n",
    "            df = df.rename(columns={col: 'Fraktion'})\n",
    "    \n",
    "    return df"
   ],
   "metadata": {
    "collapsed": false,
    "ExecuteTime": {
     "end_time": "2023-11-03T13:37:24.965211Z",
     "start_time": "2023-11-03T13:37:24.960642Z"
    }
   },
   "id": "198c3c7d9e29e6ee"
  },
  {
   "cell_type": "code",
   "execution_count": 56,
   "outputs": [],
   "source": [
    "def clean_before_19(df):\n",
    "    columns_to_keep = [col for col in df.columns if 'mitglied' in col.lower() or 'partei' in col.lower()]\n",
    "     # Filter the dataframe to only keep those columns\n",
    "    df = df[columns_to_keep]\n",
    "\n",
    "    # If needed, rename the column with 'Fraktion' to just 'Fraktion'\n",
    "    for col in df.columns:\n",
    "        if 'partei' in col.lower():\n",
    "            df = df.rename(columns={col: 'Fraktion'})\n",
    "        elif 'mitglied' in col.lower():\n",
    "            df = df.rename(columns={col: 'Name'})\n",
    "    \n",
    "    return df"
   ],
   "metadata": {
    "collapsed": false,
    "ExecuteTime": {
     "end_time": "2023-11-03T13:37:24.973980Z",
     "start_time": "2023-11-03T13:37:24.963006Z"
    }
   },
   "id": "dd602ed659621dfc"
  },
  {
   "cell_type": "code",
   "execution_count": 57,
   "outputs": [],
   "source": [
    "def add_position(df):\n",
    "    df['Position'] = 'Abgeordnete*r'\n",
    "    return df"
   ],
   "metadata": {
    "collapsed": false,
    "ExecuteTime": {
     "end_time": "2023-11-03T13:37:24.975061Z",
     "start_time": "2023-11-03T13:37:24.964698Z"
    }
   },
   "id": "d70bcef2666f1abd"
  },
  {
   "cell_type": "code",
   "execution_count": 58,
   "outputs": [],
   "source": [
    "element_with_id = find_element('Abgeordnete')\n",
    "table = get_table(element_with_id)\n",
    "headers = get_headers(table)\n",
    "df_2 = scrape_table_2(table, headers)\n",
    "df_2 = clean_table_2(df_2)\n",
    "df_2 = add_position(df_2)\n",
    "df_2 = df_2[['Fraktion', 'Position', 'Name']]"
   ],
   "metadata": {
    "collapsed": false,
    "ExecuteTime": {
     "end_time": "2023-11-03T13:37:25.010745Z",
     "start_time": "2023-11-03T13:37:24.989203Z"
    }
   },
   "id": "54e426e3f8a61ec"
  },
  {
   "cell_type": "markdown",
   "source": [
    "# Combining Vorsitzende with Abgeprdnete"
   ],
   "metadata": {
    "collapsed": false
   },
   "id": "c8b3681a8f4146d8"
  },
  {
   "cell_type": "code",
   "execution_count": 59,
   "outputs": [],
   "source": [
    "def combine_dataframes(df1, df2):\n",
    "    result = pd.concat([df1, df2], ignore_index=True)\n",
    "    return result"
   ],
   "metadata": {
    "collapsed": false,
    "ExecuteTime": {
     "end_time": "2023-11-03T13:37:25.010939Z",
     "start_time": "2023-11-03T13:37:24.993061Z"
    }
   },
   "id": "8074957cbd25fd4b"
  },
  {
   "cell_type": "code",
   "execution_count": 60,
   "outputs": [],
   "source": [
    "final_df_20 = combine_dataframes(df_melted, df_2)"
   ],
   "metadata": {
    "collapsed": false,
    "ExecuteTime": {
     "end_time": "2023-11-03T13:37:25.024552Z",
     "start_time": "2023-11-03T13:37:24.995318Z"
    }
   },
   "id": "704d1216ae91d6bf"
  },
  {
   "cell_type": "code",
   "execution_count": 61,
   "outputs": [],
   "source": [
    "final_df_20['Wahlperiode'] = 20"
   ],
   "metadata": {
    "collapsed": false,
    "ExecuteTime": {
     "end_time": "2023-11-03T13:37:25.024668Z",
     "start_time": "2023-11-03T13:37:24.997124Z"
    }
   },
   "id": "64190db3611615a8"
  },
  {
   "cell_type": "markdown",
   "source": [
    "# Lets do this for the other Whlperioden"
   ],
   "metadata": {
    "collapsed": false
   },
   "id": "f060f5502405676e"
  },
  {
   "cell_type": "code",
   "execution_count": 62,
   "outputs": [],
   "source": [
    "## Wahlperiod 19.\n",
    "path = 'https://de.wikipedia.org/wiki/Liste_der_Mitglieder_des_Deutschen_Bundestages_(19._Wahlperiode)'"
   ],
   "metadata": {
    "collapsed": false,
    "ExecuteTime": {
     "end_time": "2023-11-03T13:37:25.025181Z",
     "start_time": "2023-11-03T13:37:24.998614Z"
    }
   },
   "id": "77fdcfeaaa28ee0"
  },
  {
   "cell_type": "code",
   "execution_count": 63,
   "outputs": [],
   "source": [
    "soup = fetch_qikipedia_page(path)"
   ],
   "metadata": {
    "collapsed": false,
    "ExecuteTime": {
     "end_time": "2023-11-03T13:37:25.432002Z",
     "start_time": "2023-11-03T13:37:25.000932Z"
    }
   },
   "id": "9f720bb5701dda5b"
  },
  {
   "cell_type": "code",
   "execution_count": 64,
   "outputs": [],
   "source": [
    "element_with_id = find_element('Fraktionsvorstände')\n",
    "table = get_table(element_with_id)\n",
    "headers = get_headers(table)\n",
    "df = scrape_table_1(table, headers)\n",
    "df = clean_df(df)\n",
    "df_melted = melt_df(df)"
   ],
   "metadata": {
    "collapsed": false,
    "ExecuteTime": {
     "end_time": "2023-11-03T13:37:25.434443Z",
     "start_time": "2023-11-03T13:37:25.432271Z"
    }
   },
   "id": "845346af4706e47f"
  },
  {
   "cell_type": "code",
   "execution_count": 65,
   "outputs": [],
   "source": [
    "element_with_id = find_element('Abgeordnete')\n",
    "table = get_table(element_with_id)\n",
    "headers = get_headers(table)\n",
    "df_2 = scrape_table_2(table, headers)\n",
    "df_2 = clean_table_2(df_2)\n",
    "df_2 = add_position(df_2)\n",
    "df_2 = df_2[['Fraktion', 'Position', 'Name']]"
   ],
   "metadata": {
    "collapsed": false,
    "ExecuteTime": {
     "end_time": "2023-11-03T13:37:25.457302Z",
     "start_time": "2023-11-03T13:37:25.451670Z"
    }
   },
   "id": "df12e7dc7171b4e9"
  },
  {
   "cell_type": "code",
   "execution_count": 66,
   "outputs": [],
   "source": [
    "final_df_19 = combine_dataframes(df_melted, df_2)"
   ],
   "metadata": {
    "collapsed": false,
    "ExecuteTime": {
     "end_time": "2023-11-03T13:37:25.457397Z",
     "start_time": "2023-11-03T13:37:25.455257Z"
    }
   },
   "id": "8aaabc017c183b64"
  },
  {
   "cell_type": "code",
   "execution_count": 67,
   "outputs": [],
   "source": [
    "final_df_19['Wahlperiode'] = 19"
   ],
   "metadata": {
    "collapsed": false,
    "ExecuteTime": {
     "end_time": "2023-11-03T13:37:25.463676Z",
     "start_time": "2023-11-03T13:37:25.456993Z"
    }
   },
   "id": "975495bf44f2db82"
  },
  {
   "cell_type": "markdown",
   "source": [
    "# Wahlperiode 18"
   ],
   "metadata": {
    "collapsed": false
   },
   "id": "25a8e10e077a7bfd"
  },
  {
   "cell_type": "code",
   "execution_count": 68,
   "outputs": [],
   "source": [
    "## Wahlperiod 18.\n",
    "path = 'https://de.wikipedia.org/wiki/Liste_der_Mitglieder_des_Deutschen_Bundestages_(18._Wahlperiode)'\n",
    "soup = fetch_qikipedia_page(path)\n",
    "# element_with_id = find_element('Fraktionsvorstände')\n",
    "# table = get_table(element_with_id)\n",
    "# headers = get_headers(table)\n",
    "# df = scrape_table_1(table, headers)\n",
    "# df = clean_df(df)\n",
    "# df_melted = melt_df(df)\n",
    "element_with_id = find_element('Abgeordnete')\n",
    "table = get_table(element_with_id)\n",
    "headers = get_headers(table)\n",
    "df_2 = scrape_table_2(table, headers)\n",
    "df_2 = clean_before_19(df_2)\n",
    "df_2 = add_position(df_2)\n",
    "df_2 = df_2[['Fraktion', 'Position', 'Name']]\n",
    "final_df_18 = df_2.copy()\n",
    "#final_df_18 = combine_dataframes(df_melted, df_2)\n",
    "final_df_18['Wahlperiode'] = 18"
   ],
   "metadata": {
    "collapsed": false,
    "ExecuteTime": {
     "end_time": "2023-11-03T13:37:25.827534Z",
     "start_time": "2023-11-03T13:37:25.459170Z"
    }
   },
   "id": "b0a1ddea3764f17b"
  },
  {
   "cell_type": "markdown",
   "source": [
    "# Wahlperiode 17"
   ],
   "metadata": {
    "collapsed": false
   },
   "id": "ee8465e5fe420a44"
  },
  {
   "cell_type": "code",
   "execution_count": 69,
   "outputs": [],
   "source": [
    "## Wahlperiod 17.\n",
    "path = 'https://de.wikipedia.org/wiki/Liste_der_Mitglieder_des_Deutschen_Bundestages_(17._Wahlperiode)'\n",
    "soup = fetch_qikipedia_page(path)\n",
    "# element_with_id = find_element('Fraktionsvorstände')\n",
    "# table = get_table(element_with_id)\n",
    "# headers = get_headers(table)\n",
    "# df = scrape_table_1(table, headers)\n",
    "# df = clean_df(df)\n",
    "# df_melted = melt_df(df)\n",
    "element_with_id = find_element('Abgeordnete')\n",
    "table = get_table(element_with_id)\n",
    "headers = get_headers(table)\n",
    "df_2 = scrape_table_2(table, headers)\n",
    "df_2 = clean_before_19(df_2)\n",
    "df_2 = add_position(df_2)\n",
    "df_2 = df_2[['Fraktion', 'Position', 'Name']]\n",
    "final_df_17 = df_2.copy()\n",
    "#final_df_18 = combine_dataframes(df_melted, df_2)\n",
    "final_df_17['Wahlperiode'] = 17"
   ],
   "metadata": {
    "collapsed": false,
    "ExecuteTime": {
     "end_time": "2023-11-03T13:37:26.445413Z",
     "start_time": "2023-11-03T13:37:25.827200Z"
    }
   },
   "id": "39dab610402ad1f0"
  },
  {
   "cell_type": "markdown",
   "source": [
    "# Wahlperiode 16"
   ],
   "metadata": {
    "collapsed": false
   },
   "id": "f8b6e05ee2703fa8"
  },
  {
   "cell_type": "code",
   "execution_count": 70,
   "outputs": [],
   "source": [
    "## Wahlperiod 18.\n",
    "path = 'https://de.wikipedia.org/wiki/Liste_der_Mitglieder_des_Deutschen_Bundestages_(16._Wahlperiode)'\n",
    "soup = fetch_qikipedia_page(path)\n",
    "# element_with_id = find_element('Fraktionsvorstände')\n",
    "# table = get_table(element_with_id)\n",
    "# headers = get_headers(table)\n",
    "# df = scrape_table_1(table, headers)\n",
    "# df = clean_df(df)\n",
    "# df_melted = melt_df(df)\n",
    "element_with_id = find_element('Abgeordnete')\n",
    "table = get_table(element_with_id)\n",
    "headers = get_headers(table)\n",
    "df_2 = scrape_table_2(table, headers)\n",
    "df_2 = clean_before_19(df_2)\n",
    "df_2 = add_position(df_2)\n",
    "df_2 = df_2[['Fraktion', 'Position', 'Name']]\n",
    "final_df_16 = df_2.copy()\n",
    "#final_df_18 = combine_dataframes(df_melted, df_2)\n",
    "final_df_16['Wahlperiode'] = 16"
   ],
   "metadata": {
    "collapsed": false,
    "ExecuteTime": {
     "end_time": "2023-11-03T13:37:27.069206Z",
     "start_time": "2023-11-03T13:37:26.445513Z"
    }
   },
   "id": "2ca023cffefdba88"
  },
  {
   "cell_type": "markdown",
   "source": [
    "# Wahlperiode 15"
   ],
   "metadata": {
    "collapsed": false
   },
   "id": "ce73224bb1c74ef8"
  },
  {
   "cell_type": "code",
   "execution_count": 71,
   "outputs": [],
   "source": [
    "## Wahlperiod 18.\n",
    "path = 'https://de.wikipedia.org/wiki/Liste_der_Mitglieder_des_Deutschen_Bundestages_(15._Wahlperiode)'\n",
    "soup = fetch_qikipedia_page(path)\n",
    "# element_with_id = find_element('Fraktionsvorstände')\n",
    "# table = get_table(element_with_id)\n",
    "# headers = get_headers(table)\n",
    "# df = scrape_table_1(table, headers)\n",
    "# df = clean_df(df)\n",
    "# df_melted = melt_df(df)\n",
    "element_with_id = find_element('Abgeordnete')\n",
    "table = get_table(element_with_id)\n",
    "headers = get_headers(table)\n",
    "df_2 = scrape_table_2(table, headers)\n",
    "df_2 = clean_before_19(df_2)\n",
    "df_2 = add_position(df_2)\n",
    "df_2 = df_2[['Fraktion', 'Position', 'Name']]\n",
    "final_df_15 = df_2.copy()\n",
    "#final_df_18 = combine_dataframes(df_melted, df_2)\n",
    "final_df_15['Wahlperiode'] = 15"
   ],
   "metadata": {
    "collapsed": false,
    "ExecuteTime": {
     "end_time": "2023-11-03T13:37:27.337386Z",
     "start_time": "2023-11-03T13:37:27.069714Z"
    }
   },
   "id": "385a093f30fcb806"
  },
  {
   "cell_type": "markdown",
   "source": [
    "# Final Dataframe of all parties"
   ],
   "metadata": {
    "collapsed": false
   },
   "id": "d7af2674160bd6a"
  },
  {
   "cell_type": "code",
   "execution_count": 72,
   "outputs": [
    {
     "data": {
      "text/plain": "           Fraktion       Position                Name  Wahlperiode\n0               SPD  Abgeordnete*r          Sanae Abdi           20\n1               FDP  Abgeordnete*r       Valentin Abel           20\n2     CDU/CSU (CDU)  Abgeordnete*r        Knut Abraham           20\n3               FDP  Abgeordnete*r         Katja Adler           20\n4             Grüne  Abgeordnete*r   Stephanie Aeffner           20\n...             ...            ...                 ...          ...\n4051            CSU  Abgeordnete*r  Wolfgang Zeitlmann           15\n4052            CSU  Abgeordnete*r     Wolfgang Zöller           15\n4053            SPD  Abgeordnete*r     Manfred Zöllmer           15\n4054            SPD  Abgeordnete*r     Christoph Zöpel           15\n4055            CDU  Abgeordnete*r       Willi Zylajew           15\n\n[4056 rows x 4 columns]",
      "text/html": "<div>\n<style scoped>\n    .dataframe tbody tr th:only-of-type {\n        vertical-align: middle;\n    }\n\n    .dataframe tbody tr th {\n        vertical-align: top;\n    }\n\n    .dataframe thead th {\n        text-align: right;\n    }\n</style>\n<table border=\"1\" class=\"dataframe\">\n  <thead>\n    <tr style=\"text-align: right;\">\n      <th></th>\n      <th>Fraktion</th>\n      <th>Position</th>\n      <th>Name</th>\n      <th>Wahlperiode</th>\n    </tr>\n  </thead>\n  <tbody>\n    <tr>\n      <th>0</th>\n      <td>SPD</td>\n      <td>Abgeordnete*r</td>\n      <td>Sanae Abdi</td>\n      <td>20</td>\n    </tr>\n    <tr>\n      <th>1</th>\n      <td>FDP</td>\n      <td>Abgeordnete*r</td>\n      <td>Valentin Abel</td>\n      <td>20</td>\n    </tr>\n    <tr>\n      <th>2</th>\n      <td>CDU/CSU (CDU)</td>\n      <td>Abgeordnete*r</td>\n      <td>Knut Abraham</td>\n      <td>20</td>\n    </tr>\n    <tr>\n      <th>3</th>\n      <td>FDP</td>\n      <td>Abgeordnete*r</td>\n      <td>Katja Adler</td>\n      <td>20</td>\n    </tr>\n    <tr>\n      <th>4</th>\n      <td>Grüne</td>\n      <td>Abgeordnete*r</td>\n      <td>Stephanie Aeffner</td>\n      <td>20</td>\n    </tr>\n    <tr>\n      <th>...</th>\n      <td>...</td>\n      <td>...</td>\n      <td>...</td>\n      <td>...</td>\n    </tr>\n    <tr>\n      <th>4051</th>\n      <td>CSU</td>\n      <td>Abgeordnete*r</td>\n      <td>Wolfgang Zeitlmann</td>\n      <td>15</td>\n    </tr>\n    <tr>\n      <th>4052</th>\n      <td>CSU</td>\n      <td>Abgeordnete*r</td>\n      <td>Wolfgang Zöller</td>\n      <td>15</td>\n    </tr>\n    <tr>\n      <th>4053</th>\n      <td>SPD</td>\n      <td>Abgeordnete*r</td>\n      <td>Manfred Zöllmer</td>\n      <td>15</td>\n    </tr>\n    <tr>\n      <th>4054</th>\n      <td>SPD</td>\n      <td>Abgeordnete*r</td>\n      <td>Christoph Zöpel</td>\n      <td>15</td>\n    </tr>\n    <tr>\n      <th>4055</th>\n      <td>CDU</td>\n      <td>Abgeordnete*r</td>\n      <td>Willi Zylajew</td>\n      <td>15</td>\n    </tr>\n  </tbody>\n</table>\n<p>4056 rows × 4 columns</p>\n</div>"
     },
     "execution_count": 72,
     "metadata": {},
     "output_type": "execute_result"
    }
   ],
   "source": [
    "df_parties = pd.concat([final_df_20, final_df_19, final_df_18, final_df_17, final_df_16, final_df_15], ignore_index=True)\n",
    "df_parties"
   ],
   "metadata": {
    "collapsed": false,
    "ExecuteTime": {
     "end_time": "2023-11-03T13:37:27.342684Z",
     "start_time": "2023-11-03T13:37:27.339556Z"
    }
   },
   "id": "f9c8077222d4bbbf"
  },
  {
   "cell_type": "code",
   "execution_count": 73,
   "outputs": [],
   "source": [
    "df_parties.to_csv('/Users/merlesteffen/Documents/Education/WBS_Coding_School/Bootcamp/Final_Project/Final_Data/parties.csv', index=False)"
   ],
   "metadata": {
    "collapsed": false,
    "ExecuteTime": {
     "end_time": "2023-11-03T13:37:27.348513Z",
     "start_time": "2023-11-03T13:37:27.341904Z"
    }
   },
   "id": "20df38e20f31eadb"
  },
  {
   "cell_type": "code",
   "execution_count": 73,
   "outputs": [],
   "source": [],
   "metadata": {
    "collapsed": false,
    "ExecuteTime": {
     "end_time": "2023-11-03T13:37:27.350667Z",
     "start_time": "2023-11-03T13:37:27.348849Z"
    }
   },
   "id": "4c0024be2e5356f2"
  }
 ],
 "metadata": {
  "kernelspec": {
   "display_name": "Python 3",
   "language": "python",
   "name": "python3"
  },
  "language_info": {
   "codemirror_mode": {
    "name": "ipython",
    "version": 2
   },
   "file_extension": ".py",
   "mimetype": "text/x-python",
   "name": "python",
   "nbconvert_exporter": "python",
   "pygments_lexer": "ipython2",
   "version": "2.7.6"
  }
 },
 "nbformat": 4,
 "nbformat_minor": 5
}
