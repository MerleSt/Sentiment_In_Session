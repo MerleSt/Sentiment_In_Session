{
 "cells": [
  {
   "cell_type": "code",
   "execution_count": 40,
   "outputs": [],
   "source": [
    "from sentence_transformers import SentenceTransformer\n",
    "import pandas as pd\n",
    "import pandas as pd\n",
    "from sentence_transformers import SentenceTransformer\n",
    "from sklearn.metrics.pairwise import cosine_similarity\n",
    "import seaborn as sns\n",
    "from sklearn.manifold import TSNE\n",
    "import matplotlib.pyplot as plt\n",
    "import pandas as pd\n",
    "from sentence_transformers import SentenceTransformer\n",
    "from sklearn.manifold import TSNE\n",
    "import seaborn as sns\n",
    "import matplotlib.pyplot as plt\n",
    "from scipy.spatial.distance import cosine\n",
    "import spacy\n",
    "import pandas as pd\n",
    "import pandas as pd\n",
    "from sklearn.feature_extraction.text import TfidfVectorizer\n",
    "from sklearn.metrics.pairwise import cosine_similarity\n",
    "import matplotlib.pyplot as plt\n",
    "import networkx as nx\n",
    "import spacy\n",
    "from collections import Counter"
   ],
   "metadata": {
    "collapsed": false,
    "ExecuteTime": {
     "end_time": "2023-11-15T14:32:32.091389Z",
     "start_time": "2023-11-15T14:32:32.050902Z"
    }
   },
   "id": "efdadd25dda2fef9"
  },
  {
   "cell_type": "code",
   "execution_count": 41,
   "outputs": [],
   "source": [
    "model = SentenceTransformer('sentence-transformers/distiluse-base-multilingual-cased-v2')"
   ],
   "metadata": {
    "collapsed": false,
    "ExecuteTime": {
     "end_time": "2023-11-15T14:32:35.522603Z",
     "start_time": "2023-11-15T14:32:33.770987Z"
    }
   },
   "id": "b8551c03c68f8f3b"
  },
  {
   "cell_type": "markdown",
   "source": [
    "# Dataframe work"
   ],
   "metadata": {
    "collapsed": false
   },
   "id": "9552657cdc23efc8"
  },
  {
   "cell_type": "code",
   "execution_count": 42,
   "outputs": [],
   "source": [
    "df_full = pd.read_csv(\"/Users/merlesteffen/Documents/Education/WBS_Coding_School/Bootcamp/Sentiment_In_Session/Final_DF/sentiment_analysis_all.csv\")"
   ],
   "metadata": {
    "collapsed": false,
    "ExecuteTime": {
     "end_time": "2023-11-15T14:32:45.155202Z",
     "start_time": "2023-11-15T14:32:35.526998Z"
    }
   },
   "id": "97c661f4e9a6dce1"
  },
  {
   "cell_type": "code",
   "execution_count": 148,
   "outputs": [],
   "source": [
    "df_full['Party'] = df_full['Party'].replace('Bündnis 90/Die Grünen', 'Die Grünen')"
   ],
   "metadata": {
    "collapsed": false,
    "ExecuteTime": {
     "end_time": "2023-11-08T14:29:08.861138Z",
     "start_time": "2023-11-08T14:29:07.841308Z"
    }
   },
   "id": "e22871a29f14d714"
  },
  {
   "cell_type": "markdown",
   "source": [
    "# Spacy model"
   ],
   "metadata": {
    "collapsed": false
   },
   "id": "ab55a402068039d"
  },
  {
   "cell_type": "code",
   "execution_count": 49,
   "outputs": [],
   "source": [
    "nlp = spacy.load('de_core_news_lg')"
   ],
   "metadata": {
    "collapsed": false,
    "ExecuteTime": {
     "end_time": "2023-11-15T17:25:57.298083Z",
     "start_time": "2023-11-15T17:25:55.737557Z"
    }
   },
   "id": "40121d825c876053"
  },
  {
   "cell_type": "markdown",
   "source": [
    "# Let us add the Party"
   ],
   "metadata": {
    "collapsed": false
   },
   "id": "a6adfbdc9659f10c"
  },
  {
   "cell_type": "code",
   "execution_count": 56,
   "outputs": [],
   "source": [
    "df_full['Party'] = df_full['Party'].replace('Bündnis 90/Die Grünen', 'Die Grünen')"
   ],
   "metadata": {
    "collapsed": false,
    "ExecuteTime": {
     "end_time": "2023-11-15T18:38:46.233286Z",
     "start_time": "2023-11-15T18:38:45.520091Z"
    }
   },
   "id": "84cda369e70da698"
  },
  {
   "cell_type": "code",
   "execution_count": 57,
   "outputs": [],
   "source": [
    "df1 = df_full.copy()"
   ],
   "metadata": {
    "collapsed": false,
    "ExecuteTime": {
     "start_time": "2023-11-15T18:38:47.961647Z"
    }
   },
   "id": "b484663e3de6ff0"
  },
  {
   "cell_type": "code",
   "execution_count": 59,
   "outputs": [
    {
     "data": {
      "text/plain": "Name                Achim Großmann  Achim Kessler  Achim Post(Minden)  \\\nName                                                                    \nAchim Großmann            1.000000       0.086498            0.041813   \nAchim Kessler             0.086498       1.000000            0.073352   \nAchim Post(Minden)        0.041813       0.073352            1.000000   \nAdis Ahmetovic            0.060430       0.196718            0.091242   \nAgnes Alpers              0.089371       0.282239            0.085825   \n...                            ...            ...                 ...   \nYvonne Magwas             0.056701       0.198766            0.080142   \nYvonne Ploetz             0.083136       0.214815            0.069290   \nZanda Martens             0.066773       0.185008            0.082834   \nZoe Mayer                 0.054144       0.149216            0.071320   \nÖzcan Mutlu               0.112386       0.300905            0.157573   \n\nName                Adis Ahmetovic  Agnes Alpers  Agnes Krumwiede  \\\nName                                                                \nAchim Großmann            0.060430      0.089371         0.070962   \nAchim Kessler             0.196718      0.282239         0.141790   \nAchim Post(Minden)        0.091242      0.085825         0.065385   \nAdis Ahmetovic            1.000000      0.159102         0.094647   \nAgnes Alpers              0.159102      1.000000         0.164674   \n...                            ...           ...              ...   \nYvonne Magwas             0.155225      0.178626         0.106656   \nYvonne Ploetz             0.155635      0.297144         0.152312   \nZanda Martens             0.150996      0.164596         0.110865   \nZoe Mayer                 0.132334      0.130399         0.093284   \nÖzcan Mutlu               0.223497      0.318780         0.179947   \n\nName                Agnieszka Brugger  Albert Deß  Albert Rupprecht  \\\nName                                                                  \nAchim Großmann               0.105233    0.086774          0.099447   \nAchim Kessler                0.358036    0.187459          0.176630   \nAchim Post(Minden)           0.137815    0.083431          0.076621   \nAdis Ahmetovic               0.373334    0.137971          0.118529   \nAgnes Alpers                 0.327966    0.185153          0.199188   \n...                               ...         ...               ...   \nYvonne Magwas                0.255522    0.178752          0.122343   \nYvonne Ploetz                0.296460    0.210905          0.173091   \nZanda Martens                0.248675    0.148749          0.114142   \nZoe Mayer                    0.219780    0.186132          0.108046   \nÖzcan Mutlu                  0.397240    0.241984          0.239424   \n\nName                Albert Rupprecht(Weiden)  ...  Wolfgang Zeitlmann  \\\nName                                          ...                       \nAchim Großmann                      0.155185  ...            0.053512   \nAchim Kessler                       0.317620  ...            0.152529   \nAchim Post(Minden)                  0.135766  ...            0.047100   \nAdis Ahmetovic                      0.216007  ...            0.099147   \nAgnes Alpers                        0.350742  ...            0.145303   \n...                                      ...  ...                 ...   \nYvonne Magwas                       0.236849  ...            0.103822   \nYvonne Ploetz                       0.309582  ...            0.127320   \nZanda Martens                       0.221163  ...            0.109009   \nZoe Mayer                           0.213455  ...            0.086432   \nÖzcan Mutlu                         0.419436  ...            0.178796   \n\nName                Wolfgang Zöller  Xaver Jung  Yannick Bury  Yasmin Fahimi  \\\nName                                                                           \nAchim Großmann             0.103455    0.100525      0.083583       0.088597   \nAchim Kessler              0.438289    0.212067      0.231755       0.261717   \nAchim Post(Minden)         0.072222    0.100753      0.095925       0.107815   \nAdis Ahmetovic             0.130214    0.151346      0.205479       0.186005   \nAgnes Alpers               0.220710    0.279640      0.206790       0.434535   \n...                             ...         ...           ...            ...   \nYvonne Magwas              0.144357    0.143046      0.219418       0.218132   \nYvonne Ploetz              0.212387    0.238837      0.181834       0.261126   \nZanda Martens              0.170108    0.152041      0.195004       0.226308   \nZoe Mayer                  0.136165    0.133626      0.175952       0.186461   \nÖzcan Mutlu                0.241590    0.433093      0.279179       0.332190   \n\nName                Yvonne Magwas  Yvonne Ploetz  Zanda Martens  Zoe Mayer  \\\nName                                                                         \nAchim Großmann           0.056701       0.083136       0.066773   0.054144   \nAchim Kessler            0.198766       0.214815       0.185008   0.149216   \nAchim Post(Minden)       0.080142       0.069290       0.082834   0.071320   \nAdis Ahmetovic           0.155225       0.155635       0.150996   0.132334   \nAgnes Alpers             0.178626       0.297144       0.164596   0.130399   \n...                           ...            ...            ...        ...   \nYvonne Magwas            1.000000       0.172512       0.201052   0.212713   \nYvonne Ploetz            0.172512       1.000000       0.171200   0.151346   \nZanda Martens            0.201052       0.171200       1.000000   0.166753   \nZoe Mayer                0.212713       0.151346       0.166753   1.000000   \nÖzcan Mutlu              0.233518       0.280729       0.214346   0.195947   \n\nName                Özcan Mutlu  \nName                             \nAchim Großmann         0.112386  \nAchim Kessler          0.300905  \nAchim Post(Minden)     0.157573  \nAdis Ahmetovic         0.223497  \nAgnes Alpers           0.318780  \n...                         ...  \nYvonne Magwas          0.233518  \nYvonne Ploetz          0.280729  \nZanda Martens          0.214346  \nZoe Mayer              0.195947  \nÖzcan Mutlu            1.000000  \n\n[1777 rows x 1777 columns]",
      "text/html": "<div>\n<style scoped>\n    .dataframe tbody tr th:only-of-type {\n        vertical-align: middle;\n    }\n\n    .dataframe tbody tr th {\n        vertical-align: top;\n    }\n\n    .dataframe thead th {\n        text-align: right;\n    }\n</style>\n<table border=\"1\" class=\"dataframe\">\n  <thead>\n    <tr style=\"text-align: right;\">\n      <th>Name</th>\n      <th>Achim Großmann</th>\n      <th>Achim Kessler</th>\n      <th>Achim Post(Minden)</th>\n      <th>Adis Ahmetovic</th>\n      <th>Agnes Alpers</th>\n      <th>Agnes Krumwiede</th>\n      <th>Agnieszka Brugger</th>\n      <th>Albert Deß</th>\n      <th>Albert Rupprecht</th>\n      <th>Albert Rupprecht(Weiden)</th>\n      <th>...</th>\n      <th>Wolfgang Zeitlmann</th>\n      <th>Wolfgang Zöller</th>\n      <th>Xaver Jung</th>\n      <th>Yannick Bury</th>\n      <th>Yasmin Fahimi</th>\n      <th>Yvonne Magwas</th>\n      <th>Yvonne Ploetz</th>\n      <th>Zanda Martens</th>\n      <th>Zoe Mayer</th>\n      <th>Özcan Mutlu</th>\n    </tr>\n    <tr>\n      <th>Name</th>\n      <th></th>\n      <th></th>\n      <th></th>\n      <th></th>\n      <th></th>\n      <th></th>\n      <th></th>\n      <th></th>\n      <th></th>\n      <th></th>\n      <th></th>\n      <th></th>\n      <th></th>\n      <th></th>\n      <th></th>\n      <th></th>\n      <th></th>\n      <th></th>\n      <th></th>\n      <th></th>\n      <th></th>\n    </tr>\n  </thead>\n  <tbody>\n    <tr>\n      <th>Achim Großmann</th>\n      <td>1.000000</td>\n      <td>0.086498</td>\n      <td>0.041813</td>\n      <td>0.060430</td>\n      <td>0.089371</td>\n      <td>0.070962</td>\n      <td>0.105233</td>\n      <td>0.086774</td>\n      <td>0.099447</td>\n      <td>0.155185</td>\n      <td>...</td>\n      <td>0.053512</td>\n      <td>0.103455</td>\n      <td>0.100525</td>\n      <td>0.083583</td>\n      <td>0.088597</td>\n      <td>0.056701</td>\n      <td>0.083136</td>\n      <td>0.066773</td>\n      <td>0.054144</td>\n      <td>0.112386</td>\n    </tr>\n    <tr>\n      <th>Achim Kessler</th>\n      <td>0.086498</td>\n      <td>1.000000</td>\n      <td>0.073352</td>\n      <td>0.196718</td>\n      <td>0.282239</td>\n      <td>0.141790</td>\n      <td>0.358036</td>\n      <td>0.187459</td>\n      <td>0.176630</td>\n      <td>0.317620</td>\n      <td>...</td>\n      <td>0.152529</td>\n      <td>0.438289</td>\n      <td>0.212067</td>\n      <td>0.231755</td>\n      <td>0.261717</td>\n      <td>0.198766</td>\n      <td>0.214815</td>\n      <td>0.185008</td>\n      <td>0.149216</td>\n      <td>0.300905</td>\n    </tr>\n    <tr>\n      <th>Achim Post(Minden)</th>\n      <td>0.041813</td>\n      <td>0.073352</td>\n      <td>1.000000</td>\n      <td>0.091242</td>\n      <td>0.085825</td>\n      <td>0.065385</td>\n      <td>0.137815</td>\n      <td>0.083431</td>\n      <td>0.076621</td>\n      <td>0.135766</td>\n      <td>...</td>\n      <td>0.047100</td>\n      <td>0.072222</td>\n      <td>0.100753</td>\n      <td>0.095925</td>\n      <td>0.107815</td>\n      <td>0.080142</td>\n      <td>0.069290</td>\n      <td>0.082834</td>\n      <td>0.071320</td>\n      <td>0.157573</td>\n    </tr>\n    <tr>\n      <th>Adis Ahmetovic</th>\n      <td>0.060430</td>\n      <td>0.196718</td>\n      <td>0.091242</td>\n      <td>1.000000</td>\n      <td>0.159102</td>\n      <td>0.094647</td>\n      <td>0.373334</td>\n      <td>0.137971</td>\n      <td>0.118529</td>\n      <td>0.216007</td>\n      <td>...</td>\n      <td>0.099147</td>\n      <td>0.130214</td>\n      <td>0.151346</td>\n      <td>0.205479</td>\n      <td>0.186005</td>\n      <td>0.155225</td>\n      <td>0.155635</td>\n      <td>0.150996</td>\n      <td>0.132334</td>\n      <td>0.223497</td>\n    </tr>\n    <tr>\n      <th>Agnes Alpers</th>\n      <td>0.089371</td>\n      <td>0.282239</td>\n      <td>0.085825</td>\n      <td>0.159102</td>\n      <td>1.000000</td>\n      <td>0.164674</td>\n      <td>0.327966</td>\n      <td>0.185153</td>\n      <td>0.199188</td>\n      <td>0.350742</td>\n      <td>...</td>\n      <td>0.145303</td>\n      <td>0.220710</td>\n      <td>0.279640</td>\n      <td>0.206790</td>\n      <td>0.434535</td>\n      <td>0.178626</td>\n      <td>0.297144</td>\n      <td>0.164596</td>\n      <td>0.130399</td>\n      <td>0.318780</td>\n    </tr>\n    <tr>\n      <th>...</th>\n      <td>...</td>\n      <td>...</td>\n      <td>...</td>\n      <td>...</td>\n      <td>...</td>\n      <td>...</td>\n      <td>...</td>\n      <td>...</td>\n      <td>...</td>\n      <td>...</td>\n      <td>...</td>\n      <td>...</td>\n      <td>...</td>\n      <td>...</td>\n      <td>...</td>\n      <td>...</td>\n      <td>...</td>\n      <td>...</td>\n      <td>...</td>\n      <td>...</td>\n      <td>...</td>\n    </tr>\n    <tr>\n      <th>Yvonne Magwas</th>\n      <td>0.056701</td>\n      <td>0.198766</td>\n      <td>0.080142</td>\n      <td>0.155225</td>\n      <td>0.178626</td>\n      <td>0.106656</td>\n      <td>0.255522</td>\n      <td>0.178752</td>\n      <td>0.122343</td>\n      <td>0.236849</td>\n      <td>...</td>\n      <td>0.103822</td>\n      <td>0.144357</td>\n      <td>0.143046</td>\n      <td>0.219418</td>\n      <td>0.218132</td>\n      <td>1.000000</td>\n      <td>0.172512</td>\n      <td>0.201052</td>\n      <td>0.212713</td>\n      <td>0.233518</td>\n    </tr>\n    <tr>\n      <th>Yvonne Ploetz</th>\n      <td>0.083136</td>\n      <td>0.214815</td>\n      <td>0.069290</td>\n      <td>0.155635</td>\n      <td>0.297144</td>\n      <td>0.152312</td>\n      <td>0.296460</td>\n      <td>0.210905</td>\n      <td>0.173091</td>\n      <td>0.309582</td>\n      <td>...</td>\n      <td>0.127320</td>\n      <td>0.212387</td>\n      <td>0.238837</td>\n      <td>0.181834</td>\n      <td>0.261126</td>\n      <td>0.172512</td>\n      <td>1.000000</td>\n      <td>0.171200</td>\n      <td>0.151346</td>\n      <td>0.280729</td>\n    </tr>\n    <tr>\n      <th>Zanda Martens</th>\n      <td>0.066773</td>\n      <td>0.185008</td>\n      <td>0.082834</td>\n      <td>0.150996</td>\n      <td>0.164596</td>\n      <td>0.110865</td>\n      <td>0.248675</td>\n      <td>0.148749</td>\n      <td>0.114142</td>\n      <td>0.221163</td>\n      <td>...</td>\n      <td>0.109009</td>\n      <td>0.170108</td>\n      <td>0.152041</td>\n      <td>0.195004</td>\n      <td>0.226308</td>\n      <td>0.201052</td>\n      <td>0.171200</td>\n      <td>1.000000</td>\n      <td>0.166753</td>\n      <td>0.214346</td>\n    </tr>\n    <tr>\n      <th>Zoe Mayer</th>\n      <td>0.054144</td>\n      <td>0.149216</td>\n      <td>0.071320</td>\n      <td>0.132334</td>\n      <td>0.130399</td>\n      <td>0.093284</td>\n      <td>0.219780</td>\n      <td>0.186132</td>\n      <td>0.108046</td>\n      <td>0.213455</td>\n      <td>...</td>\n      <td>0.086432</td>\n      <td>0.136165</td>\n      <td>0.133626</td>\n      <td>0.175952</td>\n      <td>0.186461</td>\n      <td>0.212713</td>\n      <td>0.151346</td>\n      <td>0.166753</td>\n      <td>1.000000</td>\n      <td>0.195947</td>\n    </tr>\n    <tr>\n      <th>Özcan Mutlu</th>\n      <td>0.112386</td>\n      <td>0.300905</td>\n      <td>0.157573</td>\n      <td>0.223497</td>\n      <td>0.318780</td>\n      <td>0.179947</td>\n      <td>0.397240</td>\n      <td>0.241984</td>\n      <td>0.239424</td>\n      <td>0.419436</td>\n      <td>...</td>\n      <td>0.178796</td>\n      <td>0.241590</td>\n      <td>0.433093</td>\n      <td>0.279179</td>\n      <td>0.332190</td>\n      <td>0.233518</td>\n      <td>0.280729</td>\n      <td>0.214346</td>\n      <td>0.195947</td>\n      <td>1.000000</td>\n    </tr>\n  </tbody>\n</table>\n<p>1777 rows × 1777 columns</p>\n</div>"
     },
     "execution_count": 59,
     "metadata": {},
     "output_type": "execute_result"
    }
   ],
   "source": [
    "# Chunky chunk chunk\n",
    "# Group by speaker and concatenate all text spoken by the same speaker\n",
    "grouped_df = df1.groupby('Name')['Text_Spoken'].apply(' '.join).reset_index()\n",
    "\n",
    "# Add the 'Party' column to the grouped_df\n",
    "grouped_df = grouped_df.merge(df1[['Name', 'Party']].drop_duplicates(), on='Name')\n",
    "\n",
    "# Function to process text in chunks\n",
    "def process_text_in_chunks(text, chunk_size=1000000):\n",
    "    # Process the text in chunks of the given size\n",
    "    doc = nlp(text[:chunk_size])\n",
    "    processed_text = ' '.join([token.lemma_.lower() for token in doc if not token.is_stop and not token.is_punct and token.is_alpha])\n",
    "    for i in range(chunk_size, len(text), chunk_size):\n",
    "        doc = nlp(text[i:i+chunk_size])\n",
    "        processed_text += ' ' + ' '.join([token.lemma_.lower() for token in doc if not token.is_stop and not token.is_punct and token.is_alpha])\n",
    "    return processed_text\n",
    "\n",
    "# Apply preprocessing to the grouped DataFrame\n",
    "grouped_df['Processed_Text'] = grouped_df['Text_Spoken'].apply(lambda text: process_text_in_chunks(text))\n",
    "\n",
    "# Vectorize the text\n",
    "tfidf_vectorizer = TfidfVectorizer()\n",
    "tfidf_matrix = tfidf_vectorizer.fit_transform(grouped_df['Processed_Text'])\n",
    "\n",
    "# Calculate cosine similarity\n",
    "cosine_sim = cosine_similarity(tfidf_matrix, tfidf_matrix)\n",
    "\n",
    "# Convert cosine similarity matrix to DataFrame\n",
    "cosine_sim_df_text = pd.DataFrame(cosine_sim, index=grouped_df['Name'], columns=grouped_df['Name'])\n",
    "\n",
    "# Display the similarity matrix\n",
    "cosine_sim_df_text"
   ],
   "metadata": {
    "collapsed": false,
    "ExecuteTime": {
     "end_time": "2023-11-15T19:13:40.985654Z",
     "start_time": "2023-11-15T18:38:59.311561Z"
    }
   },
   "id": "6ec160b48a541a23"
  },
  {
   "cell_type": "code",
   "execution_count": 60,
   "outputs": [],
   "source": [
    "# Save the cosine similarity matrix to a CSV file\n",
    "cosine_sim_df_text.to_csv('/Users/merlesteffen/Documents/Education/WBS_Coding_School/Bootcamp/Sentiment_In_Session/Final_DF/cosine_similarity_matrix.csv')"
   ],
   "metadata": {
    "collapsed": false,
    "ExecuteTime": {
     "end_time": "2023-11-15T19:13:42.756114Z",
     "start_time": "2023-11-15T19:13:40.982612Z"
    }
   },
   "id": "a70c0eb6137a3a34"
  },
  {
   "cell_type": "code",
   "execution_count": 61,
   "outputs": [],
   "source": [
    "party_colors_map = {\n",
    "    'SPD': 'red',\n",
    "    'PDS': '#801818',\n",
    "    'CDU': 'white',\n",
    "    'FDP': 'yellow',\n",
    "    'Die Grünen': 'green',\n",
    "    'CSU': 'white',\n",
    "    'AfD': '#0489DB',\n",
    "    'Die Linke': 'pink',\n",
    "    'fraktionslos': 'white',\n",
    "    'LKR': '#FE8100',\n",
    "    'SSW': '#00277E'\n",
    "}"
   ],
   "metadata": {
    "collapsed": false,
    "ExecuteTime": {
     "end_time": "2023-11-15T19:13:42.758910Z",
     "start_time": "2023-11-15T19:13:42.756608Z"
    }
   },
   "id": "84002c045f87370f"
  },
  {
   "cell_type": "code",
   "execution_count": 84,
   "outputs": [
    {
     "name": "stdout",
     "output_type": "stream",
     "text": [
      "Unexpected exception formatting exception. Falling back to standard exception\n"
     ]
    },
    {
     "name": "stderr",
     "output_type": "stream",
     "text": [
      "Traceback (most recent call last):\n",
      "  File \"/Users/merlesteffen/anaconda3/lib/python3.11/site-packages/IPython/core/interactiveshell.py\", line 3508, in run_code\n",
      "    exec(code_obj, self.user_global_ns, self.user_ns)\n",
      "  File \"/var/folders/7h/lk9jxn256x10l_m01pz7khdw0000gn/T/ipykernel_54266/250786080.py\", line 24, in <module>\n",
      "    pos = nx.kamada_kawai_layout(G)\n",
      "          ^^^^^^^^^^^^^^^^^^^^^^^^^\n",
      "  File \"/Users/merlesteffen/anaconda3/lib/python3.11/site-packages/networkx/drawing/layout.py\", line 690, in kamada_kawai_layout\n",
      "    dist = dict(nx.shortest_path_length(G, weight=weight))\n",
      "           ^^^^^^^^^^^^^^^^^^^^^^^^^^^^^^^^^^^^^^^^^^^^^^^\n",
      "  File \"/Users/merlesteffen/anaconda3/lib/python3.11/site-packages/networkx/algorithms/shortest_paths/weighted.py\", line 1071, in all_pairs_dijkstra_path_length\n",
      "    yield (n, length(G, n, cutoff=cutoff, weight=weight))\n",
      "              ^^^^^^^^^^^^^^^^^^^^^^^^^^^^^^^^^^^^^^^^^^\n",
      "  File \"/Users/merlesteffen/anaconda3/lib/python3.11/site-packages/networkx/algorithms/shortest_paths/weighted.py\", line 382, in single_source_dijkstra_path_length\n",
      "    return multi_source_dijkstra_path_length(G, {source}, cutoff=cutoff, weight=weight)\n",
      "           ^^^^^^^^^^^^^^^^^^^^^^^^^^^^^^^^^^^^^^^^^^^^^^^^^^^^^^^^^^^^^^^^^^^^^^^^^^^^\n",
      "  File \"/Users/merlesteffen/anaconda3/lib/python3.11/site-packages/networkx/algorithms/shortest_paths/weighted.py\", line 637, in multi_source_dijkstra_path_length\n",
      "    return _dijkstra_multisource(G, sources, weight, cutoff=cutoff)\n",
      "           ^^^^^^^^^^^^^^^^^^^^^^^^^^^^^^^^^^^^^^^^^^^^^^^^^^^^^^^^\n",
      "  File \"/Users/merlesteffen/anaconda3/lib/python3.11/site-packages/networkx/algorithms/shortest_paths/weighted.py\", line -1, in _dijkstra_multisource\n",
      "KeyboardInterrupt\n",
      "\n",
      "During handling of the above exception, another exception occurred:\n",
      "\n",
      "Traceback (most recent call last):\n",
      "  File \"/Users/merlesteffen/anaconda3/lib/python3.11/site-packages/IPython/core/interactiveshell.py\", line 2105, in showtraceback\n",
      "    stb = self.InteractiveTB.structured_traceback(\n",
      "          ^^^^^^^^^^^^^^^^^^^^^^^^^^^^^^^^^^^^^^^^\n",
      "  File \"/Users/merlesteffen/anaconda3/lib/python3.11/site-packages/IPython/core/ultratb.py\", line 1396, in structured_traceback\n",
      "    return FormattedTB.structured_traceback(\n",
      "           ^^^^^^^^^^^^^^^^^^^^^^^^^^^^^^^^^\n",
      "  File \"/Users/merlesteffen/anaconda3/lib/python3.11/site-packages/IPython/core/ultratb.py\", line 1287, in structured_traceback\n",
      "    return VerboseTB.structured_traceback(\n",
      "           ^^^^^^^^^^^^^^^^^^^^^^^^^^^^^^^\n",
      "  File \"/Users/merlesteffen/anaconda3/lib/python3.11/site-packages/IPython/core/ultratb.py\", line 1140, in structured_traceback\n",
      "    formatted_exception = self.format_exception_as_a_whole(etype, evalue, etb, number_of_lines_of_context,\n",
      "                          ^^^^^^^^^^^^^^^^^^^^^^^^^^^^^^^^^^^^^^^^^^^^^^^^^^^^^^^^^^^^^^^^^^^^^^^^^^^^^^^^\n",
      "  File \"/Users/merlesteffen/anaconda3/lib/python3.11/site-packages/IPython/core/ultratb.py\", line 1055, in format_exception_as_a_whole\n",
      "    frames.append(self.format_record(record))\n",
      "                  ^^^^^^^^^^^^^^^^^^^^^^^^^^\n",
      "  File \"/Users/merlesteffen/anaconda3/lib/python3.11/site-packages/IPython/core/ultratb.py\", line 955, in format_record\n",
      "    frame_info.lines, Colors, self.has_colors, lvals\n",
      "    ^^^^^^^^^^^^^^^^\n",
      "  File \"/Users/merlesteffen/anaconda3/lib/python3.11/site-packages/IPython/core/ultratb.py\", line 778, in lines\n",
      "    return self._sd.lines\n",
      "           ^^^^^^^^^^^^^^\n",
      "  File \"/Users/merlesteffen/anaconda3/lib/python3.11/site-packages/stack_data/utils.py\", line 145, in cached_property_wrapper\n",
      "    value = obj.__dict__[self.func.__name__] = self.func(obj)\n",
      "                                               ^^^^^^^^^^^^^^\n",
      "  File \"/Users/merlesteffen/anaconda3/lib/python3.11/site-packages/stack_data/core.py\", line 698, in lines\n",
      "    pieces = self.included_pieces\n",
      "             ^^^^^^^^^^^^^^^^^^^^\n",
      "  File \"/Users/merlesteffen/anaconda3/lib/python3.11/site-packages/stack_data/utils.py\", line 145, in cached_property_wrapper\n",
      "    value = obj.__dict__[self.func.__name__] = self.func(obj)\n",
      "                                               ^^^^^^^^^^^^^^\n",
      "  File \"/Users/merlesteffen/anaconda3/lib/python3.11/site-packages/stack_data/core.py\", line 649, in included_pieces\n",
      "    pos = scope_pieces.index(self.executing_piece)\n",
      "                             ^^^^^^^^^^^^^^^^^^^^\n",
      "  File \"/Users/merlesteffen/anaconda3/lib/python3.11/site-packages/stack_data/utils.py\", line 145, in cached_property_wrapper\n",
      "    value = obj.__dict__[self.func.__name__] = self.func(obj)\n",
      "                                               ^^^^^^^^^^^^^^\n",
      "  File \"/Users/merlesteffen/anaconda3/lib/python3.11/site-packages/stack_data/core.py\", line 628, in executing_piece\n",
      "    return only(\n",
      "           ^^^^^\n",
      "  File \"/Users/merlesteffen/anaconda3/lib/python3.11/site-packages/executing/executing.py\", line 164, in only\n",
      "    raise NotOneValueFound('Expected one value, found 0')\n",
      "executing.executing.NotOneValueFound: Expected one value, found 0\n"
     ]
    },
    {
     "data": {
      "text/plain": "<Figure size 2000x1000 with 0 Axes>"
     },
     "metadata": {},
     "output_type": "display_data"
    }
   ],
   "source": [
    "# Initialize the graph\n",
    "G = nx.Graph()\n",
    "\n",
    "# Add nodes and associate each node with a party\n",
    "for index, row in grouped_df.iterrows():\n",
    "    G.add_node(row['Name'], party=row['Party'])\n",
    "\n",
    "# Get a list of colors for each node\n",
    "node_colors = party_colors_map\n",
    "\n",
    "# Define a threshold for similarity to draw an edge\n",
    "threshold = 0.00000000000001  # You may need to adjust this value\n",
    "\n",
    "# Add edges to the graph\n",
    "for i, speaker1 in enumerate(cosine_sim_df_text.index):\n",
    "    for j, speaker2 in enumerate(cosine_sim_df_text.columns):\n",
    "        if i < j:  # This ensures that each pair is only considered once\n",
    "            similarity = cosine_sim_df_text.iloc[i, j]\n",
    "            if similarity > threshold:\n",
    "                G.add_edge(speaker1, speaker2, weight=similarity)\n",
    "\n",
    "# Draw the graph\n",
    "plt.figure(figsize=(20, 10), facecolor='#282828')\n",
    "pos = nx.kamada_kawai_layout(G)\n",
    "#pos = nx.spring_layout(G, k=0.1)  # k is the optimal distance between nodes, may need to be adjusted\n",
    "\n",
    "# Create a subgraph of G that only includes the largest connected component\n",
    "# If you want to include smaller connected components as well, you can adjust this part\n",
    "largest_cc = max(nx.connected_components(G), key=len)\n",
    "subgraph = G.subgraph(largest_cc)\n",
    "\n",
    "# Draw only the nodes and edges from the largest connected component\n",
    "nx.draw_networkx_nodes(subgraph, pos, node_color=[party_colors_map[subgraph.nodes[speaker]['party']] for speaker in subgraph.nodes], alpha=0.7, node_size=50)  # Adjust node_size as needed\n",
    "nx.draw_networkx_edges(subgraph, pos, edge_color='gray', alpha=0.5, width=0.5)\n",
    "\n",
    "\n",
    "# Create a legend for the color map\n",
    "party_labels = list(party_colors_map.keys())\n",
    "patches = [plt.Line2D([0], [0], marker='o', color='w', label=party,\n",
    "                      markersize=10, markerfacecolor=color) for party, color in party_colors_map.items()]\n",
    "plt.legend(handles=patches, title=\"Political Parties\", loc='upper left', bbox_to_anchor=(1, 1), fontsize='large')\n",
    "\n",
    "plt.title('Network Graph of Speaker Similarity',  fontsize=20, loc='center', color='white')\n",
    "plt.axis('off')\n",
    "plt.savefig('/Users/merlesteffen/Documents/Education/WBS_Coding_School/Bootcamp/Sentiment_In_Session/Präsentation/Graphs/speaker_similarity_graph_6.png', dpi=300, bbox_inches='tight', facecolor='#282828')\n",
    "plt.show();"
   ],
   "metadata": {
    "collapsed": false,
    "ExecuteTime": {
     "end_time": "2023-11-16T08:34:41.465913Z",
     "start_time": "2023-11-16T07:05:54.496159Z"
    }
   },
   "id": "fd2a41ce505edffd"
  },
  {
   "cell_type": "markdown",
   "source": [
    "# Networkgraph Based on Sentiment"
   ],
   "metadata": {
    "collapsed": false
   },
   "id": "9f0b9d6e4930009a"
  },
  {
   "cell_type": "code",
   "execution_count": 63,
   "outputs": [
    {
     "data": {
      "text/plain": "Name                Achim Großmann  Achim Kessler  Achim Post(Minden)  \\\nName                                                                    \nAchim Großmann            1.000000       0.991177            0.997856   \nAchim Kessler             0.991177       1.000000            0.997720   \nAchim Post(Minden)        0.997856       0.997720            1.000000   \nAdis Ahmetovic            0.999803       0.988547            0.996477   \nAgnes Alpers              0.997025       0.996974            0.999103   \n...                            ...            ...                 ...   \nYvonne Magwas             0.997793       0.985141            0.993605   \nYvonne Ploetz             0.995270       0.999348            0.999468   \nZanda Martens             0.994128       0.999658            0.999032   \nZoe Mayer                 0.999871       0.993164            0.998775   \nÖzcan Mutlu               0.995080       0.998716            0.998991   \n\nName                Adis Ahmetovic  Agnes Alpers  Agnes Krumwiede  \\\nName                                                                \nAchim Großmann            0.999803      0.997025         0.998559   \nAchim Kessler             0.988547      0.996974         0.996810   \nAchim Post(Minden)        0.996477      0.999103         0.999918   \nAdis Ahmetovic            1.000000      0.995319         0.997432   \nAgnes Alpers              0.995319      1.000000         0.998848   \n...                            ...           ...              ...   \nYvonne Magwas             0.997683      0.995289         0.994425   \nYvonne Ploetz             0.993254      0.998911         0.998972   \nZanda Martens             0.991888      0.998618         0.998390   \nZoe Mayer                 0.999394      0.997884         0.999291   \nÖzcan Mutlu               0.992921      0.999586         0.998428   \n\nName                Agnieszka Brugger  Albert Deß  Albert Rupprecht  \\\nName                                                                  \nAchim Großmann               0.985098    0.982285          0.999900   \nAchim Kessler                0.998575    0.997704          0.989959   \nAchim Post(Minden)           0.994024    0.992178          0.997176   \nAdis Ahmetovic               0.982130    0.979095          0.999774   \nAgnes Alpers                 0.991605    0.989530          0.996820   \n...                               ...         ...               ...   \nYvonne Magwas                0.975673    0.972108          0.998615   \nYvonne Ploetz                0.996463    0.995038          0.994408   \nZanda Martens                0.997030    0.995748          0.993210   \nZoe Mayer                    0.987705    0.985133          0.999618   \nÖzcan Mutlu                  0.994623    0.992996          0.994555   \n\nName                Albert Rupprecht(Weiden)  ...  Wolfgang Zeitlmann  \\\nName                                          ...                       \nAchim Großmann                      0.998903  ...            0.963234   \nAchim Kessler                       0.996029  ...            0.990115   \nAchim Post(Minden)                  0.999658  ...            0.978702   \nAdis Ahmetovic                      0.997781  ...            0.958369   \nAgnes Alpers                        0.999430  ...            0.976764   \n...                                      ...  ...                 ...   \nYvonne Magwas                       0.996210  ...            0.951537   \nYvonne Ploetz                       0.998594  ...            0.984421   \nZanda Martens                       0.997984  ...            0.986128   \nZoe Mayer                           0.999467  ...            0.967419   \nÖzcan Mutlu                         0.998624  ...            0.982512   \n\nName                Wolfgang Zöller  Xaver Jung  Yannick Bury  Yasmin Fahimi  \\\nName                                                                           \nAchim Großmann             0.988974    0.998090      0.996439       0.999330   \nAchim Kessler              0.999825    0.982550      0.998558       0.992001   \nAchim Post(Minden)         0.996540    0.992539      0.999732       0.997835   \nAdis Ahmetovic             0.986146    0.998564      0.994867       0.998667   \nAgnes Alpers               0.995347    0.993169      0.998178       0.998486   \n...                             ...         ...           ...            ...   \nYvonne Magwas              0.981859    0.999461      0.990759       0.998879   \nYvonne Ploetz              0.998571    0.988617      0.999620       0.995868   \nZanda Martens              0.999014    0.987036      0.999319       0.994960   \nZoe Mayer                  0.991220    0.997093      0.997654       0.999324   \nÖzcan Mutlu                0.997594    0.989555      0.998657       0.996589   \n\nName                Yvonne Magwas  Yvonne Ploetz  Zanda Martens  Zoe Mayer  \\\nName                                                                         \nAchim Großmann           0.997793       0.995270       0.994128   0.999871   \nAchim Kessler            0.985141       0.999348       0.999658   0.993164   \nAchim Post(Minden)       0.993605       0.999468       0.999032   0.998775   \nAdis Ahmetovic           0.997683       0.993254       0.991888   0.999394   \nAgnes Alpers             0.995289       0.998911       0.998618   0.997884   \n...                           ...            ...            ...        ...   \nYvonne Magwas            1.000000       0.990558       0.989293   0.997103   \nYvonne Ploetz            0.990558       1.000000       0.999935   0.996681   \nZanda Martens            0.989293       0.999935       1.000000   0.995708   \nZoe Mayer                0.997103       0.996681       0.995708   1.000000   \nÖzcan Mutlu              0.992092       0.999623       0.999609   0.996393   \n\nName                Özcan Mutlu  \nName                             \nAchim Großmann         0.995080  \nAchim Kessler          0.998716  \nAchim Post(Minden)     0.998991  \nAdis Ahmetovic         0.992921  \nAgnes Alpers           0.999586  \n...                         ...  \nYvonne Magwas          0.992092  \nYvonne Ploetz          0.999623  \nZanda Martens          0.999609  \nZoe Mayer              0.996393  \nÖzcan Mutlu            1.000000  \n\n[1777 rows x 1777 columns]",
      "text/html": "<div>\n<style scoped>\n    .dataframe tbody tr th:only-of-type {\n        vertical-align: middle;\n    }\n\n    .dataframe tbody tr th {\n        vertical-align: top;\n    }\n\n    .dataframe thead th {\n        text-align: right;\n    }\n</style>\n<table border=\"1\" class=\"dataframe\">\n  <thead>\n    <tr style=\"text-align: right;\">\n      <th>Name</th>\n      <th>Achim Großmann</th>\n      <th>Achim Kessler</th>\n      <th>Achim Post(Minden)</th>\n      <th>Adis Ahmetovic</th>\n      <th>Agnes Alpers</th>\n      <th>Agnes Krumwiede</th>\n      <th>Agnieszka Brugger</th>\n      <th>Albert Deß</th>\n      <th>Albert Rupprecht</th>\n      <th>Albert Rupprecht(Weiden)</th>\n      <th>...</th>\n      <th>Wolfgang Zeitlmann</th>\n      <th>Wolfgang Zöller</th>\n      <th>Xaver Jung</th>\n      <th>Yannick Bury</th>\n      <th>Yasmin Fahimi</th>\n      <th>Yvonne Magwas</th>\n      <th>Yvonne Ploetz</th>\n      <th>Zanda Martens</th>\n      <th>Zoe Mayer</th>\n      <th>Özcan Mutlu</th>\n    </tr>\n    <tr>\n      <th>Name</th>\n      <th></th>\n      <th></th>\n      <th></th>\n      <th></th>\n      <th></th>\n      <th></th>\n      <th></th>\n      <th></th>\n      <th></th>\n      <th></th>\n      <th></th>\n      <th></th>\n      <th></th>\n      <th></th>\n      <th></th>\n      <th></th>\n      <th></th>\n      <th></th>\n      <th></th>\n      <th></th>\n      <th></th>\n    </tr>\n  </thead>\n  <tbody>\n    <tr>\n      <th>Achim Großmann</th>\n      <td>1.000000</td>\n      <td>0.991177</td>\n      <td>0.997856</td>\n      <td>0.999803</td>\n      <td>0.997025</td>\n      <td>0.998559</td>\n      <td>0.985098</td>\n      <td>0.982285</td>\n      <td>0.999900</td>\n      <td>0.998903</td>\n      <td>...</td>\n      <td>0.963234</td>\n      <td>0.988974</td>\n      <td>0.998090</td>\n      <td>0.996439</td>\n      <td>0.999330</td>\n      <td>0.997793</td>\n      <td>0.995270</td>\n      <td>0.994128</td>\n      <td>0.999871</td>\n      <td>0.995080</td>\n    </tr>\n    <tr>\n      <th>Achim Kessler</th>\n      <td>0.991177</td>\n      <td>1.000000</td>\n      <td>0.997720</td>\n      <td>0.988547</td>\n      <td>0.996974</td>\n      <td>0.996810</td>\n      <td>0.998575</td>\n      <td>0.997704</td>\n      <td>0.989959</td>\n      <td>0.996029</td>\n      <td>...</td>\n      <td>0.990115</td>\n      <td>0.999825</td>\n      <td>0.982550</td>\n      <td>0.998558</td>\n      <td>0.992001</td>\n      <td>0.985141</td>\n      <td>0.999348</td>\n      <td>0.999658</td>\n      <td>0.993164</td>\n      <td>0.998716</td>\n    </tr>\n    <tr>\n      <th>Achim Post(Minden)</th>\n      <td>0.997856</td>\n      <td>0.997720</td>\n      <td>1.000000</td>\n      <td>0.996477</td>\n      <td>0.999103</td>\n      <td>0.999918</td>\n      <td>0.994024</td>\n      <td>0.992178</td>\n      <td>0.997176</td>\n      <td>0.999658</td>\n      <td>...</td>\n      <td>0.978702</td>\n      <td>0.996540</td>\n      <td>0.992539</td>\n      <td>0.999732</td>\n      <td>0.997835</td>\n      <td>0.993605</td>\n      <td>0.999468</td>\n      <td>0.999032</td>\n      <td>0.998775</td>\n      <td>0.998991</td>\n    </tr>\n    <tr>\n      <th>Adis Ahmetovic</th>\n      <td>0.999803</td>\n      <td>0.988547</td>\n      <td>0.996477</td>\n      <td>1.000000</td>\n      <td>0.995319</td>\n      <td>0.997432</td>\n      <td>0.982130</td>\n      <td>0.979095</td>\n      <td>0.999774</td>\n      <td>0.997781</td>\n      <td>...</td>\n      <td>0.958369</td>\n      <td>0.986146</td>\n      <td>0.998564</td>\n      <td>0.994867</td>\n      <td>0.998667</td>\n      <td>0.997683</td>\n      <td>0.993254</td>\n      <td>0.991888</td>\n      <td>0.999394</td>\n      <td>0.992921</td>\n    </tr>\n    <tr>\n      <th>Agnes Alpers</th>\n      <td>0.997025</td>\n      <td>0.996974</td>\n      <td>0.999103</td>\n      <td>0.995319</td>\n      <td>1.000000</td>\n      <td>0.998848</td>\n      <td>0.991605</td>\n      <td>0.989530</td>\n      <td>0.996820</td>\n      <td>0.999430</td>\n      <td>...</td>\n      <td>0.976764</td>\n      <td>0.995347</td>\n      <td>0.993169</td>\n      <td>0.998178</td>\n      <td>0.998486</td>\n      <td>0.995289</td>\n      <td>0.998911</td>\n      <td>0.998618</td>\n      <td>0.997884</td>\n      <td>0.999586</td>\n    </tr>\n    <tr>\n      <th>...</th>\n      <td>...</td>\n      <td>...</td>\n      <td>...</td>\n      <td>...</td>\n      <td>...</td>\n      <td>...</td>\n      <td>...</td>\n      <td>...</td>\n      <td>...</td>\n      <td>...</td>\n      <td>...</td>\n      <td>...</td>\n      <td>...</td>\n      <td>...</td>\n      <td>...</td>\n      <td>...</td>\n      <td>...</td>\n      <td>...</td>\n      <td>...</td>\n      <td>...</td>\n      <td>...</td>\n    </tr>\n    <tr>\n      <th>Yvonne Magwas</th>\n      <td>0.997793</td>\n      <td>0.985141</td>\n      <td>0.993605</td>\n      <td>0.997683</td>\n      <td>0.995289</td>\n      <td>0.994425</td>\n      <td>0.975673</td>\n      <td>0.972108</td>\n      <td>0.998615</td>\n      <td>0.996210</td>\n      <td>...</td>\n      <td>0.951537</td>\n      <td>0.981859</td>\n      <td>0.999461</td>\n      <td>0.990759</td>\n      <td>0.998879</td>\n      <td>1.000000</td>\n      <td>0.990558</td>\n      <td>0.989293</td>\n      <td>0.997103</td>\n      <td>0.992092</td>\n    </tr>\n    <tr>\n      <th>Yvonne Ploetz</th>\n      <td>0.995270</td>\n      <td>0.999348</td>\n      <td>0.999468</td>\n      <td>0.993254</td>\n      <td>0.998911</td>\n      <td>0.998972</td>\n      <td>0.996463</td>\n      <td>0.995038</td>\n      <td>0.994408</td>\n      <td>0.998594</td>\n      <td>...</td>\n      <td>0.984421</td>\n      <td>0.998571</td>\n      <td>0.988617</td>\n      <td>0.999620</td>\n      <td>0.995868</td>\n      <td>0.990558</td>\n      <td>1.000000</td>\n      <td>0.999935</td>\n      <td>0.996681</td>\n      <td>0.999623</td>\n    </tr>\n    <tr>\n      <th>Zanda Martens</th>\n      <td>0.994128</td>\n      <td>0.999658</td>\n      <td>0.999032</td>\n      <td>0.991888</td>\n      <td>0.998618</td>\n      <td>0.998390</td>\n      <td>0.997030</td>\n      <td>0.995748</td>\n      <td>0.993210</td>\n      <td>0.997984</td>\n      <td>...</td>\n      <td>0.986128</td>\n      <td>0.999014</td>\n      <td>0.987036</td>\n      <td>0.999319</td>\n      <td>0.994960</td>\n      <td>0.989293</td>\n      <td>0.999935</td>\n      <td>1.000000</td>\n      <td>0.995708</td>\n      <td>0.999609</td>\n    </tr>\n    <tr>\n      <th>Zoe Mayer</th>\n      <td>0.999871</td>\n      <td>0.993164</td>\n      <td>0.998775</td>\n      <td>0.999394</td>\n      <td>0.997884</td>\n      <td>0.999291</td>\n      <td>0.987705</td>\n      <td>0.985133</td>\n      <td>0.999618</td>\n      <td>0.999467</td>\n      <td>...</td>\n      <td>0.967419</td>\n      <td>0.991220</td>\n      <td>0.997093</td>\n      <td>0.997654</td>\n      <td>0.999324</td>\n      <td>0.997103</td>\n      <td>0.996681</td>\n      <td>0.995708</td>\n      <td>1.000000</td>\n      <td>0.996393</td>\n    </tr>\n    <tr>\n      <th>Özcan Mutlu</th>\n      <td>0.995080</td>\n      <td>0.998716</td>\n      <td>0.998991</td>\n      <td>0.992921</td>\n      <td>0.999586</td>\n      <td>0.998428</td>\n      <td>0.994623</td>\n      <td>0.992996</td>\n      <td>0.994555</td>\n      <td>0.998624</td>\n      <td>...</td>\n      <td>0.982512</td>\n      <td>0.997594</td>\n      <td>0.989555</td>\n      <td>0.998657</td>\n      <td>0.996589</td>\n      <td>0.992092</td>\n      <td>0.999623</td>\n      <td>0.999609</td>\n      <td>0.996393</td>\n      <td>1.000000</td>\n    </tr>\n  </tbody>\n</table>\n<p>1777 rows × 1777 columns</p>\n</div>"
     },
     "execution_count": 63,
     "metadata": {},
     "output_type": "execute_result"
    }
   ],
   "source": [
    "# Group by 'Name' and calculate the mean of each sentiment\n",
    "grouped_sentiment_df = df1.groupby('Name')[['positive', 'neutral', 'negative']].mean().reset_index()\n",
    "\n",
    "# Add the 'Party' column to the grouped_df before creating the sentiment matrix\n",
    "grouped_sentiment_df = grouped_sentiment_df.merge(df1[['Name', 'Party']].drop_duplicates(), on='Name')\n",
    "\n",
    "# Create the sentiment matrix from the grouped DataFrame\n",
    "sentiment_matrix = grouped_sentiment_df[['positive', 'neutral', 'negative']].values\n",
    "\n",
    "# Calculate cosine similarity\n",
    "cosine_sim_sentiment = cosine_similarity(sentiment_matrix, sentiment_matrix)\n",
    "\n",
    "# Convert cosine similarity matrix to DataFrame\n",
    "cosine_sim_df_sentiment = pd.DataFrame(cosine_sim_sentiment, \n",
    "                                       index=grouped_sentiment_df['Name'], \n",
    "                                       columns=grouped_sentiment_df['Name'])\n",
    "\n",
    "# Display the similarity matrix\n",
    "cosine_sim_df_sentiment"
   ],
   "metadata": {
    "collapsed": false,
    "ExecuteTime": {
     "end_time": "2023-11-15T19:14:17.819836Z",
     "start_time": "2023-11-15T19:14:17.117489Z"
    }
   },
   "id": "bfede61cf6adf7f2"
  },
  {
   "cell_type": "code",
   "execution_count": 64,
   "outputs": [],
   "source": [
    "# Save the cosine similarity matrix to a CSV file\n",
    "cosine_sim_df_sentiment.to_csv('/Users/merlesteffen/Documents/Education/WBS_Coding_School/Bootcamp/Sentiment_In_Session/Final_DF/cosine_sim_df_sentiment.csv')"
   ],
   "metadata": {
    "collapsed": false,
    "ExecuteTime": {
     "end_time": "2023-11-15T19:14:19.377429Z",
     "start_time": "2023-11-15T19:14:17.818536Z"
    }
   },
   "id": "23fd3b40cf57ab94"
  },
  {
   "cell_type": "code",
   "execution_count": null,
   "outputs": [],
   "source": [
    "# Initialize the graph\n",
    "G = nx.Graph()\n",
    "\n",
    "# Add nodes and associate each node with a party\n",
    "for index, row in grouped_sentiment_df.iterrows():\n",
    "    G.add_node(row['Name'], party=row['Party'])\n",
    "\n",
    "# Get a list of colors for each node\n",
    "node_colors = party_colors_map\n",
    "\n",
    "# Define a threshold for similarity to draw an edge\n",
    "threshold = 0.00000000000001  # You may need to adjust this value\n",
    "\n",
    "# Add edges to the graph\n",
    "for i, speaker1 in enumerate(cosine_sim_df_sentiment.index):\n",
    "    for j, speaker2 in enumerate(cosine_sim_df_sentiment.columns):\n",
    "        if i < j:  # This ensures that each pair is only considered once\n",
    "            similarity = cosine_sim_df_sentiment.iloc[i, j]\n",
    "            if similarity > threshold:\n",
    "                G.add_edge(speaker1, speaker2, weight=similarity)\n",
    "\n",
    "# Draw the graph\n",
    "plt.figure(figsize=(20, 10), facecolor='#282828')\n",
    "pos = nx.kamada_kawai_layout(G)\n",
    "#pos = nx.spring_layout(G, k=0.1)  # k is the optimal distance between nodes, may need to be adjusted\n",
    "\n",
    "# Create a subgraph of G that only includes the largest connected component\n",
    "# If you want to include smaller connected components as well, you can adjust this part\n",
    "largest_cc = max(nx.connected_components(G), key=len)\n",
    "subgraph = G.subgraph(largest_cc)\n",
    "\n",
    "# Draw only the nodes and edges from the largest connected component\n",
    "nx.draw_networkx_nodes(subgraph, pos, node_color=[party_colors_map[subgraph.nodes[speaker]['party']] for speaker in subgraph.nodes], alpha=0.7, node_size=50)  # Adjust node_size as needed\n",
    "nx.draw_networkx_edges(subgraph, pos, edge_color='gray', alpha=0.5, width=0.5)\n",
    "\n",
    "\n",
    "# Create a legend for the color map\n",
    "party_labels = list(party_colors_map.keys())\n",
    "patches = [plt.Line2D([0], [0], marker='o', color='w', label=party,\n",
    "                      markersize=10, markerfacecolor=color) for party, color in party_colors_map.items()]\n",
    "plt.legend(handles=patches, title=\"Political Parties\", loc='upper left', bbox_to_anchor=(1, 1), fontsize='large')\n",
    "\n",
    "plt.title('Network Graph of Speaker Similarity',  fontsize=20, loc='center', color='white')\n",
    "plt.axis('off')\n",
    "plt.savefig('/Users/merlesteffen/Documents/Education/WBS_Coding_School/Bootcamp/Sentiment_In_Session/Präsentation/Graphs/8.png', dpi=300, bbox_inches='tight', facecolor='#282828')\n",
    "plt.show();"
   ],
   "metadata": {
    "collapsed": false,
    "ExecuteTime": {
     "end_time": "2023-11-16T08:34:41.466725Z",
     "start_time": "2023-11-16T08:34:41.466384Z"
    }
   },
   "id": "47e991d377776b76"
  },
  {
   "cell_type": "code",
   "execution_count": null,
   "outputs": [],
   "source": [],
   "metadata": {
    "collapsed": false
   },
   "id": "4691a352b1da3be"
  }
 ],
 "metadata": {
  "kernelspec": {
   "display_name": "Python 3",
   "language": "python",
   "name": "python3"
  },
  "language_info": {
   "codemirror_mode": {
    "name": "ipython",
    "version": 2
   },
   "file_extension": ".py",
   "mimetype": "text/x-python",
   "name": "python",
   "nbconvert_exporter": "python",
   "pygments_lexer": "ipython2",
   "version": "2.7.6"
  }
 },
 "nbformat": 4,
 "nbformat_minor": 5
}
