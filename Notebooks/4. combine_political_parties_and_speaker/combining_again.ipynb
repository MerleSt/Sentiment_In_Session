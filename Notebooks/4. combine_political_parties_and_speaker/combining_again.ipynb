{
 "cells": [
  {
   "cell_type": "markdown",
   "source": [
    "# Imports"
   ],
   "metadata": {
    "collapsed": false
   },
   "id": "5a4234865800748c"
  },
  {
   "cell_type": "code",
   "execution_count": 4,
   "id": "initial_id",
   "metadata": {
    "collapsed": true,
    "ExecuteTime": {
     "end_time": "2023-11-15T11:26:14.976375Z",
     "start_time": "2023-11-15T11:26:14.959871Z"
    }
   },
   "outputs": [],
   "source": [
    "import pandas as pd\n",
    "import re"
   ]
  },
  {
   "cell_type": "code",
   "execution_count": 5,
   "outputs": [],
   "source": [
    "df_speaker = pd.read_csv('/Users/merlesteffen/Documents/Education/WBS_Coding_School/Bootcamp/Sentiment_In_Session/Final_DF/final_text_speaker_df.csv', encoding='utf-8')\n",
    "df_parties = pd.read_csv('/Users/merlesteffen/Documents/Education/WBS_Coding_School/Bootcamp/Sentiment_In_Session/Parties_members/parties.csv')"
   ],
   "metadata": {
    "collapsed": false,
    "ExecuteTime": {
     "end_time": "2023-11-15T11:26:22.125219Z",
     "start_time": "2023-11-15T11:26:15.661099Z"
    }
   },
   "id": "6d4c60bc8f687064"
  },
  {
   "cell_type": "markdown",
   "source": [
    "## Unique Speaker per Election_Period Dataframe"
   ],
   "metadata": {
    "collapsed": false
   },
   "id": "d64bff95e5dc6d68"
  },
  {
   "cell_type": "code",
   "execution_count": 13,
   "outputs": [],
   "source": [
    "df_parties.rename(columns={'Wahlperiode':'Election_Period'}, inplace = True)"
   ],
   "metadata": {
    "collapsed": false,
    "ExecuteTime": {
     "end_time": "2023-11-15T11:27:35.557680Z",
     "start_time": "2023-11-15T11:27:35.547039Z"
    }
   },
   "id": "1d9e32496b1024e3"
  },
  {
   "cell_type": "code",
   "execution_count": 6,
   "outputs": [
    {
     "data": {
      "text/plain": "(4864724, 8)"
     },
     "execution_count": 6,
     "metadata": {},
     "output_type": "execute_result"
    }
   ],
   "source": [
    "df_speaker.shape"
   ],
   "metadata": {
    "collapsed": false,
    "ExecuteTime": {
     "end_time": "2023-11-15T11:26:22.131974Z",
     "start_time": "2023-11-15T11:26:22.127141Z"
    }
   },
   "id": "23b774c413565ab1"
  },
  {
   "cell_type": "code",
   "execution_count": 14,
   "outputs": [],
   "source": [
    "# Drop duplicate rows to get unique combinations of 'Election_Period' and 'Speaker'\n",
    "unique_speakers_per_wahlperiode = df_speaker[['Election_Period', 'Speaker']].drop_duplicates()"
   ],
   "metadata": {
    "collapsed": false,
    "ExecuteTime": {
     "end_time": "2023-11-15T11:27:38.577964Z",
     "start_time": "2023-11-15T11:27:38.327061Z"
    }
   },
   "id": "a6da85a80652e2c8"
  },
  {
   "cell_type": "code",
   "execution_count": 15,
   "outputs": [
    {
     "data": {
      "text/plain": "         Election_Period                                        Speaker\n0                     15                    Alterspräsident Otto Schily\n38                    15                              Franz Müntefering\n82                    15                               Wolfgang Thierse\n86                    15                     Präsident Wolfgang Thierse\n143                   15                             Eugen Gerstenmaier\n...                  ...                                            ...\n4856707               20                                Ersten Gesetzes\n4856709               20            Mehr Mitbestimmung der Patientinnen\n4860897               20          Lobby RG) – Geldflüsse offenlegen und\n4861077               20  gesetz militärisches Personal – Mil Pers Glei\n4864229               20          Bezahlbaren Strom sichern – Industrie\n\n[9484 rows x 2 columns]",
      "text/html": "<div>\n<style scoped>\n    .dataframe tbody tr th:only-of-type {\n        vertical-align: middle;\n    }\n\n    .dataframe tbody tr th {\n        vertical-align: top;\n    }\n\n    .dataframe thead th {\n        text-align: right;\n    }\n</style>\n<table border=\"1\" class=\"dataframe\">\n  <thead>\n    <tr style=\"text-align: right;\">\n      <th></th>\n      <th>Election_Period</th>\n      <th>Speaker</th>\n    </tr>\n  </thead>\n  <tbody>\n    <tr>\n      <th>0</th>\n      <td>15</td>\n      <td>Alterspräsident Otto Schily</td>\n    </tr>\n    <tr>\n      <th>38</th>\n      <td>15</td>\n      <td>Franz Müntefering</td>\n    </tr>\n    <tr>\n      <th>82</th>\n      <td>15</td>\n      <td>Wolfgang Thierse</td>\n    </tr>\n    <tr>\n      <th>86</th>\n      <td>15</td>\n      <td>Präsident Wolfgang Thierse</td>\n    </tr>\n    <tr>\n      <th>143</th>\n      <td>15</td>\n      <td>Eugen Gerstenmaier</td>\n    </tr>\n    <tr>\n      <th>...</th>\n      <td>...</td>\n      <td>...</td>\n    </tr>\n    <tr>\n      <th>4856707</th>\n      <td>20</td>\n      <td>Ersten Gesetzes</td>\n    </tr>\n    <tr>\n      <th>4856709</th>\n      <td>20</td>\n      <td>Mehr Mitbestimmung der Patientinnen</td>\n    </tr>\n    <tr>\n      <th>4860897</th>\n      <td>20</td>\n      <td>Lobby RG) – Geldflüsse offenlegen und</td>\n    </tr>\n    <tr>\n      <th>4861077</th>\n      <td>20</td>\n      <td>gesetz militärisches Personal – Mil Pers Glei</td>\n    </tr>\n    <tr>\n      <th>4864229</th>\n      <td>20</td>\n      <td>Bezahlbaren Strom sichern – Industrie</td>\n    </tr>\n  </tbody>\n</table>\n<p>9484 rows × 2 columns</p>\n</div>"
     },
     "execution_count": 15,
     "metadata": {},
     "output_type": "execute_result"
    }
   ],
   "source": [
    "unique_speakers_per_wahlperiode"
   ],
   "metadata": {
    "collapsed": false,
    "ExecuteTime": {
     "end_time": "2023-11-15T11:27:38.582953Z",
     "start_time": "2023-11-15T11:27:38.579552Z"
    }
   },
   "id": "1fc3f4d962f57402"
  },
  {
   "cell_type": "code",
   "execution_count": 16,
   "outputs": [],
   "source": [
    "unique_speakers = df_speaker['Speaker'].drop_duplicates()"
   ],
   "metadata": {
    "collapsed": false,
    "ExecuteTime": {
     "end_time": "2023-11-15T11:27:39.229126Z",
     "start_time": "2023-11-15T11:27:39.222937Z"
    }
   },
   "id": "18f8a23ebd4082f9"
  },
  {
   "cell_type": "code",
   "execution_count": 17,
   "outputs": [
    {
     "data": {
      "text/plain": "0                            Alterspräsident Otto Schily\n38                                     Franz Müntefering\n82                                      Wolfgang Thierse\n86                            Präsident Wolfgang Thierse\n143                                   Eugen Gerstenmaier\n                               ...                      \n4856009      Keine Unterstützung von Schlepperei, Schleu\n4856709              Mehr Mitbestimmung der Patientinnen\n4860897            Lobby RG) – Geldflüsse offenlegen und\n4861077    gesetz militärisches Personal – Mil Pers Glei\n4864229            Bezahlbaren Strom sichern – Industrie\nName: Speaker, Length: 6617, dtype: object"
     },
     "execution_count": 17,
     "metadata": {},
     "output_type": "execute_result"
    }
   ],
   "source": [
    "unique_speakers"
   ],
   "metadata": {
    "collapsed": false,
    "ExecuteTime": {
     "end_time": "2023-11-15T11:27:39.873727Z",
     "start_time": "2023-11-15T11:27:39.862402Z"
    }
   },
   "id": "cc9ed74df0c1b1ec"
  },
  {
   "cell_type": "markdown",
   "source": [
    "# Check for overlaying Names in Speaker and Party Members"
   ],
   "metadata": {
    "collapsed": false
   },
   "id": "a2af55e6131d9c5d"
  },
  {
   "cell_type": "code",
   "execution_count": 18,
   "outputs": [],
   "source": [
    "# Create empty columns for 'Name' and 'Fraktion' in unique_speakers_per_wahlperiode\n",
    "unique_speakers_per_wahlperiode['Name'] = None\n",
    "unique_speakers_per_wahlperiode['Fraktion'] = None    "
   ],
   "metadata": {
    "collapsed": false,
    "ExecuteTime": {
     "end_time": "2023-11-15T11:27:40.820159Z",
     "start_time": "2023-11-15T11:27:40.815915Z"
    }
   },
   "id": "9f873c5271fe2e7e"
  },
  {
   "cell_type": "code",
   "execution_count": 19,
   "outputs": [],
   "source": [
    "# Iterate over each row in unique_speakers_per_wahlperiode\n",
    "for idx, row in unique_speakers_per_wahlperiode.iterrows():\n",
    "    # Find members in the same Election_Period\n",
    "    members_in_same_wahlperiode = df_parties[df_parties['Election_Period'] == row['Election_Period']]\n",
    "    \n",
    "    # Iterate over the members DataFrame to find a partial match\n",
    "    for _, member_row in members_in_same_wahlperiode.iterrows():\n",
    "        # Check if the speaker name contains the member name\n",
    "        if member_row['Name'].lower() in row['Speaker'].lower():\n",
    "            # If a match is found, update the 'name' and 'Fraktion' columns\n",
    "            unique_speakers_per_wahlperiode.at[idx, 'Name'] = member_row['Name']\n",
    "            unique_speakers_per_wahlperiode.at[idx, 'Fraktion'] = member_row['Fraktion']\n",
    "            break  # Assuming only the first match is needed"
   ],
   "metadata": {
    "collapsed": false,
    "ExecuteTime": {
     "end_time": "2023-11-15T11:28:35.448117Z",
     "start_time": "2023-11-15T11:27:41.186719Z"
    }
   },
   "id": "bd207577f25b6aec"
  },
  {
   "cell_type": "code",
   "execution_count": 20,
   "outputs": [],
   "source": [
    "# Iterate over each row in unique_speakers_per_wahlperiode\n",
    "for idx, speaker_row in unique_speakers_per_wahlperiode.iterrows():\n",
    "    # Filter members from df_parties who are in the same Election_Period as the current speaker\n",
    "    members_in_same_wahlperiode = df_parties[df_parties['Election_Period'] == speaker_row['Election_Period']]\n",
    "    \n",
    "    # Track if a match is found to avoid unnecessary iterations\n",
    "    match_found = False\n",
    "    \n",
    "    # Iterate over the filtered members DataFrame\n",
    "    for _, member_row in members_in_same_wahlperiode.iterrows():\n",
    "        # Check if the member name is in the speaker name (case-insensitive)\n",
    "        if member_row['Name'].lower() in speaker_row['Speaker'].lower():\n",
    "            # Update the 'Name' and 'Fraktion' columns with the member's information\n",
    "            unique_speakers_per_wahlperiode.at[idx, 'Name'] = member_row['Name']\n",
    "            unique_speakers_per_wahlperiode.at[idx, 'Fraktion'] = member_row['Fraktion']\n",
    "            match_found = True\n",
    "            break  # Stop after the first match\n",
    "    \n",
    "    # If no match was found in the same Election_Period, search the entire df_parties\n",
    "    if not match_found:\n",
    "        for _, member_row in df_parties.iterrows():\n",
    "            if member_row['Name'].lower() in speaker_row['Speaker'].lower():\n",
    "                # Update with the matched name and Fraktion, regardless of Election_Period\n",
    "                unique_speakers_per_wahlperiode.at[idx, 'Name'] = member_row['Name']\n",
    "                unique_speakers_per_wahlperiode.at[idx, 'Fraktion'] = member_row['Fraktion']\n",
    "                break  # Stop after the first match"
   ],
   "metadata": {
    "collapsed": false,
    "ExecuteTime": {
     "end_time": "2023-11-15T11:33:15.723725Z",
     "start_time": "2023-11-15T11:28:35.460397Z"
    }
   },
   "id": "3914f0e3cb5b9d5e"
  },
  {
   "cell_type": "code",
   "execution_count": 21,
   "outputs": [
    {
     "data": {
      "text/plain": "Election_Period       0\nSpeaker               0\nName               5035\nFraktion           5035\ndtype: int64"
     },
     "execution_count": 21,
     "metadata": {},
     "output_type": "execute_result"
    }
   ],
   "source": [
    "unique_speakers_per_wahlperiode.isna().sum()"
   ],
   "metadata": {
    "collapsed": false,
    "ExecuteTime": {
     "end_time": "2023-11-15T11:33:15.733927Z",
     "start_time": "2023-11-15T11:33:15.723044Z"
    }
   },
   "id": "992b98689e94500a"
  },
  {
   "cell_type": "code",
   "execution_count": 22,
   "outputs": [
    {
     "data": {
      "text/plain": "(9484, 4)"
     },
     "execution_count": 22,
     "metadata": {},
     "output_type": "execute_result"
    }
   ],
   "source": [
    "unique_speakers_per_wahlperiode.shape"
   ],
   "metadata": {
    "collapsed": false,
    "ExecuteTime": {
     "end_time": "2023-11-15T11:33:15.748713Z",
     "start_time": "2023-11-15T11:33:15.730358Z"
    }
   },
   "id": "de5ab5ca6f86fe85"
  },
  {
   "cell_type": "code",
   "execution_count": 23,
   "outputs": [
    {
     "data": {
      "text/plain": "         Election_Period                                     Speaker  \\\n558058                16                      Franz Josef Holzenkamp   \n1705004               17   Neuen „Krippengipfel“ einberufen – Ausbau   \n4311761               20                            Elisabeth Kaiser   \n1027210               16    Hermes Bürgschaft für das Ilisu Staudamm   \n3772933               19      Schutz vor Masern und zur Stärkung der   \n2526208               18                            Wolfgang Bosbach   \n4345002               20                             Helmut Kleebank   \n10139                 15                                 Kofi Annans   \n4556681               20  Der Mittelstand ist systemrelevant – Regie   \n3720021               19         Drohenden Kollaps verhindern – Deut   \n\n                     Name Fraktion  \n558058               None     None  \n1705004              None     None  \n4311761  Elisabeth Kaiser      SPD  \n1027210              None     None  \n3772933              None     None  \n2526208  Wolfgang Bosbach      CDU  \n4345002   Helmut Kleebank      SPD  \n10139                None     None  \n4556681              None     None  \n3720021              None     None  ",
      "text/html": "<div>\n<style scoped>\n    .dataframe tbody tr th:only-of-type {\n        vertical-align: middle;\n    }\n\n    .dataframe tbody tr th {\n        vertical-align: top;\n    }\n\n    .dataframe thead th {\n        text-align: right;\n    }\n</style>\n<table border=\"1\" class=\"dataframe\">\n  <thead>\n    <tr style=\"text-align: right;\">\n      <th></th>\n      <th>Election_Period</th>\n      <th>Speaker</th>\n      <th>Name</th>\n      <th>Fraktion</th>\n    </tr>\n  </thead>\n  <tbody>\n    <tr>\n      <th>558058</th>\n      <td>16</td>\n      <td>Franz Josef Holzenkamp</td>\n      <td>None</td>\n      <td>None</td>\n    </tr>\n    <tr>\n      <th>1705004</th>\n      <td>17</td>\n      <td>Neuen „Krippengipfel“ einberufen – Ausbau</td>\n      <td>None</td>\n      <td>None</td>\n    </tr>\n    <tr>\n      <th>4311761</th>\n      <td>20</td>\n      <td>Elisabeth Kaiser</td>\n      <td>Elisabeth Kaiser</td>\n      <td>SPD</td>\n    </tr>\n    <tr>\n      <th>1027210</th>\n      <td>16</td>\n      <td>Hermes Bürgschaft für das Ilisu Staudamm</td>\n      <td>None</td>\n      <td>None</td>\n    </tr>\n    <tr>\n      <th>3772933</th>\n      <td>19</td>\n      <td>Schutz vor Masern und zur Stärkung der</td>\n      <td>None</td>\n      <td>None</td>\n    </tr>\n    <tr>\n      <th>2526208</th>\n      <td>18</td>\n      <td>Wolfgang Bosbach</td>\n      <td>Wolfgang Bosbach</td>\n      <td>CDU</td>\n    </tr>\n    <tr>\n      <th>4345002</th>\n      <td>20</td>\n      <td>Helmut Kleebank</td>\n      <td>Helmut Kleebank</td>\n      <td>SPD</td>\n    </tr>\n    <tr>\n      <th>10139</th>\n      <td>15</td>\n      <td>Kofi Annans</td>\n      <td>None</td>\n      <td>None</td>\n    </tr>\n    <tr>\n      <th>4556681</th>\n      <td>20</td>\n      <td>Der Mittelstand ist systemrelevant – Regie</td>\n      <td>None</td>\n      <td>None</td>\n    </tr>\n    <tr>\n      <th>3720021</th>\n      <td>19</td>\n      <td>Drohenden Kollaps verhindern – Deut</td>\n      <td>None</td>\n      <td>None</td>\n    </tr>\n  </tbody>\n</table>\n</div>"
     },
     "execution_count": 23,
     "metadata": {},
     "output_type": "execute_result"
    }
   ],
   "source": [
    "unique_speakers_per_wahlperiode.sample(10)"
   ],
   "metadata": {
    "collapsed": false,
    "ExecuteTime": {
     "end_time": "2023-11-15T11:33:15.756875Z",
     "start_time": "2023-11-15T11:33:15.732227Z"
    }
   },
   "id": "9261ed7e0e45bdac"
  },
  {
   "cell_type": "code",
   "execution_count": 24,
   "outputs": [],
   "source": [
    "# Let us try it another way and check which works better\n",
    "# Iterate over each row in unique_speakers_per_wahlperiode\n",
    "for idx, speaker_row in unique_speakers_per_wahlperiode.iterrows():\n",
    "    speaker_name_regex = re.escape(speaker_row['Speaker']).replace(r'\\ ', r'\\W*')\n",
    "    # Filter the df_parties DataFrame for rows where the 'Name' column contains the speaker's name, case-insensitively\n",
    "    filtered_df = df_parties[df_parties['Name'].str.contains(speaker_name_regex, na=False, case=False, regex=True)]\n",
    "\n",
    "    # Check the number of entries in the filtered dataframe\n",
    "    if len(filtered_df) > 1:\n",
    "        # Check Election_Period if there is more than one entry\n",
    "        # Assuming 'Election_Period' is a column in both dataframes and we want to match it with the speaker's 'Election_Period'\n",
    "        correct_wahlperiode = filtered_df[filtered_df['Election_Period'] == speaker_row['Election_Period']]\n",
    "        # If there's exactly one entry with the correct Election_Period, use that entry\n",
    "        if len(correct_wahlperiode) == 1:\n",
    "            # Update the 'Name' and 'Fraktion' columns with the member's information\n",
    "            unique_speakers_per_wahlperiode.at[idx, 'Name'] = correct_wahlperiode.iloc[0]['Name']\n",
    "            unique_speakers_per_wahlperiode.at[idx, 'Fraktion'] = correct_wahlperiode.iloc[0]['Fraktion']\n",
    "        else:\n",
    "            # Handle the case where there's no match or multiple matches even within the same Election_Period\n",
    "            # You could also add more sophisticated handling here if needed\n",
    "            pass\n",
    "    elif len(filtered_df) == 1:\n",
    "        # If there's exactly one entry, use that entry\n",
    "        unique_speakers_per_wahlperiode.at[idx, 'Name'] = filtered_df.iloc[0]['Name']\n",
    "        unique_speakers_per_wahlperiode.at[idx, 'Fraktion'] = filtered_df.iloc[0]['Fraktion']\n",
    "    else:\n",
    "        # If no entries are found, handle the case as needed\n",
    "        # You could set a default value or perform some other operation\n",
    "        pass"
   ],
   "metadata": {
    "collapsed": false,
    "ExecuteTime": {
     "end_time": "2023-11-15T11:33:22.902812Z",
     "start_time": "2023-11-15T11:33:15.737257Z"
    }
   },
   "id": "3dd27dd05cf4fbe6"
  },
  {
   "cell_type": "code",
   "execution_count": 25,
   "outputs": [
    {
     "data": {
      "text/plain": "Election_Period       0\nSpeaker               0\nName               4641\nFraktion           4641\ndtype: int64"
     },
     "execution_count": 25,
     "metadata": {},
     "output_type": "execute_result"
    }
   ],
   "source": [
    "unique_speakers_per_wahlperiode.isna().sum()"
   ],
   "metadata": {
    "collapsed": false,
    "ExecuteTime": {
     "end_time": "2023-11-15T11:33:22.907621Z",
     "start_time": "2023-11-15T11:33:22.904378Z"
    }
   },
   "id": "868a59a07cadb0b3"
  },
  {
   "cell_type": "code",
   "execution_count": 26,
   "outputs": [
    {
     "data": {
      "text/plain": "(9484, 4)"
     },
     "execution_count": 26,
     "metadata": {},
     "output_type": "execute_result"
    }
   ],
   "source": [
    "unique_speakers_per_wahlperiode.shape"
   ],
   "metadata": {
    "collapsed": false,
    "ExecuteTime": {
     "end_time": "2023-11-15T11:33:22.913716Z",
     "start_time": "2023-11-15T11:33:22.907345Z"
    }
   },
   "id": "f4e094fe4411ef00"
  },
  {
   "cell_type": "code",
   "execution_count": 27,
   "outputs": [
    {
     "data": {
      "text/plain": "         Election_Period                                      Speaker  \\\n514165                16                               Jörg van Essen   \n911133                16       sen – Kosten für Schulbedarfe abdecken   \n1859507               17                                     Ergebnis   \n4353807               20                                  Mario Czaja   \n684129                16  Impfen statt Töten – Praxisreife Markerimpf   \n693320                16                    umfassender Sicherheitsan   \n3283792               19                   Mariana Iris Harder Kühnel   \n2383551               18                         Klaus Peter Flosbach   \n4314764               20                            Wolfgang Hellmich   \n3275092               19                            Brigitte Freihold   \n\n                         Name       Fraktion  \n514165         Jörg van Essen            FDP  \n911133                   None           None  \n1859507                  None           None  \n4353807           Mario Czaja  CDU/CSU (CDU)  \n684129                   None           None  \n693320                   None           None  \n3283792                  None           None  \n2383551  Klaus-Peter Flosbach            CDU  \n4314764     Wolfgang Hellmich            SPD  \n3275092     Brigitte Freihold          Linke  ",
      "text/html": "<div>\n<style scoped>\n    .dataframe tbody tr th:only-of-type {\n        vertical-align: middle;\n    }\n\n    .dataframe tbody tr th {\n        vertical-align: top;\n    }\n\n    .dataframe thead th {\n        text-align: right;\n    }\n</style>\n<table border=\"1\" class=\"dataframe\">\n  <thead>\n    <tr style=\"text-align: right;\">\n      <th></th>\n      <th>Election_Period</th>\n      <th>Speaker</th>\n      <th>Name</th>\n      <th>Fraktion</th>\n    </tr>\n  </thead>\n  <tbody>\n    <tr>\n      <th>514165</th>\n      <td>16</td>\n      <td>Jörg van Essen</td>\n      <td>Jörg van Essen</td>\n      <td>FDP</td>\n    </tr>\n    <tr>\n      <th>911133</th>\n      <td>16</td>\n      <td>sen – Kosten für Schulbedarfe abdecken</td>\n      <td>None</td>\n      <td>None</td>\n    </tr>\n    <tr>\n      <th>1859507</th>\n      <td>17</td>\n      <td>Ergebnis</td>\n      <td>None</td>\n      <td>None</td>\n    </tr>\n    <tr>\n      <th>4353807</th>\n      <td>20</td>\n      <td>Mario Czaja</td>\n      <td>Mario Czaja</td>\n      <td>CDU/CSU (CDU)</td>\n    </tr>\n    <tr>\n      <th>684129</th>\n      <td>16</td>\n      <td>Impfen statt Töten – Praxisreife Markerimpf</td>\n      <td>None</td>\n      <td>None</td>\n    </tr>\n    <tr>\n      <th>693320</th>\n      <td>16</td>\n      <td>umfassender Sicherheitsan</td>\n      <td>None</td>\n      <td>None</td>\n    </tr>\n    <tr>\n      <th>3283792</th>\n      <td>19</td>\n      <td>Mariana Iris Harder Kühnel</td>\n      <td>None</td>\n      <td>None</td>\n    </tr>\n    <tr>\n      <th>2383551</th>\n      <td>18</td>\n      <td>Klaus Peter Flosbach</td>\n      <td>Klaus-Peter Flosbach</td>\n      <td>CDU</td>\n    </tr>\n    <tr>\n      <th>4314764</th>\n      <td>20</td>\n      <td>Wolfgang Hellmich</td>\n      <td>Wolfgang Hellmich</td>\n      <td>SPD</td>\n    </tr>\n    <tr>\n      <th>3275092</th>\n      <td>19</td>\n      <td>Brigitte Freihold</td>\n      <td>Brigitte Freihold</td>\n      <td>Linke</td>\n    </tr>\n  </tbody>\n</table>\n</div>"
     },
     "execution_count": 27,
     "metadata": {},
     "output_type": "execute_result"
    }
   ],
   "source": [
    "unique_speakers_per_wahlperiode.sample(10)"
   ],
   "metadata": {
    "collapsed": false,
    "ExecuteTime": {
     "end_time": "2023-11-15T11:33:22.914501Z",
     "start_time": "2023-11-15T11:33:22.910621Z"
    }
   },
   "id": "8a4dcf6ea05e3c9b"
  },
  {
   "cell_type": "code",
   "execution_count": 28,
   "outputs": [],
   "source": [
    "# Only match partial names as well\n",
    "# Iterate over each row in unique_speakers_per_wahlperiode\n",
    "for idx, speaker_row in unique_speakers_per_wahlperiode.iterrows():\n",
    "    # Extract the likely unique part of the speaker's name (in this case, the first name or a significant part of it)\n",
    "    # Here, we're using split to just take the part after 'Dr.' if it's there and then splitting on spaces to get the first name.\n",
    "    # We assume the format is always 'Dr. Firstname Lastname' if 'Dr.' is present.\n",
    "    name_parts = speaker_row['Speaker'].replace('Dr.', '').strip().split()\n",
    "    unique_name_part = name_parts[0] if name_parts else speaker_row['Speaker']\n",
    "    \n",
    "    # Prepare a regex pattern that matches the unique name part, case-insensitively\n",
    "    name_regex = re.escape(unique_name_part) + r'\\W*'\n",
    "\n",
    "    # Filter df_parties for names that contain the regex pattern within the same Election_Period, case-insensitively\n",
    "    filtered_df = df_parties[\n",
    "        (df_parties['Name'].str.contains(name_regex, na=False, case=False, regex=True)) &\n",
    "        (df_parties['Election_Period'] == speaker_row['Election_Period'])\n",
    "    ]\n",
    "\n",
    "    # Check the number of entries in the filtered dataframe\n",
    "    if len(filtered_df) == 1:\n",
    "        # If there's exactly one entry, use that entry\n",
    "        matched_member = filtered_df.iloc[0]\n",
    "        unique_speakers_per_wahlperiode.at[idx, 'Name'] = matched_member['Name']\n",
    "        unique_speakers_per_wahlperiode.at[idx, 'Fraktion'] = matched_member['Fraktion']\n",
    "    elif len(filtered_df) > 1:\n",
    "        # If there are multiple entries, you might need additional logic to choose the correct one\n",
    "        # Since you mentioned that 'Tobias' is unique in this case, this block may not be necessary\n",
    "        # But it's here in case you need to handle multiple matches\n",
    "        pass\n",
    "    else:\n",
    "        # No match found, you can decide how to handle this scenario\n",
    "        pass"
   ],
   "metadata": {
    "collapsed": false,
    "ExecuteTime": {
     "end_time": "2023-11-15T11:36:37.370505Z",
     "start_time": "2023-11-15T11:33:22.914785Z"
    }
   },
   "id": "c3c3f3e8693b8b69"
  },
  {
   "cell_type": "code",
   "execution_count": 29,
   "outputs": [
    {
     "data": {
      "text/plain": "Election_Period       0\nSpeaker               0\nName               4421\nFraktion           4421\ndtype: int64"
     },
     "execution_count": 29,
     "metadata": {},
     "output_type": "execute_result"
    }
   ],
   "source": [
    "unique_speakers_per_wahlperiode.isna().sum()"
   ],
   "metadata": {
    "collapsed": false,
    "ExecuteTime": {
     "end_time": "2023-11-15T11:36:37.376619Z",
     "start_time": "2023-11-15T11:36:37.372497Z"
    }
   },
   "id": "370d9c4392f2030b"
  },
  {
   "cell_type": "code",
   "execution_count": 30,
   "outputs": [
    {
     "data": {
      "text/plain": "(9484, 4)"
     },
     "execution_count": 30,
     "metadata": {},
     "output_type": "execute_result"
    }
   ],
   "source": [
    "unique_speakers_per_wahlperiode.shape"
   ],
   "metadata": {
    "collapsed": false,
    "ExecuteTime": {
     "end_time": "2023-11-15T11:36:37.378703Z",
     "start_time": "2023-11-15T11:36:37.375880Z"
    }
   },
   "id": "73e6d2684e8ac0ba"
  },
  {
   "cell_type": "code",
   "execution_count": 31,
   "outputs": [],
   "source": [
    "unique_new = unique_speakers_per_wahlperiode.copy()"
   ],
   "metadata": {
    "collapsed": false,
    "ExecuteTime": {
     "end_time": "2023-11-15T11:36:37.380598Z",
     "start_time": "2023-11-15T11:36:37.377789Z"
    }
   },
   "id": "b43d0f28eab9e9e7"
  },
  {
   "cell_type": "code",
   "execution_count": 32,
   "outputs": [
    {
     "data": {
      "text/plain": "(9484, 4)"
     },
     "execution_count": 32,
     "metadata": {},
     "output_type": "execute_result"
    }
   ],
   "source": [
    "unique_new.shape"
   ],
   "metadata": {
    "collapsed": false,
    "ExecuteTime": {
     "end_time": "2023-11-15T11:36:37.386448Z",
     "start_time": "2023-11-15T11:36:37.380187Z"
    }
   },
   "id": "1e972d3e0178d2b7"
  },
  {
   "cell_type": "code",
   "execution_count": 33,
   "outputs": [],
   "source": [
    "unique_new = unique_new.drop_duplicates(subset=['Speaker'])"
   ],
   "metadata": {
    "collapsed": false,
    "ExecuteTime": {
     "end_time": "2023-11-15T11:36:37.386645Z",
     "start_time": "2023-11-15T11:36:37.382611Z"
    }
   },
   "id": "1f47cdf730fc900c"
  },
  {
   "cell_type": "code",
   "execution_count": 34,
   "outputs": [],
   "source": [
    "# combine dataframes\n",
    "# Concatenate df_speakers with unique_speakers_per_wahlperiode using an outer join to include all records\n",
    "combined_df = df_speaker.merge(unique_new, on='Speaker', how='left')"
   ],
   "metadata": {
    "collapsed": false,
    "ExecuteTime": {
     "end_time": "2023-11-15T11:36:38.648792Z",
     "start_time": "2023-11-15T11:36:37.385007Z"
    }
   },
   "id": "4f60c98490238313"
  },
  {
   "cell_type": "code",
   "execution_count": 35,
   "outputs": [
    {
     "data": {
      "text/plain": "   Election_Period_x  Session        Date            Start         End_Time  \\\n0                 15        1  2002-10-17  0 days 11:00:00  0 days 15:40:00   \n1                 15        1  2002-10-17  0 days 11:00:00  0 days 15:40:00   \n2                 15        1  2002-10-17  0 days 11:00:00  0 days 15:40:00   \n3                 15        1  2002-10-17  0 days 11:00:00  0 days 15:40:00   \n4                 15        1  2002-10-17  0 days 11:00:00  0 days 15:40:00   \n\n                       Speaker  \\\n0  Alterspräsident Otto Schily   \n1  Alterspräsident Otto Schily   \n2  Alterspräsident Otto Schily   \n3  Alterspräsident Otto Schily   \n4  Alterspräsident Otto Schily   \n\n                                         Text_Spoken  \\\n0  Meine sehr verehrten Damen und sehr geehrten H...   \n1  Von Paul Löbeüber Konrad Adenauerbis hin zu al...   \n2  Nur Willy Brandtwar 1983 acht Monate jünger, a...   \n3  Das Amt des Alterspräsiden ten blieb Willy Bra...   \n4  Den Hinweis daraufsollten Sie, was meine Leben...   \n\n                                           Reactions  Election_Period_y  \\\n0                                                NaN                 15   \n1                                                NaN                 15   \n2                                                NaN                 15   \n3                                                NaN                 15   \n4  Heiterkeit bei der SPD und dem BÜND NIS 90/DIE...                 15   \n\n          Name Fraktion  \n0  Otto Schily      SPD  \n1  Otto Schily      SPD  \n2  Otto Schily      SPD  \n3  Otto Schily      SPD  \n4  Otto Schily      SPD  ",
      "text/html": "<div>\n<style scoped>\n    .dataframe tbody tr th:only-of-type {\n        vertical-align: middle;\n    }\n\n    .dataframe tbody tr th {\n        vertical-align: top;\n    }\n\n    .dataframe thead th {\n        text-align: right;\n    }\n</style>\n<table border=\"1\" class=\"dataframe\">\n  <thead>\n    <tr style=\"text-align: right;\">\n      <th></th>\n      <th>Election_Period_x</th>\n      <th>Session</th>\n      <th>Date</th>\n      <th>Start</th>\n      <th>End_Time</th>\n      <th>Speaker</th>\n      <th>Text_Spoken</th>\n      <th>Reactions</th>\n      <th>Election_Period_y</th>\n      <th>Name</th>\n      <th>Fraktion</th>\n    </tr>\n  </thead>\n  <tbody>\n    <tr>\n      <th>0</th>\n      <td>15</td>\n      <td>1</td>\n      <td>2002-10-17</td>\n      <td>0 days 11:00:00</td>\n      <td>0 days 15:40:00</td>\n      <td>Alterspräsident Otto Schily</td>\n      <td>Meine sehr verehrten Damen und sehr geehrten H...</td>\n      <td>NaN</td>\n      <td>15</td>\n      <td>Otto Schily</td>\n      <td>SPD</td>\n    </tr>\n    <tr>\n      <th>1</th>\n      <td>15</td>\n      <td>1</td>\n      <td>2002-10-17</td>\n      <td>0 days 11:00:00</td>\n      <td>0 days 15:40:00</td>\n      <td>Alterspräsident Otto Schily</td>\n      <td>Von Paul Löbeüber Konrad Adenauerbis hin zu al...</td>\n      <td>NaN</td>\n      <td>15</td>\n      <td>Otto Schily</td>\n      <td>SPD</td>\n    </tr>\n    <tr>\n      <th>2</th>\n      <td>15</td>\n      <td>1</td>\n      <td>2002-10-17</td>\n      <td>0 days 11:00:00</td>\n      <td>0 days 15:40:00</td>\n      <td>Alterspräsident Otto Schily</td>\n      <td>Nur Willy Brandtwar 1983 acht Monate jünger, a...</td>\n      <td>NaN</td>\n      <td>15</td>\n      <td>Otto Schily</td>\n      <td>SPD</td>\n    </tr>\n    <tr>\n      <th>3</th>\n      <td>15</td>\n      <td>1</td>\n      <td>2002-10-17</td>\n      <td>0 days 11:00:00</td>\n      <td>0 days 15:40:00</td>\n      <td>Alterspräsident Otto Schily</td>\n      <td>Das Amt des Alterspräsiden ten blieb Willy Bra...</td>\n      <td>NaN</td>\n      <td>15</td>\n      <td>Otto Schily</td>\n      <td>SPD</td>\n    </tr>\n    <tr>\n      <th>4</th>\n      <td>15</td>\n      <td>1</td>\n      <td>2002-10-17</td>\n      <td>0 days 11:00:00</td>\n      <td>0 days 15:40:00</td>\n      <td>Alterspräsident Otto Schily</td>\n      <td>Den Hinweis daraufsollten Sie, was meine Leben...</td>\n      <td>Heiterkeit bei der SPD und dem BÜND NIS 90/DIE...</td>\n      <td>15</td>\n      <td>Otto Schily</td>\n      <td>SPD</td>\n    </tr>\n  </tbody>\n</table>\n</div>"
     },
     "execution_count": 35,
     "metadata": {},
     "output_type": "execute_result"
    }
   ],
   "source": [
    "combined_df.head()"
   ],
   "metadata": {
    "collapsed": false,
    "ExecuteTime": {
     "end_time": "2023-11-15T11:36:38.649851Z",
     "start_time": "2023-11-15T11:36:38.315668Z"
    }
   },
   "id": "db45e97ce0fa05cb"
  },
  {
   "cell_type": "code",
   "execution_count": 36,
   "outputs": [
    {
     "data": {
      "text/plain": "(4864724, 11)"
     },
     "execution_count": 36,
     "metadata": {},
     "output_type": "execute_result"
    }
   ],
   "source": [
    "combined_df.shape"
   ],
   "metadata": {
    "collapsed": false,
    "ExecuteTime": {
     "end_time": "2023-11-15T11:41:21.185577Z",
     "start_time": "2023-11-15T11:41:21.169609Z"
    }
   },
   "id": "278abdd2e884b1d4"
  },
  {
   "cell_type": "code",
   "execution_count": 37,
   "outputs": [],
   "source": [
    "combined_new = combined_df.copy()"
   ],
   "metadata": {
    "collapsed": false,
    "ExecuteTime": {
     "end_time": "2023-11-15T11:41:22.745725Z",
     "start_time": "2023-11-15T11:41:21.799444Z"
    }
   },
   "id": "e6b19f1c0a79f405"
  },
  {
   "cell_type": "code",
   "execution_count": 38,
   "outputs": [
    {
     "data": {
      "text/plain": "Election_Period_x          0\nSession                    0\nDate                       0\nStart                      0\nEnd_Time                   0\nSpeaker                    0\nText_Spoken                0\nReactions            4105647\nElection_Period_y          0\nName                  334112\nFraktion              334112\ndtype: int64"
     },
     "execution_count": 38,
     "metadata": {},
     "output_type": "execute_result"
    }
   ],
   "source": [
    "combined_new.isna().sum()"
   ],
   "metadata": {
    "collapsed": false,
    "ExecuteTime": {
     "end_time": "2023-11-15T11:41:26.030292Z",
     "start_time": "2023-11-15T11:41:23.898531Z"
    }
   },
   "id": "cda5352503afa97c"
  },
  {
   "cell_type": "code",
   "execution_count": 39,
   "outputs": [
    {
     "name": "stderr",
     "output_type": "stream",
     "text": [
      "Some weights of the model checkpoint at dslim/bert-base-NER were not used when initializing BertForTokenClassification: ['bert.pooler.dense.weight', 'bert.pooler.dense.bias']\n",
      "- This IS expected if you are initializing BertForTokenClassification from the checkpoint of a model trained on another task or with another architecture (e.g. initializing a BertForSequenceClassification model from a BertForPreTraining model).\n",
      "- This IS NOT expected if you are initializing BertForTokenClassification from the checkpoint of a model that you expect to be exactly identical (initializing a BertForSequenceClassification model from a BertForSequenceClassification model).\n"
     ]
    }
   ],
   "source": [
    "from transformers import AutoTokenizer, AutoModelForTokenClassification\n",
    "from transformers import pipeline\n",
    "\n",
    "tokenizer = AutoTokenizer.from_pretrained(\"dslim/bert-base-NER\")\n",
    "model = AutoModelForTokenClassification.from_pretrained(\"dslim/bert-base-NER\")\n",
    "\n",
    "nlp_person = pipeline(\"ner\", model=model, tokenizer=tokenizer)"
   ],
   "metadata": {
    "collapsed": false,
    "ExecuteTime": {
     "end_time": "2023-11-15T11:41:44.219138Z",
     "start_time": "2023-11-15T11:41:37.777190Z"
    }
   },
   "id": "2f169a1d7bacf3b0"
  },
  {
   "cell_type": "code",
   "execution_count": 94,
   "outputs": [],
   "source": [
    "# missing_names = combined_df[combined_df['Name'].isna()]\n",
    "# \n",
    "# # Initialize a counter for B-PER entities\n",
    "# b_per_count = 0\n",
    "# \n",
    "# for text in missing_names['Speaker']:\n",
    "#     ner_results = nlp_person(text)\n",
    "#     person_entities = [entity for entity in ner_results if entity['entity'] == 'B-PER']\n",
    "#     b_per_count += len(person_entities)\n",
    "# \n",
    "# print(f\"Number of B-PER entities found: {b_per_count}\")"
   ],
   "metadata": {
    "collapsed": false,
    "ExecuteTime": {
     "end_time": "2023-11-07T16:03:42.570753Z",
     "start_time": "2023-11-07T16:03:42.567826Z"
    }
   },
   "id": "c7aed81141c2f889"
  },
  {
   "cell_type": "code",
   "execution_count": 95,
   "outputs": [],
   "source": [
    "# combine dataframes and where there is no name insert none\n",
    "# Where there is none take the last identified name/speaker name for that line of text."
   ],
   "metadata": {
    "collapsed": false,
    "ExecuteTime": {
     "end_time": "2023-11-07T16:03:42.582025Z",
     "start_time": "2023-11-07T16:03:42.569635Z"
    }
   },
   "id": "c8d9910fa307ee5f"
  },
  {
   "cell_type": "code",
   "execution_count": 40,
   "outputs": [
    {
     "data": {
      "text/plain": "           Fraktion       Position                     Name  Election_Period\n23            Grüne  Abgeordnete*r       Tobias B. Bacherle               20\n381           Grüne  Abgeordnete*r           Tobias Lindner               20\n493             AfD  Abgeordnete*r  Tobias Matthias Peterka               20\n717   CDU/CSU (CSU)  Abgeordnete*r           Tobias Winkler               20\n1126          Grüne  Abgeordnete*r           Tobias Lindner               19\n1242            AfD  Abgeordnete*r  Tobias Matthias Peterka               19\n1246          Linke  Abgeordnete*r           Tobias Pflüger               19\n1817          GRÜNE  Abgeordnete*r           Tobias Lindner               18\n2123            CSU  Abgeordnete*r              Tobias Zech               18\n2488          GRÜNE  Abgeordnete*r           Tobias Lindner               17\n3772            SPD  Abgeordnete*r           Tobias Marhold               15",
      "text/html": "<div>\n<style scoped>\n    .dataframe tbody tr th:only-of-type {\n        vertical-align: middle;\n    }\n\n    .dataframe tbody tr th {\n        vertical-align: top;\n    }\n\n    .dataframe thead th {\n        text-align: right;\n    }\n</style>\n<table border=\"1\" class=\"dataframe\">\n  <thead>\n    <tr style=\"text-align: right;\">\n      <th></th>\n      <th>Fraktion</th>\n      <th>Position</th>\n      <th>Name</th>\n      <th>Election_Period</th>\n    </tr>\n  </thead>\n  <tbody>\n    <tr>\n      <th>23</th>\n      <td>Grüne</td>\n      <td>Abgeordnete*r</td>\n      <td>Tobias B. Bacherle</td>\n      <td>20</td>\n    </tr>\n    <tr>\n      <th>381</th>\n      <td>Grüne</td>\n      <td>Abgeordnete*r</td>\n      <td>Tobias Lindner</td>\n      <td>20</td>\n    </tr>\n    <tr>\n      <th>493</th>\n      <td>AfD</td>\n      <td>Abgeordnete*r</td>\n      <td>Tobias Matthias Peterka</td>\n      <td>20</td>\n    </tr>\n    <tr>\n      <th>717</th>\n      <td>CDU/CSU (CSU)</td>\n      <td>Abgeordnete*r</td>\n      <td>Tobias Winkler</td>\n      <td>20</td>\n    </tr>\n    <tr>\n      <th>1126</th>\n      <td>Grüne</td>\n      <td>Abgeordnete*r</td>\n      <td>Tobias Lindner</td>\n      <td>19</td>\n    </tr>\n    <tr>\n      <th>1242</th>\n      <td>AfD</td>\n      <td>Abgeordnete*r</td>\n      <td>Tobias Matthias Peterka</td>\n      <td>19</td>\n    </tr>\n    <tr>\n      <th>1246</th>\n      <td>Linke</td>\n      <td>Abgeordnete*r</td>\n      <td>Tobias Pflüger</td>\n      <td>19</td>\n    </tr>\n    <tr>\n      <th>1817</th>\n      <td>GRÜNE</td>\n      <td>Abgeordnete*r</td>\n      <td>Tobias Lindner</td>\n      <td>18</td>\n    </tr>\n    <tr>\n      <th>2123</th>\n      <td>CSU</td>\n      <td>Abgeordnete*r</td>\n      <td>Tobias Zech</td>\n      <td>18</td>\n    </tr>\n    <tr>\n      <th>2488</th>\n      <td>GRÜNE</td>\n      <td>Abgeordnete*r</td>\n      <td>Tobias Lindner</td>\n      <td>17</td>\n    </tr>\n    <tr>\n      <th>3772</th>\n      <td>SPD</td>\n      <td>Abgeordnete*r</td>\n      <td>Tobias Marhold</td>\n      <td>15</td>\n    </tr>\n  </tbody>\n</table>\n</div>"
     },
     "execution_count": 40,
     "metadata": {},
     "output_type": "execute_result"
    }
   ],
   "source": [
    "# Ensure the column contains string type for the search to work correctly\n",
    "df_parties['Name'] = df_parties['Name'].astype(str)\n",
    "\n",
    "# Search for 'Michael Hartmann' in the 'Name' column\n",
    "filtered_df = df_parties[df_parties['Name'].str.contains('Tobias', na=False)]\n",
    "filtered_df"
   ],
   "metadata": {
    "collapsed": false,
    "ExecuteTime": {
     "end_time": "2023-11-15T11:41:44.224468Z",
     "start_time": "2023-11-15T11:41:44.220268Z"
    }
   },
   "id": "26bb7005337f74ea"
  },
  {
   "cell_type": "code",
   "execution_count": 41,
   "outputs": [],
   "source": [
    "clean_combined = combined_new.drop_duplicates(subset=['Name'])"
   ],
   "metadata": {
    "collapsed": false,
    "ExecuteTime": {
     "end_time": "2023-11-15T11:41:51.780782Z",
     "start_time": "2023-11-15T11:41:51.772059Z"
    }
   },
   "id": "8857e13de71c941d"
  },
  {
   "cell_type": "code",
   "execution_count": 42,
   "outputs": [],
   "source": [
    "parties_no_duplicates = df_parties.drop_duplicates(subset=['Name'])"
   ],
   "metadata": {
    "collapsed": false,
    "ExecuteTime": {
     "end_time": "2023-11-15T11:41:52.920222Z",
     "start_time": "2023-11-15T11:41:52.904962Z"
    }
   },
   "id": "82b9af220dde4b8e"
  },
  {
   "cell_type": "code",
   "execution_count": 43,
   "outputs": [
    {
     "data": {
      "text/plain": "         Election_Period_x  Session        Date            Start  \\\n0                       15        1  2002-10-17  0 days 11:00:00   \n38                      15        1  2002-10-17  0 days 11:00:00   \n82                      15        1  2002-10-17  0 days 11:00:00   \n143                     15        1  2002-10-17  0 days 11:00:00   \n183                     15        1  2002-10-17  0 days 11:00:00   \n...                    ...      ...         ...              ...   \n4654662                 20       87  2023-03-01  0 days 13:00:00   \n4675568                 20       91  2023-03-16  0 days 09:00:00   \n4688137                 20       94  2023-03-30  0 days 09:00:00   \n4746219                 20      107  2023-05-26  0 days 09:00:00   \n4838931                 20      127  2023-10-11  0 days 13:00:00   \n\n                End_Time                      Speaker  \\\n0        0 days 15:40:00  Alterspräsident Otto Schily   \n38       0 days 15:40:00            Franz Müntefering   \n82       0 days 15:40:00             Wolfgang Thierse   \n143      0 days 15:40:00           Eugen Gerstenmaier   \n183      0 days 15:40:00           Dr. Gesine Lötzsch   \n...                  ...                          ...   \n4654662  0 days 18:56:00                  Emily Vontz   \n4675568  0 days 23:03:00               Alexander Föhr   \n4688137  0 days 21:27:00            Dirk Ulrich Mende   \n4746219  0 days 16:06:00            Ana Maria Trăsnea   \n4838931  0 days 19:35:00            Christian Bartelt   \n\n                                               Text_Spoken  \\\n0        Meine sehr verehrten Damen und sehr geehrten H...   \n38                                         Herr Präsident!   \n82            Herr Alterspräsident, ich nehme die Wahl an.   \n143                    dern möglichst gute Gesetze machen.   \n183                                        Herr Präsident!   \n...                                                    ...   \n4654662                     Vielen Dank, Frau Präsidentin.   \n4675568  Vielen Dank für die freundliche Begrüßung in d...   \n4688137                     Sehr geehrte Frau Präsidentin!   \n4746219                     Sehr geehrte Frau Präsidentin!   \n4838931                     Sehr geehrte Frau Präsidentin!   \n\n                                                 Reactions  Election_Period_y  \\\n0                                                      NaN                 15   \n38                                                     NaN                 15   \n82       Beifall im ganzen Hause Abgeordnete aller Frak...                 15   \n143                                                    NaN                 15   \n183                                                    NaN                 15   \n...                                                    ...                ...   \n4654662                                                NaN                 20   \n4675568                                                NaN                 20   \n4688137                                                NaN                 20   \n4746219                                                NaN                 20   \n4838931                                                NaN                 20   \n\n                      Name       Fraktion  \n0              Otto Schily            SPD  \n38       Franz Müntefering            SPD  \n82        Wolfgang Thierse            SPD  \n143                   None           None  \n183         Gesine Lötzsch            PDS  \n...                    ...            ...  \n4654662        Emily Vontz            SPD  \n4675568     Alexander Föhr  CDU/CSU (CDU)  \n4688137  Dirk-Ulrich Mende            SPD  \n4746219  Ana-Maria Trăsnea            SPD  \n4838931  Christian Bartelt            FDP  \n\n[1776 rows x 11 columns]",
      "text/html": "<div>\n<style scoped>\n    .dataframe tbody tr th:only-of-type {\n        vertical-align: middle;\n    }\n\n    .dataframe tbody tr th {\n        vertical-align: top;\n    }\n\n    .dataframe thead th {\n        text-align: right;\n    }\n</style>\n<table border=\"1\" class=\"dataframe\">\n  <thead>\n    <tr style=\"text-align: right;\">\n      <th></th>\n      <th>Election_Period_x</th>\n      <th>Session</th>\n      <th>Date</th>\n      <th>Start</th>\n      <th>End_Time</th>\n      <th>Speaker</th>\n      <th>Text_Spoken</th>\n      <th>Reactions</th>\n      <th>Election_Period_y</th>\n      <th>Name</th>\n      <th>Fraktion</th>\n    </tr>\n  </thead>\n  <tbody>\n    <tr>\n      <th>0</th>\n      <td>15</td>\n      <td>1</td>\n      <td>2002-10-17</td>\n      <td>0 days 11:00:00</td>\n      <td>0 days 15:40:00</td>\n      <td>Alterspräsident Otto Schily</td>\n      <td>Meine sehr verehrten Damen und sehr geehrten H...</td>\n      <td>NaN</td>\n      <td>15</td>\n      <td>Otto Schily</td>\n      <td>SPD</td>\n    </tr>\n    <tr>\n      <th>38</th>\n      <td>15</td>\n      <td>1</td>\n      <td>2002-10-17</td>\n      <td>0 days 11:00:00</td>\n      <td>0 days 15:40:00</td>\n      <td>Franz Müntefering</td>\n      <td>Herr Präsident!</td>\n      <td>NaN</td>\n      <td>15</td>\n      <td>Franz Müntefering</td>\n      <td>SPD</td>\n    </tr>\n    <tr>\n      <th>82</th>\n      <td>15</td>\n      <td>1</td>\n      <td>2002-10-17</td>\n      <td>0 days 11:00:00</td>\n      <td>0 days 15:40:00</td>\n      <td>Wolfgang Thierse</td>\n      <td>Herr Alterspräsident, ich nehme die Wahl an.</td>\n      <td>Beifall im ganzen Hause Abgeordnete aller Frak...</td>\n      <td>15</td>\n      <td>Wolfgang Thierse</td>\n      <td>SPD</td>\n    </tr>\n    <tr>\n      <th>143</th>\n      <td>15</td>\n      <td>1</td>\n      <td>2002-10-17</td>\n      <td>0 days 11:00:00</td>\n      <td>0 days 15:40:00</td>\n      <td>Eugen Gerstenmaier</td>\n      <td>dern möglichst gute Gesetze machen.</td>\n      <td>NaN</td>\n      <td>15</td>\n      <td>None</td>\n      <td>None</td>\n    </tr>\n    <tr>\n      <th>183</th>\n      <td>15</td>\n      <td>1</td>\n      <td>2002-10-17</td>\n      <td>0 days 11:00:00</td>\n      <td>0 days 15:40:00</td>\n      <td>Dr. Gesine Lötzsch</td>\n      <td>Herr Präsident!</td>\n      <td>NaN</td>\n      <td>15</td>\n      <td>Gesine Lötzsch</td>\n      <td>PDS</td>\n    </tr>\n    <tr>\n      <th>...</th>\n      <td>...</td>\n      <td>...</td>\n      <td>...</td>\n      <td>...</td>\n      <td>...</td>\n      <td>...</td>\n      <td>...</td>\n      <td>...</td>\n      <td>...</td>\n      <td>...</td>\n      <td>...</td>\n    </tr>\n    <tr>\n      <th>4654662</th>\n      <td>20</td>\n      <td>87</td>\n      <td>2023-03-01</td>\n      <td>0 days 13:00:00</td>\n      <td>0 days 18:56:00</td>\n      <td>Emily Vontz</td>\n      <td>Vielen Dank, Frau Präsidentin.</td>\n      <td>NaN</td>\n      <td>20</td>\n      <td>Emily Vontz</td>\n      <td>SPD</td>\n    </tr>\n    <tr>\n      <th>4675568</th>\n      <td>20</td>\n      <td>91</td>\n      <td>2023-03-16</td>\n      <td>0 days 09:00:00</td>\n      <td>0 days 23:03:00</td>\n      <td>Alexander Föhr</td>\n      <td>Vielen Dank für die freundliche Begrüßung in d...</td>\n      <td>NaN</td>\n      <td>20</td>\n      <td>Alexander Föhr</td>\n      <td>CDU/CSU (CDU)</td>\n    </tr>\n    <tr>\n      <th>4688137</th>\n      <td>20</td>\n      <td>94</td>\n      <td>2023-03-30</td>\n      <td>0 days 09:00:00</td>\n      <td>0 days 21:27:00</td>\n      <td>Dirk Ulrich Mende</td>\n      <td>Sehr geehrte Frau Präsidentin!</td>\n      <td>NaN</td>\n      <td>20</td>\n      <td>Dirk-Ulrich Mende</td>\n      <td>SPD</td>\n    </tr>\n    <tr>\n      <th>4746219</th>\n      <td>20</td>\n      <td>107</td>\n      <td>2023-05-26</td>\n      <td>0 days 09:00:00</td>\n      <td>0 days 16:06:00</td>\n      <td>Ana Maria Trăsnea</td>\n      <td>Sehr geehrte Frau Präsidentin!</td>\n      <td>NaN</td>\n      <td>20</td>\n      <td>Ana-Maria Trăsnea</td>\n      <td>SPD</td>\n    </tr>\n    <tr>\n      <th>4838931</th>\n      <td>20</td>\n      <td>127</td>\n      <td>2023-10-11</td>\n      <td>0 days 13:00:00</td>\n      <td>0 days 19:35:00</td>\n      <td>Christian Bartelt</td>\n      <td>Sehr geehrte Frau Präsidentin!</td>\n      <td>NaN</td>\n      <td>20</td>\n      <td>Christian Bartelt</td>\n      <td>FDP</td>\n    </tr>\n  </tbody>\n</table>\n<p>1776 rows × 11 columns</p>\n</div>"
     },
     "execution_count": 43,
     "metadata": {},
     "output_type": "execute_result"
    }
   ],
   "source": [
    "clean_combined"
   ],
   "metadata": {
    "collapsed": false,
    "ExecuteTime": {
     "end_time": "2023-11-15T11:41:54.043051Z",
     "start_time": "2023-11-15T11:41:54.027339Z"
    }
   },
   "id": "f2eaeef05df97b9f"
  },
  {
   "cell_type": "code",
   "execution_count": 44,
   "outputs": [],
   "source": [
    "final_df = combined_new.merge(parties_no_duplicates, on='Name', how='left')"
   ],
   "metadata": {
    "collapsed": false,
    "ExecuteTime": {
     "end_time": "2023-11-15T11:41:57.920952Z",
     "start_time": "2023-11-15T11:41:56.869169Z"
    }
   },
   "id": "1d924d197d45c994"
  },
  {
   "cell_type": "code",
   "execution_count": 45,
   "outputs": [
    {
     "data": {
      "text/plain": "(4864724, 14)"
     },
     "execution_count": 45,
     "metadata": {},
     "output_type": "execute_result"
    }
   ],
   "source": [
    "final_df.shape"
   ],
   "metadata": {
    "collapsed": false,
    "ExecuteTime": {
     "end_time": "2023-11-15T11:41:57.947004Z",
     "start_time": "2023-11-15T11:41:57.938546Z"
    }
   },
   "id": "1ef6003fa9e16ff0"
  },
  {
   "cell_type": "code",
   "execution_count": 46,
   "outputs": [
    {
     "data": {
      "text/plain": "Election_Period_x          0\nSession                    0\nDate                       0\nStart                      0\nEnd_Time                   0\nSpeaker                    0\nText_Spoken                0\nReactions            4105647\nElection_Period_y          0\nName                  334112\nFraktion_x            334112\nFraktion_y            334112\nPosition              334112\nElection_Period       334112\ndtype: int64"
     },
     "execution_count": 46,
     "metadata": {},
     "output_type": "execute_result"
    }
   ],
   "source": [
    "final_df.isna().sum()"
   ],
   "metadata": {
    "collapsed": false,
    "ExecuteTime": {
     "end_time": "2023-11-15T11:42:02.285093Z",
     "start_time": "2023-11-15T11:41:59.575530Z"
    }
   },
   "id": "bdfbbf0b237b7a1e"
  },
  {
   "cell_type": "markdown",
   "source": [
    "# Change party names and make it coherent"
   ],
   "metadata": {
    "collapsed": false
   },
   "id": "9911dab9edbe6f04"
  },
  {
   "cell_type": "code",
   "execution_count": 47,
   "outputs": [],
   "source": [
    "replacement_dict = {\n",
    "    'CDU/CSU (CDU)': 'CDU',\n",
    "    'CDU/CSU (CSU)': 'CSU',\n",
    "    'fraktionslos (AfD)': 'AfD',\n",
    "    'AfD (parteilos)': 'AfD',\n",
    "    'Grüne': 'Die Grünen',\n",
    "    'GRÜNE': 'Die Grünen',\n",
    "    'Bündnis 90/Die Grünen': 'Die Grünen',\n",
    "    'Die Linke': 'Die Linke',\n",
    "    'DIE LINKE': 'Die Linke',\n",
    "    'Linke': 'Die Linke',\n",
    "    'Linke (parteilos)': 'Die Linke',\n",
    "    'fraktionslos (LKR)': 'LKR',\n",
    "    'fraktionslos(SSW)': 'SSW'\n",
    "}\n",
    "\n",
    "# Replace the values in the dataframe using the dictionary.\n",
    "final_df['Fraktion_x'] = final_df['Fraktion_x'].replace(replacement_dict)"
   ],
   "metadata": {
    "collapsed": false,
    "ExecuteTime": {
     "end_time": "2023-11-15T11:42:05.712829Z",
     "start_time": "2023-11-15T11:42:04.460588Z"
    }
   },
   "id": "c8fa52e87f44114a"
  },
  {
   "cell_type": "code",
   "execution_count": 48,
   "outputs": [
    {
     "data": {
      "text/plain": "(4864724, 14)"
     },
     "execution_count": 48,
     "metadata": {},
     "output_type": "execute_result"
    }
   ],
   "source": [
    "final_df.shape"
   ],
   "metadata": {
    "collapsed": false,
    "ExecuteTime": {
     "end_time": "2023-11-15T11:42:06.147474Z",
     "start_time": "2023-11-15T11:42:06.133575Z"
    }
   },
   "id": "65db5d3a52bad6fe"
  },
  {
   "cell_type": "code",
   "execution_count": 49,
   "outputs": [
    {
     "data": {
      "text/plain": "Election_Period_x          0\nSession                    0\nDate                       0\nStart                      0\nEnd_Time                   0\nSpeaker                    0\nText_Spoken                0\nReactions            4105647\nElection_Period_y          0\nName                  334112\nFraktion_x            334112\nFraktion_y            334112\nPosition              334112\nElection_Period       334112\ndtype: int64"
     },
     "execution_count": 49,
     "metadata": {},
     "output_type": "execute_result"
    }
   ],
   "source": [
    "final_df.isna().sum()"
   ],
   "metadata": {
    "collapsed": false,
    "ExecuteTime": {
     "end_time": "2023-11-15T11:42:09.672944Z",
     "start_time": "2023-11-15T11:42:07.058519Z"
    }
   },
   "id": "53c9863f1d2409b3"
  },
  {
   "cell_type": "code",
   "execution_count": 50,
   "outputs": [],
   "source": [
    "final_df.dropna(subset=['Name'], inplace=True)"
   ],
   "metadata": {
    "collapsed": false,
    "ExecuteTime": {
     "end_time": "2023-11-15T11:42:14.330469Z",
     "start_time": "2023-11-15T11:42:12.883023Z"
    }
   },
   "id": "ad2fa595a36ba7c7"
  },
  {
   "cell_type": "code",
   "execution_count": 51,
   "outputs": [
    {
     "data": {
      "text/plain": "(4530612, 14)"
     },
     "execution_count": 51,
     "metadata": {},
     "output_type": "execute_result"
    }
   ],
   "source": [
    "final_df.shape"
   ],
   "metadata": {
    "collapsed": false,
    "ExecuteTime": {
     "end_time": "2023-11-15T11:42:14.339213Z",
     "start_time": "2023-11-15T11:42:14.331876Z"
    }
   },
   "id": "38771eb6f953a0a5"
  },
  {
   "cell_type": "markdown",
   "source": [
    "# Change column names"
   ],
   "metadata": {
    "collapsed": false
   },
   "id": "e1b06973d3380ced"
  },
  {
   "cell_type": "code",
   "execution_count": 56,
   "outputs": [
    {
     "data": {
      "text/plain": "   Election_Period  Session        Date            Start         End_Time  \\\n0               15        1  2002-10-17  0 days 11:00:00  0 days 15:40:00   \n1               15        1  2002-10-17  0 days 11:00:00  0 days 15:40:00   \n2               15        1  2002-10-17  0 days 11:00:00  0 days 15:40:00   \n3               15        1  2002-10-17  0 days 11:00:00  0 days 15:40:00   \n4               15        1  2002-10-17  0 days 11:00:00  0 days 15:40:00   \n\n                       Speaker  \\\n0  Alterspräsident Otto Schily   \n1  Alterspräsident Otto Schily   \n2  Alterspräsident Otto Schily   \n3  Alterspräsident Otto Schily   \n4  Alterspräsident Otto Schily   \n\n                                         Text_Spoken  \\\n0  Meine sehr verehrten Damen und sehr geehrten H...   \n1  Von Paul Löbeüber Konrad Adenauerbis hin zu al...   \n2  Nur Willy Brandtwar 1983 acht Monate jünger, a...   \n3  Das Amt des Alterspräsiden ten blieb Willy Bra...   \n4  Den Hinweis daraufsollten Sie, was meine Leben...   \n\n                                           Reactions         Name Party  \\\n0                                                NaN  Otto Schily   SPD   \n1                                                NaN  Otto Schily   SPD   \n2                                                NaN  Otto Schily   SPD   \n3                                                NaN  Otto Schily   SPD   \n4  Heiterkeit bei der SPD und dem BÜND NIS 90/DIE...  Otto Schily   SPD   \n\n        Position  \n0  Abgeordnete*r  \n1  Abgeordnete*r  \n2  Abgeordnete*r  \n3  Abgeordnete*r  \n4  Abgeordnete*r  ",
      "text/html": "<div>\n<style scoped>\n    .dataframe tbody tr th:only-of-type {\n        vertical-align: middle;\n    }\n\n    .dataframe tbody tr th {\n        vertical-align: top;\n    }\n\n    .dataframe thead th {\n        text-align: right;\n    }\n</style>\n<table border=\"1\" class=\"dataframe\">\n  <thead>\n    <tr style=\"text-align: right;\">\n      <th></th>\n      <th>Election_Period</th>\n      <th>Session</th>\n      <th>Date</th>\n      <th>Start</th>\n      <th>End_Time</th>\n      <th>Speaker</th>\n      <th>Text_Spoken</th>\n      <th>Reactions</th>\n      <th>Name</th>\n      <th>Party</th>\n      <th>Position</th>\n    </tr>\n  </thead>\n  <tbody>\n    <tr>\n      <th>0</th>\n      <td>15</td>\n      <td>1</td>\n      <td>2002-10-17</td>\n      <td>0 days 11:00:00</td>\n      <td>0 days 15:40:00</td>\n      <td>Alterspräsident Otto Schily</td>\n      <td>Meine sehr verehrten Damen und sehr geehrten H...</td>\n      <td>NaN</td>\n      <td>Otto Schily</td>\n      <td>SPD</td>\n      <td>Abgeordnete*r</td>\n    </tr>\n    <tr>\n      <th>1</th>\n      <td>15</td>\n      <td>1</td>\n      <td>2002-10-17</td>\n      <td>0 days 11:00:00</td>\n      <td>0 days 15:40:00</td>\n      <td>Alterspräsident Otto Schily</td>\n      <td>Von Paul Löbeüber Konrad Adenauerbis hin zu al...</td>\n      <td>NaN</td>\n      <td>Otto Schily</td>\n      <td>SPD</td>\n      <td>Abgeordnete*r</td>\n    </tr>\n    <tr>\n      <th>2</th>\n      <td>15</td>\n      <td>1</td>\n      <td>2002-10-17</td>\n      <td>0 days 11:00:00</td>\n      <td>0 days 15:40:00</td>\n      <td>Alterspräsident Otto Schily</td>\n      <td>Nur Willy Brandtwar 1983 acht Monate jünger, a...</td>\n      <td>NaN</td>\n      <td>Otto Schily</td>\n      <td>SPD</td>\n      <td>Abgeordnete*r</td>\n    </tr>\n    <tr>\n      <th>3</th>\n      <td>15</td>\n      <td>1</td>\n      <td>2002-10-17</td>\n      <td>0 days 11:00:00</td>\n      <td>0 days 15:40:00</td>\n      <td>Alterspräsident Otto Schily</td>\n      <td>Das Amt des Alterspräsiden ten blieb Willy Bra...</td>\n      <td>NaN</td>\n      <td>Otto Schily</td>\n      <td>SPD</td>\n      <td>Abgeordnete*r</td>\n    </tr>\n    <tr>\n      <th>4</th>\n      <td>15</td>\n      <td>1</td>\n      <td>2002-10-17</td>\n      <td>0 days 11:00:00</td>\n      <td>0 days 15:40:00</td>\n      <td>Alterspräsident Otto Schily</td>\n      <td>Den Hinweis daraufsollten Sie, was meine Leben...</td>\n      <td>Heiterkeit bei der SPD und dem BÜND NIS 90/DIE...</td>\n      <td>Otto Schily</td>\n      <td>SPD</td>\n      <td>Abgeordnete*r</td>\n    </tr>\n  </tbody>\n</table>\n</div>"
     },
     "execution_count": 56,
     "metadata": {},
     "output_type": "execute_result"
    }
   ],
   "source": [
    "final_df.head()"
   ],
   "metadata": {
    "collapsed": false,
    "ExecuteTime": {
     "end_time": "2023-11-15T11:44:45.086456Z",
     "start_time": "2023-11-15T11:44:45.081752Z"
    }
   },
   "id": "91974c2ab427c028"
  },
  {
   "cell_type": "code",
   "execution_count": 53,
   "outputs": [],
   "source": [
    "final_df.drop(columns=['Election_Period', 'Election_Period_y', 'Fraktion_x'], inplace=True)"
   ],
   "metadata": {
    "collapsed": false,
    "ExecuteTime": {
     "end_time": "2023-11-15T11:43:45.919588Z",
     "start_time": "2023-11-15T11:43:45.649419Z"
    }
   },
   "id": "1d42048c4dcc1152"
  },
  {
   "cell_type": "code",
   "execution_count": 55,
   "outputs": [],
   "source": [
    "final_df.rename(columns={'Fraktion_y': 'Party', 'Election_Period_x': 'Election_Period'}, inplace=True)"
   ],
   "metadata": {
    "collapsed": false,
    "ExecuteTime": {
     "end_time": "2023-11-15T11:44:39.295201Z",
     "start_time": "2023-11-15T11:44:39.277518Z"
    }
   },
   "id": "540f4a0955c38b65"
  },
  {
   "cell_type": "code",
   "execution_count": 58,
   "outputs": [],
   "source": [
    "final_df.to_csv('/Users/merlesteffen/Documents/Education/WBS_Coding_School/Bootcamp/Sentiment_In_Session/Final_DF/combined_df.csv', index=False)"
   ],
   "metadata": {
    "collapsed": false,
    "ExecuteTime": {
     "end_time": "2023-11-15T11:46:50.284021Z",
     "start_time": "2023-11-15T11:46:35.878856Z"
    }
   },
   "id": "96be310b02ca63b3"
  }
 ],
 "metadata": {
  "kernelspec": {
   "display_name": "Python 3",
   "language": "python",
   "name": "python3"
  },
  "language_info": {
   "codemirror_mode": {
    "name": "ipython",
    "version": 2
   },
   "file_extension": ".py",
   "mimetype": "text/x-python",
   "name": "python",
   "nbconvert_exporter": "python",
   "pygments_lexer": "ipython2",
   "version": "2.7.6"
  }
 },
 "nbformat": 4,
 "nbformat_minor": 5
}
