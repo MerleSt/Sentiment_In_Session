{
 "cells": [
  {
   "cell_type": "markdown",
   "source": [
    "# Imports"
   ],
   "metadata": {
    "collapsed": false
   },
   "id": "5a4234865800748c"
  },
  {
   "cell_type": "code",
   "execution_count": 66,
   "id": "initial_id",
   "metadata": {
    "collapsed": true,
    "ExecuteTime": {
     "end_time": "2023-11-07T15:57:42.907597Z",
     "start_time": "2023-11-07T15:57:42.354083Z"
    }
   },
   "outputs": [],
   "source": [
    "import pandas as pd\n",
    "import re"
   ]
  },
  {
   "cell_type": "code",
   "execution_count": 67,
   "outputs": [],
   "source": [
    "df_speaker = pd.read_csv('/Users/merlesteffen/Documents/Education/WBS_Coding_School/Bootcamp/Final_Project/speeches_bundestag/Final_DF/final_text_speaker_df_2.csv', encoding='utf-8')\n",
    "df_parties = pd.read_csv('/Users/merlesteffen/Documents/Education/WBS_Coding_School/Bootcamp/Final_Project/Final_Data/parties.csv')"
   ],
   "metadata": {
    "collapsed": false,
    "ExecuteTime": {
     "end_time": "2023-11-07T15:57:52.789756Z",
     "start_time": "2023-11-07T15:57:42.378020Z"
    }
   },
   "id": "6d4c60bc8f687064"
  },
  {
   "cell_type": "markdown",
   "source": [
    "## Unique Speaker per Wahlperiode Dataframe"
   ],
   "metadata": {
    "collapsed": false
   },
   "id": "d64bff95e5dc6d68"
  },
  {
   "cell_type": "code",
   "execution_count": 68,
   "outputs": [
    {
     "data": {
      "text/plain": "(4864724, 8)"
     },
     "execution_count": 68,
     "metadata": {},
     "output_type": "execute_result"
    }
   ],
   "source": [
    "df_speaker.shape"
   ],
   "metadata": {
    "collapsed": false,
    "ExecuteTime": {
     "end_time": "2023-11-07T15:57:52.800395Z",
     "start_time": "2023-11-07T15:57:52.792842Z"
    }
   },
   "id": "23b774c413565ab1"
  },
  {
   "cell_type": "code",
   "execution_count": 69,
   "outputs": [],
   "source": [
    "# Drop duplicate rows to get unique combinations of 'Wahlperiode' and 'Speaker'\n",
    "unique_speakers_per_wahlperiode = df_speaker[['Wahlperiode', 'Speaker']].drop_duplicates()"
   ],
   "metadata": {
    "collapsed": false,
    "ExecuteTime": {
     "end_time": "2023-11-07T15:57:53.100380Z",
     "start_time": "2023-11-07T15:57:52.821607Z"
    }
   },
   "id": "a6da85a80652e2c8"
  },
  {
   "cell_type": "code",
   "execution_count": 70,
   "outputs": [
    {
     "data": {
      "text/plain": "         Wahlperiode                                        Speaker\n0                 15                    Alterspräsident Otto Schily\n38                15                              Franz Müntefering\n82                15                               Wolfgang Thierse\n86                15                     Präsident Wolfgang Thierse\n143               15                             Eugen Gerstenmaier\n...              ...                                            ...\n4856707           20                                Ersten Gesetzes\n4856709           20            Mehr Mitbestimmung der Patientinnen\n4860897           20          Lobby RG) – Geldflüsse offenlegen und\n4861077           20  gesetz militärisches Personal – Mil Pers Glei\n4864229           20          Bezahlbaren Strom sichern – Industrie\n\n[9484 rows x 2 columns]",
      "text/html": "<div>\n<style scoped>\n    .dataframe tbody tr th:only-of-type {\n        vertical-align: middle;\n    }\n\n    .dataframe tbody tr th {\n        vertical-align: top;\n    }\n\n    .dataframe thead th {\n        text-align: right;\n    }\n</style>\n<table border=\"1\" class=\"dataframe\">\n  <thead>\n    <tr style=\"text-align: right;\">\n      <th></th>\n      <th>Wahlperiode</th>\n      <th>Speaker</th>\n    </tr>\n  </thead>\n  <tbody>\n    <tr>\n      <th>0</th>\n      <td>15</td>\n      <td>Alterspräsident Otto Schily</td>\n    </tr>\n    <tr>\n      <th>38</th>\n      <td>15</td>\n      <td>Franz Müntefering</td>\n    </tr>\n    <tr>\n      <th>82</th>\n      <td>15</td>\n      <td>Wolfgang Thierse</td>\n    </tr>\n    <tr>\n      <th>86</th>\n      <td>15</td>\n      <td>Präsident Wolfgang Thierse</td>\n    </tr>\n    <tr>\n      <th>143</th>\n      <td>15</td>\n      <td>Eugen Gerstenmaier</td>\n    </tr>\n    <tr>\n      <th>...</th>\n      <td>...</td>\n      <td>...</td>\n    </tr>\n    <tr>\n      <th>4856707</th>\n      <td>20</td>\n      <td>Ersten Gesetzes</td>\n    </tr>\n    <tr>\n      <th>4856709</th>\n      <td>20</td>\n      <td>Mehr Mitbestimmung der Patientinnen</td>\n    </tr>\n    <tr>\n      <th>4860897</th>\n      <td>20</td>\n      <td>Lobby RG) – Geldflüsse offenlegen und</td>\n    </tr>\n    <tr>\n      <th>4861077</th>\n      <td>20</td>\n      <td>gesetz militärisches Personal – Mil Pers Glei</td>\n    </tr>\n    <tr>\n      <th>4864229</th>\n      <td>20</td>\n      <td>Bezahlbaren Strom sichern – Industrie</td>\n    </tr>\n  </tbody>\n</table>\n<p>9484 rows × 2 columns</p>\n</div>"
     },
     "execution_count": 70,
     "metadata": {},
     "output_type": "execute_result"
    }
   ],
   "source": [
    "unique_speakers_per_wahlperiode"
   ],
   "metadata": {
    "collapsed": false,
    "ExecuteTime": {
     "end_time": "2023-11-07T15:57:53.109990Z",
     "start_time": "2023-11-07T15:57:53.106585Z"
    }
   },
   "id": "1fc3f4d962f57402"
  },
  {
   "cell_type": "code",
   "execution_count": 71,
   "outputs": [],
   "source": [
    "unique_speakers = df_speaker['Speaker'].drop_duplicates()"
   ],
   "metadata": {
    "collapsed": false,
    "ExecuteTime": {
     "end_time": "2023-11-07T15:57:53.208124Z",
     "start_time": "2023-11-07T15:57:53.190231Z"
    }
   },
   "id": "18f8a23ebd4082f9"
  },
  {
   "cell_type": "code",
   "execution_count": 72,
   "outputs": [
    {
     "data": {
      "text/plain": "0                            Alterspräsident Otto Schily\n38                                     Franz Müntefering\n82                                      Wolfgang Thierse\n86                            Präsident Wolfgang Thierse\n143                                   Eugen Gerstenmaier\n                               ...                      \n4856009      Keine Unterstützung von Schlepperei, Schleu\n4856709              Mehr Mitbestimmung der Patientinnen\n4860897            Lobby RG) – Geldflüsse offenlegen und\n4861077    gesetz militärisches Personal – Mil Pers Glei\n4864229            Bezahlbaren Strom sichern – Industrie\nName: Speaker, Length: 6617, dtype: object"
     },
     "execution_count": 72,
     "metadata": {},
     "output_type": "execute_result"
    }
   ],
   "source": [
    "unique_speakers"
   ],
   "metadata": {
    "collapsed": false,
    "ExecuteTime": {
     "end_time": "2023-11-07T15:57:53.208345Z",
     "start_time": "2023-11-07T15:57:53.198742Z"
    }
   },
   "id": "cc9ed74df0c1b1ec"
  },
  {
   "cell_type": "markdown",
   "source": [
    "\n",
    "roughly 10 000 Speaker"
   ],
   "metadata": {
    "collapsed": false
   },
   "id": "c5ce4080cc25e961"
  },
  {
   "cell_type": "markdown",
   "source": [
    "# Check for overlaying Names in Speaker and Party Members"
   ],
   "metadata": {
    "collapsed": false
   },
   "id": "a2af55e6131d9c5d"
  },
  {
   "cell_type": "code",
   "execution_count": 73,
   "outputs": [],
   "source": [
    "# Create empty columns for 'Name' and 'Fraktion' in unique_speakers_per_wahlperiode\n",
    "unique_speakers_per_wahlperiode['Name'] = None\n",
    "unique_speakers_per_wahlperiode['Fraktion'] = None    "
   ],
   "metadata": {
    "collapsed": false,
    "ExecuteTime": {
     "end_time": "2023-11-07T15:57:53.208384Z",
     "start_time": "2023-11-07T15:57:53.200821Z"
    }
   },
   "id": "9f873c5271fe2e7e"
  },
  {
   "cell_type": "code",
   "execution_count": 74,
   "outputs": [],
   "source": [
    "# Iterate over each row in unique_speakers_per_wahlperiode\n",
    "for idx, row in unique_speakers_per_wahlperiode.iterrows():\n",
    "    # Find members in the same Wahlperiode\n",
    "    members_in_same_wahlperiode = df_parties[df_parties['Wahlperiode'] == row['Wahlperiode']]\n",
    "    \n",
    "    # Iterate over the members DataFrame to find a partial match\n",
    "    for _, member_row in members_in_same_wahlperiode.iterrows():\n",
    "        # Check if the speaker name contains the member name\n",
    "        if member_row['Name'].lower() in row['Speaker'].lower():\n",
    "            # If a match is found, update the 'name' and 'Fraktion' columns\n",
    "            unique_speakers_per_wahlperiode.at[idx, 'Name'] = member_row['Name']\n",
    "            unique_speakers_per_wahlperiode.at[idx, 'Fraktion'] = member_row['Fraktion']\n",
    "            break  # Assuming only the first match is needed"
   ],
   "metadata": {
    "collapsed": false,
    "ExecuteTime": {
     "end_time": "2023-11-07T15:58:46.950096Z",
     "start_time": "2023-11-07T15:57:53.209947Z"
    }
   },
   "id": "bd207577f25b6aec"
  },
  {
   "cell_type": "code",
   "execution_count": 75,
   "outputs": [],
   "source": [
    "# Iterate over each row in unique_speakers_per_wahlperiode\n",
    "for idx, speaker_row in unique_speakers_per_wahlperiode.iterrows():\n",
    "    # Filter members from df_parties who are in the same Wahlperiode as the current speaker\n",
    "    members_in_same_wahlperiode = df_parties[df_parties['Wahlperiode'] == speaker_row['Wahlperiode']]\n",
    "    \n",
    "    # Track if a match is found to avoid unnecessary iterations\n",
    "    match_found = False\n",
    "    \n",
    "    # Iterate over the filtered members DataFrame\n",
    "    for _, member_row in members_in_same_wahlperiode.iterrows():\n",
    "        # Check if the member name is in the speaker name (case-insensitive)\n",
    "        if member_row['Name'].lower() in speaker_row['Speaker'].lower():\n",
    "            # Update the 'Name' and 'Fraktion' columns with the member's information\n",
    "            unique_speakers_per_wahlperiode.at[idx, 'Name'] = member_row['Name']\n",
    "            unique_speakers_per_wahlperiode.at[idx, 'Fraktion'] = member_row['Fraktion']\n",
    "            match_found = True\n",
    "            break  # Stop after the first match\n",
    "    \n",
    "    # If no match was found in the same Wahlperiode, search the entire df_parties\n",
    "    if not match_found:\n",
    "        for _, member_row in df_parties.iterrows():\n",
    "            if member_row['Name'].lower() in speaker_row['Speaker'].lower():\n",
    "                # Update with the matched name and Fraktion, regardless of Wahlperiode\n",
    "                unique_speakers_per_wahlperiode.at[idx, 'Name'] = member_row['Name']\n",
    "                unique_speakers_per_wahlperiode.at[idx, 'Fraktion'] = member_row['Fraktion']\n",
    "                break  # Stop after the first match"
   ],
   "metadata": {
    "collapsed": false,
    "ExecuteTime": {
     "end_time": "2023-11-07T16:03:14.851680Z",
     "start_time": "2023-11-07T15:58:46.952834Z"
    }
   },
   "id": "3914f0e3cb5b9d5e"
  },
  {
   "cell_type": "code",
   "execution_count": 76,
   "outputs": [
    {
     "data": {
      "text/plain": "Wahlperiode       0\nSpeaker           0\nName           5035\nFraktion       5035\ndtype: int64"
     },
     "execution_count": 76,
     "metadata": {},
     "output_type": "execute_result"
    }
   ],
   "source": [
    "unique_speakers_per_wahlperiode.isna().sum()"
   ],
   "metadata": {
    "collapsed": false,
    "ExecuteTime": {
     "end_time": "2023-11-07T16:03:14.860030Z",
     "start_time": "2023-11-07T16:03:14.856049Z"
    }
   },
   "id": "992b98689e94500a"
  },
  {
   "cell_type": "code",
   "execution_count": 77,
   "outputs": [
    {
     "data": {
      "text/plain": "(9484, 4)"
     },
     "execution_count": 77,
     "metadata": {},
     "output_type": "execute_result"
    }
   ],
   "source": [
    "unique_speakers_per_wahlperiode.shape"
   ],
   "metadata": {
    "collapsed": false,
    "ExecuteTime": {
     "end_time": "2023-11-07T16:03:14.865679Z",
     "start_time": "2023-11-07T16:03:14.860078Z"
    }
   },
   "id": "de5ab5ca6f86fe85"
  },
  {
   "cell_type": "code",
   "execution_count": 78,
   "outputs": [
    {
     "data": {
      "text/plain": "         Wahlperiode                                       Speaker  \\\n495746            15                         Eigentümerrechte Stär   \n673099            16                              Haushaltsentwurf   \n101600            15                                Johannes Pflug   \n3080170           18  Dr. Alexander S. Neu, Andrej Hunko, Wolfgang   \n220396            15                                    Kompromiss   \n1374914           17                                Antje Tillmann   \n1738763           17                                    … Gesetzes   \n515065            16                            Dr.Annette Schavan   \n3516076           19                             Dr. Günter Krings   \n4635947           20                                    Uwe Schulz   \n\n                    Name       Fraktion  \n495746              None           None  \n673099              None           None  \n101600    Johannes Pflug            SPD  \n3080170     Andrej Hunko      DIE LINKE  \n220396              None           None  \n1374914   Antje Tillmann            CDU  \n1738763             None           None  \n515065   Annette Schavan            CDU  \n3516076    Günter Krings  CDU/CSU (CDU)  \n4635947       Uwe Schulz            AfD  ",
      "text/html": "<div>\n<style scoped>\n    .dataframe tbody tr th:only-of-type {\n        vertical-align: middle;\n    }\n\n    .dataframe tbody tr th {\n        vertical-align: top;\n    }\n\n    .dataframe thead th {\n        text-align: right;\n    }\n</style>\n<table border=\"1\" class=\"dataframe\">\n  <thead>\n    <tr style=\"text-align: right;\">\n      <th></th>\n      <th>Wahlperiode</th>\n      <th>Speaker</th>\n      <th>Name</th>\n      <th>Fraktion</th>\n    </tr>\n  </thead>\n  <tbody>\n    <tr>\n      <th>495746</th>\n      <td>15</td>\n      <td>Eigentümerrechte Stär</td>\n      <td>None</td>\n      <td>None</td>\n    </tr>\n    <tr>\n      <th>673099</th>\n      <td>16</td>\n      <td>Haushaltsentwurf</td>\n      <td>None</td>\n      <td>None</td>\n    </tr>\n    <tr>\n      <th>101600</th>\n      <td>15</td>\n      <td>Johannes Pflug</td>\n      <td>Johannes Pflug</td>\n      <td>SPD</td>\n    </tr>\n    <tr>\n      <th>3080170</th>\n      <td>18</td>\n      <td>Dr. Alexander S. Neu, Andrej Hunko, Wolfgang</td>\n      <td>Andrej Hunko</td>\n      <td>DIE LINKE</td>\n    </tr>\n    <tr>\n      <th>220396</th>\n      <td>15</td>\n      <td>Kompromiss</td>\n      <td>None</td>\n      <td>None</td>\n    </tr>\n    <tr>\n      <th>1374914</th>\n      <td>17</td>\n      <td>Antje Tillmann</td>\n      <td>Antje Tillmann</td>\n      <td>CDU</td>\n    </tr>\n    <tr>\n      <th>1738763</th>\n      <td>17</td>\n      <td>… Gesetzes</td>\n      <td>None</td>\n      <td>None</td>\n    </tr>\n    <tr>\n      <th>515065</th>\n      <td>16</td>\n      <td>Dr.Annette Schavan</td>\n      <td>Annette Schavan</td>\n      <td>CDU</td>\n    </tr>\n    <tr>\n      <th>3516076</th>\n      <td>19</td>\n      <td>Dr. Günter Krings</td>\n      <td>Günter Krings</td>\n      <td>CDU/CSU (CDU)</td>\n    </tr>\n    <tr>\n      <th>4635947</th>\n      <td>20</td>\n      <td>Uwe Schulz</td>\n      <td>Uwe Schulz</td>\n      <td>AfD</td>\n    </tr>\n  </tbody>\n</table>\n</div>"
     },
     "execution_count": 78,
     "metadata": {},
     "output_type": "execute_result"
    }
   ],
   "source": [
    "unique_speakers_per_wahlperiode.sample(10)"
   ],
   "metadata": {
    "collapsed": false,
    "ExecuteTime": {
     "end_time": "2023-11-07T16:03:14.870912Z",
     "start_time": "2023-11-07T16:03:14.863907Z"
    }
   },
   "id": "9261ed7e0e45bdac"
  },
  {
   "cell_type": "code",
   "execution_count": 79,
   "outputs": [],
   "source": [
    "# Let us try it another way and check which works better\n",
    "# Iterate over each row in unique_speakers_per_wahlperiode\n",
    "for idx, speaker_row in unique_speakers_per_wahlperiode.iterrows():\n",
    "    speaker_name_regex = re.escape(speaker_row['Speaker']).replace(r'\\ ', r'\\W*')\n",
    "    # Filter the df_parties DataFrame for rows where the 'Name' column contains the speaker's name, case-insensitively\n",
    "    filtered_df = df_parties[df_parties['Name'].str.contains(speaker_name_regex, na=False, case=False, regex=True)]\n",
    "\n",
    "    # Check the number of entries in the filtered dataframe\n",
    "    if len(filtered_df) > 1:\n",
    "        # Check Wahlperiode if there is more than one entry\n",
    "        # Assuming 'Wahlperiode' is a column in both dataframes and we want to match it with the speaker's 'Wahlperiode'\n",
    "        correct_wahlperiode = filtered_df[filtered_df['Wahlperiode'] == speaker_row['Wahlperiode']]\n",
    "        # If there's exactly one entry with the correct Wahlperiode, use that entry\n",
    "        if len(correct_wahlperiode) == 1:\n",
    "            # Update the 'Name' and 'Fraktion' columns with the member's information\n",
    "            unique_speakers_per_wahlperiode.at[idx, 'Name'] = correct_wahlperiode.iloc[0]['Name']\n",
    "            unique_speakers_per_wahlperiode.at[idx, 'Fraktion'] = correct_wahlperiode.iloc[0]['Fraktion']\n",
    "        else:\n",
    "            # Handle the case where there's no match or multiple matches even within the same Wahlperiode\n",
    "            # You could also add more sophisticated handling here if needed\n",
    "            pass\n",
    "    elif len(filtered_df) == 1:\n",
    "        # If there's exactly one entry, use that entry\n",
    "        unique_speakers_per_wahlperiode.at[idx, 'Name'] = filtered_df.iloc[0]['Name']\n",
    "        unique_speakers_per_wahlperiode.at[idx, 'Fraktion'] = filtered_df.iloc[0]['Fraktion']\n",
    "    else:\n",
    "        # If no entries are found, handle the case as needed\n",
    "        # You could set a default value or perform some other operation\n",
    "        pass"
   ],
   "metadata": {
    "collapsed": false,
    "ExecuteTime": {
     "end_time": "2023-11-07T16:03:22.097042Z",
     "start_time": "2023-11-07T16:03:14.880783Z"
    }
   },
   "id": "3dd27dd05cf4fbe6"
  },
  {
   "cell_type": "code",
   "execution_count": 80,
   "outputs": [
    {
     "data": {
      "text/plain": "Wahlperiode       0\nSpeaker           0\nName           4641\nFraktion       4641\ndtype: int64"
     },
     "execution_count": 80,
     "metadata": {},
     "output_type": "execute_result"
    }
   ],
   "source": [
    "unique_speakers_per_wahlperiode.isna().sum()"
   ],
   "metadata": {
    "collapsed": false,
    "ExecuteTime": {
     "end_time": "2023-11-07T16:03:22.104892Z",
     "start_time": "2023-11-07T16:03:22.100559Z"
    }
   },
   "id": "868a59a07cadb0b3"
  },
  {
   "cell_type": "code",
   "execution_count": 81,
   "outputs": [
    {
     "data": {
      "text/plain": "(9484, 4)"
     },
     "execution_count": 81,
     "metadata": {},
     "output_type": "execute_result"
    }
   ],
   "source": [
    "unique_speakers_per_wahlperiode.shape"
   ],
   "metadata": {
    "collapsed": false,
    "ExecuteTime": {
     "end_time": "2023-11-07T16:03:22.106183Z",
     "start_time": "2023-11-07T16:03:22.103468Z"
    }
   },
   "id": "f4e094fe4411ef00"
  },
  {
   "cell_type": "code",
   "execution_count": 82,
   "outputs": [
    {
     "data": {
      "text/plain": "         Wahlperiode                                         Speaker  \\\n2044045           17                    – Weitere Prüfungsergebnisse   \n406778            15                                weiterer Gesetze   \n226934            15                                     Ulrich Adam   \n257314            15                         Mindestsicherungsniveau   \n420595            15  Wehrpflicht aussetzen – Freiwilligen, militäri   \n651254            16                                Göttinger Bürger   \n2415839           18                                Kerstin Radomski   \n3893685           19       tigen Nutzen konzipieren – Rohstoffversor   \n4170096           19                  Bargeld ist gedruckte Freiheit   \n3983719           19                               den Kohleregionen   \n\n                     Name Fraktion  \n2044045              None     None  \n406778               None     None  \n226934        Ulrich Adam      CDU  \n257314               None     None  \n420595               None     None  \n651254               None     None  \n2415839  Kerstin Radomski      CDU  \n3893685              None     None  \n4170096              None     None  \n3983719              None     None  ",
      "text/html": "<div>\n<style scoped>\n    .dataframe tbody tr th:only-of-type {\n        vertical-align: middle;\n    }\n\n    .dataframe tbody tr th {\n        vertical-align: top;\n    }\n\n    .dataframe thead th {\n        text-align: right;\n    }\n</style>\n<table border=\"1\" class=\"dataframe\">\n  <thead>\n    <tr style=\"text-align: right;\">\n      <th></th>\n      <th>Wahlperiode</th>\n      <th>Speaker</th>\n      <th>Name</th>\n      <th>Fraktion</th>\n    </tr>\n  </thead>\n  <tbody>\n    <tr>\n      <th>2044045</th>\n      <td>17</td>\n      <td>– Weitere Prüfungsergebnisse</td>\n      <td>None</td>\n      <td>None</td>\n    </tr>\n    <tr>\n      <th>406778</th>\n      <td>15</td>\n      <td>weiterer Gesetze</td>\n      <td>None</td>\n      <td>None</td>\n    </tr>\n    <tr>\n      <th>226934</th>\n      <td>15</td>\n      <td>Ulrich Adam</td>\n      <td>Ulrich Adam</td>\n      <td>CDU</td>\n    </tr>\n    <tr>\n      <th>257314</th>\n      <td>15</td>\n      <td>Mindestsicherungsniveau</td>\n      <td>None</td>\n      <td>None</td>\n    </tr>\n    <tr>\n      <th>420595</th>\n      <td>15</td>\n      <td>Wehrpflicht aussetzen – Freiwilligen, militäri</td>\n      <td>None</td>\n      <td>None</td>\n    </tr>\n    <tr>\n      <th>651254</th>\n      <td>16</td>\n      <td>Göttinger Bürger</td>\n      <td>None</td>\n      <td>None</td>\n    </tr>\n    <tr>\n      <th>2415839</th>\n      <td>18</td>\n      <td>Kerstin Radomski</td>\n      <td>Kerstin Radomski</td>\n      <td>CDU</td>\n    </tr>\n    <tr>\n      <th>3893685</th>\n      <td>19</td>\n      <td>tigen Nutzen konzipieren – Rohstoffversor</td>\n      <td>None</td>\n      <td>None</td>\n    </tr>\n    <tr>\n      <th>4170096</th>\n      <td>19</td>\n      <td>Bargeld ist gedruckte Freiheit</td>\n      <td>None</td>\n      <td>None</td>\n    </tr>\n    <tr>\n      <th>3983719</th>\n      <td>19</td>\n      <td>den Kohleregionen</td>\n      <td>None</td>\n      <td>None</td>\n    </tr>\n  </tbody>\n</table>\n</div>"
     },
     "execution_count": 82,
     "metadata": {},
     "output_type": "execute_result"
    }
   ],
   "source": [
    "unique_speakers_per_wahlperiode.sample(10)"
   ],
   "metadata": {
    "collapsed": false,
    "ExecuteTime": {
     "end_time": "2023-11-07T16:03:22.117461Z",
     "start_time": "2023-11-07T16:03:22.106860Z"
    }
   },
   "id": "8a4dcf6ea05e3c9b"
  },
  {
   "cell_type": "code",
   "execution_count": 83,
   "outputs": [],
   "source": [
    "# Only match partial names as well\n",
    "# Iterate over each row in unique_speakers_per_wahlperiode\n",
    "for idx, speaker_row in unique_speakers_per_wahlperiode.iterrows():\n",
    "    # Extract the likely unique part of the speaker's name (in this case, the first name or a significant part of it)\n",
    "    # Here, we're using split to just take the part after 'Dr.' if it's there and then splitting on spaces to get the first name.\n",
    "    # We assume the format is always 'Dr. Firstname Lastname' if 'Dr.' is present.\n",
    "    name_parts = speaker_row['Speaker'].replace('Dr.', '').strip().split()\n",
    "    unique_name_part = name_parts[0] if name_parts else speaker_row['Speaker']\n",
    "    \n",
    "    # Prepare a regex pattern that matches the unique name part, case-insensitively\n",
    "    name_regex = re.escape(unique_name_part) + r'\\W*'\n",
    "\n",
    "    # Filter df_parties for names that contain the regex pattern within the same Wahlperiode, case-insensitively\n",
    "    filtered_df = df_parties[\n",
    "        (df_parties['Name'].str.contains(name_regex, na=False, case=False, regex=True)) &\n",
    "        (df_parties['Wahlperiode'] == speaker_row['Wahlperiode'])\n",
    "    ]\n",
    "\n",
    "    # Check the number of entries in the filtered dataframe\n",
    "    if len(filtered_df) == 1:\n",
    "        # If there's exactly one entry, use that entry\n",
    "        matched_member = filtered_df.iloc[0]\n",
    "        unique_speakers_per_wahlperiode.at[idx, 'Name'] = matched_member['Name']\n",
    "        unique_speakers_per_wahlperiode.at[idx, 'Fraktion'] = matched_member['Fraktion']\n",
    "    elif len(filtered_df) > 1:\n",
    "        # If there are multiple entries, you might need additional logic to choose the correct one\n",
    "        # Since you mentioned that 'Tobias' is unique in this case, this block may not be necessary\n",
    "        # But it's here in case you need to handle multiple matches\n",
    "        pass\n",
    "    else:\n",
    "        # No match found, you can decide how to handle this scenario\n",
    "        pass"
   ],
   "metadata": {
    "collapsed": false,
    "ExecuteTime": {
     "end_time": "2023-11-07T16:03:31.312977Z",
     "start_time": "2023-11-07T16:03:22.110466Z"
    }
   },
   "id": "c3c3f3e8693b8b69"
  },
  {
   "cell_type": "code",
   "execution_count": 84,
   "outputs": [
    {
     "data": {
      "text/plain": "Wahlperiode       0\nSpeaker           0\nName           4421\nFraktion       4421\ndtype: int64"
     },
     "execution_count": 84,
     "metadata": {},
     "output_type": "execute_result"
    }
   ],
   "source": [
    "unique_speakers_per_wahlperiode.isna().sum()"
   ],
   "metadata": {
    "collapsed": false,
    "ExecuteTime": {
     "end_time": "2023-11-07T16:03:31.318113Z",
     "start_time": "2023-11-07T16:03:31.315898Z"
    }
   },
   "id": "370d9c4392f2030b"
  },
  {
   "cell_type": "code",
   "execution_count": 85,
   "outputs": [
    {
     "data": {
      "text/plain": "(9484, 4)"
     },
     "execution_count": 85,
     "metadata": {},
     "output_type": "execute_result"
    }
   ],
   "source": [
    "unique_speakers_per_wahlperiode.shape"
   ],
   "metadata": {
    "collapsed": false,
    "ExecuteTime": {
     "end_time": "2023-11-07T16:03:31.323173Z",
     "start_time": "2023-11-07T16:03:31.317892Z"
    }
   },
   "id": "73e6d2684e8ac0ba"
  },
  {
   "cell_type": "code",
   "execution_count": 86,
   "outputs": [],
   "source": [
    "unique_new = unique_speakers_per_wahlperiode.copy()"
   ],
   "metadata": {
    "collapsed": false,
    "ExecuteTime": {
     "end_time": "2023-11-07T16:03:31.327512Z",
     "start_time": "2023-11-07T16:03:31.319580Z"
    }
   },
   "id": "b43d0f28eab9e9e7"
  },
  {
   "cell_type": "code",
   "execution_count": 87,
   "outputs": [
    {
     "data": {
      "text/plain": "(9484, 4)"
     },
     "execution_count": 87,
     "metadata": {},
     "output_type": "execute_result"
    }
   ],
   "source": [
    "unique_new.shape"
   ],
   "metadata": {
    "collapsed": false,
    "ExecuteTime": {
     "end_time": "2023-11-07T16:03:31.331444Z",
     "start_time": "2023-11-07T16:03:31.321881Z"
    }
   },
   "id": "1e972d3e0178d2b7"
  },
  {
   "cell_type": "code",
   "execution_count": 88,
   "outputs": [],
   "source": [
    "unique_new = unique_new.drop_duplicates(subset=['Speaker'])"
   ],
   "metadata": {
    "collapsed": false,
    "ExecuteTime": {
     "end_time": "2023-11-07T16:03:31.331491Z",
     "start_time": "2023-11-07T16:03:31.325151Z"
    }
   },
   "id": "1f47cdf730fc900c"
  },
  {
   "cell_type": "code",
   "execution_count": 89,
   "outputs": [],
   "source": [
    "# combine dataframes\n",
    "# Concatenate df_speakers with unique_speakers_per_wahlperiode using an outer join to include all records\n",
    "combined_df = df_speaker.merge(unique_new, on='Speaker', how='left')"
   ],
   "metadata": {
    "collapsed": false,
    "ExecuteTime": {
     "end_time": "2023-11-07T16:03:33.366345Z",
     "start_time": "2023-11-07T16:03:31.328193Z"
    }
   },
   "id": "4f60c98490238313"
  },
  {
   "cell_type": "code",
   "execution_count": 90,
   "outputs": [
    {
     "data": {
      "text/plain": "(4864724, 11)"
     },
     "execution_count": 90,
     "metadata": {},
     "output_type": "execute_result"
    }
   ],
   "source": [
    "combined_df.shape"
   ],
   "metadata": {
    "collapsed": false,
    "ExecuteTime": {
     "end_time": "2023-11-07T16:03:33.371427Z",
     "start_time": "2023-11-07T16:03:33.366913Z"
    }
   },
   "id": "278abdd2e884b1d4"
  },
  {
   "cell_type": "code",
   "execution_count": 91,
   "outputs": [],
   "source": [
    "combined_new = combined_df.copy()"
   ],
   "metadata": {
    "collapsed": false,
    "ExecuteTime": {
     "end_time": "2023-11-07T16:03:34.586654Z",
     "start_time": "2023-11-07T16:03:33.368837Z"
    }
   },
   "id": "e6b19f1c0a79f405"
  },
  {
   "cell_type": "code",
   "execution_count": 92,
   "outputs": [
    {
     "data": {
      "text/plain": "Wahlperiode_x          0\nSitzung                0\nDate                   0\nStart                  0\nSchluss                0\nSpeaker                0\nText_Spoken            0\nReactions        4105647\nWahlperiode_y          0\nName              334112\nFraktion          334112\ndtype: int64"
     },
     "execution_count": 92,
     "metadata": {},
     "output_type": "execute_result"
    }
   ],
   "source": [
    "combined_new.isna().sum()"
   ],
   "metadata": {
    "collapsed": false,
    "ExecuteTime": {
     "end_time": "2023-11-07T16:03:36.745494Z",
     "start_time": "2023-11-07T16:03:34.586934Z"
    }
   },
   "id": "cda5352503afa97c"
  },
  {
   "cell_type": "code",
   "execution_count": 93,
   "outputs": [
    {
     "name": "stderr",
     "output_type": "stream",
     "text": [
      "Some weights of the model checkpoint at dslim/bert-base-NER were not used when initializing BertForTokenClassification: ['bert.pooler.dense.weight', 'bert.pooler.dense.bias']\n",
      "- This IS expected if you are initializing BertForTokenClassification from the checkpoint of a model trained on another task or with another architecture (e.g. initializing a BertForSequenceClassification model from a BertForPreTraining model).\n",
      "- This IS NOT expected if you are initializing BertForTokenClassification from the checkpoint of a model that you expect to be exactly identical (initializing a BertForSequenceClassification model from a BertForSequenceClassification model).\n"
     ]
    }
   ],
   "source": [
    "from transformers import AutoTokenizer, AutoModelForTokenClassification\n",
    "from transformers import pipeline\n",
    "\n",
    "tokenizer = AutoTokenizer.from_pretrained(\"dslim/bert-base-NER\")\n",
    "model = AutoModelForTokenClassification.from_pretrained(\"dslim/bert-base-NER\")\n",
    "\n",
    "nlp_person = pipeline(\"ner\", model=model, tokenizer=tokenizer)"
   ],
   "metadata": {
    "collapsed": false,
    "ExecuteTime": {
     "end_time": "2023-11-07T16:03:42.570601Z",
     "start_time": "2023-11-07T16:03:36.743308Z"
    }
   },
   "id": "2f169a1d7bacf3b0"
  },
  {
   "cell_type": "code",
   "execution_count": 94,
   "outputs": [],
   "source": [
    "# missing_names = combined_df[combined_df['Name'].isna()]\n",
    "# \n",
    "# # Initialize a counter for B-PER entities\n",
    "# b_per_count = 0\n",
    "# \n",
    "# for text in missing_names['Speaker']:\n",
    "#     ner_results = nlp_person(text)\n",
    "#     person_entities = [entity for entity in ner_results if entity['entity'] == 'B-PER']\n",
    "#     b_per_count += len(person_entities)\n",
    "# \n",
    "# print(f\"Number of B-PER entities found: {b_per_count}\")"
   ],
   "metadata": {
    "collapsed": false,
    "ExecuteTime": {
     "end_time": "2023-11-07T16:03:42.570753Z",
     "start_time": "2023-11-07T16:03:42.567826Z"
    }
   },
   "id": "c7aed81141c2f889"
  },
  {
   "cell_type": "code",
   "execution_count": 95,
   "outputs": [],
   "source": [
    "# combine dataframes and where there is no name insert none\n",
    "# Where there is none take the last identified name/speaker name for that line of text."
   ],
   "metadata": {
    "collapsed": false,
    "ExecuteTime": {
     "end_time": "2023-11-07T16:03:42.582025Z",
     "start_time": "2023-11-07T16:03:42.569635Z"
    }
   },
   "id": "c8d9910fa307ee5f"
  },
  {
   "cell_type": "code",
   "execution_count": 96,
   "outputs": [
    {
     "data": {
      "text/plain": "           Fraktion       Position                     Name  Wahlperiode\n23            Grüne  Abgeordnete*r       Tobias B. Bacherle           20\n381           Grüne  Abgeordnete*r           Tobias Lindner           20\n493             AfD  Abgeordnete*r  Tobias Matthias Peterka           20\n717   CDU/CSU (CSU)  Abgeordnete*r           Tobias Winkler           20\n1126          Grüne  Abgeordnete*r           Tobias Lindner           19\n1242            AfD  Abgeordnete*r  Tobias Matthias Peterka           19\n1246          Linke  Abgeordnete*r           Tobias Pflüger           19\n1817          GRÜNE  Abgeordnete*r           Tobias Lindner           18\n2123            CSU  Abgeordnete*r              Tobias Zech           18\n2488          GRÜNE  Abgeordnete*r           Tobias Lindner           17\n3772            SPD  Abgeordnete*r           Tobias Marhold           15",
      "text/html": "<div>\n<style scoped>\n    .dataframe tbody tr th:only-of-type {\n        vertical-align: middle;\n    }\n\n    .dataframe tbody tr th {\n        vertical-align: top;\n    }\n\n    .dataframe thead th {\n        text-align: right;\n    }\n</style>\n<table border=\"1\" class=\"dataframe\">\n  <thead>\n    <tr style=\"text-align: right;\">\n      <th></th>\n      <th>Fraktion</th>\n      <th>Position</th>\n      <th>Name</th>\n      <th>Wahlperiode</th>\n    </tr>\n  </thead>\n  <tbody>\n    <tr>\n      <th>23</th>\n      <td>Grüne</td>\n      <td>Abgeordnete*r</td>\n      <td>Tobias B. Bacherle</td>\n      <td>20</td>\n    </tr>\n    <tr>\n      <th>381</th>\n      <td>Grüne</td>\n      <td>Abgeordnete*r</td>\n      <td>Tobias Lindner</td>\n      <td>20</td>\n    </tr>\n    <tr>\n      <th>493</th>\n      <td>AfD</td>\n      <td>Abgeordnete*r</td>\n      <td>Tobias Matthias Peterka</td>\n      <td>20</td>\n    </tr>\n    <tr>\n      <th>717</th>\n      <td>CDU/CSU (CSU)</td>\n      <td>Abgeordnete*r</td>\n      <td>Tobias Winkler</td>\n      <td>20</td>\n    </tr>\n    <tr>\n      <th>1126</th>\n      <td>Grüne</td>\n      <td>Abgeordnete*r</td>\n      <td>Tobias Lindner</td>\n      <td>19</td>\n    </tr>\n    <tr>\n      <th>1242</th>\n      <td>AfD</td>\n      <td>Abgeordnete*r</td>\n      <td>Tobias Matthias Peterka</td>\n      <td>19</td>\n    </tr>\n    <tr>\n      <th>1246</th>\n      <td>Linke</td>\n      <td>Abgeordnete*r</td>\n      <td>Tobias Pflüger</td>\n      <td>19</td>\n    </tr>\n    <tr>\n      <th>1817</th>\n      <td>GRÜNE</td>\n      <td>Abgeordnete*r</td>\n      <td>Tobias Lindner</td>\n      <td>18</td>\n    </tr>\n    <tr>\n      <th>2123</th>\n      <td>CSU</td>\n      <td>Abgeordnete*r</td>\n      <td>Tobias Zech</td>\n      <td>18</td>\n    </tr>\n    <tr>\n      <th>2488</th>\n      <td>GRÜNE</td>\n      <td>Abgeordnete*r</td>\n      <td>Tobias Lindner</td>\n      <td>17</td>\n    </tr>\n    <tr>\n      <th>3772</th>\n      <td>SPD</td>\n      <td>Abgeordnete*r</td>\n      <td>Tobias Marhold</td>\n      <td>15</td>\n    </tr>\n  </tbody>\n</table>\n</div>"
     },
     "execution_count": 96,
     "metadata": {},
     "output_type": "execute_result"
    }
   ],
   "source": [
    "# Ensure the column contains string type for the search to work correctly\n",
    "df_parties['Name'] = df_parties['Name'].astype(str)\n",
    "\n",
    "# Search for 'Michael Hartmann' in the 'Name' column\n",
    "filtered_df = df_parties[df_parties['Name'].str.contains('Tobias', na=False)]\n",
    "filtered_df"
   ],
   "metadata": {
    "collapsed": false,
    "ExecuteTime": {
     "end_time": "2023-11-07T16:03:42.584773Z",
     "start_time": "2023-11-07T16:03:42.573191Z"
    }
   },
   "id": "26bb7005337f74ea"
  },
  {
   "cell_type": "code",
   "execution_count": 97,
   "outputs": [],
   "source": [
    "clean_combined = combined_new.drop_duplicates(subset=['Name'])"
   ],
   "metadata": {
    "collapsed": false,
    "ExecuteTime": {
     "end_time": "2023-11-07T16:03:42.663293Z",
     "start_time": "2023-11-07T16:03:42.618167Z"
    }
   },
   "id": "8857e13de71c941d"
  },
  {
   "cell_type": "code",
   "execution_count": 98,
   "outputs": [],
   "source": [
    "parties_no_duplicates = df_parties.drop_duplicates(subset=['Name'])"
   ],
   "metadata": {
    "collapsed": false,
    "ExecuteTime": {
     "end_time": "2023-11-07T16:03:42.663492Z",
     "start_time": "2023-11-07T16:03:42.636103Z"
    }
   },
   "id": "82b9af220dde4b8e"
  },
  {
   "cell_type": "code",
   "execution_count": 99,
   "outputs": [
    {
     "data": {
      "text/plain": "         Wahlperiode_x  Sitzung        Date            Start          Schluss  \\\n0                   15        1  2002-10-17  0 days 11:00:00  0 days 15:40:00   \n38                  15        1  2002-10-17  0 days 11:00:00  0 days 15:40:00   \n82                  15        1  2002-10-17  0 days 11:00:00  0 days 15:40:00   \n143                 15        1  2002-10-17  0 days 11:00:00  0 days 15:40:00   \n183                 15        1  2002-10-17  0 days 11:00:00  0 days 15:40:00   \n...                ...      ...         ...              ...              ...   \n4654662             20       87  2023-03-01  0 days 13:00:00  0 days 18:56:00   \n4675568             20       91  2023-03-16  0 days 09:00:00  0 days 23:03:00   \n4688137             20       94  2023-03-30  0 days 09:00:00  0 days 21:27:00   \n4746219             20      107  2023-05-26  0 days 09:00:00  0 days 16:06:00   \n4838931             20      127  2023-10-11  0 days 13:00:00  0 days 19:35:00   \n\n                             Speaker  \\\n0        Alterspräsident Otto Schily   \n38                 Franz Müntefering   \n82                  Wolfgang Thierse   \n143               Eugen Gerstenmaier   \n183               Dr. Gesine Lötzsch   \n...                              ...   \n4654662                  Emily Vontz   \n4675568               Alexander Föhr   \n4688137            Dirk Ulrich Mende   \n4746219            Ana Maria Trăsnea   \n4838931            Christian Bartelt   \n\n                                               Text_Spoken  \\\n0        Meine sehr verehrten Damen und sehr geehrten H...   \n38                                         Herr Präsident!   \n82            Herr Alterspräsident, ich nehme die Wahl an.   \n143                    dern möglichst gute Gesetze machen.   \n183                                        Herr Präsident!   \n...                                                    ...   \n4654662                     Vielen Dank, Frau Präsidentin.   \n4675568  Vielen Dank für die freundliche Begrüßung in d...   \n4688137                     Sehr geehrte Frau Präsidentin!   \n4746219                     Sehr geehrte Frau Präsidentin!   \n4838931                     Sehr geehrte Frau Präsidentin!   \n\n                                                 Reactions  Wahlperiode_y  \\\n0                                                      NaN             15   \n38                                                     NaN             15   \n82       Beifall im ganzen Hause Abgeordnete aller Frak...             15   \n143                                                    NaN             15   \n183                                                    NaN             15   \n...                                                    ...            ...   \n4654662                                                NaN             20   \n4675568                                                NaN             20   \n4688137                                                NaN             20   \n4746219                                                NaN             20   \n4838931                                                NaN             20   \n\n                      Name       Fraktion  \n0              Otto Schily            SPD  \n38       Franz Müntefering            SPD  \n82        Wolfgang Thierse            SPD  \n143                   None           None  \n183         Gesine Lötzsch            PDS  \n...                    ...            ...  \n4654662        Emily Vontz            SPD  \n4675568     Alexander Föhr  CDU/CSU (CDU)  \n4688137  Dirk-Ulrich Mende            SPD  \n4746219  Ana-Maria Trăsnea            SPD  \n4838931  Christian Bartelt            FDP  \n\n[1776 rows x 11 columns]",
      "text/html": "<div>\n<style scoped>\n    .dataframe tbody tr th:only-of-type {\n        vertical-align: middle;\n    }\n\n    .dataframe tbody tr th {\n        vertical-align: top;\n    }\n\n    .dataframe thead th {\n        text-align: right;\n    }\n</style>\n<table border=\"1\" class=\"dataframe\">\n  <thead>\n    <tr style=\"text-align: right;\">\n      <th></th>\n      <th>Wahlperiode_x</th>\n      <th>Sitzung</th>\n      <th>Date</th>\n      <th>Start</th>\n      <th>Schluss</th>\n      <th>Speaker</th>\n      <th>Text_Spoken</th>\n      <th>Reactions</th>\n      <th>Wahlperiode_y</th>\n      <th>Name</th>\n      <th>Fraktion</th>\n    </tr>\n  </thead>\n  <tbody>\n    <tr>\n      <th>0</th>\n      <td>15</td>\n      <td>1</td>\n      <td>2002-10-17</td>\n      <td>0 days 11:00:00</td>\n      <td>0 days 15:40:00</td>\n      <td>Alterspräsident Otto Schily</td>\n      <td>Meine sehr verehrten Damen und sehr geehrten H...</td>\n      <td>NaN</td>\n      <td>15</td>\n      <td>Otto Schily</td>\n      <td>SPD</td>\n    </tr>\n    <tr>\n      <th>38</th>\n      <td>15</td>\n      <td>1</td>\n      <td>2002-10-17</td>\n      <td>0 days 11:00:00</td>\n      <td>0 days 15:40:00</td>\n      <td>Franz Müntefering</td>\n      <td>Herr Präsident!</td>\n      <td>NaN</td>\n      <td>15</td>\n      <td>Franz Müntefering</td>\n      <td>SPD</td>\n    </tr>\n    <tr>\n      <th>82</th>\n      <td>15</td>\n      <td>1</td>\n      <td>2002-10-17</td>\n      <td>0 days 11:00:00</td>\n      <td>0 days 15:40:00</td>\n      <td>Wolfgang Thierse</td>\n      <td>Herr Alterspräsident, ich nehme die Wahl an.</td>\n      <td>Beifall im ganzen Hause Abgeordnete aller Frak...</td>\n      <td>15</td>\n      <td>Wolfgang Thierse</td>\n      <td>SPD</td>\n    </tr>\n    <tr>\n      <th>143</th>\n      <td>15</td>\n      <td>1</td>\n      <td>2002-10-17</td>\n      <td>0 days 11:00:00</td>\n      <td>0 days 15:40:00</td>\n      <td>Eugen Gerstenmaier</td>\n      <td>dern möglichst gute Gesetze machen.</td>\n      <td>NaN</td>\n      <td>15</td>\n      <td>None</td>\n      <td>None</td>\n    </tr>\n    <tr>\n      <th>183</th>\n      <td>15</td>\n      <td>1</td>\n      <td>2002-10-17</td>\n      <td>0 days 11:00:00</td>\n      <td>0 days 15:40:00</td>\n      <td>Dr. Gesine Lötzsch</td>\n      <td>Herr Präsident!</td>\n      <td>NaN</td>\n      <td>15</td>\n      <td>Gesine Lötzsch</td>\n      <td>PDS</td>\n    </tr>\n    <tr>\n      <th>...</th>\n      <td>...</td>\n      <td>...</td>\n      <td>...</td>\n      <td>...</td>\n      <td>...</td>\n      <td>...</td>\n      <td>...</td>\n      <td>...</td>\n      <td>...</td>\n      <td>...</td>\n      <td>...</td>\n    </tr>\n    <tr>\n      <th>4654662</th>\n      <td>20</td>\n      <td>87</td>\n      <td>2023-03-01</td>\n      <td>0 days 13:00:00</td>\n      <td>0 days 18:56:00</td>\n      <td>Emily Vontz</td>\n      <td>Vielen Dank, Frau Präsidentin.</td>\n      <td>NaN</td>\n      <td>20</td>\n      <td>Emily Vontz</td>\n      <td>SPD</td>\n    </tr>\n    <tr>\n      <th>4675568</th>\n      <td>20</td>\n      <td>91</td>\n      <td>2023-03-16</td>\n      <td>0 days 09:00:00</td>\n      <td>0 days 23:03:00</td>\n      <td>Alexander Föhr</td>\n      <td>Vielen Dank für die freundliche Begrüßung in d...</td>\n      <td>NaN</td>\n      <td>20</td>\n      <td>Alexander Föhr</td>\n      <td>CDU/CSU (CDU)</td>\n    </tr>\n    <tr>\n      <th>4688137</th>\n      <td>20</td>\n      <td>94</td>\n      <td>2023-03-30</td>\n      <td>0 days 09:00:00</td>\n      <td>0 days 21:27:00</td>\n      <td>Dirk Ulrich Mende</td>\n      <td>Sehr geehrte Frau Präsidentin!</td>\n      <td>NaN</td>\n      <td>20</td>\n      <td>Dirk-Ulrich Mende</td>\n      <td>SPD</td>\n    </tr>\n    <tr>\n      <th>4746219</th>\n      <td>20</td>\n      <td>107</td>\n      <td>2023-05-26</td>\n      <td>0 days 09:00:00</td>\n      <td>0 days 16:06:00</td>\n      <td>Ana Maria Trăsnea</td>\n      <td>Sehr geehrte Frau Präsidentin!</td>\n      <td>NaN</td>\n      <td>20</td>\n      <td>Ana-Maria Trăsnea</td>\n      <td>SPD</td>\n    </tr>\n    <tr>\n      <th>4838931</th>\n      <td>20</td>\n      <td>127</td>\n      <td>2023-10-11</td>\n      <td>0 days 13:00:00</td>\n      <td>0 days 19:35:00</td>\n      <td>Christian Bartelt</td>\n      <td>Sehr geehrte Frau Präsidentin!</td>\n      <td>NaN</td>\n      <td>20</td>\n      <td>Christian Bartelt</td>\n      <td>FDP</td>\n    </tr>\n  </tbody>\n</table>\n<p>1776 rows × 11 columns</p>\n</div>"
     },
     "execution_count": 99,
     "metadata": {},
     "output_type": "execute_result"
    }
   ],
   "source": [
    "clean_combined"
   ],
   "metadata": {
    "collapsed": false,
    "ExecuteTime": {
     "end_time": "2023-11-07T16:03:42.669713Z",
     "start_time": "2023-11-07T16:03:42.642110Z"
    }
   },
   "id": "f2eaeef05df97b9f"
  },
  {
   "cell_type": "code",
   "execution_count": 100,
   "outputs": [],
   "source": [
    "final_df = combined_new.merge(parties_no_duplicates, on='Name', how='left')"
   ],
   "metadata": {
    "collapsed": false,
    "ExecuteTime": {
     "end_time": "2023-11-07T16:03:44.380115Z",
     "start_time": "2023-11-07T16:03:42.750421Z"
    }
   },
   "id": "1d924d197d45c994"
  },
  {
   "cell_type": "code",
   "execution_count": 101,
   "outputs": [
    {
     "data": {
      "text/plain": "(4864724, 14)"
     },
     "execution_count": 101,
     "metadata": {},
     "output_type": "execute_result"
    }
   ],
   "source": [
    "final_df.shape"
   ],
   "metadata": {
    "collapsed": false,
    "ExecuteTime": {
     "end_time": "2023-11-07T16:03:44.385779Z",
     "start_time": "2023-11-07T16:03:44.381057Z"
    }
   },
   "id": "1ef6003fa9e16ff0"
  },
  {
   "cell_type": "code",
   "execution_count": 102,
   "outputs": [
    {
     "data": {
      "text/plain": "Wahlperiode_x          0\nSitzung                0\nDate                   0\nStart                  0\nSchluss                0\nSpeaker                0\nText_Spoken            0\nReactions        4105647\nWahlperiode_y          0\nName              334112\nFraktion_x        334112\nFraktion_y        334112\nPosition          334112\nWahlperiode       334112\ndtype: int64"
     },
     "execution_count": 102,
     "metadata": {},
     "output_type": "execute_result"
    }
   ],
   "source": [
    "final_df.isna().sum()"
   ],
   "metadata": {
    "collapsed": false,
    "ExecuteTime": {
     "end_time": "2023-11-07T16:03:47.006660Z",
     "start_time": "2023-11-07T16:03:44.383278Z"
    }
   },
   "id": "bdfbbf0b237b7a1e"
  },
  {
   "cell_type": "markdown",
   "source": [
    "# Change party names and make it coherent"
   ],
   "metadata": {
    "collapsed": false
   },
   "id": "9911dab9edbe6f04"
  },
  {
   "cell_type": "code",
   "execution_count": 103,
   "outputs": [],
   "source": [
    "replacement_dict = {\n",
    "    'CDU/CSU (CDU)': 'CDU',\n",
    "    'CDU/CSU (CSU)': 'CSU',\n",
    "    'fraktionslos (AfD)': 'AfD',\n",
    "    'AfD (parteilos)': 'AfD',\n",
    "    'Grüne': 'Bündnis 90/Die Grünen',\n",
    "    'GRÜNE': 'Bündnis 90/Die Grünen',\n",
    "    'Die Linke': 'Die Linke',\n",
    "    'DIE LINKE': 'Die Linke',\n",
    "    'Linke': 'Die Linke',\n",
    "    'Linke (parteilos)': 'Die Linke',\n",
    "    'fraktionslos (LKR)': 'LKR',\n",
    "    'fraktionslos(SSW)': 'SSW'\n",
    "}\n",
    "\n",
    "# Replace the values in the dataframe using the dictionary.\n",
    "final_df['Fraktion_x'] = final_df['Fraktion_x'].replace(replacement_dict)"
   ],
   "metadata": {
    "collapsed": false,
    "ExecuteTime": {
     "end_time": "2023-11-07T16:03:48.245501Z",
     "start_time": "2023-11-07T16:03:47.081621Z"
    }
   },
   "id": "c8fa52e87f44114a"
  },
  {
   "cell_type": "code",
   "execution_count": 104,
   "outputs": [
    {
     "data": {
      "text/plain": "(4864724, 14)"
     },
     "execution_count": 104,
     "metadata": {},
     "output_type": "execute_result"
    }
   ],
   "source": [
    "final_df.shape"
   ],
   "metadata": {
    "collapsed": false,
    "ExecuteTime": {
     "end_time": "2023-11-07T16:03:48.249480Z",
     "start_time": "2023-11-07T16:03:48.245961Z"
    }
   },
   "id": "65db5d3a52bad6fe"
  },
  {
   "cell_type": "code",
   "execution_count": 105,
   "outputs": [
    {
     "data": {
      "text/plain": "Wahlperiode_x          0\nSitzung                0\nDate                   0\nStart                  0\nSchluss                0\nSpeaker                0\nText_Spoken            0\nReactions        4105647\nWahlperiode_y          0\nName              334112\nFraktion_x        334112\nFraktion_y        334112\nPosition          334112\nWahlperiode       334112\ndtype: int64"
     },
     "execution_count": 105,
     "metadata": {},
     "output_type": "execute_result"
    }
   ],
   "source": [
    "final_df.isna().sum()"
   ],
   "metadata": {
    "collapsed": false,
    "ExecuteTime": {
     "end_time": "2023-11-07T16:03:50.946822Z",
     "start_time": "2023-11-07T16:03:48.247903Z"
    }
   },
   "id": "53c9863f1d2409b3"
  },
  {
   "cell_type": "code",
   "execution_count": 106,
   "outputs": [],
   "source": [
    "final_df.dropna(subset=['Name'], inplace=True)"
   ],
   "metadata": {
    "collapsed": false,
    "ExecuteTime": {
     "end_time": "2023-11-07T16:09:22.466282Z",
     "start_time": "2023-11-07T16:09:20.467513Z"
    }
   },
   "id": "ad2fa595a36ba7c7"
  },
  {
   "cell_type": "code",
   "execution_count": 107,
   "outputs": [
    {
     "data": {
      "text/plain": "(4530612, 14)"
     },
     "execution_count": 107,
     "metadata": {},
     "output_type": "execute_result"
    }
   ],
   "source": [
    "final_df.shape"
   ],
   "metadata": {
    "collapsed": false,
    "ExecuteTime": {
     "end_time": "2023-11-07T16:09:26.478637Z",
     "start_time": "2023-11-07T16:09:26.433667Z"
    }
   },
   "id": "38771eb6f953a0a5"
  },
  {
   "cell_type": "markdown",
   "source": [
    "# Sme final cleaning I noticed later was needed"
   ],
   "metadata": {
    "collapsed": false
   },
   "id": "e1b06973d3380ced"
  },
  {
   "cell_type": "code",
   "execution_count": null,
   "outputs": [],
   "source": [
    "final_df"
   ],
   "metadata": {
    "collapsed": false
   },
   "id": "540f4a0955c38b65"
  },
  {
   "cell_type": "code",
   "execution_count": null,
   "outputs": [],
   "source": [
    "df['Fraktion_x'] = df['Fraktion_x'].replace('Bündnis 90/Die Grünen', 'Die Grünen')"
   ],
   "metadata": {
    "collapsed": false
   },
   "id": "99cdc01e359c9cde"
  },
  {
   "cell_type": "code",
   "execution_count": 108,
   "outputs": [],
   "source": [
    "final_df.to_csv('/Users/merlesteffen/Documents/Education/WBS_Coding_School/Bootcamp/Final_Project/speeches_bundestag/Final_DF/combined_df_2.csv')"
   ],
   "metadata": {
    "collapsed": false,
    "ExecuteTime": {
     "end_time": "2023-11-07T16:10:10.270257Z",
     "start_time": "2023-11-07T16:09:52.471786Z"
    }
   },
   "id": "96be310b02ca63b3"
  }
 ],
 "metadata": {
  "kernelspec": {
   "display_name": "Python 3",
   "language": "python",
   "name": "python3"
  },
  "language_info": {
   "codemirror_mode": {
    "name": "ipython",
    "version": 2
   },
   "file_extension": ".py",
   "mimetype": "text/x-python",
   "name": "python",
   "nbconvert_exporter": "python",
   "pygments_lexer": "ipython2",
   "version": "2.7.6"
  }
 },
 "nbformat": 4,
 "nbformat_minor": 5
}
