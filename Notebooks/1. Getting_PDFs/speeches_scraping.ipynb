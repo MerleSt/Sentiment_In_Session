{
 "cells": [
  {
   "cell_type": "code",
   "execution_count": 3,
   "outputs": [],
   "source": [
    "from PyPDF2 import PdfReader\n",
    "#reader = PdfReader(\"/Users/merlesteffen/Documents/Education/WBS_Coding_School/Bootcamp/Final_Project/speeches_bundestag/Dip-Export.pdf\")\n",
    "reader = PdfReader('/Users/merlesteffen/Documents/Education/WBS_Coding_School/Bootcamp/Final_Project/speeches_bundestag/Dip-Export_(1).pdf')\n",
    "pdf_links = []\n",
    "\n",
    "for page in reader.pages:\n",
    "    if \"/Annots\" in page:\n",
    "        for annot in page[\"/Annots\"]:\n",
    "            obj = annot.get_object()\n",
    "            if obj[\"/Subtype\"] == \"/Link\" and \"/A\" in obj and \"/URI\" in obj[\"/A\"]:\n",
    "                uri = obj[\"/A\"][\"/URI\"]\n",
    "                if uri.endswith('.pdf'):\n",
    "                    pdf_links.append(uri)"
   ],
   "metadata": {
    "collapsed": false,
    "ExecuteTime": {
     "end_time": "2023-10-24T09:35:25.554314Z",
     "start_time": "2023-10-24T09:35:25.508307Z"
    }
   },
   "id": "4e6dd5be3ddaed6"
  },
  {
   "cell_type": "code",
   "execution_count": 4,
   "outputs": [
    {
     "name": "stdout",
     "output_type": "stream",
     "text": [
      "Downloaded 542 PDFs to /Users/merlesteffen/Documents/Education/WBS_Coding_School/Bootcamp/Final_Project/speeches_bundestag/1998_2023.\n"
     ]
    }
   ],
   "source": [
    "import requests\n",
    "import os\n",
    "folder_path = '/Users/merlesteffen/Documents/Education/WBS_Coding_School/Bootcamp/Final_Project/speeches_bundestag/1998_2023'\n",
    "for link in pdf_links:\n",
    "    response = requests.get(link, stream=True)\n",
    "    filename = os.path.join(folder_path, link.split('/')[-1])\n",
    "\n",
    "    with open(filename, 'wb') as pdf_file:\n",
    "        for chunk in response.iter_content(chunk_size=8192):\n",
    "            pdf_file.write(chunk)\n",
    "\n",
    "print(f\"Downloaded {len(pdf_links)} PDFs to {folder_path}.\")"
   ],
   "metadata": {
    "collapsed": false,
    "ExecuteTime": {
     "end_time": "2023-10-24T09:36:31.612985Z",
     "start_time": "2023-10-24T09:35:27.902162Z"
    }
   },
   "id": "a3123915d4d4ff8c"
  }
 ],
 "metadata": {
  "kernelspec": {
   "display_name": "Python 3",
   "language": "python",
   "name": "python3"
  },
  "language_info": {
   "codemirror_mode": {
    "name": "ipython",
    "version": 2
   },
   "file_extension": ".py",
   "mimetype": "text/x-python",
   "name": "python",
   "nbconvert_exporter": "python",
   "pygments_lexer": "ipython2",
   "version": "2.7.6"
  }
 },
 "nbformat": 4,
 "nbformat_minor": 5
}
