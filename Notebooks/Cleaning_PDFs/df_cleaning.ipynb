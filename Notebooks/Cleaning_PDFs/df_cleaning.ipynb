{
 "cells": [
  {
   "cell_type": "markdown",
   "source": [
    "# Imports and pickle"
   ],
   "metadata": {
    "collapsed": false
   },
   "id": "6ef7963e558b6e5f"
  },
  {
   "cell_type": "code",
   "execution_count": 1,
   "id": "initial_id",
   "metadata": {
    "collapsed": true,
    "ExecuteTime": {
     "end_time": "2023-11-07T15:48:27.341966Z",
     "start_time": "2023-11-07T15:48:26.151223Z"
    }
   },
   "outputs": [],
   "source": [
    "import pandas as pd\n",
    "import pickle\n",
    "import re\n",
    "import os\n",
    "import PyPDF2"
   ]
  },
  {
   "cell_type": "code",
   "execution_count": 2,
   "outputs": [],
   "source": [
    "# Define the folder where your .pkl files are located\n",
    "folder_path = \"/Users/merlesteffen/Documents/Education/WBS_Coding_School/Bootcamp/Final_Project/speeches_bundestag/pickel_22_copy\"\n",
    "\n",
    "# Initialize an empty dictionary to store loaded DataFrames\n",
    "loaded_dfs = {}\n",
    "\n",
    "# Loop through each file in the folder\n",
    "for filename in os.listdir(folder_path):\n",
    "    if filename.endswith(\".pkl\"):\n",
    "        file_path = os.path.join(folder_path, filename)\n",
    "        \n",
    "        # Load the pickled object\n",
    "        with open(file_path, 'rb') as f:\n",
    "            loaded_object = pickle.load(f)\n",
    "        \n",
    "        # Check if the loaded object is a DataFrame\n",
    "        if isinstance(loaded_object, pd.DataFrame):\n",
    "            loaded_dfs[filename] = loaded_object\n",
    "        elif isinstance(loaded_object, list):\n",
    "            # Check if the list contains DataFrames\n",
    "            if all(isinstance(item, pd.DataFrame) for item in loaded_object):\n",
    "                # Convert list of DataFrames to a single DataFrame\n",
    "                concatenated_df = pd.concat(loaded_object)\n",
    "                loaded_dfs[filename] = concatenated_df\n",
    "            else:\n",
    "                print(f\"Skipping {filename}, list does not contain DataFrames.\")\n",
    "        else:\n",
    "            print(f\"Skipping {filename}, not a DataFrame or list of DataFrames.\")\n",
    "\n",
    "# Concatenate individual DataFrames into one big DataFrame\n",
    "if loaded_dfs:\n",
    "    df = pd.concat(loaded_dfs.values(), keys=loaded_dfs.keys())\n",
    "else:\n",
    "    print(\"No DataFrames were loaded.\")"
   ],
   "metadata": {
    "collapsed": false,
    "ExecuteTime": {
     "end_time": "2023-11-07T15:48:29.762211Z",
     "start_time": "2023-11-07T15:48:26.672893Z"
    }
   },
   "id": "958d5f79971d02e5"
  },
  {
   "cell_type": "markdown",
   "source": [
    "# Missing values"
   ],
   "metadata": {
    "collapsed": false
   },
   "id": "9540ca5944819103"
  },
  {
   "cell_type": "code",
   "execution_count": 3,
   "outputs": [
    {
     "data": {
      "text/plain": "(5120245, 8)"
     },
     "execution_count": 3,
     "metadata": {},
     "output_type": "execute_result"
    }
   ],
   "source": [
    "df.shape"
   ],
   "metadata": {
    "collapsed": false,
    "ExecuteTime": {
     "end_time": "2023-11-07T15:48:29.771192Z",
     "start_time": "2023-11-07T15:48:29.762376Z"
    }
   },
   "id": "72fd778e7780a6a8"
  },
  {
   "cell_type": "code",
   "execution_count": 4,
   "outputs": [
    {
     "data": {
      "text/plain": "Wahlperiode          0\nSitzung              0\nDate                 0\nStart           865122\nSchluss         921065\nSpeaker              0\nText_Spoken          0\nReactions      4324247\ndtype: int64"
     },
     "execution_count": 4,
     "metadata": {},
     "output_type": "execute_result"
    }
   ],
   "source": [
    "df.isna().sum()"
   ],
   "metadata": {
    "collapsed": false,
    "ExecuteTime": {
     "end_time": "2023-11-07T15:48:31.910321Z",
     "start_time": "2023-11-07T15:48:29.764768Z"
    }
   },
   "id": "c86c2b3fa3bb1a80"
  },
  {
   "cell_type": "code",
   "execution_count": 5,
   "outputs": [
    {
     "data": {
      "text/plain": "                    Wahlperiode Sitzung              Date  Start Schluss  \\\ndfs_batch_58.pkl 1           20     004  7. Dezember 2021  12:00   13:41   \n                 2           20     004  7. Dezember 2021  12:00   13:41   \n                 3           20     004  7. Dezember 2021  12:00   13:41   \n                 4           20     004  7. Dezember 2021  12:00   13:41   \n                 5           20     004  7. Dezember 2021  12:00   13:41   \n                 6           20     004  7. Dezember 2021  12:00   13:41   \n                 7           20     004  7. Dezember 2021  12:00   13:41   \n                 8           20     004  7. Dezember 2021  12:00   13:41   \n                 9           20     004  7. Dezember 2021  12:00   13:41   \n                 10          20     004  7. Dezember 2021  12:00   13:41   \n                 11          20     004  7. Dezember 2021  12:00   13:41   \n                 12          20     004  7. Dezember 2021  12:00   13:41   \n                 13          20     004  7. Dezember 2021  12:00   13:41   \n                 14          20     004  7. Dezember 2021  12:00   13:41   \n                 15          20     004  7. Dezember 2021  12:00   13:41   \n                 16          20     004  7. Dezember 2021  12:00   13:41   \n                 17          20     004  7. Dezember 2021  12:00   13:41   \n                 18          20     004  7. Dezember 2021  12:00   13:41   \n                 19          20     004  7. Dezember 2021  12:00   13:41   \n                 20          20     004  7. Dezember 2021  12:00   13:41   \n                 21          20     004  7. Dezember 2021  12:00   13:41   \n                 22          20     004  7. Dezember 2021  12:00   13:41   \n                 23          20     004  7. Dezember 2021  12:00   13:41   \n                 24          20     004  7. Dezember 2021  12:00   13:41   \n                 25          20     004  7. Dezember 2021  12:00   13:41   \n                 26          20     004  7. Dezember 2021  12:00   13:41   \n                 27          20     004  7. Dezember 2021  12:00   13:41   \n                 28          20     004  7. Dezember 2021  12:00   13:41   \n                 29          20     004  7. Dezember 2021  12:00   13:41   \n                 30          20     004  7. Dezember 2021  12:00   13:41   \n                 31          20     004  7. Dezember 2021  12:00   13:41   \n                 32          20     004  7. Dezember 2021  12:00   13:41   \n                 33          20     004  7. Dezember 2021  12:00   13:41   \n                 34          20     004  7. Dezember 2021  12:00   13:41   \n                 35          20     004  7. Dezember 2021  12:00   13:41   \n                 36          20     004  7. Dezember 2021  12:00   13:41   \n                 37          20     004  7. Dezember 2021  12:00   13:41   \n                 38          20     004  7. Dezember 2021  12:00   13:41   \n                 39          20     004  7. Dezember 2021  12:00   13:41   \n                 40          20     004  7. Dezember 2021  12:00   13:41   \n\n                                                    Speaker  \\\ndfs_batch_58.pkl 1                   Präsidentin Bärbel Bas   \n                 2                   Präsidentin Bärbel Bas   \n                 3                   Präsidentin Bärbel Bas   \n                 4                   Präsidentin Bärbel Bas   \n                 5                   Präsidentin Bärbel Bas   \n                 6                   Präsidentin Bärbel Bas   \n                 7                   Präsidentin Bärbel Bas   \n                 8                   Präsidentin Bärbel Bas   \n                 9                   Präsidentin Bärbel Bas   \n                 10                  Präsidentin Bärbel Bas   \n                 11                  Präsidentin Bärbel Bas   \n                 12                  Präsidentin Bärbel Bas   \n                 13                  Präsidentin Bärbel Bas   \n                 14                  Präsidentin Bärbel Bas   \n                 15                  Präsidentin Bärbel Bas   \n                 16                  Präsidentin Bärbel Bas   \n                 17                  Präsidentin Bärbel Bas   \n                 18                  Präsidentin Bärbel Bas   \n                 19                  Präsidentin Bärbel Bas   \n                 20                  Präsidentin Bärbel Bas   \n                 21                  Präsidentin Bärbel Bas   \n                 22                  Präsidentin Bärbel Bas   \n                 23                  Präsidentin Bärbel Bas   \n                 24                  Präsidentin Bärbel Bas   \n                 25                  Präsidentin Bärbel Bas   \n                 26                  Präsidentin Bärbel Bas   \n                 27                  Präsidentin Bärbel Bas   \n                 28                  Präsidentin Bärbel Bas   \n                 29                  Präsidentin Bärbel Bas   \n                 30                  Präsidentin Bärbel Bas   \n                 31                                Stärkung   \n                 32  Grundrechte sind keine Geimpftenrechte   \n                 33  Grundrechte sind keine Geimpftenrechte   \n                 34  Grundrechte sind keine Geimpftenrechte   \n                 35  Grundrechte sind keine Geimpftenrechte   \n                 36  Grundrechte sind keine Geimpftenrechte   \n                 37  Grundrechte sind keine Geimpftenrechte   \n                 38  Grundrechte sind keine Geimpftenrechte   \n                 39  Grundrechte sind keine Geimpftenrechte   \n                 40  Grundrechte sind keine Geimpftenrechte   \n\n                                                           Text_Spoken  \\\ndfs_batch_58.pkl 1   Ich wünsche Ihnen allen einen schönen guten Ta...   \n                 2                           Die Sitzung ist eröffnet.   \n                 3   Vor Eintritt in die Tagesordnung: Liebe Kolleg...   \n                 4   Liebe Kolleginnen und Kollegen, die Covid 19 P...   \n                 5   Laut Robert Koch Institut sind die aktuellen F...   \n                 6   Vor diesem Hintergrund haben sich die Fraktion...   \n                 7   In meiner gestern in Kraft gesetzten Allgemein...   \n                 8   Vielmehr gilt die Pflicht zum Tragen einer med...   \n                 9   Die Ihnen bekannten Vorschriften zur Befreiung...   \n                 10  Wir kommen nun zur Abstimmung über die erweite...   \n                 11                                  Wer stimmt dafür?   \n                 12  Das sind die Frak tionen Die Linke, SPD, Bündn...   \n                 13                                      Gegenstimmen?   \n                 14                                 Die Af D Fraktion.   \n                 15                                     Ent haltungen?   \n                 16                                    Sehe ich keine.   \n                 17  Damit ist die erweiterte Maskenpflicht im Plen...   \n                 18  Deswegen gucke ich gerade, ob jetzt auch alle ...   \n                 19                              Thomas Seitz [Af D]).   \n                 20                                            tragen.   \n                 21  Die Fraktionen SPD, Bündnis 90/Die Grünen und ...   \n                 22  Dafür ist gemäß § 78 Absatz 5 in Ver bindung m...   \n                 23  Wer stimmt dafür, den genannten Gesetz entwurf...   \n                 24  Das sind die Fraktionen SPD, Bündnis 90/Die Gr...   \n                 25                                Wer stimmt dagegen?   \n                 26  Das sind die Af D Fraktion und die Fraktion Di...   \n                 27                                      Enthaltungen?   \n                 28                                    Sehe ich nicht.   \n                 29  Damit ist ich sehe auch hier oben Einvernehmen...   \n                 30  Dann rufe ich jetzt die Tagesordnungspunkte 1 ...   \n                 31  Hauptausschuss Deutscher Bundestag 20 Wahlperi...   \n                 32  Hauptausschuss Für die heutige Aussprache habe...   \n                 33                                  Wer stimmt dafür?   \n                 34  Das sind die Fraktionen Die Linke, SPD, Bündni...   \n                 35                                Wer stimmt dagegen?   \n                 36                         Das ist die Af D Fraktion.   \n                 37                                     Enthaltun gen?   \n                 38                                    Sehe ich nicht.   \n                 39  Dann ist für die Aussprache eine Dauer von 67 ...   \n                 40                        Ich eröffne die Aussprache.   \n\n                                                             Reactions  \ndfs_batch_58.pkl 1                                                None  \n                 2                                                None  \n                 3                                                None  \n                 4                                                None  \n                 5                                                None  \n                 6                                                None  \n                 7                                                None  \n                 8                                                None  \n                 9                                                None  \n                 10                                               None  \n                 11                                               None  \n                 12                                               None  \n                 13                                               None  \n                 14                                               None  \n                 15                                               None  \n                 16                                               None  \n                 17                                               None  \n                 18                                               None  \n                 19                                               None  \n                 20  Zurufe von der SPD und der CDU/CSU: Bitte über...  \n                 21                                               None  \n                 22                                               None  \n                 23                                               None  \n                 24                                               None  \n                 25                                               None  \n                 26  Britta Haßelmann [BÜNDNIS 90/DIE GRÜNEN]: Was ...  \n                 27                                               None  \n                 28                                               None  \n                 29                                               None  \n                 30                                               None  \n                 31                                               None  \n                 32                                               None  \n                 33                                               None  \n                 34                                               None  \n                 35                                               None  \n                 36                                               None  \n                 37                                               None  \n                 38                                               None  \n                 39                                               None  \n                 40                                               None  ",
      "text/html": "<div>\n<style scoped>\n    .dataframe tbody tr th:only-of-type {\n        vertical-align: middle;\n    }\n\n    .dataframe tbody tr th {\n        vertical-align: top;\n    }\n\n    .dataframe thead th {\n        text-align: right;\n    }\n</style>\n<table border=\"1\" class=\"dataframe\">\n  <thead>\n    <tr style=\"text-align: right;\">\n      <th></th>\n      <th></th>\n      <th>Wahlperiode</th>\n      <th>Sitzung</th>\n      <th>Date</th>\n      <th>Start</th>\n      <th>Schluss</th>\n      <th>Speaker</th>\n      <th>Text_Spoken</th>\n      <th>Reactions</th>\n    </tr>\n  </thead>\n  <tbody>\n    <tr>\n      <th rowspan=\"40\" valign=\"top\">dfs_batch_58.pkl</th>\n      <th>1</th>\n      <td>20</td>\n      <td>004</td>\n      <td>7. Dezember 2021</td>\n      <td>12:00</td>\n      <td>13:41</td>\n      <td>Präsidentin Bärbel Bas</td>\n      <td>Ich wünsche Ihnen allen einen schönen guten Ta...</td>\n      <td>None</td>\n    </tr>\n    <tr>\n      <th>2</th>\n      <td>20</td>\n      <td>004</td>\n      <td>7. Dezember 2021</td>\n      <td>12:00</td>\n      <td>13:41</td>\n      <td>Präsidentin Bärbel Bas</td>\n      <td>Die Sitzung ist eröffnet.</td>\n      <td>None</td>\n    </tr>\n    <tr>\n      <th>3</th>\n      <td>20</td>\n      <td>004</td>\n      <td>7. Dezember 2021</td>\n      <td>12:00</td>\n      <td>13:41</td>\n      <td>Präsidentin Bärbel Bas</td>\n      <td>Vor Eintritt in die Tagesordnung: Liebe Kolleg...</td>\n      <td>None</td>\n    </tr>\n    <tr>\n      <th>4</th>\n      <td>20</td>\n      <td>004</td>\n      <td>7. Dezember 2021</td>\n      <td>12:00</td>\n      <td>13:41</td>\n      <td>Präsidentin Bärbel Bas</td>\n      <td>Liebe Kolleginnen und Kollegen, die Covid 19 P...</td>\n      <td>None</td>\n    </tr>\n    <tr>\n      <th>5</th>\n      <td>20</td>\n      <td>004</td>\n      <td>7. Dezember 2021</td>\n      <td>12:00</td>\n      <td>13:41</td>\n      <td>Präsidentin Bärbel Bas</td>\n      <td>Laut Robert Koch Institut sind die aktuellen F...</td>\n      <td>None</td>\n    </tr>\n    <tr>\n      <th>6</th>\n      <td>20</td>\n      <td>004</td>\n      <td>7. Dezember 2021</td>\n      <td>12:00</td>\n      <td>13:41</td>\n      <td>Präsidentin Bärbel Bas</td>\n      <td>Vor diesem Hintergrund haben sich die Fraktion...</td>\n      <td>None</td>\n    </tr>\n    <tr>\n      <th>7</th>\n      <td>20</td>\n      <td>004</td>\n      <td>7. Dezember 2021</td>\n      <td>12:00</td>\n      <td>13:41</td>\n      <td>Präsidentin Bärbel Bas</td>\n      <td>In meiner gestern in Kraft gesetzten Allgemein...</td>\n      <td>None</td>\n    </tr>\n    <tr>\n      <th>8</th>\n      <td>20</td>\n      <td>004</td>\n      <td>7. Dezember 2021</td>\n      <td>12:00</td>\n      <td>13:41</td>\n      <td>Präsidentin Bärbel Bas</td>\n      <td>Vielmehr gilt die Pflicht zum Tragen einer med...</td>\n      <td>None</td>\n    </tr>\n    <tr>\n      <th>9</th>\n      <td>20</td>\n      <td>004</td>\n      <td>7. Dezember 2021</td>\n      <td>12:00</td>\n      <td>13:41</td>\n      <td>Präsidentin Bärbel Bas</td>\n      <td>Die Ihnen bekannten Vorschriften zur Befreiung...</td>\n      <td>None</td>\n    </tr>\n    <tr>\n      <th>10</th>\n      <td>20</td>\n      <td>004</td>\n      <td>7. Dezember 2021</td>\n      <td>12:00</td>\n      <td>13:41</td>\n      <td>Präsidentin Bärbel Bas</td>\n      <td>Wir kommen nun zur Abstimmung über die erweite...</td>\n      <td>None</td>\n    </tr>\n    <tr>\n      <th>11</th>\n      <td>20</td>\n      <td>004</td>\n      <td>7. Dezember 2021</td>\n      <td>12:00</td>\n      <td>13:41</td>\n      <td>Präsidentin Bärbel Bas</td>\n      <td>Wer stimmt dafür?</td>\n      <td>None</td>\n    </tr>\n    <tr>\n      <th>12</th>\n      <td>20</td>\n      <td>004</td>\n      <td>7. Dezember 2021</td>\n      <td>12:00</td>\n      <td>13:41</td>\n      <td>Präsidentin Bärbel Bas</td>\n      <td>Das sind die Frak tionen Die Linke, SPD, Bündn...</td>\n      <td>None</td>\n    </tr>\n    <tr>\n      <th>13</th>\n      <td>20</td>\n      <td>004</td>\n      <td>7. Dezember 2021</td>\n      <td>12:00</td>\n      <td>13:41</td>\n      <td>Präsidentin Bärbel Bas</td>\n      <td>Gegenstimmen?</td>\n      <td>None</td>\n    </tr>\n    <tr>\n      <th>14</th>\n      <td>20</td>\n      <td>004</td>\n      <td>7. Dezember 2021</td>\n      <td>12:00</td>\n      <td>13:41</td>\n      <td>Präsidentin Bärbel Bas</td>\n      <td>Die Af D Fraktion.</td>\n      <td>None</td>\n    </tr>\n    <tr>\n      <th>15</th>\n      <td>20</td>\n      <td>004</td>\n      <td>7. Dezember 2021</td>\n      <td>12:00</td>\n      <td>13:41</td>\n      <td>Präsidentin Bärbel Bas</td>\n      <td>Ent haltungen?</td>\n      <td>None</td>\n    </tr>\n    <tr>\n      <th>16</th>\n      <td>20</td>\n      <td>004</td>\n      <td>7. Dezember 2021</td>\n      <td>12:00</td>\n      <td>13:41</td>\n      <td>Präsidentin Bärbel Bas</td>\n      <td>Sehe ich keine.</td>\n      <td>None</td>\n    </tr>\n    <tr>\n      <th>17</th>\n      <td>20</td>\n      <td>004</td>\n      <td>7. Dezember 2021</td>\n      <td>12:00</td>\n      <td>13:41</td>\n      <td>Präsidentin Bärbel Bas</td>\n      <td>Damit ist die erweiterte Maskenpflicht im Plen...</td>\n      <td>None</td>\n    </tr>\n    <tr>\n      <th>18</th>\n      <td>20</td>\n      <td>004</td>\n      <td>7. Dezember 2021</td>\n      <td>12:00</td>\n      <td>13:41</td>\n      <td>Präsidentin Bärbel Bas</td>\n      <td>Deswegen gucke ich gerade, ob jetzt auch alle ...</td>\n      <td>None</td>\n    </tr>\n    <tr>\n      <th>19</th>\n      <td>20</td>\n      <td>004</td>\n      <td>7. Dezember 2021</td>\n      <td>12:00</td>\n      <td>13:41</td>\n      <td>Präsidentin Bärbel Bas</td>\n      <td>Thomas Seitz [Af D]).</td>\n      <td>None</td>\n    </tr>\n    <tr>\n      <th>20</th>\n      <td>20</td>\n      <td>004</td>\n      <td>7. Dezember 2021</td>\n      <td>12:00</td>\n      <td>13:41</td>\n      <td>Präsidentin Bärbel Bas</td>\n      <td>tragen.</td>\n      <td>Zurufe von der SPD und der CDU/CSU: Bitte über...</td>\n    </tr>\n    <tr>\n      <th>21</th>\n      <td>20</td>\n      <td>004</td>\n      <td>7. Dezember 2021</td>\n      <td>12:00</td>\n      <td>13:41</td>\n      <td>Präsidentin Bärbel Bas</td>\n      <td>Die Fraktionen SPD, Bündnis 90/Die Grünen und ...</td>\n      <td>None</td>\n    </tr>\n    <tr>\n      <th>22</th>\n      <td>20</td>\n      <td>004</td>\n      <td>7. Dezember 2021</td>\n      <td>12:00</td>\n      <td>13:41</td>\n      <td>Präsidentin Bärbel Bas</td>\n      <td>Dafür ist gemäß § 78 Absatz 5 in Ver bindung m...</td>\n      <td>None</td>\n    </tr>\n    <tr>\n      <th>23</th>\n      <td>20</td>\n      <td>004</td>\n      <td>7. Dezember 2021</td>\n      <td>12:00</td>\n      <td>13:41</td>\n      <td>Präsidentin Bärbel Bas</td>\n      <td>Wer stimmt dafür, den genannten Gesetz entwurf...</td>\n      <td>None</td>\n    </tr>\n    <tr>\n      <th>24</th>\n      <td>20</td>\n      <td>004</td>\n      <td>7. Dezember 2021</td>\n      <td>12:00</td>\n      <td>13:41</td>\n      <td>Präsidentin Bärbel Bas</td>\n      <td>Das sind die Fraktionen SPD, Bündnis 90/Die Gr...</td>\n      <td>None</td>\n    </tr>\n    <tr>\n      <th>25</th>\n      <td>20</td>\n      <td>004</td>\n      <td>7. Dezember 2021</td>\n      <td>12:00</td>\n      <td>13:41</td>\n      <td>Präsidentin Bärbel Bas</td>\n      <td>Wer stimmt dagegen?</td>\n      <td>None</td>\n    </tr>\n    <tr>\n      <th>26</th>\n      <td>20</td>\n      <td>004</td>\n      <td>7. Dezember 2021</td>\n      <td>12:00</td>\n      <td>13:41</td>\n      <td>Präsidentin Bärbel Bas</td>\n      <td>Das sind die Af D Fraktion und die Fraktion Di...</td>\n      <td>Britta Haßelmann [BÜNDNIS 90/DIE GRÜNEN]: Was ...</td>\n    </tr>\n    <tr>\n      <th>27</th>\n      <td>20</td>\n      <td>004</td>\n      <td>7. Dezember 2021</td>\n      <td>12:00</td>\n      <td>13:41</td>\n      <td>Präsidentin Bärbel Bas</td>\n      <td>Enthaltungen?</td>\n      <td>None</td>\n    </tr>\n    <tr>\n      <th>28</th>\n      <td>20</td>\n      <td>004</td>\n      <td>7. Dezember 2021</td>\n      <td>12:00</td>\n      <td>13:41</td>\n      <td>Präsidentin Bärbel Bas</td>\n      <td>Sehe ich nicht.</td>\n      <td>None</td>\n    </tr>\n    <tr>\n      <th>29</th>\n      <td>20</td>\n      <td>004</td>\n      <td>7. Dezember 2021</td>\n      <td>12:00</td>\n      <td>13:41</td>\n      <td>Präsidentin Bärbel Bas</td>\n      <td>Damit ist ich sehe auch hier oben Einvernehmen...</td>\n      <td>None</td>\n    </tr>\n    <tr>\n      <th>30</th>\n      <td>20</td>\n      <td>004</td>\n      <td>7. Dezember 2021</td>\n      <td>12:00</td>\n      <td>13:41</td>\n      <td>Präsidentin Bärbel Bas</td>\n      <td>Dann rufe ich jetzt die Tagesordnungspunkte 1 ...</td>\n      <td>None</td>\n    </tr>\n    <tr>\n      <th>31</th>\n      <td>20</td>\n      <td>004</td>\n      <td>7. Dezember 2021</td>\n      <td>12:00</td>\n      <td>13:41</td>\n      <td>Stärkung</td>\n      <td>Hauptausschuss Deutscher Bundestag 20 Wahlperi...</td>\n      <td>None</td>\n    </tr>\n    <tr>\n      <th>32</th>\n      <td>20</td>\n      <td>004</td>\n      <td>7. Dezember 2021</td>\n      <td>12:00</td>\n      <td>13:41</td>\n      <td>Grundrechte sind keine Geimpftenrechte</td>\n      <td>Hauptausschuss Für die heutige Aussprache habe...</td>\n      <td>None</td>\n    </tr>\n    <tr>\n      <th>33</th>\n      <td>20</td>\n      <td>004</td>\n      <td>7. Dezember 2021</td>\n      <td>12:00</td>\n      <td>13:41</td>\n      <td>Grundrechte sind keine Geimpftenrechte</td>\n      <td>Wer stimmt dafür?</td>\n      <td>None</td>\n    </tr>\n    <tr>\n      <th>34</th>\n      <td>20</td>\n      <td>004</td>\n      <td>7. Dezember 2021</td>\n      <td>12:00</td>\n      <td>13:41</td>\n      <td>Grundrechte sind keine Geimpftenrechte</td>\n      <td>Das sind die Fraktionen Die Linke, SPD, Bündni...</td>\n      <td>None</td>\n    </tr>\n    <tr>\n      <th>35</th>\n      <td>20</td>\n      <td>004</td>\n      <td>7. Dezember 2021</td>\n      <td>12:00</td>\n      <td>13:41</td>\n      <td>Grundrechte sind keine Geimpftenrechte</td>\n      <td>Wer stimmt dagegen?</td>\n      <td>None</td>\n    </tr>\n    <tr>\n      <th>36</th>\n      <td>20</td>\n      <td>004</td>\n      <td>7. Dezember 2021</td>\n      <td>12:00</td>\n      <td>13:41</td>\n      <td>Grundrechte sind keine Geimpftenrechte</td>\n      <td>Das ist die Af D Fraktion.</td>\n      <td>None</td>\n    </tr>\n    <tr>\n      <th>37</th>\n      <td>20</td>\n      <td>004</td>\n      <td>7. Dezember 2021</td>\n      <td>12:00</td>\n      <td>13:41</td>\n      <td>Grundrechte sind keine Geimpftenrechte</td>\n      <td>Enthaltun gen?</td>\n      <td>None</td>\n    </tr>\n    <tr>\n      <th>38</th>\n      <td>20</td>\n      <td>004</td>\n      <td>7. Dezember 2021</td>\n      <td>12:00</td>\n      <td>13:41</td>\n      <td>Grundrechte sind keine Geimpftenrechte</td>\n      <td>Sehe ich nicht.</td>\n      <td>None</td>\n    </tr>\n    <tr>\n      <th>39</th>\n      <td>20</td>\n      <td>004</td>\n      <td>7. Dezember 2021</td>\n      <td>12:00</td>\n      <td>13:41</td>\n      <td>Grundrechte sind keine Geimpftenrechte</td>\n      <td>Dann ist für die Aussprache eine Dauer von 67 ...</td>\n      <td>None</td>\n    </tr>\n    <tr>\n      <th>40</th>\n      <td>20</td>\n      <td>004</td>\n      <td>7. Dezember 2021</td>\n      <td>12:00</td>\n      <td>13:41</td>\n      <td>Grundrechte sind keine Geimpftenrechte</td>\n      <td>Ich eröffne die Aussprache.</td>\n      <td>None</td>\n    </tr>\n  </tbody>\n</table>\n</div>"
     },
     "execution_count": 5,
     "metadata": {},
     "output_type": "execute_result"
    }
   ],
   "source": [
    "df.head(40)"
   ],
   "metadata": {
    "collapsed": false,
    "ExecuteTime": {
     "end_time": "2023-11-07T15:48:31.921509Z",
     "start_time": "2023-11-07T15:48:31.907923Z"
    }
   },
   "id": "2f1c7dcdcc25680b"
  },
  {
   "cell_type": "markdown",
   "source": [
    "# Schluss-Time"
   ],
   "metadata": {
    "collapsed": false
   },
   "id": "51f4bd56306141e"
  },
  {
   "cell_type": "markdown",
   "source": [
    "## Find Schluss Pattern"
   ],
   "metadata": {
    "collapsed": false
   },
   "id": "eb15bc96bb4be453"
  },
  {
   "cell_type": "code",
   "execution_count": 6,
   "outputs": [],
   "source": [
    "# Identify missing Schluss\n",
    "missing_schluss_df = df[df['Schluss'].isna()]\n",
    "missing_schluss_tuples = missing_schluss_df.groupby(['Wahlperiode', 'Sitzung']).size().reset_index(name='Missing_Count')"
   ],
   "metadata": {
    "collapsed": false,
    "ExecuteTime": {
     "end_time": "2023-11-07T15:48:32.584517Z",
     "start_time": "2023-11-07T15:48:31.990068Z"
    }
   },
   "id": "8f6aedb4616296a0"
  },
  {
   "cell_type": "code",
   "execution_count": 7,
   "outputs": [
    {
     "data": {
      "text/plain": "    Wahlperiode Sitzung  Missing_Count\n0            15     042           1660\n1            15     083           2665\n2            16     075           2216\n3            16     130           4387\n4            16     186           6539\n..          ...     ...            ...\n184          19     107          11118\n185          19     108           4939\n186          19     109            694\n187          19     112           4663\n188          19     183           7226\n\n[189 rows x 3 columns]",
      "text/html": "<div>\n<style scoped>\n    .dataframe tbody tr th:only-of-type {\n        vertical-align: middle;\n    }\n\n    .dataframe tbody tr th {\n        vertical-align: top;\n    }\n\n    .dataframe thead th {\n        text-align: right;\n    }\n</style>\n<table border=\"1\" class=\"dataframe\">\n  <thead>\n    <tr style=\"text-align: right;\">\n      <th></th>\n      <th>Wahlperiode</th>\n      <th>Sitzung</th>\n      <th>Missing_Count</th>\n    </tr>\n  </thead>\n  <tbody>\n    <tr>\n      <th>0</th>\n      <td>15</td>\n      <td>042</td>\n      <td>1660</td>\n    </tr>\n    <tr>\n      <th>1</th>\n      <td>15</td>\n      <td>083</td>\n      <td>2665</td>\n    </tr>\n    <tr>\n      <th>2</th>\n      <td>16</td>\n      <td>075</td>\n      <td>2216</td>\n    </tr>\n    <tr>\n      <th>3</th>\n      <td>16</td>\n      <td>130</td>\n      <td>4387</td>\n    </tr>\n    <tr>\n      <th>4</th>\n      <td>16</td>\n      <td>186</td>\n      <td>6539</td>\n    </tr>\n    <tr>\n      <th>...</th>\n      <td>...</td>\n      <td>...</td>\n      <td>...</td>\n    </tr>\n    <tr>\n      <th>184</th>\n      <td>19</td>\n      <td>107</td>\n      <td>11118</td>\n    </tr>\n    <tr>\n      <th>185</th>\n      <td>19</td>\n      <td>108</td>\n      <td>4939</td>\n    </tr>\n    <tr>\n      <th>186</th>\n      <td>19</td>\n      <td>109</td>\n      <td>694</td>\n    </tr>\n    <tr>\n      <th>187</th>\n      <td>19</td>\n      <td>112</td>\n      <td>4663</td>\n    </tr>\n    <tr>\n      <th>188</th>\n      <td>19</td>\n      <td>183</td>\n      <td>7226</td>\n    </tr>\n  </tbody>\n</table>\n<p>189 rows × 3 columns</p>\n</div>"
     },
     "execution_count": 7,
     "metadata": {},
     "output_type": "execute_result"
    }
   ],
   "source": [
    "missing_schluss_tuples"
   ],
   "metadata": {
    "collapsed": false,
    "ExecuteTime": {
     "end_time": "2023-11-07T15:48:32.592056Z",
     "start_time": "2023-11-07T15:48:32.586189Z"
    }
   },
   "id": "db6a694d64dd81f6"
  },
  {
   "cell_type": "markdown",
   "source": [
    "## Find a way to replace multiple at the same time"
   ],
   "metadata": {
    "collapsed": false
   },
   "id": "7d3aa657ca926e43"
  },
  {
   "cell_type": "code",
   "execution_count": 8,
   "outputs": [],
   "source": [
    "# Let us get the text to look for other Schluss patterns:\n",
    "def extract_text_from_pdf(pdf):\n",
    "    \"\"\"\n",
    "\n",
    "    :param pdf: \n",
    "    :return: \n",
    "    \"\"\"\n",
    "    with open(pdf, 'rb') as file:\n",
    "        reader = PyPDF2.PdfReader(file)\n",
    "        text = ''\n",
    "        for page_num in range(len(reader.pages)):\n",
    "            text += reader.pages[page_num].extract_text()\n",
    "    return text"
   ],
   "metadata": {
    "collapsed": false,
    "ExecuteTime": {
     "end_time": "2023-11-07T15:48:32.592127Z",
     "start_time": "2023-11-07T15:48:32.588996Z"
    }
   },
   "id": "b89a1fbb66fffa0a"
  },
  {
   "cell_type": "code",
   "execution_count": 9,
   "outputs": [],
   "source": [
    "def extract_schluss(path):\n",
    "    pdf_text = extract_text_from_pdf(path)\n",
    "    schluss_time = None\n",
    "\n",
    "    # Search for the pattern \"Die Sitzung ist geschlossen. (Schluss: <time>)\"\n",
    "    pattern = r\"\\Schluss\\:*\\s*(\\d{2}\\s*\\d*)\"\n",
    "    match = re.search(pattern, pdf_text)\n",
    "\n",
    "    if match:\n",
    "        # Extract the captured group which contains the time\n",
    "        schluss_time = match.group(1).strip()\n",
    "\n",
    "    return schluss_time"
   ],
   "metadata": {
    "collapsed": false,
    "ExecuteTime": {
     "end_time": "2023-11-07T15:48:32.605759Z",
     "start_time": "2023-11-07T15:48:32.591074Z"
    }
   },
   "id": "3722b467deb807ad"
  },
  {
   "cell_type": "code",
   "execution_count": 10,
   "outputs": [],
   "source": [
    "from joblib import Parallel, delayed\n",
    "\n",
    "def extract_schluss_from_row(row):\n",
    "    wahlperiode = row['Wahlperiode']\n",
    "    sitzung = row['Sitzung']\n",
    "    \n",
    "    pdf_path = f'/Users/merlesteffen/Documents/Education/WBS_Coding_School/Bootcamp/Final_Project/speeches_bundestag/1998_2023/{wahlperiode}{sitzung}.pdf'\n",
    "    schluss_time = extract_schluss(pdf_path)\n",
    "    \n",
    "    return (wahlperiode, sitzung, schluss_time)\n",
    "\n",
    "results = Parallel(n_jobs=-2)(delayed(extract_schluss_from_row)(row) for _, row in missing_schluss_tuples.iterrows())\n",
    "\n",
    "# Initialize a dictionary to hold new Schluss times\n",
    "new_schluss = {}\n",
    "\n",
    "for wahlperiode, sitzung, schluss_time in results:\n",
    "    if schluss_time:\n",
    "        new_schluss[(wahlperiode, sitzung)] = schluss_time"
   ],
   "metadata": {
    "collapsed": false,
    "ExecuteTime": {
     "end_time": "2023-11-07T15:49:02.610080Z",
     "start_time": "2023-11-07T15:48:32.593608Z"
    }
   },
   "id": "58c7013817aa1708"
  },
  {
   "cell_type": "code",
   "execution_count": 11,
   "outputs": [
    {
     "data": {
      "text/plain": "{('15', '042'): '16',\n ('16', '075'): '17',\n ('16', '186'): '160',\n ('18', '064'): '16',\n ('18', '124'): '22',\n ('18', '125'): '16',\n ('18', '126'): '16',\n ('18', '127'): '21',\n ('18', '128'): '15',\n ('18', '129'): '17',\n ('18', '131'): '14',\n ('18', '132'): '16',\n ('18', '133'): '21',\n ('18', '135'): '17',\n ('18', '137'): '15',\n ('18', '138'): '19',\n ('18', '139'): '18',\n ('18', '140'): '20',\n ('18', '142'): '16',\n ('18', '143'): '21',\n ('18', '144'): '15',\n ('18', '145'): '17',\n ('18', '146'): '21',\n ('18', '147'): '13',\n ('18', '148'): '17',\n ('18', '150'): '14',\n ('18', '151'): '16',\n ('18', '152'): '21',\n ('18', '153'): '14',\n ('18', '155'): '20',\n ('18', '156'): '14',\n ('18', '158'): '21',\n ('18', '159'): '15',\n ('18', '161'): '21',\n ('18', '162'): '13',\n ('18', '163'): '17',\n ('18', '165'): '15',\n ('18', '166'): '16',\n ('18', '167'): '22',\n ('18', '168'): '14',\n ('18', '169'): '16',\n ('18', '170'): '2009',\n ('18', '171'): '14',\n ('18', '172'): '17',\n ('18', '173'): '22',\n ('18', '175'): '17',\n ('18', '176'): '20',\n ('18', '177'): '12',\n ('18', '178'): '17',\n ('18', '179'): '22',\n ('18', '180'): '17',\n ('18', '182'): '17',\n ('18', '183'): '21',\n ('18', '184'): '14',\n ('18', '185'): '18',\n ('18', '186'): '21',\n ('18', '187'): '18',\n ('18', '188'): '14',\n ('18', '189'): '16',\n ('18', '190'): '2016',\n ('18', '191'): '14',\n ('18', '192'): '16',\n ('18', '194'): '13',\n ('18', '195'): '16',\n ('18', '196'): '2014',\n ('18', '197'): '34',\n ('18', '198'): '17',\n ('18', '199'): '23',\n ('18', '201'): '19',\n ('18', '202'): '18',\n ('18', '204'): '13',\n ('18', '206'): '23',\n ('18', '209'): '1986',\n ('18', '210'): '16',\n ('18', '211'): '2334',\n ('18', '212'): '20',\n ('18', '213'): '14',\n ('18', '214'): '15',\n ('18', '215'): '21',\n ('18', '216'): '15',\n ('18', '217'): '16',\n ('18', '218'): '2016',\n ('18', '219'): '14',\n ('18', '220'): '16',\n ('18', '221'): '2008',\n ('18', '223'): '13',\n ('18', '225'): '22',\n ('18', '226'): '15',\n ('18', '227'): '15',\n ('18', '229'): '13',\n ('18', '231'): '23',\n ('18', '235'): '14',\n ('18', '236'): '17',\n ('18', '237'): '2008',\n ('18', '238'): '15',\n ('18', '239'): '19',\n ('18', '241'): '16',\n ('18', '242'): '20',\n ('18', '244'): '16',\n ('19', '003'): '10',\n ('19', '004'): '18',\n ('19', '005'): '19',\n ('19', '006'): '15',\n ('19', '007'): '23',\n ('19', '008'): '13',\n ('19', '009'): '13',\n ('19', '010'): '18',\n ('19', '012'): '14',\n ('19', '013'): '16',\n ('19', '014'): '21',\n ('19', '015'): '14',\n ('19', '017'): '2015',\n ('19', '018'): '14',\n ('19', '019'): '13',\n ('19', '020'): '19',\n ('19', '021'): '13',\n ('19', '022'): '22',\n ('19', '023'): '22',\n ('19', '027'): '14',\n ('19', '028'): '17',\n ('19', '031'): '17',\n ('19', '032'): '18',\n ('19', '033'): '18',\n ('19', '034'): '14',\n ('19', '037'): '17',\n ('19', '040'): '17',\n ('19', '041'): '17',\n ('19', '043'): '17',\n ('19', '046'): '20',\n ('19', '048'): '18',\n ('19', '049'): '18',\n ('19', '050'): '14',\n ('19', '051'): '17',\n ('19', '053'): '17',\n ('19', '056'): '16',\n ('19', '059'): '16',\n ('19', '060'): '18',\n ('19', '063'): '18',\n ('19', '064'): '45',\n ('19', '065'): '18',\n ('19', '066'): '2018',\n ('19', '067'): '19',\n ('19', '072'): '16',\n ('19', '075'): '16',\n ('19', '076'): '16',\n ('19', '077'): '23',\n ('19', '078'): '16',\n ('19', '079'): '17',\n ('19', '080'): '23',\n ('19', '081'): '15',\n ('19', '082'): '16',\n ('19', '083'): '052',\n ('19', '084'): '12',\n ('19', '088'): '17',\n ('19', '090'): '15',\n ('19', '091'): '16',\n ('19', '093'): '16',\n ('19', '094'): '18',\n ('19', '097'): '17',\n ('19', '098'): '19',\n ('19', '099'): '15',\n ('19', '100'): '18',\n ('19', '102'): '17',\n ('19', '103'): '17',\n ('19', '105'): '17',\n ('19', '108'): '2016',\n ('19', '109'): '13',\n ('19', '112'): '90',\n ('19', '183'): '14'}"
     },
     "execution_count": 11,
     "metadata": {},
     "output_type": "execute_result"
    }
   ],
   "source": [
    "new_schluss"
   ],
   "metadata": {
    "collapsed": false,
    "ExecuteTime": {
     "end_time": "2023-11-07T15:49:02.616268Z",
     "start_time": "2023-11-07T15:49:02.612846Z"
    }
   },
   "id": "d81db32ab565fd0a"
  },
  {
   "cell_type": "code",
   "execution_count": 12,
   "outputs": [
    {
     "data": {
      "text/plain": "169"
     },
     "execution_count": 12,
     "metadata": {},
     "output_type": "execute_result"
    }
   ],
   "source": [
    "len(new_schluss)"
   ],
   "metadata": {
    "collapsed": false,
    "ExecuteTime": {
     "end_time": "2023-11-07T15:49:02.628968Z",
     "start_time": "2023-11-07T15:49:02.615268Z"
    }
   },
   "id": "861ba03946594641"
  },
  {
   "cell_type": "code",
   "execution_count": 13,
   "outputs": [],
   "source": [
    "# Fill in the new Schluss times into the DataFrame\n",
    "for (wahlperiode, sitzung), schluss_time in new_schluss.items():\n",
    "    df.loc[(df['Wahlperiode'] == wahlperiode) & (df['Sitzung'] == sitzung), 'Schluss'] = schluss_time"
   ],
   "metadata": {
    "collapsed": false,
    "ExecuteTime": {
     "end_time": "2023-11-07T15:49:52.509885Z",
     "start_time": "2023-11-07T15:49:02.900429Z"
    }
   },
   "id": "fb7aa25f2cede53f"
  },
  {
   "cell_type": "code",
   "execution_count": 14,
   "outputs": [
    {
     "data": {
      "text/plain": "   Wahlperiode Sitzung  Missing_Count\n0           15     083           2665\n1           16     130           4387\n2           17     089           2698\n3           18     234          11190\n4           18     243           9434\n5           19     026           8021\n6           19     029           8870\n7           19     030           2435\n8           19     036           9072\n9           19     039           7008\n10          19     055           9617\n11          19     061          10347\n12          19     062           4304\n13          19     068          10488\n14          19     070           2514\n15          19     071           8750\n16          19     074           7976\n17          19     101           9846\n18          19     104           9760\n19          19     107          11118",
      "text/html": "<div>\n<style scoped>\n    .dataframe tbody tr th:only-of-type {\n        vertical-align: middle;\n    }\n\n    .dataframe tbody tr th {\n        vertical-align: top;\n    }\n\n    .dataframe thead th {\n        text-align: right;\n    }\n</style>\n<table border=\"1\" class=\"dataframe\">\n  <thead>\n    <tr style=\"text-align: right;\">\n      <th></th>\n      <th>Wahlperiode</th>\n      <th>Sitzung</th>\n      <th>Missing_Count</th>\n    </tr>\n  </thead>\n  <tbody>\n    <tr>\n      <th>0</th>\n      <td>15</td>\n      <td>083</td>\n      <td>2665</td>\n    </tr>\n    <tr>\n      <th>1</th>\n      <td>16</td>\n      <td>130</td>\n      <td>4387</td>\n    </tr>\n    <tr>\n      <th>2</th>\n      <td>17</td>\n      <td>089</td>\n      <td>2698</td>\n    </tr>\n    <tr>\n      <th>3</th>\n      <td>18</td>\n      <td>234</td>\n      <td>11190</td>\n    </tr>\n    <tr>\n      <th>4</th>\n      <td>18</td>\n      <td>243</td>\n      <td>9434</td>\n    </tr>\n    <tr>\n      <th>5</th>\n      <td>19</td>\n      <td>026</td>\n      <td>8021</td>\n    </tr>\n    <tr>\n      <th>6</th>\n      <td>19</td>\n      <td>029</td>\n      <td>8870</td>\n    </tr>\n    <tr>\n      <th>7</th>\n      <td>19</td>\n      <td>030</td>\n      <td>2435</td>\n    </tr>\n    <tr>\n      <th>8</th>\n      <td>19</td>\n      <td>036</td>\n      <td>9072</td>\n    </tr>\n    <tr>\n      <th>9</th>\n      <td>19</td>\n      <td>039</td>\n      <td>7008</td>\n    </tr>\n    <tr>\n      <th>10</th>\n      <td>19</td>\n      <td>055</td>\n      <td>9617</td>\n    </tr>\n    <tr>\n      <th>11</th>\n      <td>19</td>\n      <td>061</td>\n      <td>10347</td>\n    </tr>\n    <tr>\n      <th>12</th>\n      <td>19</td>\n      <td>062</td>\n      <td>4304</td>\n    </tr>\n    <tr>\n      <th>13</th>\n      <td>19</td>\n      <td>068</td>\n      <td>10488</td>\n    </tr>\n    <tr>\n      <th>14</th>\n      <td>19</td>\n      <td>070</td>\n      <td>2514</td>\n    </tr>\n    <tr>\n      <th>15</th>\n      <td>19</td>\n      <td>071</td>\n      <td>8750</td>\n    </tr>\n    <tr>\n      <th>16</th>\n      <td>19</td>\n      <td>074</td>\n      <td>7976</td>\n    </tr>\n    <tr>\n      <th>17</th>\n      <td>19</td>\n      <td>101</td>\n      <td>9846</td>\n    </tr>\n    <tr>\n      <th>18</th>\n      <td>19</td>\n      <td>104</td>\n      <td>9760</td>\n    </tr>\n    <tr>\n      <th>19</th>\n      <td>19</td>\n      <td>107</td>\n      <td>11118</td>\n    </tr>\n  </tbody>\n</table>\n</div>"
     },
     "execution_count": 14,
     "metadata": {},
     "output_type": "execute_result"
    }
   ],
   "source": [
    "# Check how many missing values left\n",
    "# Identify missing Schluss\n",
    "missing_schluss_df = df[df['Schluss'].isna()]\n",
    "missing_schluss_tuples = missing_schluss_df.groupby(['Wahlperiode', 'Sitzung']).size().reset_index(name='Missing_Count')\n",
    "missing_schluss_tuples"
   ],
   "metadata": {
    "collapsed": false,
    "ExecuteTime": {
     "end_time": "2023-11-07T15:49:52.671704Z",
     "start_time": "2023-11-07T15:49:52.597245Z"
    }
   },
   "id": "4532584386883e23"
  },
  {
   "cell_type": "code",
   "execution_count": 15,
   "outputs": [
    {
     "data": {
      "text/plain": "                     Wahlperiode Sitzung               Date Start Schluss  \\\ndfs_batch_4.pkl 2646          15     083  12. Dezember 2003  9:00    None   \n                2647          15     083  12. Dezember 2003  9:00    None   \n                2648          15     083  12. Dezember 2003  9:00    None   \n                2649          15     083  12. Dezember 2003  9:00    None   \n                2650          15     083  12. Dezember 2003  9:00    None   \n                2651          15     083  12. Dezember 2003  9:00    None   \n                2652          15     083  12. Dezember 2003  9:00    None   \n                2653          15     083  12. Dezember 2003  9:00    None   \n                2654          15     083  12. Dezember 2003  9:00    None   \n                2655          15     083  12. Dezember 2003  9:00    None   \n                2656          15     083  12. Dezember 2003  9:00    None   \n                2657          15     083  12. Dezember 2003  9:00    None   \n                2658          15     083  12. Dezember 2003  9:00    None   \n                2659          15     083  12. Dezember 2003  9:00    None   \n                2660          15     083  12. Dezember 2003  9:00    None   \n                2661          15     083  12. Dezember 2003  9:00    None   \n                2662          15     083  12. Dezember 2003  9:00    None   \n                2663          15     083  12. Dezember 2003  9:00    None   \n                2664          15     083  12. Dezember 2003  9:00    None   \n                2665          15     083  12. Dezember 2003  9:00    None   \n\n                           Speaker  \\\ndfs_batch_4.pkl 2646  Ekin Deligöz   \n                2647  Ekin Deligöz   \n                2648  Ekin Deligöz   \n                2649  Ekin Deligöz   \n                2650  Ekin Deligöz   \n                2651  Ekin Deligöz   \n                2652  Ekin Deligöz   \n                2653  Ekin Deligöz   \n                2654  Ekin Deligöz   \n                2655  Ekin Deligöz   \n                2656  Ekin Deligöz   \n                2657  Ekin Deligöz   \n                2658  Ekin Deligöz   \n                2659  Ekin Deligöz   \n                2660  Ekin Deligöz   \n                2661  Ekin Deligöz   \n                2662  Ekin Deligöz   \n                2663  Ekin Deligöz   \n                2664  Ekin Deligöz   \n                2665  Ekin Deligöz   \n\n                                                            Text_Spoken  \\\ndfs_batch_4.pkl 2646  Deshalb mein Appell an die FDP im Bund, besond...   \n                2647  Selbstverständlichwerden wir ihre Anregungen p...   \n                2648  Im Bereich der Ta gespflege gibt es natürlich ...   \n                2649  Ich denke da beispielsweise an das Qualitätsma...   \n                2650            Hier gibt es gute Verbesserungsansätze.   \n                2651  Die Ta gespflege muss mit Nachdruck aus der Gr...   \n                2652  Sie hat besondere Vorzüge, die ihr auchzukünft...   \n                2653  Hier muss aber ein schlüssiges Gesamtkonzept u...   \n                2654    Das ist eine große Herausforderung für unsalle.   \n                2655  Wenn wir unsere Gesellschaft innovativ umgesta...   \n                2656  Wirschaffen damit mehr Chancengerechtigkeit fü...   \n                2657  Wir führen sie an Bildung heran, sodass sie ih...   \n                2658  Wir ermög lichen eine Balance zwischen Familie...   \n                2659  Und wir entkommen so vielleicht derdemographis...   \n                2660                              Gesamtherstellung: H.   \n                2661                              Heenemann Gmb H & Co.   \n                2662  , Buch und Offsetdruckerei, Bessemerstraße 83 ...   \n                2663  Zweites Gesetz zur Änderung steuerlicher Vorsc...   \n                2664  Gesetz zur Modernisierung des Investmentwesens...   \n                2665  Gesetz zur Umsetzung aufsichtsrechtlicher Best...   \n\n                     Reactions  \ndfs_batch_4.pkl 2646      None  \n                2647      None  \n                2648      None  \n                2649      None  \n                2650      None  \n                2651      None  \n                2652      None  \n                2653      None  \n                2654      None  \n                2655      None  \n                2656      None  \n                2657      None  \n                2658      None  \n                2659      None  \n                2660      None  \n                2661      None  \n                2662      None  \n                2663      None  \n                2664      None  \n                2665      None  ",
      "text/html": "<div>\n<style scoped>\n    .dataframe tbody tr th:only-of-type {\n        vertical-align: middle;\n    }\n\n    .dataframe tbody tr th {\n        vertical-align: top;\n    }\n\n    .dataframe thead th {\n        text-align: right;\n    }\n</style>\n<table border=\"1\" class=\"dataframe\">\n  <thead>\n    <tr style=\"text-align: right;\">\n      <th></th>\n      <th></th>\n      <th>Wahlperiode</th>\n      <th>Sitzung</th>\n      <th>Date</th>\n      <th>Start</th>\n      <th>Schluss</th>\n      <th>Speaker</th>\n      <th>Text_Spoken</th>\n      <th>Reactions</th>\n    </tr>\n  </thead>\n  <tbody>\n    <tr>\n      <th rowspan=\"20\" valign=\"top\">dfs_batch_4.pkl</th>\n      <th>2646</th>\n      <td>15</td>\n      <td>083</td>\n      <td>12. Dezember 2003</td>\n      <td>9:00</td>\n      <td>None</td>\n      <td>Ekin Deligöz</td>\n      <td>Deshalb mein Appell an die FDP im Bund, besond...</td>\n      <td>None</td>\n    </tr>\n    <tr>\n      <th>2647</th>\n      <td>15</td>\n      <td>083</td>\n      <td>12. Dezember 2003</td>\n      <td>9:00</td>\n      <td>None</td>\n      <td>Ekin Deligöz</td>\n      <td>Selbstverständlichwerden wir ihre Anregungen p...</td>\n      <td>None</td>\n    </tr>\n    <tr>\n      <th>2648</th>\n      <td>15</td>\n      <td>083</td>\n      <td>12. Dezember 2003</td>\n      <td>9:00</td>\n      <td>None</td>\n      <td>Ekin Deligöz</td>\n      <td>Im Bereich der Ta gespflege gibt es natürlich ...</td>\n      <td>None</td>\n    </tr>\n    <tr>\n      <th>2649</th>\n      <td>15</td>\n      <td>083</td>\n      <td>12. Dezember 2003</td>\n      <td>9:00</td>\n      <td>None</td>\n      <td>Ekin Deligöz</td>\n      <td>Ich denke da beispielsweise an das Qualitätsma...</td>\n      <td>None</td>\n    </tr>\n    <tr>\n      <th>2650</th>\n      <td>15</td>\n      <td>083</td>\n      <td>12. Dezember 2003</td>\n      <td>9:00</td>\n      <td>None</td>\n      <td>Ekin Deligöz</td>\n      <td>Hier gibt es gute Verbesserungsansätze.</td>\n      <td>None</td>\n    </tr>\n    <tr>\n      <th>2651</th>\n      <td>15</td>\n      <td>083</td>\n      <td>12. Dezember 2003</td>\n      <td>9:00</td>\n      <td>None</td>\n      <td>Ekin Deligöz</td>\n      <td>Die Ta gespflege muss mit Nachdruck aus der Gr...</td>\n      <td>None</td>\n    </tr>\n    <tr>\n      <th>2652</th>\n      <td>15</td>\n      <td>083</td>\n      <td>12. Dezember 2003</td>\n      <td>9:00</td>\n      <td>None</td>\n      <td>Ekin Deligöz</td>\n      <td>Sie hat besondere Vorzüge, die ihr auchzukünft...</td>\n      <td>None</td>\n    </tr>\n    <tr>\n      <th>2653</th>\n      <td>15</td>\n      <td>083</td>\n      <td>12. Dezember 2003</td>\n      <td>9:00</td>\n      <td>None</td>\n      <td>Ekin Deligöz</td>\n      <td>Hier muss aber ein schlüssiges Gesamtkonzept u...</td>\n      <td>None</td>\n    </tr>\n    <tr>\n      <th>2654</th>\n      <td>15</td>\n      <td>083</td>\n      <td>12. Dezember 2003</td>\n      <td>9:00</td>\n      <td>None</td>\n      <td>Ekin Deligöz</td>\n      <td>Das ist eine große Herausforderung für unsalle.</td>\n      <td>None</td>\n    </tr>\n    <tr>\n      <th>2655</th>\n      <td>15</td>\n      <td>083</td>\n      <td>12. Dezember 2003</td>\n      <td>9:00</td>\n      <td>None</td>\n      <td>Ekin Deligöz</td>\n      <td>Wenn wir unsere Gesellschaft innovativ umgesta...</td>\n      <td>None</td>\n    </tr>\n    <tr>\n      <th>2656</th>\n      <td>15</td>\n      <td>083</td>\n      <td>12. Dezember 2003</td>\n      <td>9:00</td>\n      <td>None</td>\n      <td>Ekin Deligöz</td>\n      <td>Wirschaffen damit mehr Chancengerechtigkeit fü...</td>\n      <td>None</td>\n    </tr>\n    <tr>\n      <th>2657</th>\n      <td>15</td>\n      <td>083</td>\n      <td>12. Dezember 2003</td>\n      <td>9:00</td>\n      <td>None</td>\n      <td>Ekin Deligöz</td>\n      <td>Wir führen sie an Bildung heran, sodass sie ih...</td>\n      <td>None</td>\n    </tr>\n    <tr>\n      <th>2658</th>\n      <td>15</td>\n      <td>083</td>\n      <td>12. Dezember 2003</td>\n      <td>9:00</td>\n      <td>None</td>\n      <td>Ekin Deligöz</td>\n      <td>Wir ermög lichen eine Balance zwischen Familie...</td>\n      <td>None</td>\n    </tr>\n    <tr>\n      <th>2659</th>\n      <td>15</td>\n      <td>083</td>\n      <td>12. Dezember 2003</td>\n      <td>9:00</td>\n      <td>None</td>\n      <td>Ekin Deligöz</td>\n      <td>Und wir entkommen so vielleicht derdemographis...</td>\n      <td>None</td>\n    </tr>\n    <tr>\n      <th>2660</th>\n      <td>15</td>\n      <td>083</td>\n      <td>12. Dezember 2003</td>\n      <td>9:00</td>\n      <td>None</td>\n      <td>Ekin Deligöz</td>\n      <td>Gesamtherstellung: H.</td>\n      <td>None</td>\n    </tr>\n    <tr>\n      <th>2661</th>\n      <td>15</td>\n      <td>083</td>\n      <td>12. Dezember 2003</td>\n      <td>9:00</td>\n      <td>None</td>\n      <td>Ekin Deligöz</td>\n      <td>Heenemann Gmb H &amp; Co.</td>\n      <td>None</td>\n    </tr>\n    <tr>\n      <th>2662</th>\n      <td>15</td>\n      <td>083</td>\n      <td>12. Dezember 2003</td>\n      <td>9:00</td>\n      <td>None</td>\n      <td>Ekin Deligöz</td>\n      <td>, Buch und Offsetdruckerei, Bessemerstraße 83 ...</td>\n      <td>None</td>\n    </tr>\n    <tr>\n      <th>2663</th>\n      <td>15</td>\n      <td>083</td>\n      <td>12. Dezember 2003</td>\n      <td>9:00</td>\n      <td>None</td>\n      <td>Ekin Deligöz</td>\n      <td>Zweites Gesetz zur Änderung steuerlicher Vorsc...</td>\n      <td>None</td>\n    </tr>\n    <tr>\n      <th>2664</th>\n      <td>15</td>\n      <td>083</td>\n      <td>12. Dezember 2003</td>\n      <td>9:00</td>\n      <td>None</td>\n      <td>Ekin Deligöz</td>\n      <td>Gesetz zur Modernisierung des Investmentwesens...</td>\n      <td>None</td>\n    </tr>\n    <tr>\n      <th>2665</th>\n      <td>15</td>\n      <td>083</td>\n      <td>12. Dezember 2003</td>\n      <td>9:00</td>\n      <td>None</td>\n      <td>Ekin Deligöz</td>\n      <td>Gesetz zur Umsetzung aufsichtsrechtlicher Best...</td>\n      <td>None</td>\n    </tr>\n  </tbody>\n</table>\n</div>"
     },
     "execution_count": 15,
     "metadata": {},
     "output_type": "execute_result"
    }
   ],
   "source": [
    "# 14 042\n",
    "df.loc[(df['Wahlperiode'] == '15') & (df['Sitzung'] == '083')].tail(20)"
   ],
   "metadata": {
    "collapsed": false,
    "ExecuteTime": {
     "end_time": "2023-11-07T15:49:52.959282Z",
     "start_time": "2023-11-07T15:49:52.942339Z"
    }
   },
   "id": "68ba8521a72c25c5"
  },
  {
   "cell_type": "code",
   "execution_count": 16,
   "outputs": [],
   "source": [
    "df1 = df.copy()"
   ],
   "metadata": {
    "collapsed": false,
    "ExecuteTime": {
     "end_time": "2023-11-07T15:49:53.389544Z",
     "start_time": "2023-11-07T15:49:52.953592Z"
    }
   },
   "id": "145080befdb1f8dc"
  },
  {
   "cell_type": "markdown",
   "source": [
    "## Drop all after (Schluss including Schluss"
   ],
   "metadata": {
    "collapsed": false
   },
   "id": "aa439e2f77d68dc8"
  },
  {
   "cell_type": "code",
   "execution_count": 17,
   "outputs": [
    {
     "name": "stdout",
     "output_type": "stream",
     "text": [
      "     Wahlperiode Sitzung\n",
      "0             15     001\n",
      "1             15     002\n",
      "2             15     003\n",
      "3             15     004\n",
      "4             15     005\n",
      "...          ...     ...\n",
      "1269          20     128\n",
      "1270          20     129\n",
      "1271          20     130\n",
      "1272          20     131\n",
      "1273          20     132\n",
      "\n",
      "[1274 rows x 2 columns]\n"
     ]
    }
   ],
   "source": [
    "# Initialize an empty list to collect cases where the sentence is not found\n",
    "not_found_list = []\n",
    "\n",
    "def truncate_after_session_closed(group):\n",
    "    # Pattern to match variations of \"Die Sitzung ist geschlossen.\"\n",
    "    pattern = re.compile(r\"\\(Schluss\", re.IGNORECASE)\n",
    "    \n",
    "    # Find index where pattern matches\n",
    "    idx_closed = group[group['Text_Spoken'].apply(lambda x: bool(pattern.search(str(x))))].index\n",
    "    \n",
    "    # If pattern not found, append to not_found_list\n",
    "    if len(idx_closed) == 0:\n",
    "        not_found_list.append({'Wahlperiode': group['Wahlperiode'].iloc[0], 'Sitzung': group['Sitzung'].iloc[0]})\n",
    "    \n",
    "    return group.loc[:idx_closed[-1]] if len(idx_closed) > 0 else group\n",
    "\n",
    "# Group by 'Wahlperiode' and 'Sitzung' and apply the function\n",
    "df_1grouped = df1.groupby(['Wahlperiode', 'Sitzung'])\n",
    "df_1truncated = df_1grouped.apply(truncate_after_session_closed).reset_index(drop=True)\n",
    "\n",
    "# Convert not_found_list to a DataFrame\n",
    "not_found_df = pd.DataFrame(not_found_list)\n",
    "\n",
    "print(not_found_df)"
   ],
   "metadata": {
    "collapsed": false,
    "ExecuteTime": {
     "end_time": "2023-11-07T15:49:56.185354Z",
     "start_time": "2023-11-07T15:49:53.414703Z"
    }
   },
   "id": "f0b3404d21091b26"
  },
  {
   "cell_type": "code",
   "execution_count": 18,
   "outputs": [],
   "source": [
    "df2 = df_1truncated.copy()"
   ],
   "metadata": {
    "collapsed": false,
    "ExecuteTime": {
     "end_time": "2023-11-07T15:49:56.367303Z",
     "start_time": "2023-11-07T15:49:56.180870Z"
    }
   },
   "id": "7911ad1bff1f9c47"
  },
  {
   "cell_type": "code",
   "execution_count": 19,
   "outputs": [
    {
     "data": {
      "text/plain": "1314"
     },
     "execution_count": 19,
     "metadata": {},
     "output_type": "execute_result"
    }
   ],
   "source": [
    "df1.shape[0]-df2.shape[0]"
   ],
   "metadata": {
    "collapsed": false,
    "ExecuteTime": {
     "end_time": "2023-11-07T15:49:56.374074Z",
     "start_time": "2023-11-07T15:49:56.367851Z"
    }
   },
   "id": "2383891053bb1771"
  },
  {
   "cell_type": "code",
   "execution_count": 20,
   "outputs": [
    {
     "data": {
      "text/plain": "Wahlperiode          0\nSitzung              0\nDate                 0\nStart           864202\nSchluss         150500\nSpeaker              0\nText_Spoken          0\nReactions      4322956\ndtype: int64"
     },
     "execution_count": 20,
     "metadata": {},
     "output_type": "execute_result"
    }
   ],
   "source": [
    "df2.isna().sum()"
   ],
   "metadata": {
    "collapsed": false,
    "ExecuteTime": {
     "end_time": "2023-11-07T15:49:58.590050Z",
     "start_time": "2023-11-07T15:49:56.370437Z"
    }
   },
   "id": "f1ee19c3e3aa6aa8"
  },
  {
   "cell_type": "markdown",
   "source": [
    "# Start"
   ],
   "metadata": {
    "collapsed": false
   },
   "id": "f17d7381cf44bd92"
  },
  {
   "cell_type": "markdown",
   "source": [
    "## Find Missing Start Time"
   ],
   "metadata": {
    "collapsed": false
   },
   "id": "9b2da752322ff5ed"
  },
  {
   "cell_type": "code",
   "execution_count": 21,
   "outputs": [
    {
     "name": "stdout",
     "output_type": "stream",
     "text": [
      "    Wahlperiode Sitzung  Missing_Count\n",
      "0            18     124           7722\n",
      "1            18     125           3743\n",
      "2            18     126           2438\n",
      "3            18     127           6675\n",
      "4            18     128           3283\n",
      "..          ...     ...            ...\n",
      "172          19     104           9760\n",
      "173          19     105           5218\n",
      "174          19     107          11118\n",
      "175          19     108           4939\n",
      "176          19     109            694\n",
      "\n",
      "[177 rows x 3 columns]\n"
     ]
    }
   ],
   "source": [
    "# Filter rows where the Start column is missing in df_1\n",
    "missing_start_df = df2[df2['Start'].isna()]\n",
    "\n",
    "# Group by Wahlperiode and Sitzung and count the number of missing starts for each group\n",
    "grouped_missing_starts = missing_start_df.groupby(['Wahlperiode', 'Sitzung']).size().reset_index(name='Missing_Count')\n",
    "\n",
    "# Display the result\n",
    "print(grouped_missing_starts)"
   ],
   "metadata": {
    "collapsed": false,
    "ExecuteTime": {
     "end_time": "2023-11-07T15:49:58.787566Z",
     "start_time": "2023-11-07T15:49:58.663033Z"
    }
   },
   "id": "1fdd5c378e82e45e"
  },
  {
   "cell_type": "code",
   "execution_count": 22,
   "outputs": [],
   "source": [
    "# Function to extract the start time\n",
    "def extract_start(path):\n",
    "    pdf_text = extract_text_from_pdf(path)\n",
    "    start_time = None\n",
    "    \n",
    "    # Search for the word \"Beginn:\"\n",
    "    start_idx = pdf_text.find(\"Beginn\")\n",
    "    \n",
    "    if start_idx != -1:\n",
    "        # Extract the following text (assuming time format as HH:MM, hence taking 5 characters)\n",
    "        start_time = pdf_text[start_idx + len(\"Beginn\"): start_idx + len(\"Beginn\") + 5].strip()\n",
    "        \n",
    "    return start_time"
   ],
   "metadata": {
    "collapsed": false,
    "ExecuteTime": {
     "end_time": "2023-11-07T15:49:58.789586Z",
     "start_time": "2023-11-07T15:49:58.785049Z"
    }
   },
   "id": "7a4366d5a61874a"
  },
  {
   "cell_type": "code",
   "execution_count": 23,
   "outputs": [],
   "source": [
    "# Step 1: Identify missing rows\n",
    "missing_start_tuples = grouped_missing_starts[['Wahlperiode', 'Sitzung']].apply(tuple, axis=1)\n",
    "\n",
    "# Initialize a dictionary to hold the new Start times\n",
    "new_starts = {}\n",
    "\n",
    "# Step 2: Loop through PDFs\n",
    "for wahlperiode, sitzung in missing_start_tuples:\n",
    "    pdf_path = f\"/Users/merlesteffen/Documents/Education/WBS_Coding_School/Bootcamp/Final_Project/speeches_bundestag/1998_2023/{wahlperiode}{sitzung}.pdf\"  # Replace with your actual folder path\n",
    "    \n",
    "    try:\n",
    "        # Extract Start time\n",
    "        time = extract_start(pdf_path)\n",
    "        \n",
    "        if time:  # Check if time is not None or empty\n",
    "            new_starts[(wahlperiode, sitzung)] = time\n",
    "    except Exception as e:\n",
    "        print(f\"An error occurred while processing {pdf_path}. Error: {e}\")"
   ],
   "metadata": {
    "collapsed": false,
    "ExecuteTime": {
     "end_time": "2023-11-07T15:53:38.782050Z",
     "start_time": "2023-11-07T15:49:58.788192Z"
    }
   },
   "id": "549e28593b789635"
  },
  {
   "cell_type": "code",
   "execution_count": 24,
   "outputs": [
    {
     "data": {
      "text/plain": "{('18', '124'): ': 9',\n ('18', '125'): ': 9',\n ('18', '126'): ': 13',\n ('18', '127'): ': 9',\n ('18', '128'): ': 9',\n ('18', '129'): ': 13',\n ('18', '131'): ': 9',\n ('18', '132'): ': 13',\n ('18', '133'): ': 9',\n ('18', '135'): ': 13',\n ('18', '137'): ': 9',\n ('18', '138'): ': 10',\n ('18', '139'): ': 9',\n ('18', '140'): ': 9',\n ('18', '142'): 'der',\n ('18', '143'): ': 9',\n ('18', '144'): ': 9',\n ('18', '145'): ': 13',\n ('18', '146'): ': 9',\n ('18', '147'): ': 9',\n ('18', '148'): ': 13',\n ('18', '150'): ': 9',\n ('18', '151'): ': 13',\n ('18', '152'): ': 9',\n ('18', '153'): ': 9',\n ('18', '155'): ': 9',\n ('18', '156'): ': 9',\n ('18', '158'): ': 9',\n ('18', '159'): ': 9',\n ('18', '161'): ': 9',\n ('18', '162'): ': 9',\n ('18', '163'): ': 13',\n ('18', '165'): ': 9',\n ('18', '166'): ': 13',\n ('18', '167'): ': 9',\n ('18', '168'): ': 9',\n ('18', '169'): ': 13',\n ('18', '170'): ': 9',\n ('18', '171'): ': 9',\n ('18', '172'): ': 13',\n ('18', '173'): ': 9',\n ('18', '175'): ': 13',\n ('18', '176'): ': 9',\n ('18', '177'): ': 9',\n ('18', '178'): ': 13',\n ('18', '179'): ': 9',\n ('18', '182'): ': 13',\n ('18', '183'): ': 9',\n ('18', '184'): ': 9',\n ('18', '185'): ': 10',\n ('18', '186'): ': 9',\n ('18', '187'): ': 9',\n ('18', '188'): ': 9',\n ('18', '189'): ': 13',\n ('18', '190'): ': 9',\n ('18', '191'): ': 9',\n ('18', '192'): ': 13',\n ('18', '194'): ': 9',\n ('18', '195'): ': 13',\n ('18', '196'): ': 9',\n ('18', '197'): ': 9',\n ('18', '198'): ': 13',\n ('18', '199'): ': 9',\n ('18', '201'): ': 10',\n ('18', '202'): ': 9',\n ('18', '204'): ': 9',\n ('18', '206'): ': 10',\n ('18', '209'): ': 9',\n ('18', '210'): ': 9',\n ('18', '211'): ': 13',\n ('18', '212'): ': 9',\n ('18', '213'): ': 9',\n ('18', '214'): ': 13',\n ('18', '215'): ': 9',\n ('18', '216'): ': 10',\n ('18', '217'): ': 13',\n ('18', '218'): ': 9',\n ('18', '219'): ': 9',\n ('18', '220'): ': 13',\n ('18', '221'): ': 9',\n ('18', '223'): ': 12',\n ('18', '224'): ': 14',\n ('18', '225'): ': 9',\n ('18', '226'): ': 9',\n ('18', '227'): ': 13',\n ('18', '229'): ': 9',\n ('18', '231'): ': 9',\n ('18', '232'): ': 9',\n ('18', '234'): ': 9',\n ('18', '235'): ': 9',\n ('18', '236'): ': 13',\n ('18', '238'): ': 9',\n ('18', '239'): ': 13',\n ('18', '241'): ': 9',\n ('18', '242'): ': 13',\n ('18', '243'): ': 9',\n ('18', '244'): ': 8',\n ('19', '003'): ': 12',\n ('19', '004'): ': 9',\n ('19', '005'): ': 11',\n ('19', '006'): 'des',\n ('19', '007'): ': 13',\n ('19', '008'): ': 9',\n ('19', '009'): ': 11',\n ('19', '010'): ': 14',\n ('19', '012'): ': 9',\n ('19', '013'): ': 13',\n ('19', '014'): ': 9',\n ('19', '015'): ': 9',\n ('19', '017'): ': 9',\n ('19', '018'): ': 9',\n ('19', '019'): ': 9',\n ('19', '021'): ': 9',\n ('19', '022'): ': 11',\n ('19', '023'): ': 9',\n ('19', '026'): ': 9',\n ('19', '027'): ': 9',\n ('19', '028'): ': 13',\n ('19', '029'): ': 9',\n ('19', '031'): ': 10',\n ('19', '033'): ': 9',\n ('19', '034'): ': 9',\n ('19', '036'): ': 9',\n ('19', '037'): ': 9',\n ('19', '039'): ': 9',\n ('19', '040'): ': 9',\n ('19', '041'): ': 13',\n ('19', '043'): ': 9',\n ('19', '046'): ': 9',\n ('19', '048'): ': 9',\n ('19', '049'): ': 9',\n ('19', '050'): ': 9',\n ('19', '051'): ': 13',\n ('19', '053'): ': 9',\n ('19', '055'): ': 9',\n ('19', '056'): ': 9',\n ('19', '059'): ': 9',\n ('19', '060'): ': 12',\n ('19', '061'): ': 9',\n ('19', '063'): ': 10',\n ('19', '064'): ': 9',\n ('19', '065'): ': 9',\n ('19', '066'): ': 9',\n ('19', '067'): ': 13',\n ('19', '068'): ': 9',\n ('19', '070'): 'der',\n ('19', '071'): ': 9',\n ('19', '072'): ': 9',\n ('19', '074'): ': 10',\n ('19', '075'): ': 9',\n ('19', '076'): ': 13',\n ('19', '077'): ': 10',\n ('19', '078'): ': 9',\n ('19', '079'): ': 13',\n ('19', '080'): ': 9',\n ('19', '081'): ': 9',\n ('19', '082'): 'der',\n ('19', '083'): ': 9',\n ('19', '084'): ': 9',\n ('19', '088'): ': 13',\n ('19', '090'): ': 9',\n ('19', '091'): ': 13',\n ('19', '092'): ': 9',\n ('19', '093'): ': 9',\n ('19', '094'): ': 13',\n ('19', '097'): ': 13',\n ('19', '098'): ': 9',\n ('19', '099'): ': 9',\n ('19', '100'): ': 13',\n ('19', '101'): ': 9',\n ('19', '102'): ': 9',\n ('19', '103'): ': 13',\n ('19', '104'): ': 9',\n ('19', '105'): ': 9',\n ('19', '107'): ': 9',\n ('19', '108'): ': 9',\n ('19', '109'): ': 12'}"
     },
     "execution_count": 24,
     "metadata": {},
     "output_type": "execute_result"
    }
   ],
   "source": [
    "new_starts"
   ],
   "metadata": {
    "collapsed": false,
    "ExecuteTime": {
     "end_time": "2023-11-07T15:53:38.792941Z",
     "start_time": "2023-11-07T15:53:38.784622Z"
    }
   },
   "id": "c5cbcc82b4d7bca4"
  },
  {
   "cell_type": "code",
   "execution_count": 25,
   "outputs": [
    {
     "data": {
      "text/plain": "177"
     },
     "execution_count": 25,
     "metadata": {},
     "output_type": "execute_result"
    }
   ],
   "source": [
    "len(new_starts)"
   ],
   "metadata": {
    "collapsed": false,
    "ExecuteTime": {
     "end_time": "2023-11-07T15:53:38.797016Z",
     "start_time": "2023-11-07T15:53:38.787700Z"
    }
   },
   "id": "cc14017e3bf14a79"
  },
  {
   "cell_type": "code",
   "execution_count": 26,
   "outputs": [],
   "source": [
    "# Step 3: Update DataFrame\n",
    "for (wahlperiode, sitzung), start_time in new_starts.items():\n",
    "    df2.loc[(df2['Wahlperiode'] == wahlperiode) & (df2['Sitzung'] == sitzung), 'Start'] = start_time"
   ],
   "metadata": {
    "collapsed": false,
    "ExecuteTime": {
     "end_time": "2023-11-07T15:54:30.238033Z",
     "start_time": "2023-11-07T15:53:38.931754Z"
    }
   },
   "id": "b2edb9f2021fd561"
  },
  {
   "cell_type": "markdown",
   "source": [
    "## Drop All Before Beginn"
   ],
   "metadata": {
    "collapsed": false
   },
   "id": "c57e8ca43563c26d"
  },
  {
   "cell_type": "code",
   "execution_count": 27,
   "outputs": [
    {
     "name": "stdout",
     "output_type": "stream",
     "text": [
      "     Wahlperiode Sitzung\n",
      "0             15     001\n",
      "1             15     002\n",
      "2             15     003\n",
      "3             15     004\n",
      "4             15     005\n",
      "...          ...     ...\n",
      "1277          16     232\n",
      "1278          17     185\n",
      "1279          18     035\n",
      "1280          18     223\n",
      "1281          19     168\n",
      "\n",
      "[1282 rows x 2 columns]\n"
     ]
    }
   ],
   "source": [
    "def truncate_after_session_closed(group):\n",
    "    # Pattern to match variations of \"Die Sitzung ist geschlossen.\"\n",
    "    pattern = re.compile(r\"Beginn\", re.IGNORECASE)\n",
    "    \n",
    "    # Find index where pattern matches\n",
    "    idx_start = group[group['Text_Spoken'].apply(lambda x: bool(pattern.search(str(x))))].index\n",
    "    \n",
    "    # If pattern not found, append to not_found_list\n",
    "    if len(idx_start) == 0:\n",
    "        not_found_list.append({'Wahlperiode': group['Wahlperiode'].iloc[0], 'Sitzung': group['Sitzung'].iloc[0]})\n",
    "    else:\n",
    "        # Select the first index where the pattern is found and add one\n",
    "        idx_start = idx_start[0] + 1\n",
    "        # Return the truncated group starting from idx_start to the end\n",
    "        return group.loc[idx_start:]\n",
    "    \n",
    "    # If pattern not found, return the group unmodified\n",
    "    return group\n",
    "\n",
    "# Group by 'Wahlperiode' and 'Sitzung' and apply the function\n",
    "df_2grouped = df2.groupby(['Wahlperiode', 'Sitzung'])\n",
    "df_2truncated = df_2grouped.apply(truncate_after_session_closed).reset_index(drop=True)\n",
    "\n",
    "# Convert not_found_list to a DataFrame\n",
    "not_found_df = pd.DataFrame(not_found_list)\n",
    "\n",
    "print(not_found_df)"
   ],
   "metadata": {
    "collapsed": false,
    "ExecuteTime": {
     "end_time": "2023-11-07T15:54:35.782421Z",
     "start_time": "2023-11-07T15:54:30.259218Z"
    }
   },
   "id": "cac27fa53589e544"
  },
  {
   "cell_type": "code",
   "execution_count": 28,
   "outputs": [],
   "source": [
    "df3 = df_2truncated.copy()"
   ],
   "metadata": {
    "collapsed": false,
    "ExecuteTime": {
     "end_time": "2023-11-07T15:54:35.989628Z",
     "start_time": "2023-11-07T15:54:35.766918Z"
    }
   },
   "id": "42a769c65cdfb0fb"
  },
  {
   "cell_type": "code",
   "execution_count": 29,
   "outputs": [
    {
     "data": {
      "text/plain": "(4864724, 8)"
     },
     "execution_count": 29,
     "metadata": {},
     "output_type": "execute_result"
    }
   ],
   "source": [
    "df3.shape"
   ],
   "metadata": {
    "collapsed": false,
    "ExecuteTime": {
     "end_time": "2023-11-07T15:54:35.990077Z",
     "start_time": "2023-11-07T15:54:35.956720Z"
    }
   },
   "id": "b08c1156cd44202d"
  },
  {
   "cell_type": "code",
   "execution_count": 30,
   "outputs": [
    {
     "data": {
      "text/plain": "Wahlperiode          0\nSitzung              0\nDate                 0\nStart                0\nSchluss         146477\nSpeaker              0\nText_Spoken          0\nReactions      4105647\ndtype: int64"
     },
     "execution_count": 30,
     "metadata": {},
     "output_type": "execute_result"
    }
   ],
   "source": [
    "df3.isna().sum()"
   ],
   "metadata": {
    "collapsed": false,
    "ExecuteTime": {
     "end_time": "2023-11-07T15:54:38.045660Z",
     "start_time": "2023-11-07T15:54:35.958840Z"
    }
   },
   "id": "c7f9331f93bf4ce7"
  },
  {
   "cell_type": "markdown",
   "source": [
    "# Datatpyes"
   ],
   "metadata": {
    "collapsed": false
   },
   "id": "163c4124da002cad"
  },
  {
   "cell_type": "code",
   "execution_count": 31,
   "outputs": [
    {
     "data": {
      "text/plain": "Wahlperiode    object\nSitzung        object\nDate           object\nStart          object\nSchluss        object\nSpeaker        object\nText_Spoken    object\nReactions      object\ndtype: object"
     },
     "execution_count": 31,
     "metadata": {},
     "output_type": "execute_result"
    }
   ],
   "source": [
    "df3.dtypes"
   ],
   "metadata": {
    "collapsed": false,
    "ExecuteTime": {
     "end_time": "2023-11-07T15:54:38.065732Z",
     "start_time": "2023-11-07T15:54:38.032896Z"
    }
   },
   "id": "b670be1d03d819af"
  },
  {
   "cell_type": "markdown",
   "source": [
    "## Wahlperiode & Sitzung"
   ],
   "metadata": {
    "collapsed": false
   },
   "id": "112e8da272f35202"
  },
  {
   "cell_type": "code",
   "execution_count": 32,
   "outputs": [],
   "source": [
    "df3['Wahlperiode'] = df3['Wahlperiode'].astype(int)\n",
    "df3['Sitzung'] = df3['Sitzung'].astype(int)"
   ],
   "metadata": {
    "collapsed": false,
    "ExecuteTime": {
     "end_time": "2023-11-07T15:54:38.887714Z",
     "start_time": "2023-11-07T15:54:38.198090Z"
    }
   },
   "id": "74f4c1f4abce69cf"
  },
  {
   "cell_type": "code",
   "execution_count": 33,
   "outputs": [],
   "source": [
    "df4 = df3.copy()"
   ],
   "metadata": {
    "collapsed": false,
    "ExecuteTime": {
     "end_time": "2023-11-07T15:54:39.085560Z",
     "start_time": "2023-11-07T15:54:38.887600Z"
    }
   },
   "id": "c274b579b9be1ef8"
  },
  {
   "cell_type": "markdown",
   "source": [
    "## Date"
   ],
   "metadata": {
    "collapsed": false
   },
   "id": "49a769c0fec2b1bb"
  },
  {
   "cell_type": "code",
   "execution_count": 34,
   "outputs": [],
   "source": [
    "import calendar"
   ],
   "metadata": {
    "collapsed": false,
    "ExecuteTime": {
     "end_time": "2023-11-07T15:54:39.085837Z",
     "start_time": "2023-11-07T15:54:39.065417Z"
    }
   },
   "id": "f984660c7e893fc8"
  },
  {
   "cell_type": "code",
   "execution_count": 35,
   "outputs": [],
   "source": [
    "# Create a mapping of German month names to English\n",
    "german_to_english = {\n",
    "    'Januar': 'January',\n",
    "    'Februar': 'February',\n",
    "    'März': 'March',\n",
    "    'April': 'April',\n",
    "    'Mai': 'May',\n",
    "    'Juni': 'June',\n",
    "    'Juli': 'July',\n",
    "    'August': 'August',\n",
    "    'September': 'September',\n",
    "    'Oktober': 'October',\n",
    "    'November': 'November',\n",
    "    'Dezember': 'December'\n",
    "}"
   ],
   "metadata": {
    "collapsed": false,
    "ExecuteTime": {
     "end_time": "2023-11-07T15:54:39.085962Z",
     "start_time": "2023-11-07T15:54:39.067426Z"
    }
   },
   "id": "10fad45f8d0fc7a5"
  },
  {
   "cell_type": "code",
   "execution_count": 36,
   "outputs": [],
   "source": [
    "# Replace German month names with English month names\n",
    "df4['Date'] = df4['Date'].replace(german_to_english, regex=True)\n",
    "\n",
    "# Now convert to datetime\n",
    "df4['Temp_Date'] = pd.to_datetime(df4['Date'], format='%d. %B %Y', errors='coerce')"
   ],
   "metadata": {
    "collapsed": false,
    "ExecuteTime": {
     "end_time": "2023-11-07T15:54:55.679211Z",
     "start_time": "2023-11-07T15:54:39.146236Z"
    }
   },
   "id": "c91088c77150b06a"
  },
  {
   "cell_type": "code",
   "execution_count": 37,
   "outputs": [
    {
     "name": "stdout",
     "output_type": "stream",
     "text": [
      "Counts of problematic entries by Wahlperiode, Sitzung, and Date:\n",
      "   Wahlperiode  Sitzung        Date  Count\n",
      "0           15       16  12. und 13   4243\n"
     ]
    }
   ],
   "source": [
    "\n",
    "# Create a boolean mask for entries where the conversion failed\n",
    "mask = df4['Temp_Date'].isna()\n",
    "\n",
    "# Group by the original 'Date' column and additional columns for rows where the conversion failed\n",
    "problematic_dates = df4[mask].groupby(['Wahlperiode', 'Sitzung', 'Date']).size().reset_index(name='Count')\n",
    "\n",
    "# Sort by 'Count' to easily spot frequently occurring problematic entries\n",
    "problematic_dates = problematic_dates.sort_values(by='Count', ascending=False)\n",
    "\n",
    "# Drop the temporary 'Temp_Date' column\n",
    "df4.drop(columns=['Temp_Date'], inplace=True)\n",
    "\n",
    "# Print out the problematic dates along with 'Wahlperiode' and 'Sitzung'\n",
    "print(\"Counts of problematic entries by Wahlperiode, Sitzung, and Date:\")\n",
    "print(problematic_dates)"
   ],
   "metadata": {
    "collapsed": false,
    "ExecuteTime": {
     "end_time": "2023-11-07T15:54:56.330376Z",
     "start_time": "2023-11-07T15:54:55.679741Z"
    }
   },
   "id": "2b516270d51f240a"
  },
  {
   "cell_type": "code",
   "execution_count": 38,
   "outputs": [],
   "source": [
    "# Manually update the Date here\n",
    "df4.loc[(df4['Wahlperiode'] == 15) & (df4['Sitzung'] == 16), 'Date'] = '19. December 2002'"
   ],
   "metadata": {
    "collapsed": false,
    "ExecuteTime": {
     "end_time": "2023-11-07T15:54:56.378370Z",
     "start_time": "2023-11-07T15:54:56.319966Z"
    }
   },
   "id": "e3067636c8305e6a"
  },
  {
   "cell_type": "code",
   "execution_count": 39,
   "outputs": [],
   "source": [
    "df4['Date'] = pd.to_datetime(df4['Date'], format='%d. %B %Y')"
   ],
   "metadata": {
    "collapsed": false,
    "ExecuteTime": {
     "end_time": "2023-11-07T15:54:56.808421Z",
     "start_time": "2023-11-07T15:54:56.416280Z"
    }
   },
   "id": "65ddce87b0922c73"
  },
  {
   "cell_type": "code",
   "execution_count": 40,
   "outputs": [],
   "source": [
    "df5 = df4.copy()"
   ],
   "metadata": {
    "collapsed": false,
    "ExecuteTime": {
     "end_time": "2023-11-07T15:54:56.935356Z",
     "start_time": "2023-11-07T15:54:56.808550Z"
    }
   },
   "id": "bead4014a46a9e78"
  },
  {
   "cell_type": "markdown",
   "source": [
    "## Start"
   ],
   "metadata": {
    "collapsed": false
   },
   "id": "a0033688fc6c7255"
  },
  {
   "cell_type": "code",
   "execution_count": 41,
   "outputs": [],
   "source": [
    "# First inspect how Start can looks like I think something like this\n",
    "# dd needs to be lower than 24\n",
    "# dd dd\n",
    "# letters"
   ],
   "metadata": {
    "collapsed": false,
    "ExecuteTime": {
     "end_time": "2023-11-07T15:54:56.971337Z",
     "start_time": "2023-11-07T15:54:56.939469Z"
    }
   },
   "id": "3f36684783e47d9d"
  },
  {
   "cell_type": "code",
   "execution_count": 42,
   "outputs": [],
   "source": [
    "# Strip\n",
    "df5['Start'] = df5['Start'].str.strip()\n",
    "df5['Start'] = df5['Start'].str.replace(r'\\s+', '', regex=True)"
   ],
   "metadata": {
    "collapsed": false,
    "ExecuteTime": {
     "end_time": "2023-11-07T15:54:58.471260Z",
     "start_time": "2023-11-07T15:54:57.037965Z"
    }
   },
   "id": "783653ff77606aca"
  },
  {
   "cell_type": "code",
   "execution_count": 43,
   "outputs": [],
   "source": [
    "def clean_start_time(t):\n",
    "    # Check for any non-digit characters\n",
    "        # Remove all whitespaces from the input\n",
    "    t = re.sub(r'\\s+', '', t)\n",
    "    \n",
    "    # Remove all characters except digits and colon\n",
    "    t = re.sub(r'[^\\d:]', '', t)\n",
    "    if re.search('[a-zA-Z]', t):\n",
    "        return None\n",
    "    \n",
    "    elif re.match(r'^:\\d{1}$', t):\n",
    "        return f\"0{t[1]}:00:00\"\n",
    "        # Handle cases like \"13:45\" or 9:33 :9\n",
    "    \n",
    "    elif re.match(r'^:\\d{2}$', t):\n",
    "        return f\"{t[1]}:00:00\"\n",
    "    \n",
    "    elif \":\" in t:\n",
    "        parts = t.split(':')\n",
    "        if len(parts) == 2:\n",
    "            # Check if first part is empty and second part is a single digit\n",
    "            if parts[0] == '' and parts[1].isdigit() and len(parts[1]) == 1:\n",
    "                return f\"0{parts[1]}:00:00\"\n",
    "            elif parts[0] == '' and parts[1].isdigit() and len(parts[1]) == 2:\n",
    "                return f\"{parts[1]}:00:00\"\n",
    "            # Existing checks for parts with length of 2 each\n",
    "            elif all(part.isdigit() for part in parts):\n",
    "                hours, minutes = parts\n",
    "                if int(hours) < 24 and int(minutes) < 60:\n",
    "                    return f\"{hours.zfill(2)}:{minutes.zfill(2)}:00\"\n",
    "    \n",
    "    # Length of 4 indicates HHMM format\n",
    "    if len(t) == 4:\n",
    "        return f\"{t[:2]}:{t[2:]}:00\"\n",
    "    \n",
    "    # Length of 3 indicates HMM format\n",
    "    elif len(t) == 3:\n",
    "        # Check if minutes exceed 59\n",
    "        if int(t[1:]) < 60:\n",
    "            return f\"0{t[0]}:{t[1:]}:00\"\n",
    "        elif int(t[:1]) < 24:\n",
    "            return f\"0{t[:1]}:{t[2]}:00\"\n",
    "    \n",
    "    # Length of 2 could be HH format\n",
    "    elif len(t) == 2:\n",
    "        # Check if it's a valid hour\n",
    "        if int(t) <= 24:\n",
    "            return f\"{t}:00:00\"\n",
    "\n",
    "    # Length of 1 indicates a single digit hour\n",
    "    elif len(t) == 1:\n",
    "        return f\"{t}:00:00\"\n",
    "\n",
    "    # Handle cases like \"13 45\"\n",
    "    elif \" \" in t:\n",
    "        hours, minutes = t.split()\n",
    "        if int(hours) <= 24 and int(minutes) < 60:\n",
    "            return f\"{int(hours)}:{int(minutes)}:00\"\n",
    "        \n",
    "    else:\n",
    "        # If none of the above conditions met, return None\n",
    "        return None"
   ],
   "metadata": {
    "collapsed": false,
    "ExecuteTime": {
     "end_time": "2023-11-07T15:54:58.554048Z",
     "start_time": "2023-11-07T15:54:58.470891Z"
    }
   },
   "id": "8ce282e1db6bf19e"
  },
  {
   "cell_type": "code",
   "execution_count": 44,
   "outputs": [],
   "source": [
    "# Apply the function to the Start column\n",
    "df5['Start'] = df5['Start'].apply(lambda x: clean_start_time(str(x)))"
   ],
   "metadata": {
    "collapsed": false,
    "ExecuteTime": {
     "end_time": "2023-11-07T15:55:05.736947Z",
     "start_time": "2023-11-07T15:54:58.551450Z"
    }
   },
   "id": "8c345a2c0e706f45"
  },
  {
   "cell_type": "markdown",
   "source": [
    "18 138"
   ],
   "metadata": {
    "collapsed": false
   },
   "id": "f65ca3283684673a"
  },
  {
   "cell_type": "code",
   "execution_count": 45,
   "outputs": [],
   "source": [
    "# Now convert the cleaned times to timedelta\n",
    "df5['Start'] = pd.to_timedelta(df5['Start'].dropna())"
   ],
   "metadata": {
    "collapsed": false,
    "ExecuteTime": {
     "end_time": "2023-11-07T15:55:07.682506Z",
     "start_time": "2023-11-07T15:55:05.816032Z"
    }
   },
   "id": "7d99d0e139d00599"
  },
  {
   "cell_type": "code",
   "execution_count": 46,
   "outputs": [
    {
     "data": {
      "text/plain": "         Wahlperiode  Sitzung       Date           Start Schluss  \\\n137593            15       54 2003-06-27 0 days 09:00:00   14:22   \n3462134           19       55 2018-10-11 0 days 09:00:00    None   \n1248050           16      221 2009-05-13 0 days 13:01:00   21:48   \n356248            15      132 2004-10-21 0 days 09:00:00   22:11   \n731678            16       70 2006-11-30 0 days 09:00:00   23:11   \n2658436           18      103 2015-05-07 0 days 09:00:00   20:33   \n1905251           17      156 2012-01-27 0 days 10:30:00   15:00   \n698879            16       61 2006-10-27 0 days 09:01:00   14:52   \n4390326           20       28 2022-04-07 0 days 09:00:00   23:29   \n2420488           18       33 2014-05-08 0 days 09:02:00   22:53   \n\n                                   Speaker  \\\n137593                     Werner Wittlich   \n3462134                       Markus Kurth   \n1248050                     Omid Nouripour   \n356248   Vizepräsident Dr. Norbert Lammert   \n731678             Irmingard Schewe Gerigk   \n2658436                    Johannes Röring   \n1905251                       Tabea Rößner   \n698879                       Renate Künast   \n4390326                  Dr. Christoph Plo   \n2420488                     Omid Nouripour   \n\n                                               Text_Spoken  \\\n137593   Auf der einen Seite arbeiten in Deutschland 13...   \n3462134  Daneben erfordert die erfreulicherweise höhere...   \n1248050                                   Dasstimmt nicht.   \n356248   Nun hat der Kollege Georg Brunnhuber für die C...   \n731678   Über die progressive Beitragssenkung wollen wi...   \n2658436              Die Initiative ist ein erster Ansatz.   \n1905251  Wenn digitale Angebote jedoch nicht barrierefr...   \n698879   Sie haben gesagt, es solle ein Konzept für nac...   \n4390326  Aber ich denke mal, zwischen den Parteien in d...   \n2420488  Deswegen muss man diese Double Standards ge ra...   \n\n                                                 Reactions  \n137593                                                None  \n3462134                                               None  \n1248050                                               None  \n356248   Beifall bei der CDU/CSU Wilhelm Schmidt[Salzgi...  \n731678                                                None  \n2658436                                               None  \n1905251                                               None  \n698879                                                None  \n4390326                                               None  \n2420488                                               None  ",
      "text/html": "<div>\n<style scoped>\n    .dataframe tbody tr th:only-of-type {\n        vertical-align: middle;\n    }\n\n    .dataframe tbody tr th {\n        vertical-align: top;\n    }\n\n    .dataframe thead th {\n        text-align: right;\n    }\n</style>\n<table border=\"1\" class=\"dataframe\">\n  <thead>\n    <tr style=\"text-align: right;\">\n      <th></th>\n      <th>Wahlperiode</th>\n      <th>Sitzung</th>\n      <th>Date</th>\n      <th>Start</th>\n      <th>Schluss</th>\n      <th>Speaker</th>\n      <th>Text_Spoken</th>\n      <th>Reactions</th>\n    </tr>\n  </thead>\n  <tbody>\n    <tr>\n      <th>137593</th>\n      <td>15</td>\n      <td>54</td>\n      <td>2003-06-27</td>\n      <td>0 days 09:00:00</td>\n      <td>14:22</td>\n      <td>Werner Wittlich</td>\n      <td>Auf der einen Seite arbeiten in Deutschland 13...</td>\n      <td>None</td>\n    </tr>\n    <tr>\n      <th>3462134</th>\n      <td>19</td>\n      <td>55</td>\n      <td>2018-10-11</td>\n      <td>0 days 09:00:00</td>\n      <td>None</td>\n      <td>Markus Kurth</td>\n      <td>Daneben erfordert die erfreulicherweise höhere...</td>\n      <td>None</td>\n    </tr>\n    <tr>\n      <th>1248050</th>\n      <td>16</td>\n      <td>221</td>\n      <td>2009-05-13</td>\n      <td>0 days 13:01:00</td>\n      <td>21:48</td>\n      <td>Omid Nouripour</td>\n      <td>Dasstimmt nicht.</td>\n      <td>None</td>\n    </tr>\n    <tr>\n      <th>356248</th>\n      <td>15</td>\n      <td>132</td>\n      <td>2004-10-21</td>\n      <td>0 days 09:00:00</td>\n      <td>22:11</td>\n      <td>Vizepräsident Dr. Norbert Lammert</td>\n      <td>Nun hat der Kollege Georg Brunnhuber für die C...</td>\n      <td>Beifall bei der CDU/CSU Wilhelm Schmidt[Salzgi...</td>\n    </tr>\n    <tr>\n      <th>731678</th>\n      <td>16</td>\n      <td>70</td>\n      <td>2006-11-30</td>\n      <td>0 days 09:00:00</td>\n      <td>23:11</td>\n      <td>Irmingard Schewe Gerigk</td>\n      <td>Über die progressive Beitragssenkung wollen wi...</td>\n      <td>None</td>\n    </tr>\n    <tr>\n      <th>2658436</th>\n      <td>18</td>\n      <td>103</td>\n      <td>2015-05-07</td>\n      <td>0 days 09:00:00</td>\n      <td>20:33</td>\n      <td>Johannes Röring</td>\n      <td>Die Initiative ist ein erster Ansatz.</td>\n      <td>None</td>\n    </tr>\n    <tr>\n      <th>1905251</th>\n      <td>17</td>\n      <td>156</td>\n      <td>2012-01-27</td>\n      <td>0 days 10:30:00</td>\n      <td>15:00</td>\n      <td>Tabea Rößner</td>\n      <td>Wenn digitale Angebote jedoch nicht barrierefr...</td>\n      <td>None</td>\n    </tr>\n    <tr>\n      <th>698879</th>\n      <td>16</td>\n      <td>61</td>\n      <td>2006-10-27</td>\n      <td>0 days 09:01:00</td>\n      <td>14:52</td>\n      <td>Renate Künast</td>\n      <td>Sie haben gesagt, es solle ein Konzept für nac...</td>\n      <td>None</td>\n    </tr>\n    <tr>\n      <th>4390326</th>\n      <td>20</td>\n      <td>28</td>\n      <td>2022-04-07</td>\n      <td>0 days 09:00:00</td>\n      <td>23:29</td>\n      <td>Dr. Christoph Plo</td>\n      <td>Aber ich denke mal, zwischen den Parteien in d...</td>\n      <td>None</td>\n    </tr>\n    <tr>\n      <th>2420488</th>\n      <td>18</td>\n      <td>33</td>\n      <td>2014-05-08</td>\n      <td>0 days 09:02:00</td>\n      <td>22:53</td>\n      <td>Omid Nouripour</td>\n      <td>Deswegen muss man diese Double Standards ge ra...</td>\n      <td>None</td>\n    </tr>\n  </tbody>\n</table>\n</div>"
     },
     "execution_count": 46,
     "metadata": {},
     "output_type": "execute_result"
    }
   ],
   "source": [
    "df5.sample(10)"
   ],
   "metadata": {
    "collapsed": false,
    "ExecuteTime": {
     "end_time": "2023-11-07T15:55:07.766623Z",
     "start_time": "2023-11-07T15:55:07.682245Z"
    }
   },
   "id": "ca6450e509da0bca"
  },
  {
   "cell_type": "code",
   "execution_count": 47,
   "outputs": [],
   "source": [
    "df6 = df5.copy()"
   ],
   "metadata": {
    "collapsed": false,
    "ExecuteTime": {
     "end_time": "2023-11-07T15:55:07.949886Z",
     "start_time": "2023-11-07T15:55:07.758550Z"
    }
   },
   "id": "b570b8f009d72900"
  },
  {
   "cell_type": "markdown",
   "source": [
    "## Schluss"
   ],
   "metadata": {
    "collapsed": false
   },
   "id": "a7713ab2474bcc0b"
  },
  {
   "cell_type": "code",
   "execution_count": 48,
   "outputs": [],
   "source": [
    "def clean_schluss_time(t):    # Check for any non-digit characters\n",
    "        # Remove all whitespaces from the input\n",
    "    t = re.sub(r'\\s+', '', t)\n",
    "    \n",
    "    # Remove all characters except digits and colon\n",
    "    t = re.sub(r'[^\\d:]', '', t)\n",
    "    if re.search('[a-zA-Z]', t):\n",
    "        return None\n",
    "    \n",
    "    elif re.match(r'^:\\d{1}$', t):\n",
    "        return f\"0{t[1]}:00:00\"\n",
    "        # Handle cases like \"13:45\" or 9:33 :9\n",
    "    \n",
    "    elif re.match(r'^:\\d{2}$', t):\n",
    "        return f\"{t[1]}:00:00\"\n",
    "    \n",
    "    elif \":\" in t:\n",
    "        parts = t.split(':')\n",
    "        if len(parts) == 2:\n",
    "            # Check if first part is empty and second part is a single digit\n",
    "            if parts[0] == '' and parts[1].isdigit() and len(parts[1]) == 1:\n",
    "                return f\"0{parts[1]}:00:00\"\n",
    "            elif parts[0] == '' and parts[1].isdigit() and len(parts[1]) == 2:\n",
    "                return f\"{parts[1]}:00:00\"\n",
    "            # Existing checks for parts with length of 2 each\n",
    "            elif all(part.isdigit() for part in parts):\n",
    "                hours, minutes = parts\n",
    "                if int(hours) < 24 and int(minutes) < 60:\n",
    "                    return f\"{hours.zfill(2)}:{minutes.zfill(2)}:00\"\n",
    "    \n",
    "    # Length of 4 indicates HHMM format\n",
    "    if len(t) == 4:\n",
    "        return f\"{t[:2]}:{t[2:]}:00\"\n",
    "    \n",
    "    # Length of 3 indicates HMM format\n",
    "    elif len(t) == 3:\n",
    "        # Check if minutes exceed 59\n",
    "        if int(t[1:]) < 60:\n",
    "            return f\"0{t[0]}:{t[1:]}:00\"\n",
    "        elif int(t[:1]) < 24:\n",
    "            return f\"0{t[:1]}:{t[2]}:00\"\n",
    "    \n",
    "    # Length of 2 could be HH format\n",
    "    elif len(t) == 2:\n",
    "        # Check if it's a valid hour\n",
    "        if int(t) <= 24:\n",
    "            return f\"{t}:00:00\"\n",
    "\n",
    "    # Length of 1 indicates a single digit hour\n",
    "    elif len(t) == 1:\n",
    "        return f\"{t}:00:00\"\n",
    "\n",
    "    # Handle cases like \"13 45\"\n",
    "    elif \" \" in t:\n",
    "        hours, minutes = t.split()\n",
    "        if int(hours) <= 24 and int(minutes) < 60:\n",
    "            return f\"{int(hours)}:{int(minutes)}:00\"\n",
    "        \n",
    "    else:\n",
    "        # If none of the above conditions met, return None\n",
    "        return None"
   ],
   "metadata": {
    "collapsed": false,
    "ExecuteTime": {
     "end_time": "2023-11-07T15:55:07.966546Z",
     "start_time": "2023-11-07T15:55:07.889584Z"
    }
   },
   "id": "eeb13f245dc42f5d"
  },
  {
   "cell_type": "code",
   "execution_count": 49,
   "outputs": [],
   "source": [
    "# Apply the function to the Start column\n",
    "df6['Schluss'] = df6['Schluss'].apply(lambda x: clean_schluss_time(str(x)))"
   ],
   "metadata": {
    "collapsed": false,
    "ExecuteTime": {
     "end_time": "2023-11-07T15:55:15.743160Z",
     "start_time": "2023-11-07T15:55:07.891532Z"
    }
   },
   "id": "2168df7216b0ebc8"
  },
  {
   "cell_type": "code",
   "execution_count": 50,
   "outputs": [],
   "source": [
    "# Now convert the cleaned times to timedelta\n",
    "df6['Schluss'] = pd.to_timedelta(df6['Schluss'].dropna())"
   ],
   "metadata": {
    "collapsed": false,
    "ExecuteTime": {
     "end_time": "2023-11-07T15:55:17.640634Z",
     "start_time": "2023-11-07T15:55:15.821948Z"
    }
   },
   "id": "3f40e9d7bbbe0670"
  },
  {
   "cell_type": "code",
   "execution_count": 51,
   "outputs": [
    {
     "data": {
      "text/plain": "   Wahlperiode  Sitzung       Date           Start         Schluss  \\\n0           15        1 2002-10-17 0 days 11:00:00 0 days 15:40:00   \n1           15        1 2002-10-17 0 days 11:00:00 0 days 15:40:00   \n2           15        1 2002-10-17 0 days 11:00:00 0 days 15:40:00   \n3           15        1 2002-10-17 0 days 11:00:00 0 days 15:40:00   \n4           15        1 2002-10-17 0 days 11:00:00 0 days 15:40:00   \n\n                       Speaker  \\\n0  Alterspräsident Otto Schily   \n1  Alterspräsident Otto Schily   \n2  Alterspräsident Otto Schily   \n3  Alterspräsident Otto Schily   \n4  Alterspräsident Otto Schily   \n\n                                         Text_Spoken  \\\n0  Meine sehr verehrten Damen und sehr geehrten H...   \n1  Von Paul Löbeüber Konrad Adenauerbis hin zu al...   \n2  Nur Willy Brandtwar 1983 acht Monate jünger, a...   \n3  Das Amt des Alterspräsiden ten blieb Willy Bra...   \n4  Den Hinweis daraufsollten Sie, was meine Leben...   \n\n                                           Reactions  \n0                                               None  \n1                                               None  \n2                                               None  \n3                                               None  \n4  Heiterkeit bei der SPD und dem BÜND NIS 90/DIE...  ",
      "text/html": "<div>\n<style scoped>\n    .dataframe tbody tr th:only-of-type {\n        vertical-align: middle;\n    }\n\n    .dataframe tbody tr th {\n        vertical-align: top;\n    }\n\n    .dataframe thead th {\n        text-align: right;\n    }\n</style>\n<table border=\"1\" class=\"dataframe\">\n  <thead>\n    <tr style=\"text-align: right;\">\n      <th></th>\n      <th>Wahlperiode</th>\n      <th>Sitzung</th>\n      <th>Date</th>\n      <th>Start</th>\n      <th>Schluss</th>\n      <th>Speaker</th>\n      <th>Text_Spoken</th>\n      <th>Reactions</th>\n    </tr>\n  </thead>\n  <tbody>\n    <tr>\n      <th>0</th>\n      <td>15</td>\n      <td>1</td>\n      <td>2002-10-17</td>\n      <td>0 days 11:00:00</td>\n      <td>0 days 15:40:00</td>\n      <td>Alterspräsident Otto Schily</td>\n      <td>Meine sehr verehrten Damen und sehr geehrten H...</td>\n      <td>None</td>\n    </tr>\n    <tr>\n      <th>1</th>\n      <td>15</td>\n      <td>1</td>\n      <td>2002-10-17</td>\n      <td>0 days 11:00:00</td>\n      <td>0 days 15:40:00</td>\n      <td>Alterspräsident Otto Schily</td>\n      <td>Von Paul Löbeüber Konrad Adenauerbis hin zu al...</td>\n      <td>None</td>\n    </tr>\n    <tr>\n      <th>2</th>\n      <td>15</td>\n      <td>1</td>\n      <td>2002-10-17</td>\n      <td>0 days 11:00:00</td>\n      <td>0 days 15:40:00</td>\n      <td>Alterspräsident Otto Schily</td>\n      <td>Nur Willy Brandtwar 1983 acht Monate jünger, a...</td>\n      <td>None</td>\n    </tr>\n    <tr>\n      <th>3</th>\n      <td>15</td>\n      <td>1</td>\n      <td>2002-10-17</td>\n      <td>0 days 11:00:00</td>\n      <td>0 days 15:40:00</td>\n      <td>Alterspräsident Otto Schily</td>\n      <td>Das Amt des Alterspräsiden ten blieb Willy Bra...</td>\n      <td>None</td>\n    </tr>\n    <tr>\n      <th>4</th>\n      <td>15</td>\n      <td>1</td>\n      <td>2002-10-17</td>\n      <td>0 days 11:00:00</td>\n      <td>0 days 15:40:00</td>\n      <td>Alterspräsident Otto Schily</td>\n      <td>Den Hinweis daraufsollten Sie, was meine Leben...</td>\n      <td>Heiterkeit bei der SPD und dem BÜND NIS 90/DIE...</td>\n    </tr>\n  </tbody>\n</table>\n</div>"
     },
     "execution_count": 51,
     "metadata": {},
     "output_type": "execute_result"
    }
   ],
   "source": [
    "df6.head()"
   ],
   "metadata": {
    "collapsed": false,
    "ExecuteTime": {
     "end_time": "2023-11-07T15:55:17.656905Z",
     "start_time": "2023-11-07T15:55:17.642377Z"
    }
   },
   "id": "8530513f7f41c8eb"
  },
  {
   "cell_type": "code",
   "execution_count": 52,
   "outputs": [],
   "source": [
    "df7 = df6.copy()"
   ],
   "metadata": {
    "collapsed": false,
    "ExecuteTime": {
     "end_time": "2023-11-07T15:55:17.811441Z",
     "start_time": "2023-11-07T15:55:17.644545Z"
    }
   },
   "id": "36eb373b4e6bd40f"
  },
  {
   "cell_type": "markdown",
   "source": [
    "# Impute Missing Values"
   ],
   "metadata": {
    "collapsed": false
   },
   "id": "c19e350512d24ca1"
  },
  {
   "cell_type": "code",
   "execution_count": 53,
   "outputs": [
    {
     "data": {
      "text/plain": "Wahlperiode          0\nSitzung              0\nDate                 0\nStart             9004\nSchluss         159060\nSpeaker              0\nText_Spoken          0\nReactions      4105647\ndtype: int64"
     },
     "execution_count": 53,
     "metadata": {},
     "output_type": "execute_result"
    }
   ],
   "source": [
    "df7.isna().sum()"
   ],
   "metadata": {
    "collapsed": false,
    "ExecuteTime": {
     "end_time": "2023-11-07T15:55:18.827035Z",
     "start_time": "2023-11-07T15:55:17.779893Z"
    }
   },
   "id": "2d35c03026a90e3a"
  },
  {
   "cell_type": "markdown",
   "source": [
    "## Start"
   ],
   "metadata": {
    "collapsed": false
   },
   "id": "ded07ea7fcb14cf4"
  },
  {
   "cell_type": "code",
   "execution_count": 54,
   "outputs": [
    {
     "name": "stdout",
     "output_type": "stream",
     "text": [
      "   Wahlperiode  Sitzung  Missing_Count\n",
      "0           18      142           2157\n",
      "1           19        6           1385\n",
      "2           19       70           2486\n",
      "3           19       82           2976\n"
     ]
    }
   ],
   "source": [
    "# Filter rows where the Start column is missing in df_1\n",
    "missing_start_df = df7[df7['Start'].isna()]\n",
    "\n",
    "# Group by Wahlperiode and Sitzung and count the number of missing starts for each group\n",
    "grouped_missing_starts = missing_start_df.groupby(['Wahlperiode', 'Sitzung']).size().reset_index(name='Missing_Count')\n",
    "\n",
    "# Display the result\n",
    "print(grouped_missing_starts)"
   ],
   "metadata": {
    "collapsed": false,
    "ExecuteTime": {
     "end_time": "2023-11-07T15:55:18.884646Z",
     "start_time": "2023-11-07T15:55:18.826787Z"
    }
   },
   "id": "5d849efbf15c4172"
  },
  {
   "cell_type": "code",
   "execution_count": 55,
   "outputs": [],
   "source": [
    "# Let me do Start by Hand\n",
    "manual_starts = {\n",
    "    (18, 142): '12:30:00',\n",
    "    (19, 6): '13:00:00',\n",
    "    (19, 70): '13:00:00',\n",
    "    (19, 82): '13:00:00',\n",
    "}"
   ],
   "metadata": {
    "collapsed": false,
    "ExecuteTime": {
     "end_time": "2023-11-07T15:55:18.884834Z",
     "start_time": "2023-11-07T15:55:18.859760Z"
    }
   },
   "id": "c25cc7e5fa2feb6a"
  },
  {
   "cell_type": "code",
   "execution_count": 56,
   "outputs": [
    {
     "name": "stdout",
     "output_type": "stream",
     "text": [
      "0 days 12:30:00\n",
      "0 days 13:00:00\n",
      "0 days 13:00:00\n",
      "0 days 13:00:00\n"
     ]
    }
   ],
   "source": [
    "# Iterate over the manual_starts items\n",
    "for (wahlperiode, sitzung), start_time in manual_starts.items():\n",
    "    # Convert start_time to a timedelta object\n",
    "    start_time_delta = pd.to_timedelta(start_time)\n",
    "    print(start_time_delta)\n",
    "    # Apply the timedelta where conditions are met\n",
    "    df7.loc[(df7['Wahlperiode'] == wahlperiode) & (df7['Sitzung'] == sitzung), 'Start'] = start_time_delta"
   ],
   "metadata": {
    "collapsed": false,
    "ExecuteTime": {
     "end_time": "2023-11-07T15:55:18.908103Z",
     "start_time": "2023-11-07T15:55:18.863797Z"
    }
   },
   "id": "81782d36ec6316b9"
  },
  {
   "cell_type": "code",
   "execution_count": 57,
   "outputs": [
    {
     "data": {
      "text/plain": "Wahlperiode          0\nSitzung              0\nDate                 0\nStart                0\nSchluss         159060\nSpeaker              0\nText_Spoken          0\nReactions      4105647\ndtype: int64"
     },
     "execution_count": 57,
     "metadata": {},
     "output_type": "execute_result"
    }
   ],
   "source": [
    "df7.isna().sum()"
   ],
   "metadata": {
    "collapsed": false,
    "ExecuteTime": {
     "end_time": "2023-11-07T15:55:19.712471Z",
     "start_time": "2023-11-07T15:55:18.897200Z"
    }
   },
   "id": "d1775057b8b8870"
  },
  {
   "cell_type": "code",
   "execution_count": 58,
   "outputs": [],
   "source": [
    "df8 = df7.copy()"
   ],
   "metadata": {
    "collapsed": false,
    "ExecuteTime": {
     "end_time": "2023-11-07T15:55:19.857761Z",
     "start_time": "2023-11-07T15:55:19.697288Z"
    }
   },
   "id": "23fd6b44a986a59b"
  },
  {
   "cell_type": "markdown",
   "source": [
    "## Schluss"
   ],
   "metadata": {
    "collapsed": false
   },
   "id": "11b6398ad556360f"
  },
  {
   "cell_type": "code",
   "execution_count": 59,
   "outputs": [
    {
     "data": {
      "text/plain": "Wahlperiode          0\nSitzung              0\nDate                 0\nStart                0\nSchluss         159060\nSpeaker              0\nText_Spoken          0\nReactions      4105647\ndtype: int64"
     },
     "execution_count": 59,
     "metadata": {},
     "output_type": "execute_result"
    }
   ],
   "source": [
    "df8.isna().sum()"
   ],
   "metadata": {
    "collapsed": false,
    "ExecuteTime": {
     "end_time": "2023-11-07T15:55:20.631041Z",
     "start_time": "2023-11-07T15:55:19.817033Z"
    }
   },
   "id": "ea307a571334a198"
  },
  {
   "cell_type": "code",
   "execution_count": 60,
   "outputs": [
    {
     "name": "stdout",
     "output_type": "stream",
     "text": [
      "         Wahlperiode  Sitzung\n",
      "217323            15       83\n",
      "217324            15       83\n",
      "217325            15       83\n",
      "217326            15       83\n",
      "217327            15       83\n",
      "...              ...      ...\n",
      "3741134           19      112\n",
      "3741135           19      112\n",
      "3741136           19      112\n",
      "3741137           19      112\n",
      "3741138           19      112\n",
      "\n",
      "[159060 rows x 2 columns]\n"
     ]
    }
   ],
   "source": [
    "import pandas as pd\n",
    "from sklearn.linear_model import LinearRegression\n",
    "from sklearn.model_selection import train_test_split\n",
    "# Calculate the duration only for rows where 'Schluss' is not None\n",
    "df8['Dauer'] = df8.apply(lambda row: row['Schluss'] - row['Start'] if pd.notna(row['Schluss']) else None, axis=1)\n",
    "\n",
    "# Now convert 'Dauer' to seconds only for non-None values\n",
    "df8['Dauer_in_Sekunden'] = df8['Dauer'].dt.total_seconds()\n",
    "\n",
    "# Prepare your features and target variable, excluding rows where 'Dauer' is None\n",
    "X = df8[['Wahlperiode', 'Sitzung']]\n",
    "y = df8['Dauer_in_Sekunden']\n",
    "\n",
    "# Use only the rows with non-missing 'Dauer_in_Sekunden' to train the model\n",
    "X_train = X[y.notna()]\n",
    "y_train = y[y.notna()]\n",
    "\n",
    "# Initialize the linear regression model and fit it to the data\n",
    "model = LinearRegression()\n",
    "model.fit(X_train, y_train)\n",
    "\n",
    "# Predict the 'Dauer_in_Sekunden' for missing values\n",
    "X_missing = X[y.isna()]\n",
    "print(X_missing)"
   ],
   "metadata": {
    "collapsed": false,
    "ExecuteTime": {
     "end_time": "2023-11-07T15:55:56.004748Z",
     "start_time": "2023-11-07T15:55:20.618391Z"
    }
   },
   "id": "a966e56cd5eb8925"
  },
  {
   "cell_type": "code",
   "execution_count": 61,
   "outputs": [
    {
     "data": {
      "text/plain": "array([36555.16688178, 36555.16688178, 36555.16688178, ...,\n       30464.01629555, 30464.01629555, 30464.01629555])"
     },
     "execution_count": 61,
     "metadata": {},
     "output_type": "execute_result"
    }
   ],
   "source": [
    "predicted_durations = model.predict(X_missing)\n",
    "predicted_durations"
   ],
   "metadata": {
    "collapsed": false,
    "ExecuteTime": {
     "end_time": "2023-11-07T15:55:56.121716Z",
     "start_time": "2023-11-07T15:55:55.928949Z"
    }
   },
   "id": "5c1550444db5ec97"
  },
  {
   "cell_type": "code",
   "execution_count": 62,
   "outputs": [
    {
     "data": {
      "text/plain": "Wahlperiode                0\nSitzung                    0\nDate                       0\nStart                      0\nSchluss               159060\nSpeaker                    0\nText_Spoken                0\nReactions            4105647\nDauer                 159060\nDauer_in_Sekunden          0\ndtype: int64"
     },
     "execution_count": 62,
     "metadata": {},
     "output_type": "execute_result"
    }
   ],
   "source": [
    "\n",
    "# Fill the missing 'Dauer_in_Sekunden' with the predicted values\n",
    "df8.loc[y.isna(), 'Dauer_in_Sekunden'] = predicted_durations\n",
    "df8.isna().sum()"
   ],
   "metadata": {
    "collapsed": false,
    "ExecuteTime": {
     "end_time": "2023-11-07T15:55:56.674292Z",
     "start_time": "2023-11-07T15:55:55.931904Z"
    }
   },
   "id": "98f13550ca633b67"
  },
  {
   "cell_type": "code",
   "execution_count": 63,
   "outputs": [
    {
     "data": {
      "text/plain": "Wahlperiode                0\nSitzung                    0\nDate                       0\nStart                      0\nSchluss                    0\nSpeaker                    0\nText_Spoken                0\nReactions            4105647\nDauer                 159060\nDauer_in_Sekunden          0\ndtype: int64"
     },
     "execution_count": 63,
     "metadata": {},
     "output_type": "execute_result"
    }
   ],
   "source": [
    "missing_indices = df8.loc[df8['Schluss'].isna()].index\n",
    "# Impute the missing 'Schluss' values using the predicted durations\n",
    "df8.loc[missing_indices, 'Schluss'] = df8.loc[missing_indices, 'Start'] + pd.to_timedelta(df8.loc[missing_indices, 'Dauer_in_Sekunden'], unit='s')\n",
    "df8.isna().sum()"
   ],
   "metadata": {
    "collapsed": false,
    "ExecuteTime": {
     "end_time": "2023-11-07T15:55:57.494026Z",
     "start_time": "2023-11-07T15:55:56.660824Z"
    }
   },
   "id": "adf61602ff58ad19"
  },
  {
   "cell_type": "code",
   "execution_count": 64,
   "outputs": [
    {
     "data": {
      "text/plain": "Wahlperiode          0\nSitzung              0\nDate                 0\nStart                0\nSchluss              0\nSpeaker              0\nText_Spoken          0\nReactions      4105647\ndtype: int64"
     },
     "execution_count": 64,
     "metadata": {},
     "output_type": "execute_result"
    }
   ],
   "source": [
    "# Clean up the DataFrame by dropping intermediate columns if desired\n",
    "df8 = df8.drop(['Dauer', 'Dauer_in_Sekunden'], axis=1)\n",
    "\n",
    "# View the updated DataFrame\n",
    "df8.isna().sum()"
   ],
   "metadata": {
    "collapsed": false,
    "ExecuteTime": {
     "end_time": "2023-11-07T15:55:58.482038Z",
     "start_time": "2023-11-07T15:55:57.486386Z"
    }
   },
   "id": "4e82f8c5737dabbd"
  },
  {
   "cell_type": "code",
   "execution_count": 65,
   "outputs": [],
   "source": [
    "df9 = df8.copy()"
   ],
   "metadata": {
    "collapsed": false,
    "ExecuteTime": {
     "end_time": "2023-11-07T15:55:58.650799Z",
     "start_time": "2023-11-07T15:55:58.458473Z"
    }
   },
   "id": "934b463ea40db810"
  },
  {
   "cell_type": "code",
   "execution_count": 66,
   "outputs": [
    {
     "data": {
      "text/plain": "Wahlperiode              int64\nSitzung                  int64\nDate            datetime64[ns]\nStart          timedelta64[ns]\nSchluss        timedelta64[ns]\nSpeaker                 object\nText_Spoken             object\nReactions               object\ndtype: object"
     },
     "execution_count": 66,
     "metadata": {},
     "output_type": "execute_result"
    }
   ],
   "source": [
    "df9.dtypes"
   ],
   "metadata": {
    "collapsed": false,
    "ExecuteTime": {
     "end_time": "2023-11-07T15:55:58.651335Z",
     "start_time": "2023-11-07T15:55:58.559322Z"
    }
   },
   "id": "1510084ff0977e12"
  },
  {
   "cell_type": "code",
   "execution_count": 67,
   "outputs": [
    {
     "data": {
      "text/plain": "(4864724, 8)"
     },
     "execution_count": 67,
     "metadata": {},
     "output_type": "execute_result"
    }
   ],
   "source": [
    "df9.shape"
   ],
   "metadata": {
    "collapsed": false,
    "ExecuteTime": {
     "end_time": "2023-11-07T15:55:58.651644Z",
     "start_time": "2023-11-07T15:55:58.561375Z"
    }
   },
   "id": "9f78ddc5da968d6d"
  },
  {
   "cell_type": "code",
   "execution_count": 68,
   "outputs": [
    {
     "data": {
      "text/plain": "Wahlperiode          0\nSitzung              0\nDate                 0\nStart                0\nSchluss              0\nSpeaker              0\nText_Spoken          0\nReactions      4105647\ndtype: int64"
     },
     "execution_count": 68,
     "metadata": {},
     "output_type": "execute_result"
    }
   ],
   "source": [
    "df9.isna().sum()"
   ],
   "metadata": {
    "collapsed": false,
    "ExecuteTime": {
     "end_time": "2023-11-07T15:55:59.373517Z",
     "start_time": "2023-11-07T15:55:58.563371Z"
    }
   },
   "id": "2db3e610e831b280"
  },
  {
   "cell_type": "code",
   "execution_count": 69,
   "outputs": [],
   "source": [
    "df9.to_csv('/Users/merlesteffen/Documents/Education/WBS_Coding_School/Bootcamp/Final_Project/Final_Data/final.csv', index=False, encoding='utf-8')"
   ],
   "metadata": {
    "collapsed": false,
    "ExecuteTime": {
     "end_time": "2023-11-07T15:56:41.041949Z",
     "start_time": "2023-11-07T15:55:59.360861Z"
    }
   },
   "id": "cb093df33ed92420"
  },
  {
   "cell_type": "code",
   "execution_count": 70,
   "outputs": [
    {
     "data": {
      "text/plain": "       Wahlperiode  Sitzung       Date           Start         Schluss  \\\n12957           15        9 2002-11-13 0 days 13:00:00 0 days 16:57:00   \n12958           15        9 2002-11-13 0 days 13:00:00 0 days 16:57:00   \n12959           15        9 2002-11-13 0 days 13:00:00 0 days 16:57:00   \n12960           15        9 2002-11-13 0 days 13:00:00 0 days 16:57:00   \n12961           15        9 2002-11-13 0 days 13:00:00 0 days 16:57:00   \n...            ...      ...        ...             ...             ...   \n14597           15        9 2002-11-13 0 days 13:00:00 0 days 16:57:00   \n14598           15        9 2002-11-13 0 days 13:00:00 0 days 16:57:00   \n14599           15        9 2002-11-13 0 days 13:00:00 0 days 16:57:00   \n14600           15        9 2002-11-13 0 days 13:00:00 0 days 16:57:00   \n14601           15        9 2002-11-13 0 days 13:00:00 0 days 16:57:00   \n\n                                 Speaker  \\\n12957          Heidemarie Wieczorek Zeul   \n12958          Heidemarie Wieczorek Zeul   \n12959          Heidemarie Wieczorek Zeul   \n12960          Heidemarie Wieczorek Zeul   \n12961          Heidemarie Wieczorek Zeul   \n...                                  ...   \n14597                    Dr. Rainer Wend   \n14598                    Dr. Rainer Wend   \n14599  Vizepräsident Dr. Norbert Lammert   \n14600  Vizepräsident Dr. Norbert Lammert   \n14601  Vizepräsident Dr. Norbert Lammert   \n\n                                             Text_Spoken  \\\n12957  Es wirdvor allem darum gehen, ein Umdenken zus...   \n12958  Es geht auch darum, in der Zusammenarbeit mit ...   \n12959  Es geht ferner darum,beim Aufbau eines unabhän...   \n12960    Daran haltenwir die afghanische Regierung fest.   \n12961  Wie ich schon sagte, habe ich heute Nachmittag...   \n...                                                  ...   \n14597  Wenn Sie die Trennung konsequent zu Ende bring...   \n14598  Diesen Trennungsstrich müssen Sie ziehen, um b...   \n14599  Meine Damen und Herren, wir sind am Ende der A...   \n14600  Ich berufe die nächste Sitzung des Deutschen B...   \n14601                       Die Sitzung ist geschlossen.   \n\n                                               Reactions  \n12957                                               None  \n12958                                               None  \n12959                                               None  \n12960                                               None  \n12961                                               None  \n...                                                  ...  \n14597                                               None  \n14598  Beifall bei der SPD und dem BÜNDNIS 90/DIE GRÜ...  \n14599                                               None  \n14600                                               None  \n14601                                 Schluss: 1657 Uhr.  \n\n[1645 rows x 8 columns]",
      "text/html": "<div>\n<style scoped>\n    .dataframe tbody tr th:only-of-type {\n        vertical-align: middle;\n    }\n\n    .dataframe tbody tr th {\n        vertical-align: top;\n    }\n\n    .dataframe thead th {\n        text-align: right;\n    }\n</style>\n<table border=\"1\" class=\"dataframe\">\n  <thead>\n    <tr style=\"text-align: right;\">\n      <th></th>\n      <th>Wahlperiode</th>\n      <th>Sitzung</th>\n      <th>Date</th>\n      <th>Start</th>\n      <th>Schluss</th>\n      <th>Speaker</th>\n      <th>Text_Spoken</th>\n      <th>Reactions</th>\n    </tr>\n  </thead>\n  <tbody>\n    <tr>\n      <th>12957</th>\n      <td>15</td>\n      <td>9</td>\n      <td>2002-11-13</td>\n      <td>0 days 13:00:00</td>\n      <td>0 days 16:57:00</td>\n      <td>Heidemarie Wieczorek Zeul</td>\n      <td>Es wirdvor allem darum gehen, ein Umdenken zus...</td>\n      <td>None</td>\n    </tr>\n    <tr>\n      <th>12958</th>\n      <td>15</td>\n      <td>9</td>\n      <td>2002-11-13</td>\n      <td>0 days 13:00:00</td>\n      <td>0 days 16:57:00</td>\n      <td>Heidemarie Wieczorek Zeul</td>\n      <td>Es geht auch darum, in der Zusammenarbeit mit ...</td>\n      <td>None</td>\n    </tr>\n    <tr>\n      <th>12959</th>\n      <td>15</td>\n      <td>9</td>\n      <td>2002-11-13</td>\n      <td>0 days 13:00:00</td>\n      <td>0 days 16:57:00</td>\n      <td>Heidemarie Wieczorek Zeul</td>\n      <td>Es geht ferner darum,beim Aufbau eines unabhän...</td>\n      <td>None</td>\n    </tr>\n    <tr>\n      <th>12960</th>\n      <td>15</td>\n      <td>9</td>\n      <td>2002-11-13</td>\n      <td>0 days 13:00:00</td>\n      <td>0 days 16:57:00</td>\n      <td>Heidemarie Wieczorek Zeul</td>\n      <td>Daran haltenwir die afghanische Regierung fest.</td>\n      <td>None</td>\n    </tr>\n    <tr>\n      <th>12961</th>\n      <td>15</td>\n      <td>9</td>\n      <td>2002-11-13</td>\n      <td>0 days 13:00:00</td>\n      <td>0 days 16:57:00</td>\n      <td>Heidemarie Wieczorek Zeul</td>\n      <td>Wie ich schon sagte, habe ich heute Nachmittag...</td>\n      <td>None</td>\n    </tr>\n    <tr>\n      <th>...</th>\n      <td>...</td>\n      <td>...</td>\n      <td>...</td>\n      <td>...</td>\n      <td>...</td>\n      <td>...</td>\n      <td>...</td>\n      <td>...</td>\n    </tr>\n    <tr>\n      <th>14597</th>\n      <td>15</td>\n      <td>9</td>\n      <td>2002-11-13</td>\n      <td>0 days 13:00:00</td>\n      <td>0 days 16:57:00</td>\n      <td>Dr. Rainer Wend</td>\n      <td>Wenn Sie die Trennung konsequent zu Ende bring...</td>\n      <td>None</td>\n    </tr>\n    <tr>\n      <th>14598</th>\n      <td>15</td>\n      <td>9</td>\n      <td>2002-11-13</td>\n      <td>0 days 13:00:00</td>\n      <td>0 days 16:57:00</td>\n      <td>Dr. Rainer Wend</td>\n      <td>Diesen Trennungsstrich müssen Sie ziehen, um b...</td>\n      <td>Beifall bei der SPD und dem BÜNDNIS 90/DIE GRÜ...</td>\n    </tr>\n    <tr>\n      <th>14599</th>\n      <td>15</td>\n      <td>9</td>\n      <td>2002-11-13</td>\n      <td>0 days 13:00:00</td>\n      <td>0 days 16:57:00</td>\n      <td>Vizepräsident Dr. Norbert Lammert</td>\n      <td>Meine Damen und Herren, wir sind am Ende der A...</td>\n      <td>None</td>\n    </tr>\n    <tr>\n      <th>14600</th>\n      <td>15</td>\n      <td>9</td>\n      <td>2002-11-13</td>\n      <td>0 days 13:00:00</td>\n      <td>0 days 16:57:00</td>\n      <td>Vizepräsident Dr. Norbert Lammert</td>\n      <td>Ich berufe die nächste Sitzung des Deutschen B...</td>\n      <td>None</td>\n    </tr>\n    <tr>\n      <th>14601</th>\n      <td>15</td>\n      <td>9</td>\n      <td>2002-11-13</td>\n      <td>0 days 13:00:00</td>\n      <td>0 days 16:57:00</td>\n      <td>Vizepräsident Dr. Norbert Lammert</td>\n      <td>Die Sitzung ist geschlossen.</td>\n      <td>Schluss: 1657 Uhr.</td>\n    </tr>\n  </tbody>\n</table>\n<p>1645 rows × 8 columns</p>\n</div>"
     },
     "execution_count": 70,
     "metadata": {},
     "output_type": "execute_result"
    }
   ],
   "source": [
    "df9.loc[(df9['Wahlperiode'] == 15) & (df9['Sitzung']== 9)]"
   ],
   "metadata": {
    "collapsed": false,
    "ExecuteTime": {
     "end_time": "2023-11-07T15:56:41.057387Z",
     "start_time": "2023-11-07T15:56:41.042107Z"
    }
   },
   "id": "acddfeb25fbc1fce"
  },
  {
   "cell_type": "code",
   "execution_count": 71,
   "outputs": [],
   "source": [
    "df9.to_csv('/Users/merlesteffen/Documents/Education/WBS_Coding_School/Bootcamp/Final_Project/speeches_bundestag/Final_DF/final_text_speaker_df_2.csv', index=False, encoding='utf-8')"
   ],
   "metadata": {
    "collapsed": false,
    "ExecuteTime": {
     "end_time": "2023-11-07T15:57:23.028704Z",
     "start_time": "2023-11-07T15:56:41.053823Z"
    }
   },
   "id": "d0892b18bae72171"
  },
  {
   "cell_type": "code",
   "execution_count": 71,
   "outputs": [],
   "source": [],
   "metadata": {
    "collapsed": false,
    "ExecuteTime": {
     "end_time": "2023-11-07T15:57:23.033852Z",
     "start_time": "2023-11-07T15:57:23.028177Z"
    }
   },
   "id": "89e36c1c37d40572"
  }
 ],
 "metadata": {
  "kernelspec": {
   "display_name": "Python 3",
   "language": "python",
   "name": "python3"
  },
  "language_info": {
   "codemirror_mode": {
    "name": "ipython",
    "version": 2
   },
   "file_extension": ".py",
   "mimetype": "text/x-python",
   "name": "python",
   "nbconvert_exporter": "python",
   "pygments_lexer": "ipython2",
   "version": "2.7.6"
  }
 },
 "nbformat": 4,
 "nbformat_minor": 5
}
