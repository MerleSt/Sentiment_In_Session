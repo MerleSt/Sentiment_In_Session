{
 "cells": [
  {
   "cell_type": "markdown",
   "source": [
    "# Imports and pickle"
   ],
   "metadata": {
    "collapsed": false
   },
   "id": "6ef7963e558b6e5f"
  },
  {
   "cell_type": "code",
   "execution_count": 6,
   "id": "initial_id",
   "metadata": {
    "collapsed": true,
    "ExecuteTime": {
     "end_time": "2023-11-15T10:45:34.833547Z",
     "start_time": "2023-11-15T10:45:34.803754Z"
    }
   },
   "outputs": [],
   "source": [
    "import pandas as pd\n",
    "import pickle\n",
    "import re\n",
    "import os\n",
    "import PyPDF2\n",
    "from joblib import Parallel, delayed"
   ]
  },
  {
   "cell_type": "code",
   "execution_count": 137,
   "outputs": [],
   "source": [
    "# Define the folder where your .pkl files are located\n",
    "folder_path = \"/Users/merlesteffen/Documents/Education/WBS_Coding_School/Bootcamp/Sentiment_In_Session/pickel_22_copy\"\n",
    "\n",
    "# Initialize an empty dictionary to store loaded DataFrames\n",
    "loaded_dfs = {}\n",
    "\n",
    "# Loop through each file in the folder\n",
    "for filename in os.listdir(folder_path):\n",
    "    if filename.endswith(\".pkl\"):\n",
    "        file_path = os.path.join(folder_path, filename)\n",
    "        \n",
    "        # Load the pickled object\n",
    "        with open(file_path, 'rb') as f:\n",
    "            loaded_object = pickle.load(f)\n",
    "        \n",
    "        # Check if the loaded object is a DataFrame\n",
    "        if isinstance(loaded_object, pd.DataFrame):\n",
    "            loaded_dfs[filename] = loaded_object\n",
    "        elif isinstance(loaded_object, list):\n",
    "            # Check if the list contains DataFrames\n",
    "            if all(isinstance(item, pd.DataFrame) for item in loaded_object):\n",
    "                # Convert list of DataFrames to a single DataFrame\n",
    "                concatenated_df = pd.concat(loaded_object)\n",
    "                loaded_dfs[filename] = concatenated_df\n",
    "            else:\n",
    "                print(f\"Skipping {filename}, list does not contain DataFrames.\")\n",
    "        else:\n",
    "            print(f\"Skipping {filename}, not a DataFrame or list of DataFrames.\")\n",
    "\n",
    "# Concatenate individual DataFrames into one big DataFrame\n",
    "if loaded_dfs:\n",
    "    df = pd.concat(loaded_dfs.values(), keys=loaded_dfs.keys())\n",
    "else:\n",
    "    print(\"No DataFrames were loaded.\")"
   ],
   "metadata": {
    "collapsed": false,
    "ExecuteTime": {
     "end_time": "2023-11-15T11:11:19.279481Z",
     "start_time": "2023-11-15T11:11:16.226310Z"
    }
   },
   "id": "958d5f79971d02e5"
  },
  {
   "cell_type": "markdown",
   "source": [
    "# Missing values"
   ],
   "metadata": {
    "collapsed": false
   },
   "id": "9540ca5944819103"
  },
  {
   "cell_type": "code",
   "execution_count": 138,
   "outputs": [
    {
     "data": {
      "text/plain": "(5120245, 8)"
     },
     "execution_count": 138,
     "metadata": {},
     "output_type": "execute_result"
    }
   ],
   "source": [
    "df.shape"
   ],
   "metadata": {
    "collapsed": false,
    "ExecuteTime": {
     "end_time": "2023-11-15T11:11:19.282917Z",
     "start_time": "2023-11-15T11:11:19.280099Z"
    }
   },
   "id": "72fd778e7780a6a8"
  },
  {
   "cell_type": "code",
   "execution_count": 139,
   "outputs": [
    {
     "data": {
      "text/plain": "Wahlperiode          0\nSitzung              0\nDate                 0\nStart           865122\nSchluss         921065\nSpeaker              0\nText_Spoken          0\nReactions      4324247\ndtype: int64"
     },
     "execution_count": 139,
     "metadata": {},
     "output_type": "execute_result"
    }
   ],
   "source": [
    "df.isna().sum()"
   ],
   "metadata": {
    "collapsed": false,
    "ExecuteTime": {
     "end_time": "2023-11-15T11:11:21.824932Z",
     "start_time": "2023-11-15T11:11:19.282286Z"
    }
   },
   "id": "c86c2b3fa3bb1a80"
  },
  {
   "cell_type": "code",
   "execution_count": 140,
   "outputs": [
    {
     "data": {
      "text/plain": "                      Wahlperiode Sitzung               Date  Start Schluss  \\\ndfs_batch_58.pkl 1             20     004   7. Dezember 2021  12:00   13:41   \n                 2             20     004   7. Dezember 2021  12:00   13:41   \n                 3             20     004   7. Dezember 2021  12:00   13:41   \n                 4             20     004   7. Dezember 2021  12:00   13:41   \n                 5             20     004   7. Dezember 2021  12:00   13:41   \n...                           ...     ...                ...    ...     ...   \ndfs_batch_55.pkl 4078          19     201  16. Dezember 2020  13:00   20:24   \n                 4079          19     201  16. Dezember 2020  13:00   20:24   \n                 4080          19     201  16. Dezember 2020  13:00   20:24   \n                 4081          19     201  16. Dezember 2020  13:00   20:24   \n                 4082          19     201  16. Dezember 2020  13:00   20:24   \n\n                                                      Speaker  \\\ndfs_batch_58.pkl 1                     Präsidentin Bärbel Bas   \n                 2                     Präsidentin Bärbel Bas   \n                 3                     Präsidentin Bärbel Bas   \n                 4                     Präsidentin Bärbel Bas   \n                 5                     Präsidentin Bärbel Bas   \n...                                                       ...   \ndfs_batch_55.pkl 4078  Vizepräsident Dr. Hans Peter Friedrich   \n                 4079  Vizepräsident Dr. Hans Peter Friedrich   \n                 4080  Vizepräsident Dr. Hans Peter Friedrich   \n                 4081  Vizepräsident Dr. Hans Peter Friedrich   \n                 4082  Vizepräsident Dr. Hans Peter Friedrich   \n\n                                                             Text_Spoken  \\\ndfs_batch_58.pkl 1     Ich wünsche Ihnen allen einen schönen guten Ta...   \n                 2                             Die Sitzung ist eröffnet.   \n                 3     Vor Eintritt in die Tagesordnung: Liebe Kolleg...   \n                 4     Liebe Kolleginnen und Kollegen, die Covid 19 P...   \n                 5     Laut Robert Koch Institut sind die aktuellen F...   \n...                                                                  ...   \ndfs_batch_55.pkl 4078              Dann verfahren wir wie vorgeschlagen.   \n                 4079     Wir sind am Schluss der heutigen Tagesordnung.   \n                 4080  Ich berufe die nächste Sitzung des Deutschen B...   \n                 4081                       Die Sitzung ist geschlossen.   \n                 4082    Deutscher Bundestag 19 Wahlperiode 201 Sitzung.   \n\n                                Reactions  \ndfs_batch_58.pkl 1                   None  \n                 2                   None  \n                 3                   None  \n                 4                   None  \n                 5                   None  \n...                                   ...  \ndfs_batch_55.pkl 4078                None  \n                 4079                None  \n                 4080                None  \n                 4081  Schluss: 2024 Uhr.  \n                 4082                None  \n\n[5120245 rows x 8 columns]",
      "text/html": "<div>\n<style scoped>\n    .dataframe tbody tr th:only-of-type {\n        vertical-align: middle;\n    }\n\n    .dataframe tbody tr th {\n        vertical-align: top;\n    }\n\n    .dataframe thead th {\n        text-align: right;\n    }\n</style>\n<table border=\"1\" class=\"dataframe\">\n  <thead>\n    <tr style=\"text-align: right;\">\n      <th></th>\n      <th></th>\n      <th>Wahlperiode</th>\n      <th>Sitzung</th>\n      <th>Date</th>\n      <th>Start</th>\n      <th>Schluss</th>\n      <th>Speaker</th>\n      <th>Text_Spoken</th>\n      <th>Reactions</th>\n    </tr>\n  </thead>\n  <tbody>\n    <tr>\n      <th rowspan=\"5\" valign=\"top\">dfs_batch_58.pkl</th>\n      <th>1</th>\n      <td>20</td>\n      <td>004</td>\n      <td>7. Dezember 2021</td>\n      <td>12:00</td>\n      <td>13:41</td>\n      <td>Präsidentin Bärbel Bas</td>\n      <td>Ich wünsche Ihnen allen einen schönen guten Ta...</td>\n      <td>None</td>\n    </tr>\n    <tr>\n      <th>2</th>\n      <td>20</td>\n      <td>004</td>\n      <td>7. Dezember 2021</td>\n      <td>12:00</td>\n      <td>13:41</td>\n      <td>Präsidentin Bärbel Bas</td>\n      <td>Die Sitzung ist eröffnet.</td>\n      <td>None</td>\n    </tr>\n    <tr>\n      <th>3</th>\n      <td>20</td>\n      <td>004</td>\n      <td>7. Dezember 2021</td>\n      <td>12:00</td>\n      <td>13:41</td>\n      <td>Präsidentin Bärbel Bas</td>\n      <td>Vor Eintritt in die Tagesordnung: Liebe Kolleg...</td>\n      <td>None</td>\n    </tr>\n    <tr>\n      <th>4</th>\n      <td>20</td>\n      <td>004</td>\n      <td>7. Dezember 2021</td>\n      <td>12:00</td>\n      <td>13:41</td>\n      <td>Präsidentin Bärbel Bas</td>\n      <td>Liebe Kolleginnen und Kollegen, die Covid 19 P...</td>\n      <td>None</td>\n    </tr>\n    <tr>\n      <th>5</th>\n      <td>20</td>\n      <td>004</td>\n      <td>7. Dezember 2021</td>\n      <td>12:00</td>\n      <td>13:41</td>\n      <td>Präsidentin Bärbel Bas</td>\n      <td>Laut Robert Koch Institut sind die aktuellen F...</td>\n      <td>None</td>\n    </tr>\n    <tr>\n      <th>...</th>\n      <th>...</th>\n      <td>...</td>\n      <td>...</td>\n      <td>...</td>\n      <td>...</td>\n      <td>...</td>\n      <td>...</td>\n      <td>...</td>\n      <td>...</td>\n    </tr>\n    <tr>\n      <th rowspan=\"5\" valign=\"top\">dfs_batch_55.pkl</th>\n      <th>4078</th>\n      <td>19</td>\n      <td>201</td>\n      <td>16. Dezember 2020</td>\n      <td>13:00</td>\n      <td>20:24</td>\n      <td>Vizepräsident Dr. Hans Peter Friedrich</td>\n      <td>Dann verfahren wir wie vorgeschlagen.</td>\n      <td>None</td>\n    </tr>\n    <tr>\n      <th>4079</th>\n      <td>19</td>\n      <td>201</td>\n      <td>16. Dezember 2020</td>\n      <td>13:00</td>\n      <td>20:24</td>\n      <td>Vizepräsident Dr. Hans Peter Friedrich</td>\n      <td>Wir sind am Schluss der heutigen Tagesordnung.</td>\n      <td>None</td>\n    </tr>\n    <tr>\n      <th>4080</th>\n      <td>19</td>\n      <td>201</td>\n      <td>16. Dezember 2020</td>\n      <td>13:00</td>\n      <td>20:24</td>\n      <td>Vizepräsident Dr. Hans Peter Friedrich</td>\n      <td>Ich berufe die nächste Sitzung des Deutschen B...</td>\n      <td>None</td>\n    </tr>\n    <tr>\n      <th>4081</th>\n      <td>19</td>\n      <td>201</td>\n      <td>16. Dezember 2020</td>\n      <td>13:00</td>\n      <td>20:24</td>\n      <td>Vizepräsident Dr. Hans Peter Friedrich</td>\n      <td>Die Sitzung ist geschlossen.</td>\n      <td>Schluss: 2024 Uhr.</td>\n    </tr>\n    <tr>\n      <th>4082</th>\n      <td>19</td>\n      <td>201</td>\n      <td>16. Dezember 2020</td>\n      <td>13:00</td>\n      <td>20:24</td>\n      <td>Vizepräsident Dr. Hans Peter Friedrich</td>\n      <td>Deutscher Bundestag 19 Wahlperiode 201 Sitzung.</td>\n      <td>None</td>\n    </tr>\n  </tbody>\n</table>\n<p>5120245 rows × 8 columns</p>\n</div>"
     },
     "execution_count": 140,
     "metadata": {},
     "output_type": "execute_result"
    }
   ],
   "source": [
    "df"
   ],
   "metadata": {
    "collapsed": false,
    "ExecuteTime": {
     "end_time": "2023-11-15T11:11:21.830789Z",
     "start_time": "2023-11-15T11:11:21.827151Z"
    }
   },
   "id": "74874d726e06a256"
  },
  {
   "cell_type": "markdown",
   "source": [
    "# Rename columns"
   ],
   "metadata": {
    "collapsed": false
   },
   "id": "c48180d23b4c082"
  },
  {
   "cell_type": "code",
   "execution_count": 141,
   "outputs": [],
   "source": [
    "# Renaming the columns, you wont need this if you named columns correctly from the start\n",
    "#df.rename(columns={'Wahlperiode': 'Election_Period', 'Sitzung': 'Session', 'Schluss': 'End_Time'}, inplace=True)"
   ],
   "metadata": {
    "collapsed": false,
    "ExecuteTime": {
     "end_time": "2023-11-15T11:11:21.832855Z",
     "start_time": "2023-11-15T11:11:21.829624Z"
    }
   },
   "id": "72933765157832c9"
  },
  {
   "cell_type": "code",
   "execution_count": 142,
   "outputs": [
    {
     "data": {
      "text/plain": "                      Election_Period Session               Date  Start  \\\ndfs_batch_58.pkl 1                 20     004   7. Dezember 2021  12:00   \n                 2                 20     004   7. Dezember 2021  12:00   \n                 3                 20     004   7. Dezember 2021  12:00   \n                 4                 20     004   7. Dezember 2021  12:00   \n                 5                 20     004   7. Dezember 2021  12:00   \n...                               ...     ...                ...    ...   \ndfs_batch_55.pkl 4078              19     201  16. Dezember 2020  13:00   \n                 4079              19     201  16. Dezember 2020  13:00   \n                 4080              19     201  16. Dezember 2020  13:00   \n                 4081              19     201  16. Dezember 2020  13:00   \n                 4082              19     201  16. Dezember 2020  13:00   \n\n                      End_Time                                 Speaker  \\\ndfs_batch_58.pkl 1       13:41                  Präsidentin Bärbel Bas   \n                 2       13:41                  Präsidentin Bärbel Bas   \n                 3       13:41                  Präsidentin Bärbel Bas   \n                 4       13:41                  Präsidentin Bärbel Bas   \n                 5       13:41                  Präsidentin Bärbel Bas   \n...                        ...                                     ...   \ndfs_batch_55.pkl 4078    20:24  Vizepräsident Dr. Hans Peter Friedrich   \n                 4079    20:24  Vizepräsident Dr. Hans Peter Friedrich   \n                 4080    20:24  Vizepräsident Dr. Hans Peter Friedrich   \n                 4081    20:24  Vizepräsident Dr. Hans Peter Friedrich   \n                 4082    20:24  Vizepräsident Dr. Hans Peter Friedrich   \n\n                                                             Text_Spoken  \\\ndfs_batch_58.pkl 1     Ich wünsche Ihnen allen einen schönen guten Ta...   \n                 2                             Die Sitzung ist eröffnet.   \n                 3     Vor Eintritt in die Tagesordnung: Liebe Kolleg...   \n                 4     Liebe Kolleginnen und Kollegen, die Covid 19 P...   \n                 5     Laut Robert Koch Institut sind die aktuellen F...   \n...                                                                  ...   \ndfs_batch_55.pkl 4078              Dann verfahren wir wie vorgeschlagen.   \n                 4079     Wir sind am Schluss der heutigen Tagesordnung.   \n                 4080  Ich berufe die nächste Sitzung des Deutschen B...   \n                 4081                       Die Sitzung ist geschlossen.   \n                 4082    Deutscher Bundestag 19 Wahlperiode 201 Sitzung.   \n\n                                Reactions  \ndfs_batch_58.pkl 1                   None  \n                 2                   None  \n                 3                   None  \n                 4                   None  \n                 5                   None  \n...                                   ...  \ndfs_batch_55.pkl 4078                None  \n                 4079                None  \n                 4080                None  \n                 4081  Schluss: 2024 Uhr.  \n                 4082                None  \n\n[5120245 rows x 8 columns]",
      "text/html": "<div>\n<style scoped>\n    .dataframe tbody tr th:only-of-type {\n        vertical-align: middle;\n    }\n\n    .dataframe tbody tr th {\n        vertical-align: top;\n    }\n\n    .dataframe thead th {\n        text-align: right;\n    }\n</style>\n<table border=\"1\" class=\"dataframe\">\n  <thead>\n    <tr style=\"text-align: right;\">\n      <th></th>\n      <th></th>\n      <th>Election_Period</th>\n      <th>Session</th>\n      <th>Date</th>\n      <th>Start</th>\n      <th>End_Time</th>\n      <th>Speaker</th>\n      <th>Text_Spoken</th>\n      <th>Reactions</th>\n    </tr>\n  </thead>\n  <tbody>\n    <tr>\n      <th rowspan=\"5\" valign=\"top\">dfs_batch_58.pkl</th>\n      <th>1</th>\n      <td>20</td>\n      <td>004</td>\n      <td>7. Dezember 2021</td>\n      <td>12:00</td>\n      <td>13:41</td>\n      <td>Präsidentin Bärbel Bas</td>\n      <td>Ich wünsche Ihnen allen einen schönen guten Ta...</td>\n      <td>None</td>\n    </tr>\n    <tr>\n      <th>2</th>\n      <td>20</td>\n      <td>004</td>\n      <td>7. Dezember 2021</td>\n      <td>12:00</td>\n      <td>13:41</td>\n      <td>Präsidentin Bärbel Bas</td>\n      <td>Die Sitzung ist eröffnet.</td>\n      <td>None</td>\n    </tr>\n    <tr>\n      <th>3</th>\n      <td>20</td>\n      <td>004</td>\n      <td>7. Dezember 2021</td>\n      <td>12:00</td>\n      <td>13:41</td>\n      <td>Präsidentin Bärbel Bas</td>\n      <td>Vor Eintritt in die Tagesordnung: Liebe Kolleg...</td>\n      <td>None</td>\n    </tr>\n    <tr>\n      <th>4</th>\n      <td>20</td>\n      <td>004</td>\n      <td>7. Dezember 2021</td>\n      <td>12:00</td>\n      <td>13:41</td>\n      <td>Präsidentin Bärbel Bas</td>\n      <td>Liebe Kolleginnen und Kollegen, die Covid 19 P...</td>\n      <td>None</td>\n    </tr>\n    <tr>\n      <th>5</th>\n      <td>20</td>\n      <td>004</td>\n      <td>7. Dezember 2021</td>\n      <td>12:00</td>\n      <td>13:41</td>\n      <td>Präsidentin Bärbel Bas</td>\n      <td>Laut Robert Koch Institut sind die aktuellen F...</td>\n      <td>None</td>\n    </tr>\n    <tr>\n      <th>...</th>\n      <th>...</th>\n      <td>...</td>\n      <td>...</td>\n      <td>...</td>\n      <td>...</td>\n      <td>...</td>\n      <td>...</td>\n      <td>...</td>\n      <td>...</td>\n    </tr>\n    <tr>\n      <th rowspan=\"5\" valign=\"top\">dfs_batch_55.pkl</th>\n      <th>4078</th>\n      <td>19</td>\n      <td>201</td>\n      <td>16. Dezember 2020</td>\n      <td>13:00</td>\n      <td>20:24</td>\n      <td>Vizepräsident Dr. Hans Peter Friedrich</td>\n      <td>Dann verfahren wir wie vorgeschlagen.</td>\n      <td>None</td>\n    </tr>\n    <tr>\n      <th>4079</th>\n      <td>19</td>\n      <td>201</td>\n      <td>16. Dezember 2020</td>\n      <td>13:00</td>\n      <td>20:24</td>\n      <td>Vizepräsident Dr. Hans Peter Friedrich</td>\n      <td>Wir sind am Schluss der heutigen Tagesordnung.</td>\n      <td>None</td>\n    </tr>\n    <tr>\n      <th>4080</th>\n      <td>19</td>\n      <td>201</td>\n      <td>16. Dezember 2020</td>\n      <td>13:00</td>\n      <td>20:24</td>\n      <td>Vizepräsident Dr. Hans Peter Friedrich</td>\n      <td>Ich berufe die nächste Sitzung des Deutschen B...</td>\n      <td>None</td>\n    </tr>\n    <tr>\n      <th>4081</th>\n      <td>19</td>\n      <td>201</td>\n      <td>16. Dezember 2020</td>\n      <td>13:00</td>\n      <td>20:24</td>\n      <td>Vizepräsident Dr. Hans Peter Friedrich</td>\n      <td>Die Sitzung ist geschlossen.</td>\n      <td>Schluss: 2024 Uhr.</td>\n    </tr>\n    <tr>\n      <th>4082</th>\n      <td>19</td>\n      <td>201</td>\n      <td>16. Dezember 2020</td>\n      <td>13:00</td>\n      <td>20:24</td>\n      <td>Vizepräsident Dr. Hans Peter Friedrich</td>\n      <td>Deutscher Bundestag 19 Wahlperiode 201 Sitzung.</td>\n      <td>None</td>\n    </tr>\n  </tbody>\n</table>\n<p>5120245 rows × 8 columns</p>\n</div>"
     },
     "execution_count": 142,
     "metadata": {},
     "output_type": "execute_result"
    }
   ],
   "source": [
    "df"
   ],
   "metadata": {
    "collapsed": false,
    "ExecuteTime": {
     "end_time": "2023-11-15T11:11:28.994050Z",
     "start_time": "2023-11-15T11:11:28.981250Z"
    }
   },
   "id": "e1a8e331174a3359"
  },
  {
   "cell_type": "markdown",
   "source": [
    "# Ending-Time"
   ],
   "metadata": {
    "collapsed": false
   },
   "id": "51f4bd56306141e"
  },
  {
   "cell_type": "markdown",
   "source": [
    "## Find Schluss Pattern"
   ],
   "metadata": {
    "collapsed": false
   },
   "id": "eb15bc96bb4be453"
  },
  {
   "cell_type": "code",
   "execution_count": 143,
   "outputs": [],
   "source": [
    "# Identify missing Schluss\n",
    "missing_schluss_df = df[df['End_Time'].isna()]\n",
    "missing_schluss_tuples = missing_schluss_df.groupby(['Election_Period', 'Session']).size().reset_index(name='Missing_Count')"
   ],
   "metadata": {
    "collapsed": false,
    "ExecuteTime": {
     "end_time": "2023-11-15T11:11:48.408768Z",
     "start_time": "2023-11-15T11:11:47.816349Z"
    }
   },
   "id": "8f6aedb4616296a0"
  },
  {
   "cell_type": "code",
   "execution_count": 144,
   "outputs": [
    {
     "data": {
      "text/plain": "    Election_Period Session  Missing_Count\n0                15     042           1660\n1                15     083           2665\n2                16     075           2216\n3                16     130           4387\n4                16     186           6539\n..              ...     ...            ...\n184              19     107          11118\n185              19     108           4939\n186              19     109            694\n187              19     112           4663\n188              19     183           7226\n\n[189 rows x 3 columns]",
      "text/html": "<div>\n<style scoped>\n    .dataframe tbody tr th:only-of-type {\n        vertical-align: middle;\n    }\n\n    .dataframe tbody tr th {\n        vertical-align: top;\n    }\n\n    .dataframe thead th {\n        text-align: right;\n    }\n</style>\n<table border=\"1\" class=\"dataframe\">\n  <thead>\n    <tr style=\"text-align: right;\">\n      <th></th>\n      <th>Election_Period</th>\n      <th>Session</th>\n      <th>Missing_Count</th>\n    </tr>\n  </thead>\n  <tbody>\n    <tr>\n      <th>0</th>\n      <td>15</td>\n      <td>042</td>\n      <td>1660</td>\n    </tr>\n    <tr>\n      <th>1</th>\n      <td>15</td>\n      <td>083</td>\n      <td>2665</td>\n    </tr>\n    <tr>\n      <th>2</th>\n      <td>16</td>\n      <td>075</td>\n      <td>2216</td>\n    </tr>\n    <tr>\n      <th>3</th>\n      <td>16</td>\n      <td>130</td>\n      <td>4387</td>\n    </tr>\n    <tr>\n      <th>4</th>\n      <td>16</td>\n      <td>186</td>\n      <td>6539</td>\n    </tr>\n    <tr>\n      <th>...</th>\n      <td>...</td>\n      <td>...</td>\n      <td>...</td>\n    </tr>\n    <tr>\n      <th>184</th>\n      <td>19</td>\n      <td>107</td>\n      <td>11118</td>\n    </tr>\n    <tr>\n      <th>185</th>\n      <td>19</td>\n      <td>108</td>\n      <td>4939</td>\n    </tr>\n    <tr>\n      <th>186</th>\n      <td>19</td>\n      <td>109</td>\n      <td>694</td>\n    </tr>\n    <tr>\n      <th>187</th>\n      <td>19</td>\n      <td>112</td>\n      <td>4663</td>\n    </tr>\n    <tr>\n      <th>188</th>\n      <td>19</td>\n      <td>183</td>\n      <td>7226</td>\n    </tr>\n  </tbody>\n</table>\n<p>189 rows × 3 columns</p>\n</div>"
     },
     "execution_count": 144,
     "metadata": {},
     "output_type": "execute_result"
    }
   ],
   "source": [
    "missing_schluss_tuples"
   ],
   "metadata": {
    "collapsed": false,
    "ExecuteTime": {
     "end_time": "2023-11-15T11:11:48.415326Z",
     "start_time": "2023-11-15T11:11:48.410976Z"
    }
   },
   "id": "db6a694d64dd81f6"
  },
  {
   "cell_type": "markdown",
   "source": [
    "## Find a way to replace multiple at the same time"
   ],
   "metadata": {
    "collapsed": false
   },
   "id": "7d3aa657ca926e43"
  },
  {
   "cell_type": "code",
   "execution_count": 145,
   "outputs": [],
   "source": [
    "# Let us get the text to look for other Schluss patterns:\n",
    "def extract_text_from_pdf(pdf):\n",
    "    \"\"\"\n",
    "\n",
    "    :param pdf: \n",
    "    :return: \n",
    "    \"\"\"\n",
    "    with open(pdf, 'rb') as file:\n",
    "        reader = PyPDF2.PdfReader(file)\n",
    "        text = ''\n",
    "        for page_num in range(len(reader.pages)):\n",
    "            text += reader.pages[page_num].extract_text()\n",
    "    return text"
   ],
   "metadata": {
    "collapsed": false,
    "ExecuteTime": {
     "end_time": "2023-11-15T11:11:48.679447Z",
     "start_time": "2023-11-15T11:11:48.660548Z"
    }
   },
   "id": "b89a1fbb66fffa0a"
  },
  {
   "cell_type": "code",
   "execution_count": 146,
   "outputs": [],
   "source": [
    "def extract_schluss(path):\n",
    "    pdf_text = extract_text_from_pdf(path)\n",
    "    end_time = None\n",
    "\n",
    "    # Search for the pattern \"Die Sitzung ist geschlossen. (Schluss: <time>)\"\n",
    "    pattern = r\"\\Schluss\\:*\\s*(\\d{2}\\s*\\d*)\"\n",
    "    match = re.search(pattern, pdf_text)\n",
    "\n",
    "    if match:\n",
    "        # Extract the captured group which contains the time\n",
    "        end_time = match.group(1).strip()\n",
    "\n",
    "    return end_time"
   ],
   "metadata": {
    "collapsed": false,
    "ExecuteTime": {
     "end_time": "2023-11-15T11:11:48.853110Z",
     "start_time": "2023-11-15T11:11:48.835549Z"
    }
   },
   "id": "3722b467deb807ad"
  },
  {
   "cell_type": "code",
   "execution_count": 147,
   "outputs": [],
   "source": [
    "def extract_schluss_from_row(row):\n",
    "    election_period = row['Election_Period']\n",
    "    session = row['Session']\n",
    "    \n",
    "    pdf_path = f'/Users/merlesteffen/Documents/Education/WBS_Coding_School/Bootcamp/Sentiment_In_Session/1998_2023/{election_period}{session}.pdf'\n",
    "    end_time = extract_schluss(pdf_path)\n",
    "    \n",
    "    return (election_period, session, end_time)\n",
    "\n",
    "results = Parallel(n_jobs=-2)(delayed(extract_schluss_from_row)(row) for _, row in missing_schluss_tuples.iterrows())\n",
    "\n",
    "# Initialize a dictionary to hold new Schluss times\n",
    "new_schluss = {}\n",
    "\n",
    "for election_period, session, end_time in results:\n",
    "    if end_time:\n",
    "        new_schluss[(election_period, session)] = end_time"
   ],
   "metadata": {
    "collapsed": false,
    "ExecuteTime": {
     "end_time": "2023-11-15T11:12:18.614884Z",
     "start_time": "2023-11-15T11:11:49.456180Z"
    }
   },
   "id": "58c7013817aa1708"
  },
  {
   "cell_type": "code",
   "execution_count": 148,
   "outputs": [],
   "source": [
    "# Fill in the new Schluss times into the DataFrame\n",
    "for (election_period, session), end_time in new_schluss.items():\n",
    "    df.loc[(df['Election_Period'] == election_period) & (df['Session'] == session), 'End_Time'] = end_time"
   ],
   "metadata": {
    "collapsed": false,
    "ExecuteTime": {
     "end_time": "2023-11-15T11:13:24.003325Z",
     "start_time": "2023-11-15T11:12:33.975181Z"
    }
   },
   "id": "fb7aa25f2cede53f"
  },
  {
   "cell_type": "code",
   "execution_count": 149,
   "outputs": [
    {
     "data": {
      "text/plain": "   Election_Period Session  Missing_Count\n0               15     083           2665\n1               16     130           4387\n2               17     089           2698\n3               18     234          11190\n4               18     243           9434\n5               19     026           8021\n6               19     029           8870\n7               19     030           2435\n8               19     036           9072\n9               19     039           7008\n10              19     055           9617\n11              19     061          10347\n12              19     062           4304\n13              19     068          10488\n14              19     070           2514\n15              19     071           8750\n16              19     074           7976\n17              19     101           9846\n18              19     104           9760\n19              19     107          11118",
      "text/html": "<div>\n<style scoped>\n    .dataframe tbody tr th:only-of-type {\n        vertical-align: middle;\n    }\n\n    .dataframe tbody tr th {\n        vertical-align: top;\n    }\n\n    .dataframe thead th {\n        text-align: right;\n    }\n</style>\n<table border=\"1\" class=\"dataframe\">\n  <thead>\n    <tr style=\"text-align: right;\">\n      <th></th>\n      <th>Election_Period</th>\n      <th>Session</th>\n      <th>Missing_Count</th>\n    </tr>\n  </thead>\n  <tbody>\n    <tr>\n      <th>0</th>\n      <td>15</td>\n      <td>083</td>\n      <td>2665</td>\n    </tr>\n    <tr>\n      <th>1</th>\n      <td>16</td>\n      <td>130</td>\n      <td>4387</td>\n    </tr>\n    <tr>\n      <th>2</th>\n      <td>17</td>\n      <td>089</td>\n      <td>2698</td>\n    </tr>\n    <tr>\n      <th>3</th>\n      <td>18</td>\n      <td>234</td>\n      <td>11190</td>\n    </tr>\n    <tr>\n      <th>4</th>\n      <td>18</td>\n      <td>243</td>\n      <td>9434</td>\n    </tr>\n    <tr>\n      <th>5</th>\n      <td>19</td>\n      <td>026</td>\n      <td>8021</td>\n    </tr>\n    <tr>\n      <th>6</th>\n      <td>19</td>\n      <td>029</td>\n      <td>8870</td>\n    </tr>\n    <tr>\n      <th>7</th>\n      <td>19</td>\n      <td>030</td>\n      <td>2435</td>\n    </tr>\n    <tr>\n      <th>8</th>\n      <td>19</td>\n      <td>036</td>\n      <td>9072</td>\n    </tr>\n    <tr>\n      <th>9</th>\n      <td>19</td>\n      <td>039</td>\n      <td>7008</td>\n    </tr>\n    <tr>\n      <th>10</th>\n      <td>19</td>\n      <td>055</td>\n      <td>9617</td>\n    </tr>\n    <tr>\n      <th>11</th>\n      <td>19</td>\n      <td>061</td>\n      <td>10347</td>\n    </tr>\n    <tr>\n      <th>12</th>\n      <td>19</td>\n      <td>062</td>\n      <td>4304</td>\n    </tr>\n    <tr>\n      <th>13</th>\n      <td>19</td>\n      <td>068</td>\n      <td>10488</td>\n    </tr>\n    <tr>\n      <th>14</th>\n      <td>19</td>\n      <td>070</td>\n      <td>2514</td>\n    </tr>\n    <tr>\n      <th>15</th>\n      <td>19</td>\n      <td>071</td>\n      <td>8750</td>\n    </tr>\n    <tr>\n      <th>16</th>\n      <td>19</td>\n      <td>074</td>\n      <td>7976</td>\n    </tr>\n    <tr>\n      <th>17</th>\n      <td>19</td>\n      <td>101</td>\n      <td>9846</td>\n    </tr>\n    <tr>\n      <th>18</th>\n      <td>19</td>\n      <td>104</td>\n      <td>9760</td>\n    </tr>\n    <tr>\n      <th>19</th>\n      <td>19</td>\n      <td>107</td>\n      <td>11118</td>\n    </tr>\n  </tbody>\n</table>\n</div>"
     },
     "execution_count": 149,
     "metadata": {},
     "output_type": "execute_result"
    }
   ],
   "source": [
    "# Check how many missing values left\n",
    "# Identify missing Schluss\n",
    "missing_schluss_df = df[df['End_Time'].isna()]\n",
    "missing_schluss_tuples = missing_schluss_df.groupby(['Election_Period', 'Session']).size().reset_index(name='Missing_Count')\n",
    "missing_schluss_tuples"
   ],
   "metadata": {
    "collapsed": false,
    "ExecuteTime": {
     "end_time": "2023-11-15T11:13:24.142549Z",
     "start_time": "2023-11-15T11:13:24.082890Z"
    }
   },
   "id": "4532584386883e23"
  },
  {
   "cell_type": "code",
   "execution_count": 150,
   "outputs": [],
   "source": [
    "df1 = df.copy()"
   ],
   "metadata": {
    "collapsed": false,
    "ExecuteTime": {
     "end_time": "2023-11-15T11:13:24.481202Z",
     "start_time": "2023-11-15T11:13:24.140680Z"
    }
   },
   "id": "145080befdb1f8dc"
  },
  {
   "cell_type": "markdown",
   "source": [
    "## Drop all after (Schluss including Schluss)"
   ],
   "metadata": {
    "collapsed": false
   },
   "id": "aa439e2f77d68dc8"
  },
  {
   "cell_type": "code",
   "execution_count": 151,
   "outputs": [
    {
     "name": "stdout",
     "output_type": "stream",
     "text": [
      "     Election_Period Session\n",
      "0                 15     001\n",
      "1                 15     002\n",
      "2                 15     003\n",
      "3                 15     004\n",
      "4                 15     005\n",
      "...              ...     ...\n",
      "1269              20     128\n",
      "1270              20     129\n",
      "1271              20     130\n",
      "1272              20     131\n",
      "1273              20     132\n",
      "\n",
      "[1274 rows x 2 columns]\n"
     ]
    }
   ],
   "source": [
    "# Initialize an empty list to collect cases where the sentence is not found\n",
    "not_found_list = []\n",
    "\n",
    "def truncate_after_session_closed(group):\n",
    "    # Pattern to match variations of \"Die Sitzung ist geschlossen.\"\n",
    "    pattern = re.compile(r\"\\(Schluss\", re.IGNORECASE)\n",
    "    \n",
    "    # Find index where pattern matches\n",
    "    idx_closed = group[group['Text_Spoken'].apply(lambda x: bool(pattern.search(str(x))))].index\n",
    "    \n",
    "    # If pattern not found, append to not_found_list\n",
    "    if len(idx_closed) == 0:\n",
    "        not_found_list.append({'Election_Period': group['Election_Period'].iloc[0], 'Session': group['Session'].iloc[0]})\n",
    "    \n",
    "    return group.loc[:idx_closed[-1]] if len(idx_closed) > 0 else group\n",
    "\n",
    "# Group by 'Election_Period' and 'Session' and apply the function\n",
    "df_1grouped = df1.groupby(['Election_Period', 'Session'])\n",
    "df_1truncated = df_1grouped.apply(truncate_after_session_closed).reset_index(drop=True)\n",
    "\n",
    "# Convert not_found_list to a DataFrame\n",
    "not_found_df = pd.DataFrame(not_found_list)\n",
    "\n",
    "print(not_found_df)"
   ],
   "metadata": {
    "collapsed": false,
    "ExecuteTime": {
     "end_time": "2023-11-15T11:14:01.176812Z",
     "start_time": "2023-11-15T11:13:58.268251Z"
    }
   },
   "id": "f0b3404d21091b26"
  },
  {
   "cell_type": "code",
   "execution_count": 152,
   "outputs": [],
   "source": [
    "df2 = df_1truncated.copy()"
   ],
   "metadata": {
    "collapsed": false,
    "ExecuteTime": {
     "end_time": "2023-11-15T11:14:03.675749Z",
     "start_time": "2023-11-15T11:14:03.445842Z"
    }
   },
   "id": "7911ad1bff1f9c47"
  },
  {
   "cell_type": "code",
   "execution_count": 153,
   "outputs": [
    {
     "data": {
      "text/plain": "1314"
     },
     "execution_count": 153,
     "metadata": {},
     "output_type": "execute_result"
    }
   ],
   "source": [
    "df1.shape[0]-df2.shape[0]"
   ],
   "metadata": {
    "collapsed": false,
    "ExecuteTime": {
     "end_time": "2023-11-15T11:14:04.370621Z",
     "start_time": "2023-11-15T11:14:04.350069Z"
    }
   },
   "id": "2383891053bb1771"
  },
  {
   "cell_type": "code",
   "execution_count": 154,
   "outputs": [
    {
     "data": {
      "text/plain": "Election_Period          0\nSession                  0\nDate                     0\nStart               864202\nEnd_Time            150500\nSpeaker                  0\nText_Spoken              0\nReactions          4322956\ndtype: int64"
     },
     "execution_count": 154,
     "metadata": {},
     "output_type": "execute_result"
    }
   ],
   "source": [
    "df2.isna().sum()"
   ],
   "metadata": {
    "collapsed": false,
    "ExecuteTime": {
     "end_time": "2023-11-15T11:14:07.460561Z",
     "start_time": "2023-11-15T11:14:05.001967Z"
    }
   },
   "id": "f1ee19c3e3aa6aa8"
  },
  {
   "cell_type": "markdown",
   "source": [
    "# Start"
   ],
   "metadata": {
    "collapsed": false
   },
   "id": "f17d7381cf44bd92"
  },
  {
   "cell_type": "markdown",
   "source": [
    "## Find Missing Start Time"
   ],
   "metadata": {
    "collapsed": false
   },
   "id": "9b2da752322ff5ed"
  },
  {
   "cell_type": "code",
   "execution_count": 155,
   "outputs": [
    {
     "name": "stdout",
     "output_type": "stream",
     "text": [
      "    Election_Period Session  Missing_Count\n",
      "0                18     124           7722\n",
      "1                18     125           3743\n",
      "2                18     126           2438\n",
      "3                18     127           6675\n",
      "4                18     128           3283\n",
      "..              ...     ...            ...\n",
      "172              19     104           9760\n",
      "173              19     105           5218\n",
      "174              19     107          11118\n",
      "175              19     108           4939\n",
      "176              19     109            694\n",
      "\n",
      "[177 rows x 3 columns]\n"
     ]
    }
   ],
   "source": [
    "# Filter rows where the Start column is missing in df_1\n",
    "missing_start_df = df2[df2['Start'].isna()]\n",
    "\n",
    "# Group by Wahlperiode and Sitzung and count the number of missing starts for each group\n",
    "grouped_missing_starts = missing_start_df.groupby(['Election_Period', 'Session']).size().reset_index(name='Missing_Count')\n",
    "\n",
    "# Display the result\n",
    "print(grouped_missing_starts)"
   ],
   "metadata": {
    "collapsed": false,
    "ExecuteTime": {
     "end_time": "2023-11-15T11:14:12.229977Z",
     "start_time": "2023-11-15T11:14:12.094696Z"
    }
   },
   "id": "1fdd5c378e82e45e"
  },
  {
   "cell_type": "code",
   "execution_count": 156,
   "outputs": [],
   "source": [
    "# Function to extract the start time\n",
    "def extract_start(path):\n",
    "    pdf_text = extract_text_from_pdf(path)\n",
    "    start_time = None\n",
    "    \n",
    "    # Search for the word \"Beginn:\"\n",
    "    start_idx = pdf_text.find(\"Beginn\")\n",
    "    \n",
    "    if start_idx != -1:\n",
    "        # Extract the following text (assuming time format as HH:MM, hence taking 5 characters)\n",
    "        start_time = pdf_text[start_idx + len(\"Beginn\"): start_idx + len(\"Beginn\") + 5].strip()\n",
    "        \n",
    "    return start_time"
   ],
   "metadata": {
    "collapsed": false,
    "ExecuteTime": {
     "end_time": "2023-11-15T11:14:13.251643Z",
     "start_time": "2023-11-15T11:14:13.232671Z"
    }
   },
   "id": "7a4366d5a61874a"
  },
  {
   "cell_type": "code",
   "execution_count": 157,
   "outputs": [],
   "source": [
    "# Step 1: Identify missing rows\n",
    "missing_start_tuples = grouped_missing_starts[['Election_Period', 'Session']].apply(tuple, axis=1)\n",
    "\n",
    "# Initialize a dictionary to hold the new Start times\n",
    "new_starts = {}\n",
    "\n",
    "# Step 2: Loop through PDFs\n",
    "for election_period, session in missing_start_tuples:\n",
    "    pdf_path = f\"/Users/merlesteffen/Documents/Education/WBS_Coding_School/Bootcamp/Sentiment_In_Session/1998_2023/{election_period}{session}.pdf\"  # Replace with your actual folder path\n",
    "    \n",
    "    try:\n",
    "        # Extract Start time\n",
    "        time = extract_start(pdf_path)\n",
    "        \n",
    "        if time:  # Check if time is not None or empty\n",
    "            new_starts[(election_period, session)] = time\n",
    "    except Exception as e:\n",
    "        print(f\"An error occurred while processing {pdf_path}. Error: {e}\")"
   ],
   "metadata": {
    "collapsed": false,
    "ExecuteTime": {
     "end_time": "2023-11-15T11:18:00.132603Z",
     "start_time": "2023-11-15T11:14:13.991143Z"
    }
   },
   "id": "549e28593b789635"
  },
  {
   "cell_type": "code",
   "execution_count": 158,
   "outputs": [
    {
     "data": {
      "text/plain": "{('18', '124'): ': 9',\n ('18', '125'): ': 9',\n ('18', '126'): ': 13',\n ('18', '127'): ': 9',\n ('18', '128'): ': 9',\n ('18', '129'): ': 13',\n ('18', '131'): ': 9',\n ('18', '132'): ': 13',\n ('18', '133'): ': 9',\n ('18', '135'): ': 13',\n ('18', '137'): ': 9',\n ('18', '138'): ': 10',\n ('18', '139'): ': 9',\n ('18', '140'): ': 9',\n ('18', '142'): 'der',\n ('18', '143'): ': 9',\n ('18', '144'): ': 9',\n ('18', '145'): ': 13',\n ('18', '146'): ': 9',\n ('18', '147'): ': 9',\n ('18', '148'): ': 13',\n ('18', '150'): ': 9',\n ('18', '151'): ': 13',\n ('18', '152'): ': 9',\n ('18', '153'): ': 9',\n ('18', '155'): ': 9',\n ('18', '156'): ': 9',\n ('18', '158'): ': 9',\n ('18', '159'): ': 9',\n ('18', '161'): ': 9',\n ('18', '162'): ': 9',\n ('18', '163'): ': 13',\n ('18', '165'): ': 9',\n ('18', '166'): ': 13',\n ('18', '167'): ': 9',\n ('18', '168'): ': 9',\n ('18', '169'): ': 13',\n ('18', '170'): ': 9',\n ('18', '171'): ': 9',\n ('18', '172'): ': 13',\n ('18', '173'): ': 9',\n ('18', '175'): ': 13',\n ('18', '176'): ': 9',\n ('18', '177'): ': 9',\n ('18', '178'): ': 13',\n ('18', '179'): ': 9',\n ('18', '182'): ': 13',\n ('18', '183'): ': 9',\n ('18', '184'): ': 9',\n ('18', '185'): ': 10',\n ('18', '186'): ': 9',\n ('18', '187'): ': 9',\n ('18', '188'): ': 9',\n ('18', '189'): ': 13',\n ('18', '190'): ': 9',\n ('18', '191'): ': 9',\n ('18', '192'): ': 13',\n ('18', '194'): ': 9',\n ('18', '195'): ': 13',\n ('18', '196'): ': 9',\n ('18', '197'): ': 9',\n ('18', '198'): ': 13',\n ('18', '199'): ': 9',\n ('18', '201'): ': 10',\n ('18', '202'): ': 9',\n ('18', '204'): ': 9',\n ('18', '206'): ': 10',\n ('18', '209'): ': 9',\n ('18', '210'): ': 9',\n ('18', '211'): ': 13',\n ('18', '212'): ': 9',\n ('18', '213'): ': 9',\n ('18', '214'): ': 13',\n ('18', '215'): ': 9',\n ('18', '216'): ': 10',\n ('18', '217'): ': 13',\n ('18', '218'): ': 9',\n ('18', '219'): ': 9',\n ('18', '220'): ': 13',\n ('18', '221'): ': 9',\n ('18', '223'): ': 12',\n ('18', '224'): ': 14',\n ('18', '225'): ': 9',\n ('18', '226'): ': 9',\n ('18', '227'): ': 13',\n ('18', '229'): ': 9',\n ('18', '231'): ': 9',\n ('18', '232'): ': 9',\n ('18', '234'): ': 9',\n ('18', '235'): ': 9',\n ('18', '236'): ': 13',\n ('18', '238'): ': 9',\n ('18', '239'): ': 13',\n ('18', '241'): ': 9',\n ('18', '242'): ': 13',\n ('18', '243'): ': 9',\n ('18', '244'): ': 8',\n ('19', '003'): ': 12',\n ('19', '004'): ': 9',\n ('19', '005'): ': 11',\n ('19', '006'): 'des',\n ('19', '007'): ': 13',\n ('19', '008'): ': 9',\n ('19', '009'): ': 11',\n ('19', '010'): ': 14',\n ('19', '012'): ': 9',\n ('19', '013'): ': 13',\n ('19', '014'): ': 9',\n ('19', '015'): ': 9',\n ('19', '017'): ': 9',\n ('19', '018'): ': 9',\n ('19', '019'): ': 9',\n ('19', '021'): ': 9',\n ('19', '022'): ': 11',\n ('19', '023'): ': 9',\n ('19', '026'): ': 9',\n ('19', '027'): ': 9',\n ('19', '028'): ': 13',\n ('19', '029'): ': 9',\n ('19', '031'): ': 10',\n ('19', '033'): ': 9',\n ('19', '034'): ': 9',\n ('19', '036'): ': 9',\n ('19', '037'): ': 9',\n ('19', '039'): ': 9',\n ('19', '040'): ': 9',\n ('19', '041'): ': 13',\n ('19', '043'): ': 9',\n ('19', '046'): ': 9',\n ('19', '048'): ': 9',\n ('19', '049'): ': 9',\n ('19', '050'): ': 9',\n ('19', '051'): ': 13',\n ('19', '053'): ': 9',\n ('19', '055'): ': 9',\n ('19', '056'): ': 9',\n ('19', '059'): ': 9',\n ('19', '060'): ': 12',\n ('19', '061'): ': 9',\n ('19', '063'): ': 10',\n ('19', '064'): ': 9',\n ('19', '065'): ': 9',\n ('19', '066'): ': 9',\n ('19', '067'): ': 13',\n ('19', '068'): ': 9',\n ('19', '070'): 'der',\n ('19', '071'): ': 9',\n ('19', '072'): ': 9',\n ('19', '074'): ': 10',\n ('19', '075'): ': 9',\n ('19', '076'): ': 13',\n ('19', '077'): ': 10',\n ('19', '078'): ': 9',\n ('19', '079'): ': 13',\n ('19', '080'): ': 9',\n ('19', '081'): ': 9',\n ('19', '082'): 'der',\n ('19', '083'): ': 9',\n ('19', '084'): ': 9',\n ('19', '088'): ': 13',\n ('19', '090'): ': 9',\n ('19', '091'): ': 13',\n ('19', '092'): ': 9',\n ('19', '093'): ': 9',\n ('19', '094'): ': 13',\n ('19', '097'): ': 13',\n ('19', '098'): ': 9',\n ('19', '099'): ': 9',\n ('19', '100'): ': 13',\n ('19', '101'): ': 9',\n ('19', '102'): ': 9',\n ('19', '103'): ': 13',\n ('19', '104'): ': 9',\n ('19', '105'): ': 9',\n ('19', '107'): ': 9',\n ('19', '108'): ': 9',\n ('19', '109'): ': 12'}"
     },
     "execution_count": 158,
     "metadata": {},
     "output_type": "execute_result"
    }
   ],
   "source": [
    "new_starts"
   ],
   "metadata": {
    "collapsed": false,
    "ExecuteTime": {
     "end_time": "2023-11-15T11:18:00.140547Z",
     "start_time": "2023-11-15T11:18:00.135257Z"
    }
   },
   "id": "c5cbcc82b4d7bca4"
  },
  {
   "cell_type": "code",
   "execution_count": 159,
   "outputs": [
    {
     "data": {
      "text/plain": "177"
     },
     "execution_count": 159,
     "metadata": {},
     "output_type": "execute_result"
    }
   ],
   "source": [
    "len(new_starts)"
   ],
   "metadata": {
    "collapsed": false,
    "ExecuteTime": {
     "end_time": "2023-11-15T11:18:00.140659Z",
     "start_time": "2023-11-15T11:18:00.137225Z"
    }
   },
   "id": "cc14017e3bf14a79"
  },
  {
   "cell_type": "code",
   "execution_count": 160,
   "outputs": [],
   "source": [
    "# Step 3: Update DataFrame\n",
    "for (election_period, session), start_time in new_starts.items():\n",
    "    df2.loc[(df2['Election_Period'] == election_period) & (df2['Session'] == session), 'Start'] = start_time"
   ],
   "metadata": {
    "collapsed": false,
    "ExecuteTime": {
     "end_time": "2023-11-15T11:18:51.907935Z",
     "start_time": "2023-11-15T11:18:00.411457Z"
    }
   },
   "id": "b2edb9f2021fd561"
  },
  {
   "cell_type": "markdown",
   "source": [
    "## Drop All Before Beginn"
   ],
   "metadata": {
    "collapsed": false
   },
   "id": "c57e8ca43563c26d"
  },
  {
   "cell_type": "code",
   "execution_count": 161,
   "outputs": [
    {
     "name": "stdout",
     "output_type": "stream",
     "text": [
      "     Election_Period Session\n",
      "0                 15     001\n",
      "1                 15     002\n",
      "2                 15     003\n",
      "3                 15     004\n",
      "4                 15     005\n",
      "...              ...     ...\n",
      "1277              16     232\n",
      "1278              17     185\n",
      "1279              18     035\n",
      "1280              18     223\n",
      "1281              19     168\n",
      "\n",
      "[1282 rows x 2 columns]\n"
     ]
    }
   ],
   "source": [
    "def truncate_after_session_closed(group):\n",
    "    # Pattern to match variations of \"Die Sitzung ist geschlossen.\"\n",
    "    pattern = re.compile(r\"Beginn\", re.IGNORECASE)\n",
    "    \n",
    "    # Find index where pattern matches\n",
    "    idx_start = group[group['Text_Spoken'].apply(lambda x: bool(pattern.search(str(x))))].index\n",
    "    \n",
    "    # If pattern not found, append to not_found_list\n",
    "    if len(idx_start) == 0:\n",
    "        not_found_list.append({'Election_Period': group['Election_Period'].iloc[0], 'Session': group['Session'].iloc[0]})\n",
    "    else:\n",
    "        # Select the first index where the pattern is found and add one\n",
    "        idx_start = idx_start[0] + 1\n",
    "        # Return the truncated group starting from idx_start to the end\n",
    "        return group.loc[idx_start:]\n",
    "    \n",
    "    # If pattern not found, return the group unmodified\n",
    "    return group\n",
    "\n",
    "# Group by 'Election_Period' and 'Session' and apply the function\n",
    "df_2grouped = df2.groupby(['Election_Period', 'Session'])\n",
    "df_2truncated = df_2grouped.apply(truncate_after_session_closed).reset_index(drop=True)\n",
    "\n",
    "# Convert not_found_list to a DataFrame\n",
    "not_found_df = pd.DataFrame(not_found_list)\n",
    "\n",
    "print(not_found_df)"
   ],
   "metadata": {
    "collapsed": false,
    "ExecuteTime": {
     "end_time": "2023-11-15T11:18:57.669595Z",
     "start_time": "2023-11-15T11:18:52.114156Z"
    }
   },
   "id": "cac27fa53589e544"
  },
  {
   "cell_type": "code",
   "execution_count": 162,
   "outputs": [],
   "source": [
    "df3 = df_2truncated.copy()"
   ],
   "metadata": {
    "collapsed": false,
    "ExecuteTime": {
     "end_time": "2023-11-15T11:18:57.995788Z",
     "start_time": "2023-11-15T11:18:57.667922Z"
    }
   },
   "id": "42a769c65cdfb0fb"
  },
  {
   "cell_type": "code",
   "execution_count": 163,
   "outputs": [
    {
     "data": {
      "text/plain": "(4864724, 8)"
     },
     "execution_count": 163,
     "metadata": {},
     "output_type": "execute_result"
    }
   ],
   "source": [
    "df3.shape"
   ],
   "metadata": {
    "collapsed": false,
    "ExecuteTime": {
     "end_time": "2023-11-15T11:18:57.998925Z",
     "start_time": "2023-11-15T11:18:57.996160Z"
    }
   },
   "id": "b08c1156cd44202d"
  },
  {
   "cell_type": "code",
   "execution_count": 164,
   "outputs": [
    {
     "data": {
      "text/plain": "Election_Period          0\nSession                  0\nDate                     0\nStart                    0\nEnd_Time            146477\nSpeaker                  0\nText_Spoken              0\nReactions          4105647\ndtype: int64"
     },
     "execution_count": 164,
     "metadata": {},
     "output_type": "execute_result"
    }
   ],
   "source": [
    "df3.isna().sum()"
   ],
   "metadata": {
    "collapsed": false,
    "ExecuteTime": {
     "end_time": "2023-11-15T11:19:00.075362Z",
     "start_time": "2023-11-15T11:18:57.998315Z"
    }
   },
   "id": "c7f9331f93bf4ce7"
  },
  {
   "cell_type": "markdown",
   "source": [
    "# Datatpyes"
   ],
   "metadata": {
    "collapsed": false
   },
   "id": "163c4124da002cad"
  },
  {
   "cell_type": "code",
   "execution_count": 85,
   "outputs": [
    {
     "data": {
      "text/plain": "Election_Period    object\nSession            object\nDate               object\nStart              object\nEnd_Time           object\nSpeaker            object\nText_Spoken        object\nReactions          object\ndtype: object"
     },
     "execution_count": 85,
     "metadata": {},
     "output_type": "execute_result"
    }
   ],
   "source": [
    "df3.dtypes"
   ],
   "metadata": {
    "collapsed": false,
    "ExecuteTime": {
     "end_time": "2023-11-15T10:59:45.757420Z",
     "start_time": "2023-11-15T10:59:45.754050Z"
    }
   },
   "id": "b670be1d03d819af"
  },
  {
   "cell_type": "markdown",
   "source": [
    "## Wahlperiode & Sitzung"
   ],
   "metadata": {
    "collapsed": false
   },
   "id": "112e8da272f35202"
  },
  {
   "cell_type": "code",
   "execution_count": 165,
   "outputs": [],
   "source": [
    "df3['Election_Period'] = df3['Election_Period'].astype(int)\n",
    "df3['Session'] = df3['Session'].astype(int)"
   ],
   "metadata": {
    "collapsed": false,
    "ExecuteTime": {
     "end_time": "2023-11-15T11:19:33.530804Z",
     "start_time": "2023-11-15T11:19:32.778687Z"
    }
   },
   "id": "74f4c1f4abce69cf"
  },
  {
   "cell_type": "code",
   "execution_count": 166,
   "outputs": [],
   "source": [
    "df4 = df3.copy()"
   ],
   "metadata": {
    "collapsed": false,
    "ExecuteTime": {
     "end_time": "2023-11-15T11:19:34.361646Z",
     "start_time": "2023-11-15T11:19:34.047565Z"
    }
   },
   "id": "c274b579b9be1ef8"
  },
  {
   "cell_type": "markdown",
   "source": [
    "## Date"
   ],
   "metadata": {
    "collapsed": false
   },
   "id": "49a769c0fec2b1bb"
  },
  {
   "cell_type": "code",
   "execution_count": 167,
   "outputs": [],
   "source": [
    "import calendar"
   ],
   "metadata": {
    "collapsed": false,
    "ExecuteTime": {
     "end_time": "2023-11-15T11:19:35.542350Z",
     "start_time": "2023-11-15T11:19:35.527887Z"
    }
   },
   "id": "f984660c7e893fc8"
  },
  {
   "cell_type": "code",
   "execution_count": 168,
   "outputs": [],
   "source": [
    "# Create a mapping of German month names to English\n",
    "german_to_english = {\n",
    "    'Januar': 'January',\n",
    "    'Februar': 'February',\n",
    "    'März': 'March',\n",
    "    'April': 'April',\n",
    "    'Mai': 'May',\n",
    "    'Juni': 'June',\n",
    "    'Juli': 'July',\n",
    "    'August': 'August',\n",
    "    'September': 'September',\n",
    "    'Oktober': 'October',\n",
    "    'November': 'November',\n",
    "    'Dezember': 'December'\n",
    "}"
   ],
   "metadata": {
    "collapsed": false,
    "ExecuteTime": {
     "end_time": "2023-11-15T11:19:35.868650Z",
     "start_time": "2023-11-15T11:19:35.840926Z"
    }
   },
   "id": "10fad45f8d0fc7a5"
  },
  {
   "cell_type": "code",
   "execution_count": 169,
   "outputs": [],
   "source": [
    "# Replace German month names with English month names\n",
    "df4['Date'] = df4['Date'].replace(german_to_english, regex=True)\n",
    "\n",
    "# Now convert to datetime\n",
    "df4['Temp_Date'] = pd.to_datetime(df4['Date'], format='%d. %B %Y', errors='coerce')"
   ],
   "metadata": {
    "collapsed": false,
    "ExecuteTime": {
     "end_time": "2023-11-15T11:19:55.337727Z",
     "start_time": "2023-11-15T11:19:36.715317Z"
    }
   },
   "id": "c91088c77150b06a"
  },
  {
   "cell_type": "code",
   "execution_count": 170,
   "outputs": [
    {
     "name": "stdout",
     "output_type": "stream",
     "text": [
      "Counts of problematic entries by Wahlperiode, Sitzung, and Date:\n",
      "   Election_Period  Session        Date  Count\n",
      "0               15       16  12. und 13   4243\n"
     ]
    }
   ],
   "source": [
    "\n",
    "# Create a boolean mask for entries where the conversion failed\n",
    "mask = df4['Temp_Date'].isna()\n",
    "\n",
    "# Group by the original 'Date' column and additional columns for rows where the conversion failed\n",
    "problematic_dates = df4[mask].groupby(['Election_Period', 'Session', 'Date']).size().reset_index(name='Count')\n",
    "\n",
    "# Sort by 'Count' to easily spot frequently occurring problematic entries\n",
    "problematic_dates = problematic_dates.sort_values(by='Count', ascending=False)\n",
    "\n",
    "# Drop the temporary 'Temp_Date' column\n",
    "df4.drop(columns=['Temp_Date'], inplace=True)\n",
    "\n",
    "# Print out the problematic dates along with 'Election_Period' and 'Session'\n",
    "print(\"Counts of problematic entries by Wahlperiode, Sitzung, and Date:\")\n",
    "print(problematic_dates)"
   ],
   "metadata": {
    "collapsed": false,
    "ExecuteTime": {
     "end_time": "2023-11-15T11:19:55.998719Z",
     "start_time": "2023-11-15T11:19:55.338651Z"
    }
   },
   "id": "2b516270d51f240a"
  },
  {
   "cell_type": "code",
   "execution_count": 171,
   "outputs": [],
   "source": [
    "# Manually update the Date here\n",
    "df4.loc[(df4['Election_Period'] == 15) & (df4['Session'] == 16), 'Date'] = '19. December 2002'"
   ],
   "metadata": {
    "collapsed": false,
    "ExecuteTime": {
     "end_time": "2023-11-15T11:19:56.032664Z",
     "start_time": "2023-11-15T11:19:55.997237Z"
    }
   },
   "id": "e3067636c8305e6a"
  },
  {
   "cell_type": "code",
   "execution_count": 172,
   "outputs": [],
   "source": [
    "df4['Date'] = pd.to_datetime(df4['Date'], format='%d. %B %Y')"
   ],
   "metadata": {
    "collapsed": false,
    "ExecuteTime": {
     "end_time": "2023-11-15T11:19:56.501684Z",
     "start_time": "2023-11-15T11:19:56.102547Z"
    }
   },
   "id": "65ddce87b0922c73"
  },
  {
   "cell_type": "code",
   "execution_count": 173,
   "outputs": [],
   "source": [
    "df5 = df4.copy()"
   ],
   "metadata": {
    "collapsed": false,
    "ExecuteTime": {
     "end_time": "2023-11-15T11:19:56.725519Z",
     "start_time": "2023-11-15T11:19:56.501942Z"
    }
   },
   "id": "bead4014a46a9e78"
  },
  {
   "cell_type": "markdown",
   "source": [
    "## Start"
   ],
   "metadata": {
    "collapsed": false
   },
   "id": "a0033688fc6c7255"
  },
  {
   "cell_type": "code",
   "execution_count": 174,
   "outputs": [],
   "source": [
    "# First inspect how Start can looks like I think something like this\n",
    "# dd needs to be lower than 24\n",
    "# dd dd\n",
    "# letters"
   ],
   "metadata": {
    "collapsed": false,
    "ExecuteTime": {
     "end_time": "2023-11-15T11:19:56.728509Z",
     "start_time": "2023-11-15T11:19:56.725690Z"
    }
   },
   "id": "3f36684783e47d9d"
  },
  {
   "cell_type": "code",
   "execution_count": 175,
   "outputs": [],
   "source": [
    "# Strip\n",
    "df5['Start'] = df5['Start'].str.strip()\n",
    "df5['Start'] = df5['Start'].str.replace(r'\\s+', '', regex=True)"
   ],
   "metadata": {
    "collapsed": false,
    "ExecuteTime": {
     "end_time": "2023-11-15T11:19:58.692785Z",
     "start_time": "2023-11-15T11:19:56.827378Z"
    }
   },
   "id": "783653ff77606aca"
  },
  {
   "cell_type": "code",
   "execution_count": 176,
   "outputs": [],
   "source": [
    "def clean_start_time(t):\n",
    "    # Check for any non-digit characters\n",
    "        # Remove all whitespaces from the input\n",
    "    t = re.sub(r'\\s+', '', t)\n",
    "    \n",
    "    # Remove all characters except digits and colon\n",
    "    t = re.sub(r'[^\\d:]', '', t)\n",
    "    if re.search('[a-zA-Z]', t):\n",
    "        return None\n",
    "    \n",
    "    elif re.match(r'^:\\d{1}$', t):\n",
    "        return f\"0{t[1]}:00:00\"\n",
    "        # Handle cases like \"13:45\" or 9:33 :9\n",
    "    \n",
    "    elif re.match(r'^:\\d{2}$', t):\n",
    "        return f\"{t[1]}:00:00\"\n",
    "    \n",
    "    elif \":\" in t:\n",
    "        parts = t.split(':')\n",
    "        if len(parts) == 2:\n",
    "            # Check if first part is empty and second part is a single digit\n",
    "            if parts[0] == '' and parts[1].isdigit() and len(parts[1]) == 1:\n",
    "                return f\"0{parts[1]}:00:00\"\n",
    "            elif parts[0] == '' and parts[1].isdigit() and len(parts[1]) == 2:\n",
    "                return f\"{parts[1]}:00:00\"\n",
    "            # Existing checks for parts with length of 2 each\n",
    "            elif all(part.isdigit() for part in parts):\n",
    "                hours, minutes = parts\n",
    "                if int(hours) < 24 and int(minutes) < 60:\n",
    "                    return f\"{hours.zfill(2)}:{minutes.zfill(2)}:00\"\n",
    "    \n",
    "    # Length of 4 indicates HHMM format\n",
    "    if len(t) == 4:\n",
    "        return f\"{t[:2]}:{t[2:]}:00\"\n",
    "    \n",
    "    # Length of 3 indicates HMM format\n",
    "    elif len(t) == 3:\n",
    "        # Check if minutes exceed 59\n",
    "        if int(t[1:]) < 60:\n",
    "            return f\"0{t[0]}:{t[1:]}:00\"\n",
    "        elif int(t[:1]) < 24:\n",
    "            return f\"0{t[:1]}:{t[2]}:00\"\n",
    "    \n",
    "    # Length of 2 could be HH format\n",
    "    elif len(t) == 2:\n",
    "        # Check if it's a valid hour\n",
    "        if int(t) <= 24:\n",
    "            return f\"{t}:00:00\"\n",
    "\n",
    "    # Length of 1 indicates a single digit hour\n",
    "    elif len(t) == 1:\n",
    "        return f\"{t}:00:00\"\n",
    "\n",
    "    # Handle cases like \"13 45\"\n",
    "    elif \" \" in t:\n",
    "        hours, minutes = t.split()\n",
    "        if int(hours) <= 24 and int(minutes) < 60:\n",
    "            return f\"{int(hours)}:{int(minutes)}:00\"\n",
    "        \n",
    "    else:\n",
    "        # If none of the above conditions met, return None\n",
    "        return None"
   ],
   "metadata": {
    "collapsed": false,
    "ExecuteTime": {
     "end_time": "2023-11-15T11:19:58.776667Z",
     "start_time": "2023-11-15T11:19:58.774994Z"
    }
   },
   "id": "8ce282e1db6bf19e"
  },
  {
   "cell_type": "code",
   "execution_count": 177,
   "outputs": [],
   "source": [
    "# Apply the function to the Start column\n",
    "df5['Start'] = df5['Start'].apply(lambda x: clean_start_time(str(x)))"
   ],
   "metadata": {
    "collapsed": false,
    "ExecuteTime": {
     "end_time": "2023-11-15T11:20:06.205304Z",
     "start_time": "2023-11-15T11:19:58.777157Z"
    }
   },
   "id": "8c345a2c0e706f45"
  },
  {
   "cell_type": "code",
   "execution_count": 178,
   "outputs": [],
   "source": [
    "# Now convert the cleaned times to timedelta\n",
    "df5['Start'] = pd.to_timedelta(df5['Start'].dropna())"
   ],
   "metadata": {
    "collapsed": false,
    "ExecuteTime": {
     "end_time": "2023-11-15T11:20:08.208403Z",
     "start_time": "2023-11-15T11:20:06.288229Z"
    }
   },
   "id": "7d99d0e139d00599"
  },
  {
   "cell_type": "code",
   "execution_count": 179,
   "outputs": [
    {
     "data": {
      "text/plain": "         Election_Period  Session       Date           Start End_Time  \\\n667546                16       51 2006-09-21 0 days 09:01:00    20:05   \n2890597               18      169 2016-05-11 0 days 01:00:00       16   \n3254531               19        5 2017-12-13 0 days 01:00:00       19   \n3854191               19      139 2020-01-15 0 days 13:00:00    19:28   \n4783088               20      115 2023-07-06 0 days 09:00:00    23:12   \n3733144               19      111 2019-09-11 0 days 17:52:00    17:52   \n3014450               18      197 2016-10-21 0 days 09:00:00       34   \n2415822               18       31 2014-04-11 0 days 09:01:00    13:11   \n3626210               19       90 2019-03-22 0 days 09:00:00       15   \n752514                16       78 2007-01-31 0 days 13:00:00    16:47   \n\n                                     Speaker  \\\n667546                          Michael Glos   \n2890597                 Dr. Joachim Pfeiffer   \n3254531                Ursula Groden Kranich   \n3854191       Vizepräsident Wolfgang Kubicki   \n4783088                        Hannes Gnauck   \n3733144                Katrin Göring Eckardt   \n3014450                      Johann Saathoff   \n2415822                          Swen Schulz   \n3626210                Friedrich Straetmanns   \n752514   Vizepräsident Dr.Hermann Otto Solms   \n\n                                               Text_Spoken  \\\n667546   Das Prognosespektrumfür die Konjunktur geht na...   \n2890597  Dafür gibt es ein Ver handlungsmandat, das auc...   \n3254531  Lassen Sie mich an diesem letzten Sitzungstag ...   \n3854191                Vielen Dank, Herr Kollege Lucassen.   \n4783088  Und der Grund ist auch of fensichtlich: Der od...   \n3733144    Das wäre die erste Erkenntnis, die man braucht.   \n3014450                    Liebe Kolleginnen und Kollegen!   \n2415822  Ich will noch ein Thema ansprechen, dessen wir...   \n3626210  In diesem Sinne begrüßen wir die Schaffung ein...   \n752514   Wir kommen zur Frage15 des Kollegen Dr Edmund ...   \n\n                                                 Reactions  \n667546                                                None  \n2890597  Heike Hänsel [DIE LINKE]: Ja, die Bundes regie...  \n3254531                                               None  \n3854191                                               None  \n4783088        Lachen des Abg. Manfred Todtenhausen [FDP].  \n3733144                                               None  \n3014450                                               None  \n2415822                                               None  \n3626210                                               None  \n752514                                                None  ",
      "text/html": "<div>\n<style scoped>\n    .dataframe tbody tr th:only-of-type {\n        vertical-align: middle;\n    }\n\n    .dataframe tbody tr th {\n        vertical-align: top;\n    }\n\n    .dataframe thead th {\n        text-align: right;\n    }\n</style>\n<table border=\"1\" class=\"dataframe\">\n  <thead>\n    <tr style=\"text-align: right;\">\n      <th></th>\n      <th>Election_Period</th>\n      <th>Session</th>\n      <th>Date</th>\n      <th>Start</th>\n      <th>End_Time</th>\n      <th>Speaker</th>\n      <th>Text_Spoken</th>\n      <th>Reactions</th>\n    </tr>\n  </thead>\n  <tbody>\n    <tr>\n      <th>667546</th>\n      <td>16</td>\n      <td>51</td>\n      <td>2006-09-21</td>\n      <td>0 days 09:01:00</td>\n      <td>20:05</td>\n      <td>Michael Glos</td>\n      <td>Das Prognosespektrumfür die Konjunktur geht na...</td>\n      <td>None</td>\n    </tr>\n    <tr>\n      <th>2890597</th>\n      <td>18</td>\n      <td>169</td>\n      <td>2016-05-11</td>\n      <td>0 days 01:00:00</td>\n      <td>16</td>\n      <td>Dr. Joachim Pfeiffer</td>\n      <td>Dafür gibt es ein Ver handlungsmandat, das auc...</td>\n      <td>Heike Hänsel [DIE LINKE]: Ja, die Bundes regie...</td>\n    </tr>\n    <tr>\n      <th>3254531</th>\n      <td>19</td>\n      <td>5</td>\n      <td>2017-12-13</td>\n      <td>0 days 01:00:00</td>\n      <td>19</td>\n      <td>Ursula Groden Kranich</td>\n      <td>Lassen Sie mich an diesem letzten Sitzungstag ...</td>\n      <td>None</td>\n    </tr>\n    <tr>\n      <th>3854191</th>\n      <td>19</td>\n      <td>139</td>\n      <td>2020-01-15</td>\n      <td>0 days 13:00:00</td>\n      <td>19:28</td>\n      <td>Vizepräsident Wolfgang Kubicki</td>\n      <td>Vielen Dank, Herr Kollege Lucassen.</td>\n      <td>None</td>\n    </tr>\n    <tr>\n      <th>4783088</th>\n      <td>20</td>\n      <td>115</td>\n      <td>2023-07-06</td>\n      <td>0 days 09:00:00</td>\n      <td>23:12</td>\n      <td>Hannes Gnauck</td>\n      <td>Und der Grund ist auch of fensichtlich: Der od...</td>\n      <td>Lachen des Abg. Manfred Todtenhausen [FDP].</td>\n    </tr>\n    <tr>\n      <th>3733144</th>\n      <td>19</td>\n      <td>111</td>\n      <td>2019-09-11</td>\n      <td>0 days 17:52:00</td>\n      <td>17:52</td>\n      <td>Katrin Göring Eckardt</td>\n      <td>Das wäre die erste Erkenntnis, die man braucht.</td>\n      <td>None</td>\n    </tr>\n    <tr>\n      <th>3014450</th>\n      <td>18</td>\n      <td>197</td>\n      <td>2016-10-21</td>\n      <td>0 days 09:00:00</td>\n      <td>34</td>\n      <td>Johann Saathoff</td>\n      <td>Liebe Kolleginnen und Kollegen!</td>\n      <td>None</td>\n    </tr>\n    <tr>\n      <th>2415822</th>\n      <td>18</td>\n      <td>31</td>\n      <td>2014-04-11</td>\n      <td>0 days 09:01:00</td>\n      <td>13:11</td>\n      <td>Swen Schulz</td>\n      <td>Ich will noch ein Thema ansprechen, dessen wir...</td>\n      <td>None</td>\n    </tr>\n    <tr>\n      <th>3626210</th>\n      <td>19</td>\n      <td>90</td>\n      <td>2019-03-22</td>\n      <td>0 days 09:00:00</td>\n      <td>15</td>\n      <td>Friedrich Straetmanns</td>\n      <td>In diesem Sinne begrüßen wir die Schaffung ein...</td>\n      <td>None</td>\n    </tr>\n    <tr>\n      <th>752514</th>\n      <td>16</td>\n      <td>78</td>\n      <td>2007-01-31</td>\n      <td>0 days 13:00:00</td>\n      <td>16:47</td>\n      <td>Vizepräsident Dr.Hermann Otto Solms</td>\n      <td>Wir kommen zur Frage15 des Kollegen Dr Edmund ...</td>\n      <td>None</td>\n    </tr>\n  </tbody>\n</table>\n</div>"
     },
     "execution_count": 179,
     "metadata": {},
     "output_type": "execute_result"
    }
   ],
   "source": [
    "df5.sample(10)"
   ],
   "metadata": {
    "collapsed": false,
    "ExecuteTime": {
     "end_time": "2023-11-15T11:20:08.285764Z",
     "start_time": "2023-11-15T11:20:08.208549Z"
    }
   },
   "id": "ca6450e509da0bca"
  },
  {
   "cell_type": "code",
   "execution_count": 180,
   "outputs": [],
   "source": [
    "df6 = df5.copy()"
   ],
   "metadata": {
    "collapsed": false,
    "ExecuteTime": {
     "end_time": "2023-11-15T11:20:08.423179Z",
     "start_time": "2023-11-15T11:20:08.283981Z"
    }
   },
   "id": "b570b8f009d72900"
  },
  {
   "cell_type": "markdown",
   "source": [
    "## Schluss"
   ],
   "metadata": {
    "collapsed": false
   },
   "id": "a7713ab2474bcc0b"
  },
  {
   "cell_type": "code",
   "execution_count": 181,
   "outputs": [],
   "source": [
    "def clean_end_time(t):    # Check for any non-digit characters\n",
    "        # Remove all whitespaces from the input\n",
    "    t = re.sub(r'\\s+', '', t)\n",
    "    \n",
    "    # Remove all characters except digits and colon\n",
    "    t = re.sub(r'[^\\d:]', '', t)\n",
    "    if re.search('[a-zA-Z]', t):\n",
    "        return None\n",
    "    \n",
    "    elif re.match(r'^:\\d{1}$', t):\n",
    "        return f\"0{t[1]}:00:00\"\n",
    "        # Handle cases like \"13:45\" or 9:33 :9\n",
    "    \n",
    "    elif re.match(r'^:\\d{2}$', t):\n",
    "        return f\"{t[1]}:00:00\"\n",
    "    \n",
    "    elif \":\" in t:\n",
    "        parts = t.split(':')\n",
    "        if len(parts) == 2:\n",
    "            # Check if first part is empty and second part is a single digit\n",
    "            if parts[0] == '' and parts[1].isdigit() and len(parts[1]) == 1:\n",
    "                return f\"0{parts[1]}:00:00\"\n",
    "            elif parts[0] == '' and parts[1].isdigit() and len(parts[1]) == 2:\n",
    "                return f\"{parts[1]}:00:00\"\n",
    "            # Existing checks for parts with length of 2 each\n",
    "            elif all(part.isdigit() for part in parts):\n",
    "                hours, minutes = parts\n",
    "                if int(hours) < 24 and int(minutes) < 60:\n",
    "                    return f\"{hours.zfill(2)}:{minutes.zfill(2)}:00\"\n",
    "    \n",
    "    # Length of 4 indicates HHMM format\n",
    "    if len(t) == 4:\n",
    "        return f\"{t[:2]}:{t[2:]}:00\"\n",
    "    \n",
    "    # Length of 3 indicates HMM format\n",
    "    elif len(t) == 3:\n",
    "        # Check if minutes exceed 59\n",
    "        if int(t[1:]) < 60:\n",
    "            return f\"0{t[0]}:{t[1:]}:00\"\n",
    "        elif int(t[:1]) < 24:\n",
    "            return f\"0{t[:1]}:{t[2]}:00\"\n",
    "    \n",
    "    # Length of 2 could be HH format\n",
    "    elif len(t) == 2:\n",
    "        # Check if it's a valid hour\n",
    "        if int(t) <= 24:\n",
    "            return f\"{t}:00:00\"\n",
    "\n",
    "    # Length of 1 indicates a single digit hour\n",
    "    elif len(t) == 1:\n",
    "        return f\"{t}:00:00\"\n",
    "\n",
    "    # Handle cases like \"13 45\"\n",
    "    elif \" \" in t:\n",
    "        hours, minutes = t.split()\n",
    "        if int(hours) <= 24 and int(minutes) < 60:\n",
    "            return f\"{int(hours)}:{int(minutes)}:00\"\n",
    "        \n",
    "    else:\n",
    "        # If none of the above conditions met, return None\n",
    "        return None"
   ],
   "metadata": {
    "collapsed": false,
    "ExecuteTime": {
     "end_time": "2023-11-15T11:20:08.430494Z",
     "start_time": "2023-11-15T11:20:08.425364Z"
    }
   },
   "id": "eeb13f245dc42f5d"
  },
  {
   "cell_type": "code",
   "execution_count": 182,
   "outputs": [],
   "source": [
    "# Apply the function to the Start column\n",
    "df6['End_Time'] = df6['End_Time'].apply(lambda x: clean_end_time(str(x)))"
   ],
   "metadata": {
    "collapsed": false,
    "ExecuteTime": {
     "end_time": "2023-11-15T11:20:16.322238Z",
     "start_time": "2023-11-15T11:20:08.426957Z"
    }
   },
   "id": "2168df7216b0ebc8"
  },
  {
   "cell_type": "code",
   "execution_count": 183,
   "outputs": [],
   "source": [
    "# Now convert the cleaned times to timedelta\n",
    "df6['End_Time'] = pd.to_timedelta(df6['End_Time'].dropna())"
   ],
   "metadata": {
    "collapsed": false,
    "ExecuteTime": {
     "end_time": "2023-11-15T11:20:18.297153Z",
     "start_time": "2023-11-15T11:20:16.404418Z"
    }
   },
   "id": "3f40e9d7bbbe0670"
  },
  {
   "cell_type": "code",
   "execution_count": 184,
   "outputs": [
    {
     "data": {
      "text/plain": "   Election_Period  Session       Date           Start        End_Time  \\\n0               15        1 2002-10-17 0 days 11:00:00 0 days 15:40:00   \n1               15        1 2002-10-17 0 days 11:00:00 0 days 15:40:00   \n2               15        1 2002-10-17 0 days 11:00:00 0 days 15:40:00   \n3               15        1 2002-10-17 0 days 11:00:00 0 days 15:40:00   \n4               15        1 2002-10-17 0 days 11:00:00 0 days 15:40:00   \n\n                       Speaker  \\\n0  Alterspräsident Otto Schily   \n1  Alterspräsident Otto Schily   \n2  Alterspräsident Otto Schily   \n3  Alterspräsident Otto Schily   \n4  Alterspräsident Otto Schily   \n\n                                         Text_Spoken  \\\n0  Meine sehr verehrten Damen und sehr geehrten H...   \n1  Von Paul Löbeüber Konrad Adenauerbis hin zu al...   \n2  Nur Willy Brandtwar 1983 acht Monate jünger, a...   \n3  Das Amt des Alterspräsiden ten blieb Willy Bra...   \n4  Den Hinweis daraufsollten Sie, was meine Leben...   \n\n                                           Reactions  \n0                                               None  \n1                                               None  \n2                                               None  \n3                                               None  \n4  Heiterkeit bei der SPD und dem BÜND NIS 90/DIE...  ",
      "text/html": "<div>\n<style scoped>\n    .dataframe tbody tr th:only-of-type {\n        vertical-align: middle;\n    }\n\n    .dataframe tbody tr th {\n        vertical-align: top;\n    }\n\n    .dataframe thead th {\n        text-align: right;\n    }\n</style>\n<table border=\"1\" class=\"dataframe\">\n  <thead>\n    <tr style=\"text-align: right;\">\n      <th></th>\n      <th>Election_Period</th>\n      <th>Session</th>\n      <th>Date</th>\n      <th>Start</th>\n      <th>End_Time</th>\n      <th>Speaker</th>\n      <th>Text_Spoken</th>\n      <th>Reactions</th>\n    </tr>\n  </thead>\n  <tbody>\n    <tr>\n      <th>0</th>\n      <td>15</td>\n      <td>1</td>\n      <td>2002-10-17</td>\n      <td>0 days 11:00:00</td>\n      <td>0 days 15:40:00</td>\n      <td>Alterspräsident Otto Schily</td>\n      <td>Meine sehr verehrten Damen und sehr geehrten H...</td>\n      <td>None</td>\n    </tr>\n    <tr>\n      <th>1</th>\n      <td>15</td>\n      <td>1</td>\n      <td>2002-10-17</td>\n      <td>0 days 11:00:00</td>\n      <td>0 days 15:40:00</td>\n      <td>Alterspräsident Otto Schily</td>\n      <td>Von Paul Löbeüber Konrad Adenauerbis hin zu al...</td>\n      <td>None</td>\n    </tr>\n    <tr>\n      <th>2</th>\n      <td>15</td>\n      <td>1</td>\n      <td>2002-10-17</td>\n      <td>0 days 11:00:00</td>\n      <td>0 days 15:40:00</td>\n      <td>Alterspräsident Otto Schily</td>\n      <td>Nur Willy Brandtwar 1983 acht Monate jünger, a...</td>\n      <td>None</td>\n    </tr>\n    <tr>\n      <th>3</th>\n      <td>15</td>\n      <td>1</td>\n      <td>2002-10-17</td>\n      <td>0 days 11:00:00</td>\n      <td>0 days 15:40:00</td>\n      <td>Alterspräsident Otto Schily</td>\n      <td>Das Amt des Alterspräsiden ten blieb Willy Bra...</td>\n      <td>None</td>\n    </tr>\n    <tr>\n      <th>4</th>\n      <td>15</td>\n      <td>1</td>\n      <td>2002-10-17</td>\n      <td>0 days 11:00:00</td>\n      <td>0 days 15:40:00</td>\n      <td>Alterspräsident Otto Schily</td>\n      <td>Den Hinweis daraufsollten Sie, was meine Leben...</td>\n      <td>Heiterkeit bei der SPD und dem BÜND NIS 90/DIE...</td>\n    </tr>\n  </tbody>\n</table>\n</div>"
     },
     "execution_count": 184,
     "metadata": {},
     "output_type": "execute_result"
    }
   ],
   "source": [
    "df6.head()"
   ],
   "metadata": {
    "collapsed": false,
    "ExecuteTime": {
     "end_time": "2023-11-15T11:20:18.302369Z",
     "start_time": "2023-11-15T11:20:18.298741Z"
    }
   },
   "id": "8530513f7f41c8eb"
  },
  {
   "cell_type": "code",
   "execution_count": 185,
   "outputs": [],
   "source": [
    "df7 = df6.copy()"
   ],
   "metadata": {
    "collapsed": false,
    "ExecuteTime": {
     "end_time": "2023-11-15T11:20:18.527484Z",
     "start_time": "2023-11-15T11:20:18.300760Z"
    }
   },
   "id": "36eb373b4e6bd40f"
  },
  {
   "cell_type": "markdown",
   "source": [
    "# Impute Missing Values"
   ],
   "metadata": {
    "collapsed": false
   },
   "id": "c19e350512d24ca1"
  },
  {
   "cell_type": "code",
   "execution_count": 186,
   "outputs": [
    {
     "data": {
      "text/plain": "Election_Period          0\nSession                  0\nDate                     0\nStart                 9004\nEnd_Time            159060\nSpeaker                  0\nText_Spoken              0\nReactions          4105647\ndtype: int64"
     },
     "execution_count": 186,
     "metadata": {},
     "output_type": "execute_result"
    }
   ],
   "source": [
    "df7.isna().sum()"
   ],
   "metadata": {
    "collapsed": false,
    "ExecuteTime": {
     "end_time": "2023-11-15T11:20:19.463600Z",
     "start_time": "2023-11-15T11:20:18.527657Z"
    }
   },
   "id": "2d35c03026a90e3a"
  },
  {
   "cell_type": "markdown",
   "source": [
    "## Start"
   ],
   "metadata": {
    "collapsed": false
   },
   "id": "ded07ea7fcb14cf4"
  },
  {
   "cell_type": "code",
   "execution_count": 187,
   "outputs": [
    {
     "name": "stdout",
     "output_type": "stream",
     "text": [
      "   Election_Period  Session  Missing_Count\n",
      "0               18      142           2157\n",
      "1               19        6           1385\n",
      "2               19       70           2486\n",
      "3               19       82           2976\n"
     ]
    }
   ],
   "source": [
    "# Filter rows where the Start column is missing in df_1\n",
    "missing_start_df = df7[df7['Start'].isna()]\n",
    "\n",
    "# Group by Wahlperiode and Sitzung and count the number of missing starts for each group\n",
    "grouped_missing_starts = missing_start_df.groupby(['Election_Period', 'Session']).size().reset_index(name='Missing_Count')\n",
    "\n",
    "# Display the result\n",
    "print(grouped_missing_starts)"
   ],
   "metadata": {
    "collapsed": false,
    "ExecuteTime": {
     "end_time": "2023-11-15T11:21:01.394312Z",
     "start_time": "2023-11-15T11:21:01.346517Z"
    }
   },
   "id": "5d849efbf15c4172"
  },
  {
   "cell_type": "code",
   "execution_count": 188,
   "outputs": [],
   "source": [
    "# Let me do Start by Hand\n",
    "manual_starts = {\n",
    "    (18, 142): '12:30:00',\n",
    "    (19, 6): '13:00:00',\n",
    "    (19, 70): '13:00:00',\n",
    "    (19, 82): '13:00:00',\n",
    "}"
   ],
   "metadata": {
    "collapsed": false,
    "ExecuteTime": {
     "end_time": "2023-11-15T11:21:04.817193Z",
     "start_time": "2023-11-15T11:21:04.795558Z"
    }
   },
   "id": "c25cc7e5fa2feb6a"
  },
  {
   "cell_type": "code",
   "execution_count": 189,
   "outputs": [
    {
     "name": "stdout",
     "output_type": "stream",
     "text": [
      "0 days 12:30:00\n",
      "0 days 13:00:00\n",
      "0 days 13:00:00\n",
      "0 days 13:00:00\n"
     ]
    }
   ],
   "source": [
    "# Iterate over the manual_starts items\n",
    "for (election_period, session), start_time in manual_starts.items():\n",
    "    # Convert start_time to a timedelta object\n",
    "    start_time_delta = pd.to_timedelta(start_time)\n",
    "    print(start_time_delta)\n",
    "    # Apply the timedelta where conditions are met\n",
    "    df7.loc[(df7['Election_Period'] == election_period) & (df7['Session'] == session), 'Start'] = start_time_delta"
   ],
   "metadata": {
    "collapsed": false,
    "ExecuteTime": {
     "end_time": "2023-11-15T11:21:12.974514Z",
     "start_time": "2023-11-15T11:21:12.934927Z"
    }
   },
   "id": "81782d36ec6316b9"
  },
  {
   "cell_type": "code",
   "execution_count": 190,
   "outputs": [
    {
     "data": {
      "text/plain": "Election_Period          0\nSession                  0\nDate                     0\nStart                    0\nEnd_Time            159060\nSpeaker                  0\nText_Spoken              0\nReactions          4105647\ndtype: int64"
     },
     "execution_count": 190,
     "metadata": {},
     "output_type": "execute_result"
    }
   ],
   "source": [
    "df7.isna().sum()"
   ],
   "metadata": {
    "collapsed": false,
    "ExecuteTime": {
     "end_time": "2023-11-15T11:21:16.733963Z",
     "start_time": "2023-11-15T11:21:15.791391Z"
    }
   },
   "id": "d1775057b8b8870"
  },
  {
   "cell_type": "code",
   "execution_count": 191,
   "outputs": [],
   "source": [
    "df8 = df7.copy()"
   ],
   "metadata": {
    "collapsed": false,
    "ExecuteTime": {
     "end_time": "2023-11-15T11:21:18.554142Z",
     "start_time": "2023-11-15T11:21:18.336787Z"
    }
   },
   "id": "23fd6b44a986a59b"
  },
  {
   "cell_type": "markdown",
   "source": [
    "## Schluss"
   ],
   "metadata": {
    "collapsed": false
   },
   "id": "11b6398ad556360f"
  },
  {
   "cell_type": "code",
   "execution_count": 192,
   "outputs": [
    {
     "data": {
      "text/plain": "Election_Period          0\nSession                  0\nDate                     0\nStart                    0\nEnd_Time            159060\nSpeaker                  0\nText_Spoken              0\nReactions          4105647\ndtype: int64"
     },
     "execution_count": 192,
     "metadata": {},
     "output_type": "execute_result"
    }
   ],
   "source": [
    "df8.isna().sum()"
   ],
   "metadata": {
    "collapsed": false,
    "ExecuteTime": {
     "end_time": "2023-11-15T11:21:22.592821Z",
     "start_time": "2023-11-15T11:21:21.766910Z"
    }
   },
   "id": "ea307a571334a198"
  },
  {
   "cell_type": "code",
   "execution_count": 193,
   "outputs": [
    {
     "name": "stdout",
     "output_type": "stream",
     "text": [
      "         Election_Period  Session\n",
      "217323                15       83\n",
      "217324                15       83\n",
      "217325                15       83\n",
      "217326                15       83\n",
      "217327                15       83\n",
      "...                  ...      ...\n",
      "3741134               19      112\n",
      "3741135               19      112\n",
      "3741136               19      112\n",
      "3741137               19      112\n",
      "3741138               19      112\n",
      "\n",
      "[159060 rows x 2 columns]\n"
     ]
    }
   ],
   "source": [
    "import pandas as pd\n",
    "from sklearn.linear_model import LinearRegression\n",
    "from sklearn.model_selection import train_test_split\n",
    "# Calculate the duration only for rows where 'End_Time' is not None\n",
    "df8['Dauer'] = df8.apply(lambda row: row['End_Time'] - row['Start'] if pd.notna(row['End_Time']) else None, axis=1)\n",
    "\n",
    "# Now convert 'Dauer' to seconds only for non-None values\n",
    "df8['Dauer_in_Sekunden'] = df8['Dauer'].dt.total_seconds()\n",
    "\n",
    "# Prepare your features and target variable, excluding rows where 'Dauer' is None\n",
    "X = df8[['Election_Period', 'Session']]\n",
    "y = df8['Dauer_in_Sekunden']\n",
    "\n",
    "# Use only the rows with non-missing 'Dauer_in_Sekunden' to train the model\n",
    "X_train = X[y.notna()]\n",
    "y_train = y[y.notna()]\n",
    "\n",
    "# Initialize the linear regression model and fit it to the data\n",
    "model = LinearRegression()\n",
    "model.fit(X_train, y_train)\n",
    "\n",
    "# Predict the 'Dauer_in_Sekunden' for missing values\n",
    "X_missing = X[y.isna()]\n",
    "print(X_missing)"
   ],
   "metadata": {
    "collapsed": false,
    "ExecuteTime": {
     "end_time": "2023-11-15T11:22:05.028456Z",
     "start_time": "2023-11-15T11:21:27.147641Z"
    }
   },
   "id": "a966e56cd5eb8925"
  },
  {
   "cell_type": "code",
   "execution_count": 194,
   "outputs": [
    {
     "data": {
      "text/plain": "array([36555.16688178, 36555.16688178, 36555.16688178, ...,\n       30464.01629555, 30464.01629555, 30464.01629555])"
     },
     "execution_count": 194,
     "metadata": {},
     "output_type": "execute_result"
    }
   ],
   "source": [
    "predicted_durations = model.predict(X_missing)\n",
    "predicted_durations"
   ],
   "metadata": {
    "collapsed": false,
    "ExecuteTime": {
     "end_time": "2023-11-15T11:22:05.043684Z",
     "start_time": "2023-11-15T11:22:04.965628Z"
    }
   },
   "id": "5c1550444db5ec97"
  },
  {
   "cell_type": "code",
   "execution_count": 195,
   "outputs": [
    {
     "data": {
      "text/plain": "Election_Period            0\nSession                    0\nDate                       0\nStart                      0\nEnd_Time              159060\nSpeaker                    0\nText_Spoken                0\nReactions            4105647\nDauer                 159060\nDauer_in_Sekunden          0\ndtype: int64"
     },
     "execution_count": 195,
     "metadata": {},
     "output_type": "execute_result"
    }
   ],
   "source": [
    "\n",
    "# Fill the missing 'Dauer_in_Sekunden' with the predicted values\n",
    "df8.loc[y.isna(), 'Dauer_in_Sekunden'] = predicted_durations\n",
    "df8.isna().sum()"
   ],
   "metadata": {
    "collapsed": false,
    "ExecuteTime": {
     "end_time": "2023-11-15T11:22:05.858594Z",
     "start_time": "2023-11-15T11:22:04.977784Z"
    }
   },
   "id": "98f13550ca633b67"
  },
  {
   "cell_type": "code",
   "execution_count": 196,
   "outputs": [
    {
     "data": {
      "text/plain": "Election_Period            0\nSession                    0\nDate                       0\nStart                      0\nEnd_Time                   0\nSpeaker                    0\nText_Spoken                0\nReactions            4105647\nDauer                 159060\nDauer_in_Sekunden          0\ndtype: int64"
     },
     "execution_count": 196,
     "metadata": {},
     "output_type": "execute_result"
    }
   ],
   "source": [
    "missing_indices = df8.loc[df8['End_Time'].isna()].index\n",
    "# Impute the missing 'End_Time' values using the predicted durations\n",
    "df8.loc[missing_indices, 'End_Time'] = df8.loc[missing_indices, 'Start'] + pd.to_timedelta(df8.loc[missing_indices, 'Dauer_in_Sekunden'], unit='s')\n",
    "df8.isna().sum()"
   ],
   "metadata": {
    "collapsed": false,
    "ExecuteTime": {
     "end_time": "2023-11-15T11:22:06.702355Z",
     "start_time": "2023-11-15T11:22:05.858479Z"
    }
   },
   "id": "adf61602ff58ad19"
  },
  {
   "cell_type": "code",
   "execution_count": 197,
   "outputs": [
    {
     "data": {
      "text/plain": "Election_Period          0\nSession                  0\nDate                     0\nStart                    0\nEnd_Time                 0\nSpeaker                  0\nText_Spoken              0\nReactions          4105647\ndtype: int64"
     },
     "execution_count": 197,
     "metadata": {},
     "output_type": "execute_result"
    }
   ],
   "source": [
    "# Clean up the DataFrame by dropping intermediate columns if desired\n",
    "df8 = df8.drop(['Dauer', 'Dauer_in_Sekunden'], axis=1)\n",
    "\n",
    "# View the updated DataFrame\n",
    "df8.isna().sum()"
   ],
   "metadata": {
    "collapsed": false,
    "ExecuteTime": {
     "end_time": "2023-11-15T11:22:07.697215Z",
     "start_time": "2023-11-15T11:22:06.701346Z"
    }
   },
   "id": "4e82f8c5737dabbd"
  },
  {
   "cell_type": "code",
   "execution_count": 198,
   "outputs": [],
   "source": [
    "df9 = df8.copy()"
   ],
   "metadata": {
    "collapsed": false,
    "ExecuteTime": {
     "end_time": "2023-11-15T11:22:07.796662Z",
     "start_time": "2023-11-15T11:22:07.695933Z"
    }
   },
   "id": "934b463ea40db810"
  },
  {
   "cell_type": "code",
   "execution_count": 199,
   "outputs": [
    {
     "data": {
      "text/plain": "Election_Period              int64\nSession                      int64\nDate                datetime64[ns]\nStart              timedelta64[ns]\nEnd_Time           timedelta64[ns]\nSpeaker                     object\nText_Spoken                 object\nReactions                   object\ndtype: object"
     },
     "execution_count": 199,
     "metadata": {},
     "output_type": "execute_result"
    }
   ],
   "source": [
    "df9.dtypes"
   ],
   "metadata": {
    "collapsed": false,
    "ExecuteTime": {
     "end_time": "2023-11-15T11:22:07.800224Z",
     "start_time": "2023-11-15T11:22:07.797263Z"
    }
   },
   "id": "1510084ff0977e12"
  },
  {
   "cell_type": "code",
   "execution_count": 200,
   "outputs": [
    {
     "data": {
      "text/plain": "(4864724, 8)"
     },
     "execution_count": 200,
     "metadata": {},
     "output_type": "execute_result"
    }
   ],
   "source": [
    "df9.shape"
   ],
   "metadata": {
    "collapsed": false,
    "ExecuteTime": {
     "end_time": "2023-11-15T11:22:07.804971Z",
     "start_time": "2023-11-15T11:22:07.799736Z"
    }
   },
   "id": "9f78ddc5da968d6d"
  },
  {
   "cell_type": "code",
   "execution_count": 201,
   "outputs": [
    {
     "data": {
      "text/plain": "Election_Period          0\nSession                  0\nDate                     0\nStart                    0\nEnd_Time                 0\nSpeaker                  0\nText_Spoken              0\nReactions          4105647\ndtype: int64"
     },
     "execution_count": 201,
     "metadata": {},
     "output_type": "execute_result"
    }
   ],
   "source": [
    "df9.isna().sum()"
   ],
   "metadata": {
    "collapsed": false,
    "ExecuteTime": {
     "end_time": "2023-11-15T11:22:08.625376Z",
     "start_time": "2023-11-15T11:22:07.801974Z"
    }
   },
   "id": "2db3e610e831b280"
  },
  {
   "cell_type": "markdown",
   "source": [
    "# Some final sentence cleaning"
   ],
   "metadata": {
    "collapsed": false
   },
   "id": "4f288a2b949a8b98"
  },
  {
   "cell_type": "code",
   "execution_count": 202,
   "outputs": [],
   "source": [
    "# Splitting each string in 'your_column' at the pattern and keeping only the part before it\n",
    "df9['Text_Spoken'] = df9['Text_Spoken'].apply(lambda x: x.split('Geschiedenen Drucksachen')[0] + '.' if 'Geschiedenen Drucksachen' in x else x)\n",
    "df9['Text_Spoken'] = df9['Text_Spoken'].apply(lambda x: x.split('Drucksachen')[0] + '.' if 'Geschiedenen Drucksachen' in x else x)\n",
    "df9['Text_Spoken'] = df9['Text_Spoken'].replace('\\d{2}\\/\\d{4}\\,', '', regex=True)\n",
    "df9['Text_Spoken'] = df9['Text_Spoken'].replace('\\d{2}\\/\\d{4}', '', regex=True)"
   ],
   "metadata": {
    "collapsed": false,
    "ExecuteTime": {
     "end_time": "2023-11-15T11:24:09.142210Z",
     "start_time": "2023-11-15T11:23:54.767155Z"
    }
   },
   "id": "5259c74a58a5b3a5"
  },
  {
   "cell_type": "code",
   "execution_count": 203,
   "outputs": [
    {
     "name": "stdout",
     "output_type": "stream",
     "text": [
      "This worked\n"
     ]
    }
   ],
   "source": [
    "print('This worked')"
   ],
   "metadata": {
    "collapsed": false,
    "ExecuteTime": {
     "end_time": "2023-11-15T11:24:09.142427Z",
     "start_time": "2023-11-15T11:24:09.138959Z"
    }
   },
   "id": "6839bf100f9a8340"
  },
  {
   "cell_type": "code",
   "execution_count": 204,
   "outputs": [
    {
     "data": {
      "text/plain": "   Election_Period  Session       Date           Start        End_Time  \\\n0               15        1 2002-10-17 0 days 11:00:00 0 days 15:40:00   \n1               15        1 2002-10-17 0 days 11:00:00 0 days 15:40:00   \n2               15        1 2002-10-17 0 days 11:00:00 0 days 15:40:00   \n3               15        1 2002-10-17 0 days 11:00:00 0 days 15:40:00   \n4               15        1 2002-10-17 0 days 11:00:00 0 days 15:40:00   \n\n                       Speaker  \\\n0  Alterspräsident Otto Schily   \n1  Alterspräsident Otto Schily   \n2  Alterspräsident Otto Schily   \n3  Alterspräsident Otto Schily   \n4  Alterspräsident Otto Schily   \n\n                                         Text_Spoken  \\\n0  Meine sehr verehrten Damen und sehr geehrten H...   \n1  Von Paul Löbeüber Konrad Adenauerbis hin zu al...   \n2  Nur Willy Brandtwar 1983 acht Monate jünger, a...   \n3  Das Amt des Alterspräsiden ten blieb Willy Bra...   \n4  Den Hinweis daraufsollten Sie, was meine Leben...   \n\n                                           Reactions  \n0                                               None  \n1                                               None  \n2                                               None  \n3                                               None  \n4  Heiterkeit bei der SPD und dem BÜND NIS 90/DIE...  ",
      "text/html": "<div>\n<style scoped>\n    .dataframe tbody tr th:only-of-type {\n        vertical-align: middle;\n    }\n\n    .dataframe tbody tr th {\n        vertical-align: top;\n    }\n\n    .dataframe thead th {\n        text-align: right;\n    }\n</style>\n<table border=\"1\" class=\"dataframe\">\n  <thead>\n    <tr style=\"text-align: right;\">\n      <th></th>\n      <th>Election_Period</th>\n      <th>Session</th>\n      <th>Date</th>\n      <th>Start</th>\n      <th>End_Time</th>\n      <th>Speaker</th>\n      <th>Text_Spoken</th>\n      <th>Reactions</th>\n    </tr>\n  </thead>\n  <tbody>\n    <tr>\n      <th>0</th>\n      <td>15</td>\n      <td>1</td>\n      <td>2002-10-17</td>\n      <td>0 days 11:00:00</td>\n      <td>0 days 15:40:00</td>\n      <td>Alterspräsident Otto Schily</td>\n      <td>Meine sehr verehrten Damen und sehr geehrten H...</td>\n      <td>None</td>\n    </tr>\n    <tr>\n      <th>1</th>\n      <td>15</td>\n      <td>1</td>\n      <td>2002-10-17</td>\n      <td>0 days 11:00:00</td>\n      <td>0 days 15:40:00</td>\n      <td>Alterspräsident Otto Schily</td>\n      <td>Von Paul Löbeüber Konrad Adenauerbis hin zu al...</td>\n      <td>None</td>\n    </tr>\n    <tr>\n      <th>2</th>\n      <td>15</td>\n      <td>1</td>\n      <td>2002-10-17</td>\n      <td>0 days 11:00:00</td>\n      <td>0 days 15:40:00</td>\n      <td>Alterspräsident Otto Schily</td>\n      <td>Nur Willy Brandtwar 1983 acht Monate jünger, a...</td>\n      <td>None</td>\n    </tr>\n    <tr>\n      <th>3</th>\n      <td>15</td>\n      <td>1</td>\n      <td>2002-10-17</td>\n      <td>0 days 11:00:00</td>\n      <td>0 days 15:40:00</td>\n      <td>Alterspräsident Otto Schily</td>\n      <td>Das Amt des Alterspräsiden ten blieb Willy Bra...</td>\n      <td>None</td>\n    </tr>\n    <tr>\n      <th>4</th>\n      <td>15</td>\n      <td>1</td>\n      <td>2002-10-17</td>\n      <td>0 days 11:00:00</td>\n      <td>0 days 15:40:00</td>\n      <td>Alterspräsident Otto Schily</td>\n      <td>Den Hinweis daraufsollten Sie, was meine Leben...</td>\n      <td>Heiterkeit bei der SPD und dem BÜND NIS 90/DIE...</td>\n    </tr>\n  </tbody>\n</table>\n</div>"
     },
     "execution_count": 204,
     "metadata": {},
     "output_type": "execute_result"
    }
   ],
   "source": [
    "df9.head()"
   ],
   "metadata": {
    "collapsed": false,
    "ExecuteTime": {
     "end_time": "2023-11-15T11:24:09.154027Z",
     "start_time": "2023-11-15T11:24:09.142797Z"
    }
   },
   "id": "98559049961ad095"
  },
  {
   "cell_type": "code",
   "execution_count": 205,
   "outputs": [],
   "source": [
    "df9.to_csv('/Users/merlesteffen/Documents/Education/WBS_Coding_School/Bootcamp/Sentiment_In_Session/Final_DF/final_text_speaker_df.csv', index=False, encoding='utf-8')"
   ],
   "metadata": {
    "collapsed": false,
    "ExecuteTime": {
     "end_time": "2023-11-15T11:24:52.709441Z",
     "start_time": "2023-11-15T11:24:09.145106Z"
    }
   },
   "id": "d0892b18bae72171"
  }
 ],
 "metadata": {
  "kernelspec": {
   "display_name": "Python 3",
   "language": "python",
   "name": "python3"
  },
  "language_info": {
   "codemirror_mode": {
    "name": "ipython",
    "version": 2
   },
   "file_extension": ".py",
   "mimetype": "text/x-python",
   "name": "python",
   "nbconvert_exporter": "python",
   "pygments_lexer": "ipython2",
   "version": "2.7.6"
  }
 },
 "nbformat": 4,
 "nbformat_minor": 5
}
