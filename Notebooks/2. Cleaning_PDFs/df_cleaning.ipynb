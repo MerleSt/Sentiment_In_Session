{
 "cells": [
  {
   "cell_type": "markdown",
   "source": [
    "# Imports and pickle"
   ],
   "metadata": {
    "collapsed": false
   },
   "id": "6ef7963e558b6e5f"
  },
  {
   "cell_type": "code",
   "execution_count": 6,
   "id": "initial_id",
   "metadata": {
    "collapsed": true,
    "ExecuteTime": {
     "end_time": "2023-11-15T10:45:34.833547Z",
     "start_time": "2023-11-15T10:45:34.803754Z"
    }
   },
   "outputs": [],
   "source": [
    "import pandas as pd\n",
    "import pickle\n",
    "import re\n",
    "import os\n",
    "import PyPDF2\n",
    "from joblib import Parallel, delayed"
   ]
  },
  {
   "cell_type": "code",
   "execution_count": 7,
   "outputs": [],
   "source": [
    "# Define the folder where your .pkl files are located\n",
    "folder_path = \"/Users/merlesteffen/Documents/Education/WBS_Coding_School/Bootcamp/Sentiment_In_Session/pickel_22_copy\"\n",
    "\n",
    "# Initialize an empty dictionary to store loaded DataFrames\n",
    "loaded_dfs = {}\n",
    "\n",
    "# Loop through each file in the folder\n",
    "for filename in os.listdir(folder_path):\n",
    "    if filename.endswith(\".pkl\"):\n",
    "        file_path = os.path.join(folder_path, filename)\n",
    "        \n",
    "        # Load the pickled object\n",
    "        with open(file_path, 'rb') as f:\n",
    "            loaded_object = pickle.load(f)\n",
    "        \n",
    "        # Check if the loaded object is a DataFrame\n",
    "        if isinstance(loaded_object, pd.DataFrame):\n",
    "            loaded_dfs[filename] = loaded_object\n",
    "        elif isinstance(loaded_object, list):\n",
    "            # Check if the list contains DataFrames\n",
    "            if all(isinstance(item, pd.DataFrame) for item in loaded_object):\n",
    "                # Convert list of DataFrames to a single DataFrame\n",
    "                concatenated_df = pd.concat(loaded_object)\n",
    "                loaded_dfs[filename] = concatenated_df\n",
    "            else:\n",
    "                print(f\"Skipping {filename}, list does not contain DataFrames.\")\n",
    "        else:\n",
    "            print(f\"Skipping {filename}, not a DataFrame or list of DataFrames.\")\n",
    "\n",
    "# Concatenate individual DataFrames into one big DataFrame\n",
    "if loaded_dfs:\n",
    "    df = pd.concat(loaded_dfs.values(), keys=loaded_dfs.keys())\n",
    "else:\n",
    "    print(\"No DataFrames were loaded.\")"
   ],
   "metadata": {
    "collapsed": false,
    "ExecuteTime": {
     "end_time": "2023-11-15T10:45:39.436417Z",
     "start_time": "2023-11-15T10:45:36.248951Z"
    }
   },
   "id": "958d5f79971d02e5"
  },
  {
   "cell_type": "markdown",
   "source": [
    "# Missing values"
   ],
   "metadata": {
    "collapsed": false
   },
   "id": "9540ca5944819103"
  },
  {
   "cell_type": "code",
   "execution_count": 8,
   "outputs": [
    {
     "data": {
      "text/plain": "(5120245, 8)"
     },
     "execution_count": 8,
     "metadata": {},
     "output_type": "execute_result"
    }
   ],
   "source": [
    "df.shape"
   ],
   "metadata": {
    "collapsed": false,
    "ExecuteTime": {
     "end_time": "2023-11-15T10:45:39.441214Z",
     "start_time": "2023-11-15T10:45:39.437014Z"
    }
   },
   "id": "72fd778e7780a6a8"
  },
  {
   "cell_type": "code",
   "execution_count": 4,
   "outputs": [
    {
     "data": {
      "text/plain": "Wahlperiode          0\nSitzung              0\nDate                 0\nStart           865122\nSchluss         921065\nSpeaker              0\nText_Spoken          0\nReactions      4324247\ndtype: int64"
     },
     "execution_count": 4,
     "metadata": {},
     "output_type": "execute_result"
    }
   ],
   "source": [
    "df.isna().sum()"
   ],
   "metadata": {
    "collapsed": false,
    "ExecuteTime": {
     "end_time": "2023-11-15T10:42:48.971379Z",
     "start_time": "2023-11-15T10:42:46.704115Z"
    }
   },
   "id": "c86c2b3fa3bb1a80"
  },
  {
   "cell_type": "markdown",
   "source": [
    "# Rename columns"
   ],
   "metadata": {
    "collapsed": false
   },
   "id": "c48180d23b4c082"
  },
  {
   "cell_type": "code",
   "execution_count": 10,
   "outputs": [],
   "source": [
    "# Renaming the column\n",
    "df.rename(columns={'Wahlperiode': 'Election_Period', 'Sitzung': 'Session', 'Schluss': 'End_Time'}, inplace=True)"
   ],
   "metadata": {
    "collapsed": false,
    "ExecuteTime": {
     "end_time": "2023-11-15T10:49:00.774378Z",
     "start_time": "2023-11-15T10:49:00.741071Z"
    }
   },
   "id": "72933765157832c9"
  },
  {
   "cell_type": "markdown",
   "source": [
    "# Ending-Time"
   ],
   "metadata": {
    "collapsed": false
   },
   "id": "51f4bd56306141e"
  },
  {
   "cell_type": "markdown",
   "source": [
    "## Find Schluss Pattern"
   ],
   "metadata": {
    "collapsed": false
   },
   "id": "eb15bc96bb4be453"
  },
  {
   "cell_type": "code",
   "execution_count": 11,
   "outputs": [
    {
     "data": {
      "text/plain": "                   Election_Period Session              Date  Start End_Time  \\\ndfs_batch_58.pkl 1              20     004  7. Dezember 2021  12:00    13:41   \n                 2              20     004  7. Dezember 2021  12:00    13:41   \n                 3              20     004  7. Dezember 2021  12:00    13:41   \n                 4              20     004  7. Dezember 2021  12:00    13:41   \n                 5              20     004  7. Dezember 2021  12:00    13:41   \n\n                                   Speaker  \\\ndfs_batch_58.pkl 1  Präsidentin Bärbel Bas   \n                 2  Präsidentin Bärbel Bas   \n                 3  Präsidentin Bärbel Bas   \n                 4  Präsidentin Bärbel Bas   \n                 5  Präsidentin Bärbel Bas   \n\n                                                          Text_Spoken  \\\ndfs_batch_58.pkl 1  Ich wünsche Ihnen allen einen schönen guten Ta...   \n                 2                          Die Sitzung ist eröffnet.   \n                 3  Vor Eintritt in die Tagesordnung: Liebe Kolleg...   \n                 4  Liebe Kolleginnen und Kollegen, die Covid 19 P...   \n                 5  Laut Robert Koch Institut sind die aktuellen F...   \n\n                   Reactions  \ndfs_batch_58.pkl 1      None  \n                 2      None  \n                 3      None  \n                 4      None  \n                 5      None  ",
      "text/html": "<div>\n<style scoped>\n    .dataframe tbody tr th:only-of-type {\n        vertical-align: middle;\n    }\n\n    .dataframe tbody tr th {\n        vertical-align: top;\n    }\n\n    .dataframe thead th {\n        text-align: right;\n    }\n</style>\n<table border=\"1\" class=\"dataframe\">\n  <thead>\n    <tr style=\"text-align: right;\">\n      <th></th>\n      <th></th>\n      <th>Election_Period</th>\n      <th>Session</th>\n      <th>Date</th>\n      <th>Start</th>\n      <th>End_Time</th>\n      <th>Speaker</th>\n      <th>Text_Spoken</th>\n      <th>Reactions</th>\n    </tr>\n  </thead>\n  <tbody>\n    <tr>\n      <th rowspan=\"5\" valign=\"top\">dfs_batch_58.pkl</th>\n      <th>1</th>\n      <td>20</td>\n      <td>004</td>\n      <td>7. Dezember 2021</td>\n      <td>12:00</td>\n      <td>13:41</td>\n      <td>Präsidentin Bärbel Bas</td>\n      <td>Ich wünsche Ihnen allen einen schönen guten Ta...</td>\n      <td>None</td>\n    </tr>\n    <tr>\n      <th>2</th>\n      <td>20</td>\n      <td>004</td>\n      <td>7. Dezember 2021</td>\n      <td>12:00</td>\n      <td>13:41</td>\n      <td>Präsidentin Bärbel Bas</td>\n      <td>Die Sitzung ist eröffnet.</td>\n      <td>None</td>\n    </tr>\n    <tr>\n      <th>3</th>\n      <td>20</td>\n      <td>004</td>\n      <td>7. Dezember 2021</td>\n      <td>12:00</td>\n      <td>13:41</td>\n      <td>Präsidentin Bärbel Bas</td>\n      <td>Vor Eintritt in die Tagesordnung: Liebe Kolleg...</td>\n      <td>None</td>\n    </tr>\n    <tr>\n      <th>4</th>\n      <td>20</td>\n      <td>004</td>\n      <td>7. Dezember 2021</td>\n      <td>12:00</td>\n      <td>13:41</td>\n      <td>Präsidentin Bärbel Bas</td>\n      <td>Liebe Kolleginnen und Kollegen, die Covid 19 P...</td>\n      <td>None</td>\n    </tr>\n    <tr>\n      <th>5</th>\n      <td>20</td>\n      <td>004</td>\n      <td>7. Dezember 2021</td>\n      <td>12:00</td>\n      <td>13:41</td>\n      <td>Präsidentin Bärbel Bas</td>\n      <td>Laut Robert Koch Institut sind die aktuellen F...</td>\n      <td>None</td>\n    </tr>\n  </tbody>\n</table>\n</div>"
     },
     "execution_count": 11,
     "metadata": {},
     "output_type": "execute_result"
    }
   ],
   "source": [
    "df.head()"
   ],
   "metadata": {
    "collapsed": false,
    "ExecuteTime": {
     "end_time": "2023-11-15T10:49:03.539948Z",
     "start_time": "2023-11-15T10:49:03.350244Z"
    }
   },
   "id": "ed26faa029cb6e10"
  },
  {
   "cell_type": "code",
   "execution_count": 12,
   "outputs": [],
   "source": [
    "# Identify missing Schluss\n",
    "missing_schluss_df = df[df['End_Time'].isna()]\n",
    "missing_schluss_tuples = missing_schluss_df.groupby(['Election_Period', 'Session']).size().reset_index(name='Missing_Count')"
   ],
   "metadata": {
    "collapsed": false,
    "ExecuteTime": {
     "end_time": "2023-11-15T10:49:04.580127Z",
     "start_time": "2023-11-15T10:49:03.434337Z"
    }
   },
   "id": "8f6aedb4616296a0"
  },
  {
   "cell_type": "code",
   "execution_count": 13,
   "outputs": [
    {
     "data": {
      "text/plain": "    Election_Period Session  Missing_Count\n0                15     042           1660\n1                15     083           2665\n2                16     075           2216\n3                16     130           4387\n4                16     186           6539\n..              ...     ...            ...\n184              19     107          11118\n185              19     108           4939\n186              19     109            694\n187              19     112           4663\n188              19     183           7226\n\n[189 rows x 3 columns]",
      "text/html": "<div>\n<style scoped>\n    .dataframe tbody tr th:only-of-type {\n        vertical-align: middle;\n    }\n\n    .dataframe tbody tr th {\n        vertical-align: top;\n    }\n\n    .dataframe thead th {\n        text-align: right;\n    }\n</style>\n<table border=\"1\" class=\"dataframe\">\n  <thead>\n    <tr style=\"text-align: right;\">\n      <th></th>\n      <th>Election_Period</th>\n      <th>Session</th>\n      <th>Missing_Count</th>\n    </tr>\n  </thead>\n  <tbody>\n    <tr>\n      <th>0</th>\n      <td>15</td>\n      <td>042</td>\n      <td>1660</td>\n    </tr>\n    <tr>\n      <th>1</th>\n      <td>15</td>\n      <td>083</td>\n      <td>2665</td>\n    </tr>\n    <tr>\n      <th>2</th>\n      <td>16</td>\n      <td>075</td>\n      <td>2216</td>\n    </tr>\n    <tr>\n      <th>3</th>\n      <td>16</td>\n      <td>130</td>\n      <td>4387</td>\n    </tr>\n    <tr>\n      <th>4</th>\n      <td>16</td>\n      <td>186</td>\n      <td>6539</td>\n    </tr>\n    <tr>\n      <th>...</th>\n      <td>...</td>\n      <td>...</td>\n      <td>...</td>\n    </tr>\n    <tr>\n      <th>184</th>\n      <td>19</td>\n      <td>107</td>\n      <td>11118</td>\n    </tr>\n    <tr>\n      <th>185</th>\n      <td>19</td>\n      <td>108</td>\n      <td>4939</td>\n    </tr>\n    <tr>\n      <th>186</th>\n      <td>19</td>\n      <td>109</td>\n      <td>694</td>\n    </tr>\n    <tr>\n      <th>187</th>\n      <td>19</td>\n      <td>112</td>\n      <td>4663</td>\n    </tr>\n    <tr>\n      <th>188</th>\n      <td>19</td>\n      <td>183</td>\n      <td>7226</td>\n    </tr>\n  </tbody>\n</table>\n<p>189 rows × 3 columns</p>\n</div>"
     },
     "execution_count": 13,
     "metadata": {},
     "output_type": "execute_result"
    }
   ],
   "source": [
    "missing_schluss_tuples"
   ],
   "metadata": {
    "collapsed": false,
    "ExecuteTime": {
     "end_time": "2023-11-15T10:49:04.581021Z",
     "start_time": "2023-11-15T10:49:03.930610Z"
    }
   },
   "id": "db6a694d64dd81f6"
  },
  {
   "cell_type": "markdown",
   "source": [
    "## Find a way to replace multiple at the same time"
   ],
   "metadata": {
    "collapsed": false
   },
   "id": "7d3aa657ca926e43"
  },
  {
   "cell_type": "code",
   "execution_count": 14,
   "outputs": [],
   "source": [
    "# Let us get the text to look for other Schluss patterns:\n",
    "def extract_text_from_pdf(pdf):\n",
    "    \"\"\"\n",
    "\n",
    "    :param pdf: \n",
    "    :return: \n",
    "    \"\"\"\n",
    "    with open(pdf, 'rb') as file:\n",
    "        reader = PyPDF2.PdfReader(file)\n",
    "        text = ''\n",
    "        for page_num in range(len(reader.pages)):\n",
    "            text += reader.pages[page_num].extract_text()\n",
    "    return text"
   ],
   "metadata": {
    "collapsed": false,
    "ExecuteTime": {
     "end_time": "2023-11-15T10:49:04.581096Z",
     "start_time": "2023-11-15T10:49:03.934278Z"
    }
   },
   "id": "b89a1fbb66fffa0a"
  },
  {
   "cell_type": "code",
   "execution_count": 15,
   "outputs": [],
   "source": [
    "def extract_schluss(path):\n",
    "    pdf_text = extract_text_from_pdf(path)\n",
    "    schluss_time = None\n",
    "\n",
    "    # Search for the pattern \"Die Sitzung ist geschlossen. (Schluss: <time>)\"\n",
    "    pattern = r\"\\Schluss\\:*\\s*(\\d{2}\\s*\\d*)\"\n",
    "    match = re.search(pattern, pdf_text)\n",
    "\n",
    "    if match:\n",
    "        # Extract the captured group which contains the time\n",
    "        schluss_time = match.group(1).strip()\n",
    "\n",
    "    return schluss_time"
   ],
   "metadata": {
    "collapsed": false,
    "ExecuteTime": {
     "end_time": "2023-11-15T10:49:04.581148Z",
     "start_time": "2023-11-15T10:49:03.936038Z"
    }
   },
   "id": "3722b467deb807ad"
  },
  {
   "cell_type": "code",
   "execution_count": 17,
   "outputs": [],
   "source": [
    "def extract_schluss_from_row(row):\n",
    "    wahlperiode = row['Election_Period']\n",
    "    sitzung = row['Session']\n",
    "    \n",
    "    pdf_path = f'/Users/merlesteffen/Documents/Education/WBS_Coding_School/Bootcamp/Sentiment_In_Session/1998_2023/{wahlperiode}{sitzung}.pdf'\n",
    "    schluss_time = extract_schluss(pdf_path)\n",
    "    \n",
    "    return (wahlperiode, sitzung, schluss_time)\n",
    "\n",
    "results = Parallel(n_jobs=-2)(delayed(extract_schluss_from_row)(row) for _, row in missing_schluss_tuples.iterrows())\n",
    "\n",
    "# Initialize a dictionary to hold new Schluss times\n",
    "new_schluss = {}\n",
    "\n",
    "for wahlperiode, sitzung, schluss_time in results:\n",
    "    if schluss_time:\n",
    "        new_schluss[(wahlperiode, sitzung)] = schluss_time"
   ],
   "metadata": {
    "collapsed": false,
    "ExecuteTime": {
     "end_time": "2023-11-15T10:50:02.007438Z",
     "start_time": "2023-11-15T10:49:32.349534Z"
    }
   },
   "id": "58c7013817aa1708"
  },
  {
   "cell_type": "code",
   "execution_count": null,
   "outputs": [],
   "source": [
    "# Fill in the new Schluss times into the DataFrame\n",
    "for (wahlperiode, sitzung), schluss_time in new_schluss.items():\n",
    "    df.loc[(df['Election_Period'] == wahlperiode) & (df['Session'] == sitzung), 'End_Time'] = schluss_time"
   ],
   "metadata": {
    "collapsed": false,
    "is_executing": true,
    "ExecuteTime": {
     "start_time": "2023-11-15T10:50:02.285909Z"
    }
   },
   "id": "fb7aa25f2cede53f"
  },
  {
   "cell_type": "code",
   "execution_count": null,
   "outputs": [],
   "source": [
    "# Check how many missing values left\n",
    "# Identify missing Schluss\n",
    "missing_schluss_df = df[df['End_Time'].isna()]\n",
    "missing_schluss_tuples = missing_schluss_df.groupby(['Election_Period', 'Session']).size().reset_index(name='Missing_Count')\n",
    "missing_schluss_tuples"
   ],
   "metadata": {
    "collapsed": false,
    "is_executing": true
   },
   "id": "4532584386883e23"
  },
  {
   "cell_type": "code",
   "execution_count": null,
   "outputs": [],
   "source": [
    "# 14 042\n",
    "df.loc[(df['Election_Period'] == '15') & (df['Session'] == '083')].tail(20)"
   ],
   "metadata": {
    "collapsed": false,
    "is_executing": true
   },
   "id": "68ba8521a72c25c5"
  },
  {
   "cell_type": "code",
   "execution_count": null,
   "outputs": [],
   "source": [
    "df1 = df.copy()"
   ],
   "metadata": {
    "collapsed": false,
    "is_executing": true
   },
   "id": "145080befdb1f8dc"
  },
  {
   "cell_type": "markdown",
   "source": [
    "## Drop all after (Schluss including Schluss)"
   ],
   "metadata": {
    "collapsed": false
   },
   "id": "aa439e2f77d68dc8"
  },
  {
   "cell_type": "code",
   "execution_count": null,
   "outputs": [],
   "source": [
    "# Initialize an empty list to collect cases where the sentence is not found\n",
    "not_found_list = []\n",
    "\n",
    "def truncate_after_session_closed(group):\n",
    "    # Pattern to match variations of \"Die Sitzung ist geschlossen.\"\n",
    "    pattern = re.compile(r\"\\(Schluss\", re.IGNORECASE)\n",
    "    \n",
    "    # Find index where pattern matches\n",
    "    idx_closed = group[group['Text_Spoken'].apply(lambda x: bool(pattern.search(str(x))))].index\n",
    "    \n",
    "    # If pattern not found, append to not_found_list\n",
    "    if len(idx_closed) == 0:\n",
    "        not_found_list.append({'Election_Period': group['Election_Period'].iloc[0], 'Session': group['Session'].iloc[0]})\n",
    "    \n",
    "    return group.loc[:idx_closed[-1]] if len(idx_closed) > 0 else group\n",
    "\n",
    "# Group by 'Election_Period' and 'Session' and apply the function\n",
    "df_1grouped = df1.groupby(['Election_Period', 'Session'])\n",
    "df_1truncated = df_1grouped.apply(truncate_after_session_closed).reset_index(drop=True)\n",
    "\n",
    "# Convert not_found_list to a DataFrame\n",
    "not_found_df = pd.DataFrame(not_found_list)\n",
    "\n",
    "print(not_found_df)"
   ],
   "metadata": {
    "collapsed": false,
    "is_executing": true
   },
   "id": "f0b3404d21091b26"
  },
  {
   "cell_type": "code",
   "execution_count": null,
   "outputs": [],
   "source": [
    "df2 = df_1truncated.copy()"
   ],
   "metadata": {
    "collapsed": false,
    "is_executing": true
   },
   "id": "7911ad1bff1f9c47"
  },
  {
   "cell_type": "code",
   "execution_count": null,
   "outputs": [],
   "source": [
    "df1.shape[0]-df2.shape[0]"
   ],
   "metadata": {
    "collapsed": false,
    "is_executing": true
   },
   "id": "2383891053bb1771"
  },
  {
   "cell_type": "code",
   "execution_count": null,
   "outputs": [],
   "source": [
    "df2.isna().sum()"
   ],
   "metadata": {
    "collapsed": false,
    "is_executing": true
   },
   "id": "f1ee19c3e3aa6aa8"
  },
  {
   "cell_type": "markdown",
   "source": [
    "# Start"
   ],
   "metadata": {
    "collapsed": false
   },
   "id": "f17d7381cf44bd92"
  },
  {
   "cell_type": "markdown",
   "source": [
    "## Find Missing Start Time"
   ],
   "metadata": {
    "collapsed": false
   },
   "id": "9b2da752322ff5ed"
  },
  {
   "cell_type": "code",
   "execution_count": null,
   "outputs": [],
   "source": [
    "# Filter rows where the Start column is missing in df_1\n",
    "missing_start_df = df2[df2['Start'].isna()]\n",
    "\n",
    "# Group by Wahlperiode and Sitzung and count the number of missing starts for each group\n",
    "grouped_missing_starts = missing_start_df.groupby(['Election_Period', 'Session']).size().reset_index(name='Missing_Count')\n",
    "\n",
    "# Display the result\n",
    "print(grouped_missing_starts)"
   ],
   "metadata": {
    "collapsed": false,
    "is_executing": true
   },
   "id": "1fdd5c378e82e45e"
  },
  {
   "cell_type": "code",
   "execution_count": null,
   "outputs": [],
   "source": [
    "# Function to extract the start time\n",
    "def extract_start(path):\n",
    "    pdf_text = extract_text_from_pdf(path)\n",
    "    start_time = None\n",
    "    \n",
    "    # Search for the word \"Beginn:\"\n",
    "    start_idx = pdf_text.find(\"Beginn\")\n",
    "    \n",
    "    if start_idx != -1:\n",
    "        # Extract the following text (assuming time format as HH:MM, hence taking 5 characters)\n",
    "        start_time = pdf_text[start_idx + len(\"Beginn\"): start_idx + len(\"Beginn\") + 5].strip()\n",
    "        \n",
    "    return start_time"
   ],
   "metadata": {
    "collapsed": false,
    "is_executing": true
   },
   "id": "7a4366d5a61874a"
  },
  {
   "cell_type": "code",
   "execution_count": null,
   "outputs": [],
   "source": [
    "# Step 1: Identify missing rows\n",
    "missing_start_tuples = grouped_missing_starts[['Election_Period', 'Session']].apply(tuple, axis=1)\n",
    "\n",
    "# Initialize a dictionary to hold the new Start times\n",
    "new_starts = {}\n",
    "\n",
    "# Step 2: Loop through PDFs\n",
    "for wahlperiode, sitzung in missing_start_tuples:\n",
    "    pdf_path = f\"/Users/merlesteffen/Documents/Education/WBS_Coding_School/Bootcamp/Final_Project/speeches_bundestag/1998_2023/{wahlperiode}{sitzung}.pdf\"  # Replace with your actual folder path\n",
    "    \n",
    "    try:\n",
    "        # Extract Start time\n",
    "        time = extract_start(pdf_path)\n",
    "        \n",
    "        if time:  # Check if time is not None or empty\n",
    "            new_starts[(wahlperiode, sitzung)] = time\n",
    "    except Exception as e:\n",
    "        print(f\"An error occurred while processing {pdf_path}. Error: {e}\")"
   ],
   "metadata": {
    "collapsed": false,
    "is_executing": true
   },
   "id": "549e28593b789635"
  },
  {
   "cell_type": "code",
   "execution_count": null,
   "outputs": [],
   "source": [
    "new_starts"
   ],
   "metadata": {
    "collapsed": false,
    "is_executing": true
   },
   "id": "c5cbcc82b4d7bca4"
  },
  {
   "cell_type": "code",
   "execution_count": null,
   "outputs": [],
   "source": [
    "len(new_starts)"
   ],
   "metadata": {
    "collapsed": false,
    "is_executing": true
   },
   "id": "cc14017e3bf14a79"
  },
  {
   "cell_type": "code",
   "execution_count": null,
   "outputs": [],
   "source": [
    "# Step 3: Update DataFrame\n",
    "for (wahlperiode, sitzung), start_time in new_starts.items():\n",
    "    df2.loc[(df2['Election_Period'] == wahlperiode) & (df2['Session'] == sitzung), 'Start'] = start_time"
   ],
   "metadata": {
    "collapsed": false,
    "is_executing": true
   },
   "id": "b2edb9f2021fd561"
  },
  {
   "cell_type": "markdown",
   "source": [
    "## Drop All Before Beginn"
   ],
   "metadata": {
    "collapsed": false
   },
   "id": "c57e8ca43563c26d"
  },
  {
   "cell_type": "code",
   "execution_count": null,
   "outputs": [],
   "source": [
    "def truncate_after_session_closed(group):\n",
    "    # Pattern to match variations of \"Die Sitzung ist geschlossen.\"\n",
    "    pattern = re.compile(r\"Beginn\", re.IGNORECASE)\n",
    "    \n",
    "    # Find index where pattern matches\n",
    "    idx_start = group[group['Text_Spoken'].apply(lambda x: bool(pattern.search(str(x))))].index\n",
    "    \n",
    "    # If pattern not found, append to not_found_list\n",
    "    if len(idx_start) == 0:\n",
    "        not_found_list.append({'Election_Period': group['Election_Period'].iloc[0], 'Session': group['Session'].iloc[0]})\n",
    "    else:\n",
    "        # Select the first index where the pattern is found and add one\n",
    "        idx_start = idx_start[0] + 1\n",
    "        # Return the truncated group starting from idx_start to the end\n",
    "        return group.loc[idx_start:]\n",
    "    \n",
    "    # If pattern not found, return the group unmodified\n",
    "    return group\n",
    "\n",
    "# Group by 'Election_Period' and 'Session' and apply the function\n",
    "df_2grouped = df2.groupby(['Election_Period', 'Session'])\n",
    "df_2truncated = df_2grouped.apply(truncate_after_session_closed).reset_index(drop=True)\n",
    "\n",
    "# Convert not_found_list to a DataFrame\n",
    "not_found_df = pd.DataFrame(not_found_list)\n",
    "\n",
    "print(not_found_df)"
   ],
   "metadata": {
    "collapsed": false,
    "is_executing": true
   },
   "id": "cac27fa53589e544"
  },
  {
   "cell_type": "code",
   "execution_count": null,
   "outputs": [],
   "source": [
    "df3 = df_2truncated.copy()"
   ],
   "metadata": {
    "collapsed": false,
    "is_executing": true
   },
   "id": "42a769c65cdfb0fb"
  },
  {
   "cell_type": "code",
   "execution_count": null,
   "outputs": [],
   "source": [
    "df3.shape"
   ],
   "metadata": {
    "collapsed": false,
    "is_executing": true
   },
   "id": "b08c1156cd44202d"
  },
  {
   "cell_type": "code",
   "execution_count": null,
   "outputs": [],
   "source": [
    "df3.isna().sum()"
   ],
   "metadata": {
    "collapsed": false,
    "is_executing": true
   },
   "id": "c7f9331f93bf4ce7"
  },
  {
   "cell_type": "markdown",
   "source": [
    "# Datatpyes"
   ],
   "metadata": {
    "collapsed": false
   },
   "id": "163c4124da002cad"
  },
  {
   "cell_type": "code",
   "execution_count": null,
   "outputs": [],
   "source": [
    "df3.dtypes"
   ],
   "metadata": {
    "collapsed": false,
    "is_executing": true
   },
   "id": "b670be1d03d819af"
  },
  {
   "cell_type": "markdown",
   "source": [
    "## Wahlperiode & Sitzung"
   ],
   "metadata": {
    "collapsed": false
   },
   "id": "112e8da272f35202"
  },
  {
   "cell_type": "code",
   "execution_count": null,
   "outputs": [],
   "source": [
    "df3['Election_Period'] = df3['Election_Period'].astype(int)\n",
    "df3['Session'] = df3['Session'].astype(int)"
   ],
   "metadata": {
    "collapsed": false,
    "is_executing": true
   },
   "id": "74f4c1f4abce69cf"
  },
  {
   "cell_type": "code",
   "execution_count": null,
   "outputs": [],
   "source": [
    "df4 = df3.copy()"
   ],
   "metadata": {
    "collapsed": false,
    "is_executing": true
   },
   "id": "c274b579b9be1ef8"
  },
  {
   "cell_type": "markdown",
   "source": [
    "## Date"
   ],
   "metadata": {
    "collapsed": false
   },
   "id": "49a769c0fec2b1bb"
  },
  {
   "cell_type": "code",
   "execution_count": null,
   "outputs": [],
   "source": [
    "import calendar"
   ],
   "metadata": {
    "collapsed": false,
    "is_executing": true
   },
   "id": "f984660c7e893fc8"
  },
  {
   "cell_type": "code",
   "execution_count": null,
   "outputs": [],
   "source": [
    "# Create a mapping of German month names to English\n",
    "german_to_english = {\n",
    "    'Januar': 'January',\n",
    "    'Februar': 'February',\n",
    "    'März': 'March',\n",
    "    'April': 'April',\n",
    "    'Mai': 'May',\n",
    "    'Juni': 'June',\n",
    "    'Juli': 'July',\n",
    "    'August': 'August',\n",
    "    'September': 'September',\n",
    "    'Oktober': 'October',\n",
    "    'November': 'November',\n",
    "    'Dezember': 'December'\n",
    "}"
   ],
   "metadata": {
    "collapsed": false,
    "is_executing": true
   },
   "id": "10fad45f8d0fc7a5"
  },
  {
   "cell_type": "code",
   "execution_count": null,
   "outputs": [],
   "source": [
    "# Replace German month names with English month names\n",
    "df4['Date'] = df4['Date'].replace(german_to_english, regex=True)\n",
    "\n",
    "# Now convert to datetime\n",
    "df4['Temp_Date'] = pd.to_datetime(df4['Date'], format='%d. %B %Y', errors='coerce')"
   ],
   "metadata": {
    "collapsed": false,
    "is_executing": true
   },
   "id": "c91088c77150b06a"
  },
  {
   "cell_type": "code",
   "execution_count": null,
   "outputs": [],
   "source": [
    "\n",
    "# Create a boolean mask for entries where the conversion failed\n",
    "mask = df4['Temp_Date'].isna()\n",
    "\n",
    "# Group by the original 'Date' column and additional columns for rows where the conversion failed\n",
    "problematic_dates = df4[mask].groupby(['Election_Period', 'Session', 'Date']).size().reset_index(name='Count')\n",
    "\n",
    "# Sort by 'Count' to easily spot frequently occurring problematic entries\n",
    "problematic_dates = problematic_dates.sort_values(by='Count', ascending=False)\n",
    "\n",
    "# Drop the temporary 'Temp_Date' column\n",
    "df4.drop(columns=['Temp_Date'], inplace=True)\n",
    "\n",
    "# Print out the problematic dates along with 'Election_Period' and 'Session'\n",
    "print(\"Counts of problematic entries by Wahlperiode, Sitzung, and Date:\")\n",
    "print(problematic_dates)"
   ],
   "metadata": {
    "collapsed": false,
    "is_executing": true
   },
   "id": "2b516270d51f240a"
  },
  {
   "cell_type": "code",
   "execution_count": null,
   "outputs": [],
   "source": [
    "# Manually update the Date here\n",
    "df4.loc[(df4['Election_Period'] == 15) & (df4['Session'] == 16), 'Date'] = '19. December 2002'"
   ],
   "metadata": {
    "collapsed": false,
    "is_executing": true
   },
   "id": "e3067636c8305e6a"
  },
  {
   "cell_type": "code",
   "execution_count": null,
   "outputs": [],
   "source": [
    "df4['Date'] = pd.to_datetime(df4['Date'], format='%d. %B %Y')"
   ],
   "metadata": {
    "collapsed": false,
    "is_executing": true
   },
   "id": "65ddce87b0922c73"
  },
  {
   "cell_type": "code",
   "execution_count": null,
   "outputs": [],
   "source": [
    "df5 = df4.copy()"
   ],
   "metadata": {
    "collapsed": false,
    "is_executing": true
   },
   "id": "bead4014a46a9e78"
  },
  {
   "cell_type": "markdown",
   "source": [
    "## Start"
   ],
   "metadata": {
    "collapsed": false
   },
   "id": "a0033688fc6c7255"
  },
  {
   "cell_type": "code",
   "execution_count": null,
   "outputs": [],
   "source": [
    "# First inspect how Start can looks like I think something like this\n",
    "# dd needs to be lower than 24\n",
    "# dd dd\n",
    "# letters"
   ],
   "metadata": {
    "collapsed": false,
    "is_executing": true
   },
   "id": "3f36684783e47d9d"
  },
  {
   "cell_type": "code",
   "execution_count": null,
   "outputs": [],
   "source": [
    "# Strip\n",
    "df5['Start'] = df5['Start'].str.strip()\n",
    "df5['Start'] = df5['Start'].str.replace(r'\\s+', '', regex=True)"
   ],
   "metadata": {
    "collapsed": false,
    "is_executing": true
   },
   "id": "783653ff77606aca"
  },
  {
   "cell_type": "code",
   "execution_count": null,
   "outputs": [],
   "source": [
    "def clean_start_time(t):\n",
    "    # Check for any non-digit characters\n",
    "        # Remove all whitespaces from the input\n",
    "    t = re.sub(r'\\s+', '', t)\n",
    "    \n",
    "    # Remove all characters except digits and colon\n",
    "    t = re.sub(r'[^\\d:]', '', t)\n",
    "    if re.search('[a-zA-Z]', t):\n",
    "        return None\n",
    "    \n",
    "    elif re.match(r'^:\\d{1}$', t):\n",
    "        return f\"0{t[1]}:00:00\"\n",
    "        # Handle cases like \"13:45\" or 9:33 :9\n",
    "    \n",
    "    elif re.match(r'^:\\d{2}$', t):\n",
    "        return f\"{t[1]}:00:00\"\n",
    "    \n",
    "    elif \":\" in t:\n",
    "        parts = t.split(':')\n",
    "        if len(parts) == 2:\n",
    "            # Check if first part is empty and second part is a single digit\n",
    "            if parts[0] == '' and parts[1].isdigit() and len(parts[1]) == 1:\n",
    "                return f\"0{parts[1]}:00:00\"\n",
    "            elif parts[0] == '' and parts[1].isdigit() and len(parts[1]) == 2:\n",
    "                return f\"{parts[1]}:00:00\"\n",
    "            # Existing checks for parts with length of 2 each\n",
    "            elif all(part.isdigit() for part in parts):\n",
    "                hours, minutes = parts\n",
    "                if int(hours) < 24 and int(minutes) < 60:\n",
    "                    return f\"{hours.zfill(2)}:{minutes.zfill(2)}:00\"\n",
    "    \n",
    "    # Length of 4 indicates HHMM format\n",
    "    if len(t) == 4:\n",
    "        return f\"{t[:2]}:{t[2:]}:00\"\n",
    "    \n",
    "    # Length of 3 indicates HMM format\n",
    "    elif len(t) == 3:\n",
    "        # Check if minutes exceed 59\n",
    "        if int(t[1:]) < 60:\n",
    "            return f\"0{t[0]}:{t[1:]}:00\"\n",
    "        elif int(t[:1]) < 24:\n",
    "            return f\"0{t[:1]}:{t[2]}:00\"\n",
    "    \n",
    "    # Length of 2 could be HH format\n",
    "    elif len(t) == 2:\n",
    "        # Check if it's a valid hour\n",
    "        if int(t) <= 24:\n",
    "            return f\"{t}:00:00\"\n",
    "\n",
    "    # Length of 1 indicates a single digit hour\n",
    "    elif len(t) == 1:\n",
    "        return f\"{t}:00:00\"\n",
    "\n",
    "    # Handle cases like \"13 45\"\n",
    "    elif \" \" in t:\n",
    "        hours, minutes = t.split()\n",
    "        if int(hours) <= 24 and int(minutes) < 60:\n",
    "            return f\"{int(hours)}:{int(minutes)}:00\"\n",
    "        \n",
    "    else:\n",
    "        # If none of the above conditions met, return None\n",
    "        return None"
   ],
   "metadata": {
    "collapsed": false,
    "is_executing": true
   },
   "id": "8ce282e1db6bf19e"
  },
  {
   "cell_type": "code",
   "execution_count": null,
   "outputs": [],
   "source": [
    "# Apply the function to the Start column\n",
    "df5['Start'] = df5['Start'].apply(lambda x: clean_start_time(str(x)))"
   ],
   "metadata": {
    "collapsed": false,
    "is_executing": true
   },
   "id": "8c345a2c0e706f45"
  },
  {
   "cell_type": "markdown",
   "source": [
    "18 138"
   ],
   "metadata": {
    "collapsed": false
   },
   "id": "f65ca3283684673a"
  },
  {
   "cell_type": "code",
   "execution_count": null,
   "outputs": [],
   "source": [
    "# Now convert the cleaned times to timedelta\n",
    "df5['Start'] = pd.to_timedelta(df5['Start'].dropna())"
   ],
   "metadata": {
    "collapsed": false,
    "is_executing": true
   },
   "id": "7d99d0e139d00599"
  },
  {
   "cell_type": "code",
   "execution_count": null,
   "outputs": [],
   "source": [
    "df5.sample(10)"
   ],
   "metadata": {
    "collapsed": false,
    "is_executing": true
   },
   "id": "ca6450e509da0bca"
  },
  {
   "cell_type": "code",
   "execution_count": null,
   "outputs": [],
   "source": [
    "df6 = df5.copy()"
   ],
   "metadata": {
    "collapsed": false,
    "is_executing": true
   },
   "id": "b570b8f009d72900"
  },
  {
   "cell_type": "markdown",
   "source": [
    "## Schluss"
   ],
   "metadata": {
    "collapsed": false
   },
   "id": "a7713ab2474bcc0b"
  },
  {
   "cell_type": "code",
   "execution_count": null,
   "outputs": [],
   "source": [
    "def clean_schluss_time(t):    # Check for any non-digit characters\n",
    "        # Remove all whitespaces from the input\n",
    "    t = re.sub(r'\\s+', '', t)\n",
    "    \n",
    "    # Remove all characters except digits and colon\n",
    "    t = re.sub(r'[^\\d:]', '', t)\n",
    "    if re.search('[a-zA-Z]', t):\n",
    "        return None\n",
    "    \n",
    "    elif re.match(r'^:\\d{1}$', t):\n",
    "        return f\"0{t[1]}:00:00\"\n",
    "        # Handle cases like \"13:45\" or 9:33 :9\n",
    "    \n",
    "    elif re.match(r'^:\\d{2}$', t):\n",
    "        return f\"{t[1]}:00:00\"\n",
    "    \n",
    "    elif \":\" in t:\n",
    "        parts = t.split(':')\n",
    "        if len(parts) == 2:\n",
    "            # Check if first part is empty and second part is a single digit\n",
    "            if parts[0] == '' and parts[1].isdigit() and len(parts[1]) == 1:\n",
    "                return f\"0{parts[1]}:00:00\"\n",
    "            elif parts[0] == '' and parts[1].isdigit() and len(parts[1]) == 2:\n",
    "                return f\"{parts[1]}:00:00\"\n",
    "            # Existing checks for parts with length of 2 each\n",
    "            elif all(part.isdigit() for part in parts):\n",
    "                hours, minutes = parts\n",
    "                if int(hours) < 24 and int(minutes) < 60:\n",
    "                    return f\"{hours.zfill(2)}:{minutes.zfill(2)}:00\"\n",
    "    \n",
    "    # Length of 4 indicates HHMM format\n",
    "    if len(t) == 4:\n",
    "        return f\"{t[:2]}:{t[2:]}:00\"\n",
    "    \n",
    "    # Length of 3 indicates HMM format\n",
    "    elif len(t) == 3:\n",
    "        # Check if minutes exceed 59\n",
    "        if int(t[1:]) < 60:\n",
    "            return f\"0{t[0]}:{t[1:]}:00\"\n",
    "        elif int(t[:1]) < 24:\n",
    "            return f\"0{t[:1]}:{t[2]}:00\"\n",
    "    \n",
    "    # Length of 2 could be HH format\n",
    "    elif len(t) == 2:\n",
    "        # Check if it's a valid hour\n",
    "        if int(t) <= 24:\n",
    "            return f\"{t}:00:00\"\n",
    "\n",
    "    # Length of 1 indicates a single digit hour\n",
    "    elif len(t) == 1:\n",
    "        return f\"{t}:00:00\"\n",
    "\n",
    "    # Handle cases like \"13 45\"\n",
    "    elif \" \" in t:\n",
    "        hours, minutes = t.split()\n",
    "        if int(hours) <= 24 and int(minutes) < 60:\n",
    "            return f\"{int(hours)}:{int(minutes)}:00\"\n",
    "        \n",
    "    else:\n",
    "        # If none of the above conditions met, return None\n",
    "        return None"
   ],
   "metadata": {
    "collapsed": false,
    "is_executing": true
   },
   "id": "eeb13f245dc42f5d"
  },
  {
   "cell_type": "code",
   "execution_count": null,
   "outputs": [],
   "source": [
    "# Apply the function to the Start column\n",
    "df6['End_Time'] = df6['End_Time'].apply(lambda x: clean_schluss_time(str(x)))"
   ],
   "metadata": {
    "collapsed": false,
    "is_executing": true
   },
   "id": "2168df7216b0ebc8"
  },
  {
   "cell_type": "code",
   "execution_count": null,
   "outputs": [],
   "source": [
    "# Now convert the cleaned times to timedelta\n",
    "df6['End_Time'] = pd.to_timedelta(df6['End_Time'].dropna())"
   ],
   "metadata": {
    "collapsed": false,
    "is_executing": true
   },
   "id": "3f40e9d7bbbe0670"
  },
  {
   "cell_type": "code",
   "execution_count": null,
   "outputs": [],
   "source": [
    "df6.head()"
   ],
   "metadata": {
    "collapsed": false,
    "is_executing": true
   },
   "id": "8530513f7f41c8eb"
  },
  {
   "cell_type": "code",
   "execution_count": null,
   "outputs": [],
   "source": [
    "df7 = df6.copy()"
   ],
   "metadata": {
    "collapsed": false,
    "is_executing": true
   },
   "id": "36eb373b4e6bd40f"
  },
  {
   "cell_type": "markdown",
   "source": [
    "# Impute Missing Values"
   ],
   "metadata": {
    "collapsed": false
   },
   "id": "c19e350512d24ca1"
  },
  {
   "cell_type": "code",
   "execution_count": null,
   "outputs": [],
   "source": [
    "df7.isna().sum()"
   ],
   "metadata": {
    "collapsed": false,
    "is_executing": true
   },
   "id": "2d35c03026a90e3a"
  },
  {
   "cell_type": "markdown",
   "source": [
    "## Start"
   ],
   "metadata": {
    "collapsed": false
   },
   "id": "ded07ea7fcb14cf4"
  },
  {
   "cell_type": "code",
   "execution_count": null,
   "outputs": [],
   "source": [
    "# Filter rows where the Start column is missing in df_1\n",
    "missing_start_df = df7[df7['Start'].isna()]\n",
    "\n",
    "# Group by Wahlperiode and Sitzung and count the number of missing starts for each group\n",
    "grouped_missing_starts = missing_start_df.groupby(['Election_Period', 'Session']).size().reset_index(name='Missing_Count')\n",
    "\n",
    "# Display the result\n",
    "print(grouped_missing_starts)"
   ],
   "metadata": {
    "collapsed": false,
    "is_executing": true
   },
   "id": "5d849efbf15c4172"
  },
  {
   "cell_type": "code",
   "execution_count": null,
   "outputs": [],
   "source": [
    "# Let me do Start by Hand\n",
    "manual_starts = {\n",
    "    (18, 142): '12:30:00',\n",
    "    (19, 6): '13:00:00',\n",
    "    (19, 70): '13:00:00',\n",
    "    (19, 82): '13:00:00',\n",
    "}"
   ],
   "metadata": {
    "collapsed": false,
    "is_executing": true
   },
   "id": "c25cc7e5fa2feb6a"
  },
  {
   "cell_type": "code",
   "execution_count": null,
   "outputs": [],
   "source": [
    "# Iterate over the manual_starts items\n",
    "for (wahlperiode, sitzung), start_time in manual_starts.items():\n",
    "    # Convert start_time to a timedelta object\n",
    "    start_time_delta = pd.to_timedelta(start_time)\n",
    "    print(start_time_delta)\n",
    "    # Apply the timedelta where conditions are met\n",
    "    df7.loc[(df7['Election_Period'] == wahlperiode) & (df7['Session'] == sitzung), 'Start'] = start_time_delta"
   ],
   "metadata": {
    "collapsed": false,
    "is_executing": true
   },
   "id": "81782d36ec6316b9"
  },
  {
   "cell_type": "code",
   "execution_count": null,
   "outputs": [],
   "source": [
    "df7.isna().sum()"
   ],
   "metadata": {
    "collapsed": false,
    "is_executing": true
   },
   "id": "d1775057b8b8870"
  },
  {
   "cell_type": "code",
   "execution_count": null,
   "outputs": [],
   "source": [
    "df8 = df7.copy()"
   ],
   "metadata": {
    "collapsed": false,
    "is_executing": true
   },
   "id": "23fd6b44a986a59b"
  },
  {
   "cell_type": "markdown",
   "source": [
    "## Schluss"
   ],
   "metadata": {
    "collapsed": false
   },
   "id": "11b6398ad556360f"
  },
  {
   "cell_type": "code",
   "execution_count": null,
   "outputs": [],
   "source": [
    "df8.isna().sum()"
   ],
   "metadata": {
    "collapsed": false,
    "is_executing": true
   },
   "id": "ea307a571334a198"
  },
  {
   "cell_type": "code",
   "execution_count": null,
   "outputs": [],
   "source": [
    "import pandas as pd\n",
    "from sklearn.linear_model import LinearRegression\n",
    "from sklearn.model_selection import train_test_split\n",
    "# Calculate the duration only for rows where 'End_Time' is not None\n",
    "df8['Dauer'] = df8.apply(lambda row: row['End_Time'] - row['Start'] if pd.notna(row['End_Time']) else None, axis=1)\n",
    "\n",
    "# Now convert 'Dauer' to seconds only for non-None values\n",
    "df8['Dauer_in_Sekunden'] = df8['Dauer'].dt.total_seconds()\n",
    "\n",
    "# Prepare your features and target variable, excluding rows where 'Dauer' is None\n",
    "X = df8[['Election_Period', 'Session']]\n",
    "y = df8['Dauer_in_Sekunden']\n",
    "\n",
    "# Use only the rows with non-missing 'Dauer_in_Sekunden' to train the model\n",
    "X_train = X[y.notna()]\n",
    "y_train = y[y.notna()]\n",
    "\n",
    "# Initialize the linear regression model and fit it to the data\n",
    "model = LinearRegression()\n",
    "model.fit(X_train, y_train)\n",
    "\n",
    "# Predict the 'Dauer_in_Sekunden' for missing values\n",
    "X_missing = X[y.isna()]\n",
    "print(X_missing)"
   ],
   "metadata": {
    "collapsed": false,
    "is_executing": true
   },
   "id": "a966e56cd5eb8925"
  },
  {
   "cell_type": "code",
   "execution_count": null,
   "outputs": [],
   "source": [
    "predicted_durations = model.predict(X_missing)\n",
    "predicted_durations"
   ],
   "metadata": {
    "collapsed": false,
    "is_executing": true
   },
   "id": "5c1550444db5ec97"
  },
  {
   "cell_type": "code",
   "execution_count": null,
   "outputs": [],
   "source": [
    "\n",
    "# Fill the missing 'Dauer_in_Sekunden' with the predicted values\n",
    "df8.loc[y.isna(), 'Dauer_in_Sekunden'] = predicted_durations\n",
    "df8.isna().sum()"
   ],
   "metadata": {
    "collapsed": false,
    "is_executing": true
   },
   "id": "98f13550ca633b67"
  },
  {
   "cell_type": "code",
   "execution_count": null,
   "outputs": [],
   "source": [
    "missing_indices = df8.loc[df8['End_Time'].isna()].index\n",
    "# Impute the missing 'End_Time' values using the predicted durations\n",
    "df8.loc[missing_indices, 'End_Time'] = df8.loc[missing_indices, 'Start'] + pd.to_timedelta(df8.loc[missing_indices, 'Dauer_in_Sekunden'], unit='s')\n",
    "df8.isna().sum()"
   ],
   "metadata": {
    "collapsed": false,
    "is_executing": true
   },
   "id": "adf61602ff58ad19"
  },
  {
   "cell_type": "code",
   "execution_count": null,
   "outputs": [],
   "source": [
    "# Clean up the DataFrame by dropping intermediate columns if desired\n",
    "df8 = df8.drop(['Dauer', 'Dauer_in_Sekunden'], axis=1)\n",
    "\n",
    "# View the updated DataFrame\n",
    "df8.isna().sum()"
   ],
   "metadata": {
    "collapsed": false,
    "is_executing": true
   },
   "id": "4e82f8c5737dabbd"
  },
  {
   "cell_type": "code",
   "execution_count": null,
   "outputs": [],
   "source": [
    "df9 = df8.copy()"
   ],
   "metadata": {
    "collapsed": false,
    "is_executing": true
   },
   "id": "934b463ea40db810"
  },
  {
   "cell_type": "code",
   "execution_count": null,
   "outputs": [],
   "source": [
    "df9.dtypes"
   ],
   "metadata": {
    "collapsed": false,
    "is_executing": true
   },
   "id": "1510084ff0977e12"
  },
  {
   "cell_type": "code",
   "execution_count": null,
   "outputs": [],
   "source": [
    "df9.shape"
   ],
   "metadata": {
    "collapsed": false,
    "is_executing": true
   },
   "id": "9f78ddc5da968d6d"
  },
  {
   "cell_type": "code",
   "execution_count": null,
   "outputs": [],
   "source": [
    "df9.isna().sum()"
   ],
   "metadata": {
    "collapsed": false,
    "is_executing": true
   },
   "id": "2db3e610e831b280"
  },
  {
   "cell_type": "markdown",
   "source": [
    "# Some final sentence cleaning"
   ],
   "metadata": {
    "collapsed": false
   },
   "id": "4f288a2b949a8b98"
  },
  {
   "cell_type": "code",
   "execution_count": null,
   "outputs": [],
   "source": [
    "# Splitting each string in 'your_column' at the pattern and keeping only the part before it\n",
    "df9['Text_Spoken'] = df9['Text_Spoken'].apply(lambda x: x.split('Geschiedenen Drucksachen')[0] + '.' if 'Geschiedenen Drucksachen' in x else x)\n",
    "df9['Text_Spoken'] = df9['Text_Spoken'].apply(lambda x: x.split('Drucksachen')[0] + '.' if 'Geschiedenen Drucksachen' in x else x)\n",
    "df9['Text_Spoken'] = df9['Text_Spoken'].replace('\\d{2}\\/\\d{4}\\,', '', regex=True)\n",
    "df9['Text_Spoken'] = df9['Text_Spoken'].replace('\\d{2}\\/\\d{4}', '', regex=True)"
   ],
   "metadata": {
    "collapsed": false,
    "is_executing": true
   },
   "id": "5259c74a58a5b3a5"
  },
  {
   "cell_type": "code",
   "execution_count": null,
   "outputs": [],
   "source": [
    "print('This worked')"
   ],
   "metadata": {
    "collapsed": false,
    "is_executing": true
   },
   "id": "6839bf100f9a8340"
  },
  {
   "cell_type": "code",
   "execution_count": null,
   "outputs": [],
   "source": [
    "#df9.to_csv('/Users/merlesteffen/Documents/Education/WBS_Coding_School/Bootcamp/Final_Project/speeches_bundestag/Final_DF/final_text_speaker_df_2.csv', index=False, encoding='utf-8')"
   ],
   "metadata": {
    "collapsed": false,
    "is_executing": true
   },
   "id": "d0892b18bae72171"
  }
 ],
 "metadata": {
  "kernelspec": {
   "display_name": "Python 3",
   "language": "python",
   "name": "python3"
  },
  "language_info": {
   "codemirror_mode": {
    "name": "ipython",
    "version": 2
   },
   "file_extension": ".py",
   "mimetype": "text/x-python",
   "name": "python",
   "nbconvert_exporter": "python",
   "pygments_lexer": "ipython2",
   "version": "2.7.6"
  }
 },
 "nbformat": 4,
 "nbformat_minor": 5
}
